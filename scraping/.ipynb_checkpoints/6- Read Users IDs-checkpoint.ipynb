{
 "cells": [
  {
   "cell_type": "code",
   "execution_count": 1,
   "id": "fc8269aa",
   "metadata": {},
   "outputs": [],
   "source": [
    "import pandas as pd\n",
    "import json\n",
    "import requests\n",
    "from io import StringIO\n",
    "from csv import reader\n",
    "import os\n",
    "import glob"
   ]
  },
  {
   "cell_type": "markdown",
   "id": "ca2f117b",
   "metadata": {},
   "source": [
    "# Extracting Channels IDs from comments data files"
   ]
  },
  {
   "cell_type": "code",
   "execution_count": 78,
   "id": "ffee2348",
   "metadata": {},
   "outputs": [],
   "source": [
    "url1 = r'C:\\Users\\David\\Amber Heard Case\\Youtube\\Data\\combined files for videos comments info batch 4\\scraped comments- JSON -1 Batch-4.csv'\n",
    "url2 = r'C:\\Users\\David\\Amber Heard Case\\Youtube\\Data\\combined files for videos comments info batch 4\\scraped comments- JSON -2 Batch-4.csv'\n",
    "url3 = r'C:\\Users\\David\\Amber Heard Case\\Youtube\\Data\\combined files for videos comments info batch 4\\scraped comments- JSON -3 Batch-4.csv'\n",
    "url4 = r'C:\\Users\\David\\Amber Heard Case\\Youtube\\Data\\combined files for videos comments info batch 4\\scraped comments- JSON -4 Batch-4.csv'\n",
    "url5 = r'C:\\Users\\David\\Amber Heard Case\\Youtube\\Data\\combined files for videos comments info batch 4\\scraped comments- JSON -5 Batch-4.csv'\n",
    "url6 = r'C:\\Users\\David\\Amber Heard Case\\Youtube\\Data\\combined files for videos comments info batch 4\\scraped comments- JSON -6 Batch-4.csv'\n",
    "#url7 = r'C:\\Users\\David\\Amber Heard Case\\Youtube\\Data\\combined files for videos comments info batch 3\\scraped comments- JSON -7 Batch-2.csv'"
   ]
  },
  {
   "cell_type": "code",
   "execution_count": 79,
   "id": "5e11c25d",
   "metadata": {},
   "outputs": [],
   "source": [
    "batch_1_channels_id1 = pd.read_csv(url1, usecols=[13])\n",
    "batch_1_channels_id2 = pd.read_csv(url2, usecols=[13])\n",
    "batch_1_channels_id3 = pd.read_csv(url3, usecols=[13])\n",
    "batch_1_channels_id4 = pd.read_csv(url4, usecols=[13])\n",
    "batch_1_channels_id5 = pd.read_csv(url5, usecols=[13])\n",
    "batch_1_channels_id6 = pd.read_csv(url6, usecols=[13])\n",
    "#batch_1_channels_id7 = pd.read_csv(url7, usecols=[13])\n"
   ]
  },
  {
   "cell_type": "code",
   "execution_count": 85,
   "id": "55e74129",
   "metadata": {},
   "outputs": [
    {
     "data": {
      "text/html": [
       "<div>\n",
       "<style scoped>\n",
       "    .dataframe tbody tr th:only-of-type {\n",
       "        vertical-align: middle;\n",
       "    }\n",
       "\n",
       "    .dataframe tbody tr th {\n",
       "        vertical-align: top;\n",
       "    }\n",
       "\n",
       "    .dataframe thead th {\n",
       "        text-align: right;\n",
       "    }\n",
       "</style>\n",
       "<table border=\"1\" class=\"dataframe\">\n",
       "  <thead>\n",
       "    <tr style=\"text-align: right;\">\n",
       "      <th></th>\n",
       "      <th>snippet.topLevelComment.snippet.authorChannelId.value</th>\n",
       "    </tr>\n",
       "  </thead>\n",
       "  <tbody>\n",
       "    <tr>\n",
       "      <th>0</th>\n",
       "      <td>UCWg4vjAlyq_O4eLYfD77MvQ</td>\n",
       "    </tr>\n",
       "    <tr>\n",
       "      <th>1</th>\n",
       "      <td>UCxCyJb7Sa0JJ9aAf8p-KDmQ</td>\n",
       "    </tr>\n",
       "    <tr>\n",
       "      <th>2</th>\n",
       "      <td>UC1DETsm2G4YDADESGBH8xvA</td>\n",
       "    </tr>\n",
       "    <tr>\n",
       "      <th>3</th>\n",
       "      <td>UCx_i9abfuWs6BKqyBwQ-JIw</td>\n",
       "    </tr>\n",
       "    <tr>\n",
       "      <th>4</th>\n",
       "      <td>UC38cLjU7FZ5A9G5Fd-OyiiQ</td>\n",
       "    </tr>\n",
       "    <tr>\n",
       "      <th>...</th>\n",
       "      <td>...</td>\n",
       "    </tr>\n",
       "    <tr>\n",
       "      <th>83882</th>\n",
       "      <td>UCMofjM4cZoeP-5G4uhat2cA</td>\n",
       "    </tr>\n",
       "    <tr>\n",
       "      <th>83883</th>\n",
       "      <td>UCubwVbklA_Felj6ipKnne5A</td>\n",
       "    </tr>\n",
       "    <tr>\n",
       "      <th>83884</th>\n",
       "      <td>UCBET9DTrB6g-FQfCeisAj5w</td>\n",
       "    </tr>\n",
       "    <tr>\n",
       "      <th>83885</th>\n",
       "      <td>UCmDRNNBb1IBYZicbQrNKyrQ</td>\n",
       "    </tr>\n",
       "    <tr>\n",
       "      <th>83886</th>\n",
       "      <td>UCgFlQi4bHbc_UghjelQuc6A</td>\n",
       "    </tr>\n",
       "  </tbody>\n",
       "</table>\n",
       "<p>83887 rows × 1 columns</p>\n",
       "</div>"
      ],
      "text/plain": [
       "      snippet.topLevelComment.snippet.authorChannelId.value\n",
       "0                               UCWg4vjAlyq_O4eLYfD77MvQ   \n",
       "1                               UCxCyJb7Sa0JJ9aAf8p-KDmQ   \n",
       "2                               UC1DETsm2G4YDADESGBH8xvA   \n",
       "3                               UCx_i9abfuWs6BKqyBwQ-JIw   \n",
       "4                               UC38cLjU7FZ5A9G5Fd-OyiiQ   \n",
       "...                                                  ...   \n",
       "83882                           UCMofjM4cZoeP-5G4uhat2cA   \n",
       "83883                           UCubwVbklA_Felj6ipKnne5A   \n",
       "83884                           UCBET9DTrB6g-FQfCeisAj5w   \n",
       "83885                           UCmDRNNBb1IBYZicbQrNKyrQ   \n",
       "83886                           UCgFlQi4bHbc_UghjelQuc6A   \n",
       "\n",
       "[83887 rows x 1 columns]"
      ]
     },
     "execution_count": 85,
     "metadata": {},
     "output_type": "execute_result"
    }
   ],
   "source": [
    "batch_1_channels_id6"
   ]
  },
  {
   "cell_type": "code",
   "execution_count": 86,
   "id": "a4bd5304",
   "metadata": {},
   "outputs": [],
   "source": [
    "total_channels = batch_1_channels_id1.append(batch_1_channels_id2)\n",
    "total_channels = total_channels.append(batch_1_channels_id3)\n",
    "total_channels = total_channels.append(batch_1_channels_id4)\n",
    "total_channels = total_channels.append(batch_1_channels_id5)\n",
    "total_channels = total_channels.append(batch_1_channels_id6)\n",
    "#total_channels = total_channels.append(batch_1_channels_id7)"
   ]
  },
  {
   "cell_type": "code",
   "execution_count": 87,
   "id": "c0ba160e",
   "metadata": {},
   "outputs": [
    {
     "data": {
      "text/plain": [
       "2445800"
      ]
     },
     "execution_count": 87,
     "metadata": {},
     "output_type": "execute_result"
    }
   ],
   "source": [
    "batch_1_channels_id1.shape[0] + batch_1_channels_id2.shape[0] + batch_1_channels_id3.shape[0] + batch_1_channels_id4.shape[0] + batch_1_channels_id5.shape[0] + batch_1_channels_id6.shape[0] #+ batch_1_channels_id7.shape[0]"
   ]
  },
  {
   "cell_type": "code",
   "execution_count": 88,
   "id": "266e8d60",
   "metadata": {
    "scrolled": true
   },
   "outputs": [
    {
     "data": {
      "text/plain": [
       "(2445800, 1)"
      ]
     },
     "execution_count": 88,
     "metadata": {},
     "output_type": "execute_result"
    }
   ],
   "source": [
    "total_channels.shape"
   ]
  },
  {
   "cell_type": "code",
   "execution_count": 89,
   "id": "a6e6cff3",
   "metadata": {},
   "outputs": [],
   "source": [
    "total_channels.to_csv(r'C:\\Users\\David\\Amber Heard Case\\Youtube\\SNA-AH-Case-YouTube\\scraping\\Channels info\\channels IDs for obtaining\\batch_4_channels_id.csv', index=None)"
   ]
  },
  {
   "cell_type": "code",
   "execution_count": null,
   "id": "cebab6ae",
   "metadata": {},
   "outputs": [],
   "source": [
    "path_to_csv = r'C:\\Users\\David\\Amber Heard Case\\Youtube\\SNA-AH-Case-YouTube\\scraping\\Channels info\\channels IDs for obtaining'\n",
    "csv_files = [pos_csv for pos_csv in os.listdir(path_to_csv) if pos_csv.endswith('.csv')]\n",
    "len(csv_files)"
   ]
  },
  {
   "cell_type": "code",
   "execution_count": null,
   "id": "762da297",
   "metadata": {},
   "outputs": [],
   "source": [
    "li = []\n",
    "\n",
    "for filename in csv_files:\n",
    "    df = pd.read_csv(path_to_csv+\"/\"+filename, index_col=None, header=0)\n",
    "    li.append(df)\n",
    "\n",
    "frame = pd.concat(li, axis=0, ignore_index=True)\n",
    "frame.shape"
   ]
  }
 ],
 "metadata": {
  "kernelspec": {
   "display_name": "Python 3 (ipykernel)",
   "language": "python",
   "name": "python3"
  },
  "language_info": {
   "codemirror_mode": {
    "name": "ipython",
    "version": 3
   },
   "file_extension": ".py",
   "mimetype": "text/x-python",
   "name": "python",
   "nbconvert_exporter": "python",
   "pygments_lexer": "ipython3",
   "version": "3.8.12"
  }
 },
 "nbformat": 4,
 "nbformat_minor": 5
}
