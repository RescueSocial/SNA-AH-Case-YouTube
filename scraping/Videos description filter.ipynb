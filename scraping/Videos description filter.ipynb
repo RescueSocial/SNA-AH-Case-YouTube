{
 "cells": [
  {
   "cell_type": "markdown",
   "id": "de07a4cc",
   "metadata": {},
   "source": [
    "# Read and filter videos to have the word \"amber\" in video title or discribtion"
   ]
  },
  {
   "cell_type": "code",
   "execution_count": 1,
   "id": "1e4b694c",
   "metadata": {},
   "outputs": [],
   "source": [
    "import pandas as pd\n",
    "import json\n",
    "import requests\n",
    "from io import StringIO\n",
    "from csv import reader\n",
    "import os\n",
    "import glob\n",
    "import numpy as np"
   ]
  },
  {
   "cell_type": "code",
   "execution_count": 2,
   "id": "75a29ff5",
   "metadata": {},
   "outputs": [],
   "source": [
    "yt_videos = pd.read_csv(r'C:\\Users\\David\\Amber Heard Case\\Youtube\\Data\\combined files for videos\\all_scrabed_data_for_34_files.csv')"
   ]
  },
  {
   "cell_type": "code",
   "execution_count": 3,
   "id": "0071290f",
   "metadata": {},
   "outputs": [
    {
     "data": {
      "text/html": [
       "<div>\n",
       "<style scoped>\n",
       "    .dataframe tbody tr th:only-of-type {\n",
       "        vertical-align: middle;\n",
       "    }\n",
       "\n",
       "    .dataframe tbody tr th {\n",
       "        vertical-align: top;\n",
       "    }\n",
       "\n",
       "    .dataframe thead th {\n",
       "        text-align: right;\n",
       "    }\n",
       "</style>\n",
       "<table border=\"1\" class=\"dataframe\">\n",
       "  <thead>\n",
       "    <tr style=\"text-align: right;\">\n",
       "      <th></th>\n",
       "      <th>Unnamed: 0</th>\n",
       "      <th>kind</th>\n",
       "      <th>etag</th>\n",
       "      <th>id</th>\n",
       "      <th>snippet.publishedAt</th>\n",
       "      <th>snippet.channelId</th>\n",
       "      <th>snippet.title</th>\n",
       "      <th>snippet.description</th>\n",
       "      <th>snippet.thumbnails.default.url</th>\n",
       "      <th>snippet.thumbnails.default.width</th>\n",
       "      <th>...</th>\n",
       "      <th>status.madeForKids</th>\n",
       "      <th>statistics.viewCount</th>\n",
       "      <th>statistics.likeCount</th>\n",
       "      <th>statistics.dislikeCount</th>\n",
       "      <th>statistics.favoriteCount</th>\n",
       "      <th>statistics.commentCount</th>\n",
       "      <th>snippet.defaultLanguage</th>\n",
       "      <th>contentDetails.contentRating.ytRating</th>\n",
       "      <th>contentDetails.regionRestriction.blocked</th>\n",
       "      <th>contentDetails.regionRestriction.allowed</th>\n",
       "    </tr>\n",
       "  </thead>\n",
       "  <tbody>\n",
       "    <tr>\n",
       "      <th>0</th>\n",
       "      <td>0.0</td>\n",
       "      <td>youtube#video</td>\n",
       "      <td>d5-1tXLqGi8RQho4IPzs8JRQzVs</td>\n",
       "      <td>-O4OwD_VDDk</td>\n",
       "      <td>2021-01-04T18:15:00Z</td>\n",
       "      <td>UCMAwi5fm2yOSEeKd_Qv0Z2Q</td>\n",
       "      <td>Amber Heard BUSTED - with PROOF! Depp EXPOSES ...</td>\n",
       "      <td>Amber Heard BUSTED - with PROOF! Depp EXPOSES ...</td>\n",
       "      <td>https://i.ytimg.com/vi/-O4OwD_VDDk/default.jpg</td>\n",
       "      <td>120</td>\n",
       "      <td>...</td>\n",
       "      <td>False</td>\n",
       "      <td>60182</td>\n",
       "      <td>4345.0</td>\n",
       "      <td>38.0</td>\n",
       "      <td>0</td>\n",
       "      <td>428.0</td>\n",
       "      <td>NaN</td>\n",
       "      <td>NaN</td>\n",
       "      <td>NaN</td>\n",
       "      <td>NaN</td>\n",
       "    </tr>\n",
       "    <tr>\n",
       "      <th>1</th>\n",
       "      <td>0.0</td>\n",
       "      <td>youtube#video</td>\n",
       "      <td>4X0CZi6su-P0YGk01DWy99iXdsg</td>\n",
       "      <td>0rAont-L80I</td>\n",
       "      <td>2020-07-20T19:13:42Z</td>\n",
       "      <td>UCoMdktPbSTixAyNGwb-UYkQ</td>\n",
       "      <td>Johnny Depp libel trial: Amber Heard says acto...</td>\n",
       "      <td>Amber Heard has claimed Johnny Depp told her t...</td>\n",
       "      <td>https://i.ytimg.com/vi/0rAont-L80I/default.jpg</td>\n",
       "      <td>120</td>\n",
       "      <td>...</td>\n",
       "      <td>False</td>\n",
       "      <td>14353</td>\n",
       "      <td>111.0</td>\n",
       "      <td>318.0</td>\n",
       "      <td>0</td>\n",
       "      <td>136.0</td>\n",
       "      <td>NaN</td>\n",
       "      <td>NaN</td>\n",
       "      <td>NaN</td>\n",
       "      <td>NaN</td>\n",
       "    </tr>\n",
       "    <tr>\n",
       "      <th>2</th>\n",
       "      <td>0.0</td>\n",
       "      <td>youtube#video</td>\n",
       "      <td>zZ9rfonKvYQobYGSPhFMb4kYLhI</td>\n",
       "      <td>0zU63GcH3K8</td>\n",
       "      <td>2020-07-22T18:58:00Z</td>\n",
       "      <td>UCoMdktPbSTixAyNGwb-UYkQ</td>\n",
       "      <td>Amber Heard tells the court that Johnny Depp '...</td>\n",
       "      <td>Amber Heard has claimed Johnny Depp hurled \"30...</td>\n",
       "      <td>https://i.ytimg.com/vi/0zU63GcH3K8/default.jpg</td>\n",
       "      <td>120</td>\n",
       "      <td>...</td>\n",
       "      <td>False</td>\n",
       "      <td>25805</td>\n",
       "      <td>119.0</td>\n",
       "      <td>1043.0</td>\n",
       "      <td>0</td>\n",
       "      <td>NaN</td>\n",
       "      <td>NaN</td>\n",
       "      <td>NaN</td>\n",
       "      <td>NaN</td>\n",
       "      <td>NaN</td>\n",
       "    </tr>\n",
       "    <tr>\n",
       "      <th>3</th>\n",
       "      <td>0.0</td>\n",
       "      <td>youtube#video</td>\n",
       "      <td>bhlAELz-HAmwFuAmwg6NH6tidTo</td>\n",
       "      <td>1khEVKpz6Qw</td>\n",
       "      <td>2020-12-17T14:22:15Z</td>\n",
       "      <td>UCoMdktPbSTixAyNGwb-UYkQ</td>\n",
       "      <td>EXCLUSIVE: 'Nothing could have prepared me for...</td>\n",
       "      <td>Actress Amber Heard talks exclusively to Sky N...</td>\n",
       "      <td>https://i.ytimg.com/vi/1khEVKpz6Qw/default.jpg</td>\n",
       "      <td>120</td>\n",
       "      <td>...</td>\n",
       "      <td>False</td>\n",
       "      <td>105829</td>\n",
       "      <td>208.0</td>\n",
       "      <td>30068.0</td>\n",
       "      <td>0</td>\n",
       "      <td>1933.0</td>\n",
       "      <td>NaN</td>\n",
       "      <td>NaN</td>\n",
       "      <td>NaN</td>\n",
       "      <td>NaN</td>\n",
       "    </tr>\n",
       "    <tr>\n",
       "      <th>4</th>\n",
       "      <td>0.0</td>\n",
       "      <td>youtube#video</td>\n",
       "      <td>SUBJe4v3yHReHVmXKA9RhRT8Yb8</td>\n",
       "      <td>7-glyknR_gs</td>\n",
       "      <td>2020-12-24T01:12:55Z</td>\n",
       "      <td>UC8AGq7bm-x4teGcvQonvnPw</td>\n",
       "      <td>Amber Heard Gets BTFO'd By Fans! | Most Hated ...</td>\n",
       "      <td>Amber Heard gets absolutely ratioed from her i...</td>\n",
       "      <td>https://i.ytimg.com/vi/7-glyknR_gs/default.jpg</td>\n",
       "      <td>120</td>\n",
       "      <td>...</td>\n",
       "      <td>False</td>\n",
       "      <td>12626</td>\n",
       "      <td>1217.0</td>\n",
       "      <td>32.0</td>\n",
       "      <td>0</td>\n",
       "      <td>293.0</td>\n",
       "      <td>NaN</td>\n",
       "      <td>NaN</td>\n",
       "      <td>NaN</td>\n",
       "      <td>NaN</td>\n",
       "    </tr>\n",
       "  </tbody>\n",
       "</table>\n",
       "<p>5 rows × 51 columns</p>\n",
       "</div>"
      ],
      "text/plain": [
       "   Unnamed: 0           kind                         etag           id  \\\n",
       "0         0.0  youtube#video  d5-1tXLqGi8RQho4IPzs8JRQzVs  -O4OwD_VDDk   \n",
       "1         0.0  youtube#video  4X0CZi6su-P0YGk01DWy99iXdsg  0rAont-L80I   \n",
       "2         0.0  youtube#video  zZ9rfonKvYQobYGSPhFMb4kYLhI  0zU63GcH3K8   \n",
       "3         0.0  youtube#video  bhlAELz-HAmwFuAmwg6NH6tidTo  1khEVKpz6Qw   \n",
       "4         0.0  youtube#video  SUBJe4v3yHReHVmXKA9RhRT8Yb8  7-glyknR_gs   \n",
       "\n",
       "    snippet.publishedAt         snippet.channelId  \\\n",
       "0  2021-01-04T18:15:00Z  UCMAwi5fm2yOSEeKd_Qv0Z2Q   \n",
       "1  2020-07-20T19:13:42Z  UCoMdktPbSTixAyNGwb-UYkQ   \n",
       "2  2020-07-22T18:58:00Z  UCoMdktPbSTixAyNGwb-UYkQ   \n",
       "3  2020-12-17T14:22:15Z  UCoMdktPbSTixAyNGwb-UYkQ   \n",
       "4  2020-12-24T01:12:55Z  UC8AGq7bm-x4teGcvQonvnPw   \n",
       "\n",
       "                                       snippet.title  \\\n",
       "0  Amber Heard BUSTED - with PROOF! Depp EXPOSES ...   \n",
       "1  Johnny Depp libel trial: Amber Heard says acto...   \n",
       "2  Amber Heard tells the court that Johnny Depp '...   \n",
       "3  EXCLUSIVE: 'Nothing could have prepared me for...   \n",
       "4  Amber Heard Gets BTFO'd By Fans! | Most Hated ...   \n",
       "\n",
       "                                 snippet.description  \\\n",
       "0  Amber Heard BUSTED - with PROOF! Depp EXPOSES ...   \n",
       "1  Amber Heard has claimed Johnny Depp told her t...   \n",
       "2  Amber Heard has claimed Johnny Depp hurled \"30...   \n",
       "3  Actress Amber Heard talks exclusively to Sky N...   \n",
       "4  Amber Heard gets absolutely ratioed from her i...   \n",
       "\n",
       "                   snippet.thumbnails.default.url  \\\n",
       "0  https://i.ytimg.com/vi/-O4OwD_VDDk/default.jpg   \n",
       "1  https://i.ytimg.com/vi/0rAont-L80I/default.jpg   \n",
       "2  https://i.ytimg.com/vi/0zU63GcH3K8/default.jpg   \n",
       "3  https://i.ytimg.com/vi/1khEVKpz6Qw/default.jpg   \n",
       "4  https://i.ytimg.com/vi/7-glyknR_gs/default.jpg   \n",
       "\n",
       "   snippet.thumbnails.default.width  ...  status.madeForKids  \\\n",
       "0                               120  ...               False   \n",
       "1                               120  ...               False   \n",
       "2                               120  ...               False   \n",
       "3                               120  ...               False   \n",
       "4                               120  ...               False   \n",
       "\n",
       "  statistics.viewCount  statistics.likeCount  statistics.dislikeCount  \\\n",
       "0                60182                4345.0                     38.0   \n",
       "1                14353                 111.0                    318.0   \n",
       "2                25805                 119.0                   1043.0   \n",
       "3               105829                 208.0                  30068.0   \n",
       "4                12626                1217.0                     32.0   \n",
       "\n",
       "  statistics.favoriteCount  statistics.commentCount  snippet.defaultLanguage  \\\n",
       "0                        0                    428.0                      NaN   \n",
       "1                        0                    136.0                      NaN   \n",
       "2                        0                      NaN                      NaN   \n",
       "3                        0                   1933.0                      NaN   \n",
       "4                        0                    293.0                      NaN   \n",
       "\n",
       "  contentDetails.contentRating.ytRating  \\\n",
       "0                                   NaN   \n",
       "1                                   NaN   \n",
       "2                                   NaN   \n",
       "3                                   NaN   \n",
       "4                                   NaN   \n",
       "\n",
       "   contentDetails.regionRestriction.blocked  \\\n",
       "0                                       NaN   \n",
       "1                                       NaN   \n",
       "2                                       NaN   \n",
       "3                                       NaN   \n",
       "4                                       NaN   \n",
       "\n",
       "   contentDetails.regionRestriction.allowed  \n",
       "0                                       NaN  \n",
       "1                                       NaN  \n",
       "2                                       NaN  \n",
       "3                                       NaN  \n",
       "4                                       NaN  \n",
       "\n",
       "[5 rows x 51 columns]"
      ]
     },
     "execution_count": 3,
     "metadata": {},
     "output_type": "execute_result"
    }
   ],
   "source": [
    "yt_videos.head()"
   ]
  },
  {
   "cell_type": "code",
   "execution_count": 8,
   "id": "47708043",
   "metadata": {},
   "outputs": [
    {
     "data": {
      "text/plain": [
       "(9952, 51)"
      ]
     },
     "execution_count": 8,
     "metadata": {},
     "output_type": "execute_result"
    }
   ],
   "source": [
    "yt_videos.shape"
   ]
  },
  {
   "cell_type": "code",
   "execution_count": 5,
   "id": "2315bc2a",
   "metadata": {},
   "outputs": [
    {
     "data": {
      "text/plain": [
       "Index(['Unnamed: 0', 'kind', 'etag', 'id', 'snippet.publishedAt',\n",
       "       'snippet.channelId', 'snippet.title', 'snippet.description',\n",
       "       'snippet.thumbnails.default.url', 'snippet.thumbnails.default.width',\n",
       "       'snippet.thumbnails.default.height', 'snippet.thumbnails.medium.url',\n",
       "       'snippet.thumbnails.medium.width', 'snippet.thumbnails.medium.height',\n",
       "       'snippet.thumbnails.high.url', 'snippet.thumbnails.high.width',\n",
       "       'snippet.thumbnails.high.height', 'snippet.thumbnails.standard.url',\n",
       "       'snippet.thumbnails.standard.width',\n",
       "       'snippet.thumbnails.standard.height', 'snippet.thumbnails.maxres.url',\n",
       "       'snippet.thumbnails.maxres.width', 'snippet.thumbnails.maxres.height',\n",
       "       'snippet.channelTitle', 'snippet.tags', 'snippet.categoryId',\n",
       "       'snippet.liveBroadcastContent', 'snippet.localized.title',\n",
       "       'snippet.localized.description', 'snippet.defaultAudioLanguage',\n",
       "       'contentDetails.duration', 'contentDetails.dimension',\n",
       "       'contentDetails.definition', 'contentDetails.caption',\n",
       "       'contentDetails.licensedContent', 'contentDetails.projection',\n",
       "       'status.uploadStatus', 'status.privacyStatus', 'status.license',\n",
       "       'status.embeddable', 'status.publicStatsViewable', 'status.madeForKids',\n",
       "       'statistics.viewCount', 'statistics.likeCount',\n",
       "       'statistics.dislikeCount', 'statistics.favoriteCount',\n",
       "       'statistics.commentCount', 'snippet.defaultLanguage',\n",
       "       'contentDetails.contentRating.ytRating',\n",
       "       'contentDetails.regionRestriction.blocked',\n",
       "       'contentDetails.regionRestriction.allowed'],\n",
       "      dtype='object')"
      ]
     },
     "execution_count": 5,
     "metadata": {},
     "output_type": "execute_result"
    }
   ],
   "source": [
    "yt_videos.columns"
   ]
  },
  {
   "cell_type": "code",
   "execution_count": 9,
   "id": "06d012bf",
   "metadata": {},
   "outputs": [],
   "source": [
    "# make all letters low case for searching:\n",
    "yt_videos['snippet.description'] = yt_videos['snippet.description'].str.lower()\n",
    "yt_videos['snippet.title'] = yt_videos['snippet.title'].str.lower()\n",
    "\n"
   ]
  },
  {
   "cell_type": "code",
   "execution_count": 10,
   "id": "f3b838b6",
   "metadata": {},
   "outputs": [],
   "source": [
    "# search for the words in titles and descriptons\n",
    "mask = np.column_stack([yt_videos['snippet.title'].str.contains(r\"amber\", na=False) for col in yt_videos])\n",
    "amber_title = list(yt_videos.loc[mask.any(axis=1)]['id'])"
   ]
  },
  {
   "cell_type": "code",
   "execution_count": 11,
   "id": "fac29ae2",
   "metadata": {},
   "outputs": [
    {
     "data": {
      "text/plain": [
       "6002"
      ]
     },
     "execution_count": 11,
     "metadata": {},
     "output_type": "execute_result"
    }
   ],
   "source": [
    "len(amber_title)"
   ]
  },
  {
   "cell_type": "code",
   "execution_count": 12,
   "id": "6257ef03",
   "metadata": {},
   "outputs": [],
   "source": [
    "# search for the words in titles and descriptons\n",
    "mask = np.column_stack([yt_videos['snippet.description'].str.contains(r\"amber\", na=False) for col in yt_videos])\n",
    "amber_description = list(yt_videos.loc[mask.any(axis=1)]['id'])"
   ]
  },
  {
   "cell_type": "code",
   "execution_count": 13,
   "id": "f457054c",
   "metadata": {},
   "outputs": [
    {
     "data": {
      "text/plain": [
       "5811"
      ]
     },
     "execution_count": 13,
     "metadata": {},
     "output_type": "execute_result"
    }
   ],
   "source": [
    "len(amber_description)"
   ]
  },
  {
   "cell_type": "code",
   "execution_count": 14,
   "id": "cbfed3fc",
   "metadata": {},
   "outputs": [],
   "source": [
    "amber_all = amber_description + amber_title"
   ]
  },
  {
   "cell_type": "code",
   "execution_count": 15,
   "id": "a7715573",
   "metadata": {},
   "outputs": [
    {
     "data": {
      "text/plain": [
       "6893"
      ]
     },
     "execution_count": 15,
     "metadata": {},
     "output_type": "execute_result"
    }
   ],
   "source": [
    "len(set(amber_all))"
   ]
  },
  {
   "cell_type": "code",
   "execution_count": 16,
   "id": "1c7d16e0",
   "metadata": {},
   "outputs": [],
   "source": [
    "uniqu_ids = pd.DataFrame(set(amber_all), columns=['id'])"
   ]
  },
  {
   "cell_type": "code",
   "execution_count": 17,
   "id": "d9c4d799",
   "metadata": {},
   "outputs": [
    {
     "data": {
      "text/plain": [
       "0"
      ]
     },
     "execution_count": 17,
     "metadata": {},
     "output_type": "execute_result"
    }
   ],
   "source": [
    "uniqu_ids.duplicated().sum()"
   ]
  },
  {
   "cell_type": "code",
   "execution_count": 156,
   "id": "e9b4d09a",
   "metadata": {},
   "outputs": [],
   "source": [
    "# save unique IDs to csv file\n",
    "uniqu_ids.to_csv(\"IDs with 'amber' in description or title.csv\", index=None)"
   ]
  },
  {
   "cell_type": "code",
   "execution_count": 166,
   "id": "690daf3f",
   "metadata": {},
   "outputs": [],
   "source": [
    "# save new data with unique IDs:\n",
    "amber_heard_new = pd.merge(uniqu_ids, yt_videos, left_on=\"id\", right_on=\"id\", how=\"left\")\n",
    "amber_heard_new.to_csv(r\"C:\\Users\\David\\Amber Heard Case\\Youtube\\New Data (filtered with 'amber' word)\\combined files for videos\\all_scrabed_data_for_34_files(filterd).csv\")"
   ]
  },
  {
   "cell_type": "code",
   "execution_count": 167,
   "id": "1e89ddc5",
   "metadata": {
    "scrolled": true
   },
   "outputs": [
    {
     "data": {
      "text/html": [
       "<div>\n",
       "<style scoped>\n",
       "    .dataframe tbody tr th:only-of-type {\n",
       "        vertical-align: middle;\n",
       "    }\n",
       "\n",
       "    .dataframe tbody tr th {\n",
       "        vertical-align: top;\n",
       "    }\n",
       "\n",
       "    .dataframe thead th {\n",
       "        text-align: right;\n",
       "    }\n",
       "</style>\n",
       "<table border=\"1\" class=\"dataframe\">\n",
       "  <thead>\n",
       "    <tr style=\"text-align: right;\">\n",
       "      <th></th>\n",
       "      <th>id</th>\n",
       "      <th>Unnamed: 0</th>\n",
       "      <th>kind</th>\n",
       "      <th>etag</th>\n",
       "      <th>snippet.publishedAt</th>\n",
       "      <th>snippet.channelId</th>\n",
       "      <th>snippet.title</th>\n",
       "      <th>snippet.description</th>\n",
       "      <th>snippet.thumbnails.default.url</th>\n",
       "      <th>snippet.thumbnails.default.width</th>\n",
       "      <th>...</th>\n",
       "      <th>status.madeForKids</th>\n",
       "      <th>statistics.viewCount</th>\n",
       "      <th>statistics.likeCount</th>\n",
       "      <th>statistics.dislikeCount</th>\n",
       "      <th>statistics.favoriteCount</th>\n",
       "      <th>statistics.commentCount</th>\n",
       "      <th>snippet.defaultLanguage</th>\n",
       "      <th>contentDetails.contentRating.ytRating</th>\n",
       "      <th>contentDetails.regionRestriction.blocked</th>\n",
       "      <th>contentDetails.regionRestriction.allowed</th>\n",
       "    </tr>\n",
       "  </thead>\n",
       "  <tbody>\n",
       "    <tr>\n",
       "      <th>0</th>\n",
       "      <td>14SUI93R_k8</td>\n",
       "      <td>0.0</td>\n",
       "      <td>youtube#video</td>\n",
       "      <td>zUX2H4amXbJxvecYfsO-9mMha7c</td>\n",
       "      <td>2021-03-19T17:00:30Z</td>\n",
       "      <td>UC-NINtNMPM75eaqh07RCy_Q</td>\n",
       "      <td>jason momoa defends amber heard after aquaman ...</td>\n",
       "      <td>jason momoa defends amber heard after aquaman ...</td>\n",
       "      <td>https://i.ytimg.com/vi/14SUI93R_k8/default.jpg</td>\n",
       "      <td>120</td>\n",
       "      <td>...</td>\n",
       "      <td>False</td>\n",
       "      <td>32001</td>\n",
       "      <td>1394.0</td>\n",
       "      <td>71.0</td>\n",
       "      <td>0</td>\n",
       "      <td>942.0</td>\n",
       "      <td>NaN</td>\n",
       "      <td>NaN</td>\n",
       "      <td>NaN</td>\n",
       "      <td>NaN</td>\n",
       "    </tr>\n",
       "    <tr>\n",
       "      <th>1</th>\n",
       "      <td>9rC1gEB5wSk</td>\n",
       "      <td>0.0</td>\n",
       "      <td>youtube#video</td>\n",
       "      <td>W_OcjSa0xjX5E8u4uZKGTkOVnek</td>\n",
       "      <td>2020-12-30T16:25:16Z</td>\n",
       "      <td>UCNoGr_InOOlv0XhHO9KC3Hg</td>\n",
       "      <td>solving a rubik's cube everyday until amber he...</td>\n",
       "      <td>fire amber heard 😡</td>\n",
       "      <td>https://i.ytimg.com/vi/9rC1gEB5wSk/default.jpg</td>\n",
       "      <td>120</td>\n",
       "      <td>...</td>\n",
       "      <td>False</td>\n",
       "      <td>4</td>\n",
       "      <td>2.0</td>\n",
       "      <td>0.0</td>\n",
       "      <td>0</td>\n",
       "      <td>0.0</td>\n",
       "      <td>NaN</td>\n",
       "      <td>NaN</td>\n",
       "      <td>NaN</td>\n",
       "      <td>NaN</td>\n",
       "    </tr>\n",
       "    <tr>\n",
       "      <th>2</th>\n",
       "      <td>nkofr7qZSw0</td>\n",
       "      <td>0.0</td>\n",
       "      <td>youtube#video</td>\n",
       "      <td>rz1_nfM8S8B8philEP9Y1CIt2fE</td>\n",
       "      <td>2019-04-28T16:13:50Z</td>\n",
       "      <td>UC4L8zPgbx3ZATeWZ-iEIKiA</td>\n",
       "      <td>amber heard ,jacob latimore ,charlie plummer k...</td>\n",
       "      <td>amber heard , jacob latimore , charlie plummer...</td>\n",
       "      <td>https://i.ytimg.com/vi/nkofr7qZSw0/default.jpg</td>\n",
       "      <td>120</td>\n",
       "      <td>...</td>\n",
       "      <td>False</td>\n",
       "      <td>1768</td>\n",
       "      <td>21.0</td>\n",
       "      <td>21.0</td>\n",
       "      <td>0</td>\n",
       "      <td>8.0</td>\n",
       "      <td>NaN</td>\n",
       "      <td>NaN</td>\n",
       "      <td>NaN</td>\n",
       "      <td>NaN</td>\n",
       "    </tr>\n",
       "    <tr>\n",
       "      <th>3</th>\n",
       "      <td>82niI4hiImY</td>\n",
       "      <td>NaN</td>\n",
       "      <td>youtube#video</td>\n",
       "      <td>JH06ceCKw9jT7K-EdPycpZ7_LaE</td>\n",
       "      <td>2021-12-05T13:19:52Z</td>\n",
       "      <td>UCeooMl4PFAM9kLPHvavt2KQ</td>\n",
       "      <td>amber heard trolls on twitter again!?</td>\n",
       "      <td>amber heard trolls on twitter again!?\\n\\ncheck...</td>\n",
       "      <td>https://i.ytimg.com/vi/82niI4hiImY/default.jpg</td>\n",
       "      <td>120</td>\n",
       "      <td>...</td>\n",
       "      <td>False</td>\n",
       "      <td>2604</td>\n",
       "      <td>376.0</td>\n",
       "      <td>1.0</td>\n",
       "      <td>0</td>\n",
       "      <td>148.0</td>\n",
       "      <td>NaN</td>\n",
       "      <td>NaN</td>\n",
       "      <td>NaN</td>\n",
       "      <td>NaN</td>\n",
       "    </tr>\n",
       "    <tr>\n",
       "      <th>4</th>\n",
       "      <td>kNA2wjVsp9c</td>\n",
       "      <td>0.0</td>\n",
       "      <td>youtube#video</td>\n",
       "      <td>NoIaeQvZ9WgkrjicJcz5wPlHiT4</td>\n",
       "      <td>2021-06-15T18:37:07Z</td>\n",
       "      <td>UCycYfOSLuPwdKJx4fLrlJgA</td>\n",
       "      <td>amber heard workout for aquaman-2 🔥</td>\n",
       "      <td>NaN</td>\n",
       "      <td>https://i.ytimg.com/vi/kNA2wjVsp9c/default.jpg</td>\n",
       "      <td>120</td>\n",
       "      <td>...</td>\n",
       "      <td>False</td>\n",
       "      <td>327</td>\n",
       "      <td>9.0</td>\n",
       "      <td>8.0</td>\n",
       "      <td>0</td>\n",
       "      <td>0.0</td>\n",
       "      <td>NaN</td>\n",
       "      <td>NaN</td>\n",
       "      <td>NaN</td>\n",
       "      <td>NaN</td>\n",
       "    </tr>\n",
       "  </tbody>\n",
       "</table>\n",
       "<p>5 rows × 51 columns</p>\n",
       "</div>"
      ],
      "text/plain": [
       "            id  Unnamed: 0           kind                         etag  \\\n",
       "0  14SUI93R_k8         0.0  youtube#video  zUX2H4amXbJxvecYfsO-9mMha7c   \n",
       "1  9rC1gEB5wSk         0.0  youtube#video  W_OcjSa0xjX5E8u4uZKGTkOVnek   \n",
       "2  nkofr7qZSw0         0.0  youtube#video  rz1_nfM8S8B8philEP9Y1CIt2fE   \n",
       "3  82niI4hiImY         NaN  youtube#video  JH06ceCKw9jT7K-EdPycpZ7_LaE   \n",
       "4  kNA2wjVsp9c         0.0  youtube#video  NoIaeQvZ9WgkrjicJcz5wPlHiT4   \n",
       "\n",
       "    snippet.publishedAt         snippet.channelId  \\\n",
       "0  2021-03-19T17:00:30Z  UC-NINtNMPM75eaqh07RCy_Q   \n",
       "1  2020-12-30T16:25:16Z  UCNoGr_InOOlv0XhHO9KC3Hg   \n",
       "2  2019-04-28T16:13:50Z  UC4L8zPgbx3ZATeWZ-iEIKiA   \n",
       "3  2021-12-05T13:19:52Z  UCeooMl4PFAM9kLPHvavt2KQ   \n",
       "4  2021-06-15T18:37:07Z  UCycYfOSLuPwdKJx4fLrlJgA   \n",
       "\n",
       "                                       snippet.title  \\\n",
       "0  jason momoa defends amber heard after aquaman ...   \n",
       "1  solving a rubik's cube everyday until amber he...   \n",
       "2  amber heard ,jacob latimore ,charlie plummer k...   \n",
       "3              amber heard trolls on twitter again!?   \n",
       "4                amber heard workout for aquaman-2 🔥   \n",
       "\n",
       "                                 snippet.description  \\\n",
       "0  jason momoa defends amber heard after aquaman ...   \n",
       "1                                 fire amber heard 😡   \n",
       "2  amber heard , jacob latimore , charlie plummer...   \n",
       "3  amber heard trolls on twitter again!?\\n\\ncheck...   \n",
       "4                                                NaN   \n",
       "\n",
       "                   snippet.thumbnails.default.url  \\\n",
       "0  https://i.ytimg.com/vi/14SUI93R_k8/default.jpg   \n",
       "1  https://i.ytimg.com/vi/9rC1gEB5wSk/default.jpg   \n",
       "2  https://i.ytimg.com/vi/nkofr7qZSw0/default.jpg   \n",
       "3  https://i.ytimg.com/vi/82niI4hiImY/default.jpg   \n",
       "4  https://i.ytimg.com/vi/kNA2wjVsp9c/default.jpg   \n",
       "\n",
       "   snippet.thumbnails.default.width  ...  status.madeForKids  \\\n",
       "0                               120  ...               False   \n",
       "1                               120  ...               False   \n",
       "2                               120  ...               False   \n",
       "3                               120  ...               False   \n",
       "4                               120  ...               False   \n",
       "\n",
       "  statistics.viewCount  statistics.likeCount  statistics.dislikeCount  \\\n",
       "0                32001                1394.0                     71.0   \n",
       "1                    4                   2.0                      0.0   \n",
       "2                 1768                  21.0                     21.0   \n",
       "3                 2604                 376.0                      1.0   \n",
       "4                  327                   9.0                      8.0   \n",
       "\n",
       "  statistics.favoriteCount  statistics.commentCount  snippet.defaultLanguage  \\\n",
       "0                        0                    942.0                      NaN   \n",
       "1                        0                      0.0                      NaN   \n",
       "2                        0                      8.0                      NaN   \n",
       "3                        0                    148.0                      NaN   \n",
       "4                        0                      0.0                      NaN   \n",
       "\n",
       "  contentDetails.contentRating.ytRating  \\\n",
       "0                                   NaN   \n",
       "1                                   NaN   \n",
       "2                                   NaN   \n",
       "3                                   NaN   \n",
       "4                                   NaN   \n",
       "\n",
       "   contentDetails.regionRestriction.blocked  \\\n",
       "0                                       NaN   \n",
       "1                                       NaN   \n",
       "2                                       NaN   \n",
       "3                                       NaN   \n",
       "4                                       NaN   \n",
       "\n",
       "   contentDetails.regionRestriction.allowed  \n",
       "0                                       NaN  \n",
       "1                                       NaN  \n",
       "2                                       NaN  \n",
       "3                                       NaN  \n",
       "4                                       NaN  \n",
       "\n",
       "[5 rows x 51 columns]"
      ]
     },
     "execution_count": 167,
     "metadata": {},
     "output_type": "execute_result"
    }
   ],
   "source": [
    "amber_heard_new.head()"
   ]
  },
  {
   "cell_type": "markdown",
   "id": "ccbcf050",
   "metadata": {},
   "source": [
    "# Read and filter comments data with the uniqu_ids"
   ]
  },
  {
   "cell_type": "markdown",
   "id": "fc884c48",
   "metadata": {},
   "source": [
    "# Batch 1"
   ]
  },
  {
   "cell_type": "code",
   "execution_count": 203,
   "id": "a547aef6",
   "metadata": {},
   "outputs": [
    {
     "data": {
      "text/plain": [
       "2"
      ]
     },
     "execution_count": 203,
     "metadata": {},
     "output_type": "execute_result"
    }
   ],
   "source": [
    "path_to_csv = r'C:\\Users\\David\\Amber Heard Case\\Youtube\\Data\\combined files for videos comments info batch 1'\n",
    "csv_files = [pos_csv for pos_csv in os.listdir(path_to_csv) if pos_csv.endswith('.csv')]\n",
    "len(csv_files)"
   ]
  },
  {
   "cell_type": "code",
   "execution_count": 204,
   "id": "7d897f1e",
   "metadata": {
    "scrolled": true
   },
   "outputs": [
    {
     "name": "stderr",
     "output_type": "stream",
     "text": [
      "C:\\Users\\David\\anaconda3\\lib\\site-packages\\IPython\\core\\interactiveshell.py:3444: DtypeWarning: Columns (24) have mixed types.Specify dtype option on import or set low_memory=False.\n",
      "  exec(code_obj, self.user_global_ns, self.user_ns)\n"
     ]
    },
    {
     "data": {
      "text/plain": [
       "(717390, 25)"
      ]
     },
     "execution_count": 204,
     "metadata": {},
     "output_type": "execute_result"
    }
   ],
   "source": [
    "li = []\n",
    "\n",
    "for filename in csv_files:\n",
    "    df = pd.read_csv(path_to_csv+\"/\"+filename, index_col=None, header=0)\n",
    "    li.append(df)\n",
    "\n",
    "df = pd.concat(li, axis=0, ignore_index=True)\n",
    "df.shape"
   ]
  },
  {
   "cell_type": "code",
   "execution_count": 186,
   "id": "04ca092a",
   "metadata": {},
   "outputs": [],
   "source": [
    "# save new data with unique IDs:\n",
    "batch1_comments = pd.merge(uniqu_ids, df, left_on=\"id\", right_on=\"snippet.videoId\", how=\"left\")"
   ]
  },
  {
   "cell_type": "code",
   "execution_count": 194,
   "id": "699515aa",
   "metadata": {},
   "outputs": [],
   "source": [
    "# clean columns after mergeing:\n",
    "del(batch1_comments['id_x'])\n",
    "batch1_comments = batch1_comments.rename(columns={'id_y': 'id'})"
   ]
  },
  {
   "cell_type": "code",
   "execution_count": 200,
   "id": "3aac9d6a",
   "metadata": {},
   "outputs": [],
   "source": [
    "# save to csv file:\n",
    "batch1_comments.to_csv(r\"C:\\Users\\David\\Amber Heard Case\\Youtube\\New Data (filtered with 'amber' word)\\combinded for comments\\combined files for videos comments info batch 1\\combined files for videos comments info batch 1.csv\", index=None)"
   ]
  },
  {
   "cell_type": "code",
   "execution_count": 187,
   "id": "8858bd77",
   "metadata": {
    "scrolled": true
   },
   "outputs": [
    {
     "data": {
      "text/plain": [
       "((717390, 25), (644655, 26))"
      ]
     },
     "execution_count": 187,
     "metadata": {},
     "output_type": "execute_result"
    }
   ],
   "source": [
    "df.shape, batch1_comments.shape"
   ]
  },
  {
   "cell_type": "code",
   "execution_count": 188,
   "id": "aa06254c",
   "metadata": {},
   "outputs": [
    {
     "data": {
      "text/plain": [
       "72735"
      ]
     },
     "execution_count": 188,
     "metadata": {},
     "output_type": "execute_result"
    }
   ],
   "source": [
    "df.shape[0] - batch1_comments.shape[0]"
   ]
  },
  {
   "cell_type": "markdown",
   "id": "86388515",
   "metadata": {},
   "source": [
    "# Batch 2"
   ]
  },
  {
   "cell_type": "code",
   "execution_count": 205,
   "id": "e4d95380",
   "metadata": {},
   "outputs": [
    {
     "data": {
      "text/plain": [
       "7"
      ]
     },
     "execution_count": 205,
     "metadata": {},
     "output_type": "execute_result"
    }
   ],
   "source": [
    "path_to_csv = r'C:\\Users\\David\\Amber Heard Case\\Youtube\\Data\\combined files for videos comments info batch 2'\n",
    "csv_files = [pos_csv for pos_csv in os.listdir(path_to_csv) if pos_csv.endswith('.csv')]\n",
    "len(csv_files)"
   ]
  },
  {
   "cell_type": "code",
   "execution_count": 202,
   "id": "fff16a3a",
   "metadata": {
    "scrolled": true
   },
   "outputs": [
    {
     "name": "stderr",
     "output_type": "stream",
     "text": [
      "C:\\Users\\David\\anaconda3\\lib\\site-packages\\IPython\\core\\interactiveshell.py:3444: DtypeWarning: Columns (23) have mixed types.Specify dtype option on import or set low_memory=False.\n",
      "  exec(code_obj, self.user_global_ns, self.user_ns)\n"
     ]
    },
    {
     "data": {
      "text/plain": [
       "(1573460, 24)"
      ]
     },
     "execution_count": 202,
     "metadata": {},
     "output_type": "execute_result"
    }
   ],
   "source": [
    "li = []\n",
    "\n",
    "for filename in csv_files:\n",
    "    df = pd.read_csv(path_to_csv+\"/\"+filename, index_col=None, header=0)\n",
    "    li.append(df)\n",
    "\n",
    "frame = pd.concat(li, axis=0, ignore_index=True)\n",
    "frame.shape"
   ]
  },
  {
   "cell_type": "code",
   "execution_count": 206,
   "id": "aebb7d8f",
   "metadata": {},
   "outputs": [],
   "source": [
    "# save new data with unique IDs:\n",
    "batch2_comments = pd.merge(uniqu_ids, frame, left_on=\"id\", right_on=\"snippet.videoId\", how=\"left\")"
   ]
  },
  {
   "cell_type": "code",
   "execution_count": 208,
   "id": "433f3fe2",
   "metadata": {
    "scrolled": true
   },
   "outputs": [
    {
     "data": {
      "text/plain": [
       "((1573460, 24), (655188, 25))"
      ]
     },
     "execution_count": 208,
     "metadata": {},
     "output_type": "execute_result"
    }
   ],
   "source": [
    "frame.shape, batch2_comments.shape"
   ]
  },
  {
   "cell_type": "code",
   "execution_count": 209,
   "id": "8d60ad4d",
   "metadata": {},
   "outputs": [
    {
     "data": {
      "text/plain": [
       "918272"
      ]
     },
     "execution_count": 209,
     "metadata": {},
     "output_type": "execute_result"
    }
   ],
   "source": [
    "frame.shape[0] - batch2_comments.shape[0]"
   ]
  },
  {
   "cell_type": "code",
   "execution_count": 218,
   "id": "ae47caea",
   "metadata": {},
   "outputs": [],
   "source": [
    "# save new data with unique IDs:\n",
    "batch2_comments.to_csv(r\"C:\\Users\\David\\Amber Heard Case\\Youtube\\New Data (filtered with 'amber' word)\\combinded for comments\\combined files for videos comments info batch 2\\combined files for videos comments info batch 2.csv\", index=None)"
   ]
  },
  {
   "cell_type": "code",
   "execution_count": 210,
   "id": "5c098e20",
   "metadata": {
    "collapsed": true
   },
   "outputs": [
    {
     "data": {
      "text/plain": [
       "Index(['Unnamed: 0', 'kind', 'etag', 'id', 'snippet.videoId',\n",
       "       'snippet.topLevelComment.kind', 'snippet.topLevelComment.etag',\n",
       "       'snippet.topLevelComment.id', 'snippet.topLevelComment.snippet.videoId',\n",
       "       'snippet.topLevelComment.snippet.textDisplay',\n",
       "       'snippet.topLevelComment.snippet.textOriginal',\n",
       "       'snippet.topLevelComment.snippet.authorDisplayName',\n",
       "       'snippet.topLevelComment.snippet.authorProfileImageUrl',\n",
       "       'snippet.topLevelComment.snippet.authorChannelUrl',\n",
       "       'snippet.topLevelComment.snippet.authorChannelId.value',\n",
       "       'snippet.topLevelComment.snippet.canRate',\n",
       "       'snippet.topLevelComment.snippet.viewerRating',\n",
       "       'snippet.topLevelComment.snippet.likeCount',\n",
       "       'snippet.topLevelComment.snippet.publishedAt',\n",
       "       'snippet.topLevelComment.snippet.updatedAt', 'snippet.canReply',\n",
       "       'snippet.totalReplyCount', 'snippet.isPublic', 'replies.comments',\n",
       "       'snippet.topLevelComment.snippet.moderationStatus'],\n",
       "      dtype='object')"
      ]
     },
     "execution_count": 210,
     "metadata": {},
     "output_type": "execute_result"
    }
   ],
   "source": [
    "df.columns"
   ]
  },
  {
   "cell_type": "code",
   "execution_count": 211,
   "id": "22fd609d",
   "metadata": {
    "collapsed": true
   },
   "outputs": [
    {
     "data": {
      "text/plain": [
       "Index(['kind', 'etag', 'id', 'snippet.videoId', 'snippet.topLevelComment.kind',\n",
       "       'snippet.topLevelComment.etag', 'snippet.topLevelComment.id',\n",
       "       'snippet.topLevelComment.snippet.videoId',\n",
       "       'snippet.topLevelComment.snippet.textDisplay',\n",
       "       'snippet.topLevelComment.snippet.textOriginal',\n",
       "       'snippet.topLevelComment.snippet.authorDisplayName',\n",
       "       'snippet.topLevelComment.snippet.authorProfileImageUrl',\n",
       "       'snippet.topLevelComment.snippet.authorChannelUrl',\n",
       "       'snippet.topLevelComment.snippet.authorChannelId.value',\n",
       "       'snippet.topLevelComment.snippet.canRate',\n",
       "       'snippet.topLevelComment.snippet.viewerRating',\n",
       "       'snippet.topLevelComment.snippet.likeCount',\n",
       "       'snippet.topLevelComment.snippet.publishedAt',\n",
       "       'snippet.topLevelComment.snippet.updatedAt', 'snippet.canReply',\n",
       "       'snippet.totalReplyCount', 'snippet.isPublic', 'replies.comments',\n",
       "       'snippet.topLevelComment.snippet.moderationStatus'],\n",
       "      dtype='object')"
      ]
     },
     "execution_count": 211,
     "metadata": {},
     "output_type": "execute_result"
    }
   ],
   "source": [
    "frame.columns"
   ]
  },
  {
   "cell_type": "markdown",
   "id": "e9676d97",
   "metadata": {},
   "source": [
    "# Batch 3"
   ]
  },
  {
   "cell_type": "code",
   "execution_count": 219,
   "id": "536d0cb6",
   "metadata": {},
   "outputs": [
    {
     "data": {
      "text/plain": [
       "6"
      ]
     },
     "execution_count": 219,
     "metadata": {},
     "output_type": "execute_result"
    }
   ],
   "source": [
    "path_to_csv = r'C:\\Users\\David\\Amber Heard Case\\Youtube\\Data\\combined files for videos comments info batch 3'\n",
    "csv_files = [pos_csv for pos_csv in os.listdir(path_to_csv) if pos_csv.endswith('.csv')]\n",
    "len(csv_files)"
   ]
  },
  {
   "cell_type": "code",
   "execution_count": 220,
   "id": "2e864aa8",
   "metadata": {
    "scrolled": true
   },
   "outputs": [
    {
     "name": "stderr",
     "output_type": "stream",
     "text": [
      "C:\\Users\\David\\anaconda3\\lib\\site-packages\\IPython\\core\\interactiveshell.py:3444: DtypeWarning: Columns (23) have mixed types.Specify dtype option on import or set low_memory=False.\n",
      "  exec(code_obj, self.user_global_ns, self.user_ns)\n"
     ]
    },
    {
     "data": {
      "text/plain": [
       "(2571202, 24)"
      ]
     },
     "execution_count": 220,
     "metadata": {},
     "output_type": "execute_result"
    }
   ],
   "source": [
    "li = []\n",
    "\n",
    "for filename in csv_files:\n",
    "    df = pd.read_csv(path_to_csv+\"/\"+filename, index_col=None, header=0)\n",
    "    li.append(df)\n",
    "\n",
    "frame = pd.concat(li, axis=0, ignore_index=True)\n",
    "frame.shape"
   ]
  },
  {
   "cell_type": "code",
   "execution_count": 221,
   "id": "6b623911",
   "metadata": {},
   "outputs": [],
   "source": [
    "# save new data with unique IDs:\n",
    "batch3_comments = pd.merge(uniqu_ids, frame, left_on=\"id\", right_on=\"snippet.videoId\", how=\"left\")"
   ]
  },
  {
   "cell_type": "code",
   "execution_count": 222,
   "id": "6d12dff3",
   "metadata": {
    "scrolled": true
   },
   "outputs": [
    {
     "data": {
      "text/plain": [
       "((2571202, 24), (590748, 25))"
      ]
     },
     "execution_count": 222,
     "metadata": {},
     "output_type": "execute_result"
    }
   ],
   "source": [
    "frame.shape, batch3_comments.shape"
   ]
  },
  {
   "cell_type": "code",
   "execution_count": 223,
   "id": "daf256ab",
   "metadata": {},
   "outputs": [
    {
     "data": {
      "text/plain": [
       "1980454"
      ]
     },
     "execution_count": 223,
     "metadata": {},
     "output_type": "execute_result"
    }
   ],
   "source": [
    "frame.shape[0] - batch3_comments.shape[0]"
   ]
  },
  {
   "cell_type": "code",
   "execution_count": 224,
   "id": "4f484b4d",
   "metadata": {},
   "outputs": [],
   "source": [
    "# save new data with unique IDs:\n",
    "batch3_comments.to_csv(r\"C:\\Users\\David\\Amber Heard Case\\Youtube\\New Data (filtered with 'amber' word)\\combinded for comments\\combined files for videos comments info batch 3\\combined files for videos comments info batch 3.csv\", index=None)"
   ]
  },
  {
   "cell_type": "code",
   "execution_count": null,
   "id": "0a000610",
   "metadata": {},
   "outputs": [],
   "source": []
  },
  {
   "cell_type": "markdown",
   "id": "e564b789",
   "metadata": {},
   "source": [
    "# Batch 4"
   ]
  },
  {
   "cell_type": "code",
   "execution_count": 3,
   "id": "a0d0694f",
   "metadata": {},
   "outputs": [
    {
     "data": {
      "text/plain": [
       "6"
      ]
     },
     "execution_count": 3,
     "metadata": {},
     "output_type": "execute_result"
    }
   ],
   "source": [
    "path_to_csv = r'C:\\Users\\David\\Amber Heard Case\\Youtube\\Data\\combined files for videos comments info batch 4'\n",
    "csv_files = [pos_csv for pos_csv in os.listdir(path_to_csv) if pos_csv.endswith('.csv')]\n",
    "len(csv_files)"
   ]
  },
  {
   "cell_type": "code",
   "execution_count": 4,
   "id": "4bc2dfba",
   "metadata": {},
   "outputs": [
    {
     "name": "stderr",
     "output_type": "stream",
     "text": [
      "C:\\Users\\David\\anaconda3\\lib\\site-packages\\IPython\\core\\interactiveshell.py:3444: DtypeWarning: Columns (23) have mixed types.Specify dtype option on import or set low_memory=False.\n",
      "  exec(code_obj, self.user_global_ns, self.user_ns)\n"
     ]
    },
    {
     "data": {
      "text/plain": [
       "(2445800, 24)"
      ]
     },
     "execution_count": 4,
     "metadata": {},
     "output_type": "execute_result"
    }
   ],
   "source": [
    "li = []\n",
    "\n",
    "for filename in csv_files:\n",
    "    df = pd.read_csv(path_to_csv+\"/\"+filename, index_col=None, header=0)\n",
    "    li.append(df)\n",
    "\n",
    "frame = pd.concat(li, axis=0, ignore_index=True)\n",
    "frame.shape"
   ]
  },
  {
   "cell_type": "code",
   "execution_count": 28,
   "id": "5f71542d",
   "metadata": {},
   "outputs": [],
   "source": [
    "# save new data with unique IDs:\n",
    "batch4_comments = pd.merge(uniqu_ids, frame, left_on=\"id\", right_on=\"snippet.videoId\", how=\"left\")"
   ]
  },
  {
   "cell_type": "code",
   "execution_count": 29,
   "id": "f2f054ef",
   "metadata": {},
   "outputs": [
    {
     "data": {
      "text/plain": [
       "((2445800, 24), (126150, 25))"
      ]
     },
     "execution_count": 29,
     "metadata": {},
     "output_type": "execute_result"
    }
   ],
   "source": [
    "frame.shape, batch4_comments.shape"
   ]
  },
  {
   "cell_type": "code",
   "execution_count": 21,
   "id": "fa11931e",
   "metadata": {},
   "outputs": [
    {
     "data": {
      "text/plain": [
       "2319650"
      ]
     },
     "execution_count": 21,
     "metadata": {},
     "output_type": "execute_result"
    }
   ],
   "source": [
    "frame.shape[0] - batch4_comments.shape[0]"
   ]
  },
  {
   "cell_type": "code",
   "execution_count": 59,
   "id": "eedcb134",
   "metadata": {},
   "outputs": [],
   "source": [
    "# clean columns after mergeing:\n",
    "del(batch4_comments['id_x'])\n",
    "batch4_comments = batch4_comments.rename(columns={'id_y': 'id'})"
   ]
  },
  {
   "cell_type": "code",
   "execution_count": 60,
   "id": "01ceb9f0",
   "metadata": {},
   "outputs": [
    {
     "data": {
      "text/plain": [
       "(120214, 24)"
      ]
     },
     "execution_count": 60,
     "metadata": {},
     "output_type": "execute_result"
    }
   ],
   "source": [
    "df = batch4_comments.dropna(subset=['id'])\n",
    "df.shape"
   ]
  },
  {
   "cell_type": "code",
   "execution_count": 63,
   "id": "2f6245ec",
   "metadata": {},
   "outputs": [],
   "source": [
    "# save new data with unique IDs:\n",
    "df.to_csv(r\"C:\\Users\\David\\Amber Heard Case\\Youtube\\New Data (filtered with 'amber' word)\\combinded for comments\\combined files for videos comments info batch 4\\combined files for videos comments info batch 4.csv\", index=None)"
   ]
  },
  {
   "cell_type": "code",
   "execution_count": null,
   "id": "50e20b05",
   "metadata": {},
   "outputs": [],
   "source": []
  },
  {
   "cell_type": "markdown",
   "id": "9696cd7a",
   "metadata": {},
   "source": [
    "# Cleaning"
   ]
  },
  {
   "cell_type": "markdown",
   "id": "fde2676f",
   "metadata": {},
   "source": [
    "# Batch 1"
   ]
  },
  {
   "cell_type": "code",
   "execution_count": 65,
   "id": "065aa9c3",
   "metadata": {},
   "outputs": [
    {
     "name": "stderr",
     "output_type": "stream",
     "text": [
      "C:\\Users\\David\\anaconda3\\lib\\site-packages\\IPython\\core\\interactiveshell.py:3444: DtypeWarning: Columns (15,20,22,24) have mixed types.Specify dtype option on import or set low_memory=False.\n",
      "  exec(code_obj, self.user_global_ns, self.user_ns)\n"
     ]
    }
   ],
   "source": [
    "# read batch 1 and clean it\n",
    "batch1_comments = pd.read_csv(r\"C:\\Users\\David\\Amber Heard Case\\Youtube\\New Data (filtered with 'amber' word)\\combinded for comments\\combined files for videos comments info batch 1\\combined files for videos comments info batch 1.csv\")"
   ]
  },
  {
   "cell_type": "code",
   "execution_count": 67,
   "id": "a28b018c",
   "metadata": {},
   "outputs": [
    {
     "data": {
      "text/plain": [
       "(644655, 25)"
      ]
     },
     "execution_count": 67,
     "metadata": {},
     "output_type": "execute_result"
    }
   ],
   "source": [
    "batch1_comments.shape"
   ]
  },
  {
   "cell_type": "code",
   "execution_count": 68,
   "id": "fc8f9f96",
   "metadata": {},
   "outputs": [
    {
     "data": {
      "text/plain": [
       "(639105, 25)"
      ]
     },
     "execution_count": 68,
     "metadata": {},
     "output_type": "execute_result"
    }
   ],
   "source": [
    "df = batch1_comments.dropna(subset=['id'])\n",
    "df.shape"
   ]
  },
  {
   "cell_type": "code",
   "execution_count": 69,
   "id": "a483afff",
   "metadata": {},
   "outputs": [],
   "source": [
    "df.to_csv(r\"C:\\Users\\David\\Amber Heard Case\\Youtube\\New Data (filtered with 'amber' word)\\combinded for comments\\combined files for videos comments info batch 1\\combined files for videos comments info batch 1.csv\", index=None)"
   ]
  },
  {
   "cell_type": "markdown",
   "id": "d1163cd7",
   "metadata": {},
   "source": [
    "# Batch 2"
   ]
  },
  {
   "cell_type": "code",
   "execution_count": 52,
   "id": "ec4cb972",
   "metadata": {},
   "outputs": [
    {
     "name": "stderr",
     "output_type": "stream",
     "text": [
      "C:\\Users\\David\\anaconda3\\lib\\site-packages\\IPython\\core\\interactiveshell.py:3444: DtypeWarning: Columns (15,20,22,24) have mixed types.Specify dtype option on import or set low_memory=False.\n",
      "  exec(code_obj, self.user_global_ns, self.user_ns)\n"
     ]
    }
   ],
   "source": [
    "# read batch 2 and clean it\n",
    "batch2_comments = pd.read_csv(r\"C:\\Users\\David\\Amber Heard Case\\Youtube\\New Data (filtered with 'amber' word)\\combinded for comments\\combined files for videos comments info batch 2\\combined files for videos comments info batch 2.csv\")"
   ]
  },
  {
   "cell_type": "code",
   "execution_count": 53,
   "id": "a67d4186",
   "metadata": {},
   "outputs": [],
   "source": [
    "# clean columns after mergeing:\n",
    "del(batch2_comments['id_x'])\n",
    "batch2_comments = batch2_comments.rename(columns={'id_y': 'id'})"
   ]
  },
  {
   "cell_type": "code",
   "execution_count": 54,
   "id": "78e90412",
   "metadata": {},
   "outputs": [
    {
     "data": {
      "text/plain": [
       "(655188, 25)"
      ]
     },
     "execution_count": 54,
     "metadata": {},
     "output_type": "execute_result"
    }
   ],
   "source": [
    "batch2_comments.shape"
   ]
  },
  {
   "cell_type": "code",
   "execution_count": 56,
   "id": "91f9c020",
   "metadata": {},
   "outputs": [
    {
     "data": {
      "text/plain": [
       "(650378, 25)"
      ]
     },
     "execution_count": 56,
     "metadata": {},
     "output_type": "execute_result"
    }
   ],
   "source": [
    "df = batch2_comments.dropna(subset=['id'])\n",
    "df.shape"
   ]
  },
  {
   "cell_type": "code",
   "execution_count": 64,
   "id": "b3ced3b4",
   "metadata": {},
   "outputs": [],
   "source": [
    "df.to_csv(r\"C:\\Users\\David\\Amber Heard Case\\Youtube\\New Data (filtered with 'amber' word)\\combinded for comments\\combined files for videos comments info batch 2\\combined files for videos comments info batch 2.csv\", index=None)"
   ]
  },
  {
   "cell_type": "code",
   "execution_count": null,
   "id": "c5e7e1a0",
   "metadata": {},
   "outputs": [],
   "source": []
  },
  {
   "cell_type": "markdown",
   "id": "964347b9",
   "metadata": {},
   "source": [
    "# Batch 3"
   ]
  },
  {
   "cell_type": "code",
   "execution_count": 70,
   "id": "e1278e58",
   "metadata": {},
   "outputs": [
    {
     "name": "stderr",
     "output_type": "stream",
     "text": [
      "C:\\Users\\David\\anaconda3\\lib\\site-packages\\IPython\\core\\interactiveshell.py:3444: DtypeWarning: Columns (15,20,22,24) have mixed types.Specify dtype option on import or set low_memory=False.\n",
      "  exec(code_obj, self.user_global_ns, self.user_ns)\n"
     ]
    }
   ],
   "source": [
    "# read batch 3 and clean it\n",
    "batch3_comments = pd.read_csv(r\"C:\\Users\\David\\Amber Heard Case\\Youtube\\New Data (filtered with 'amber' word)\\combinded for comments\\combined files for videos comments info batch 3\\combined files for videos comments info batch 3.csv\")"
   ]
  },
  {
   "cell_type": "code",
   "execution_count": 71,
   "id": "965ce249",
   "metadata": {},
   "outputs": [],
   "source": [
    "# clean columns after mergeing:\n",
    "del(batch3_comments['id_x'])\n",
    "batch3_comments = batch3_comments.rename(columns={'id_y': 'id'})"
   ]
  },
  {
   "cell_type": "code",
   "execution_count": 72,
   "id": "6d64bcbe",
   "metadata": {},
   "outputs": [
    {
     "data": {
      "text/plain": [
       "(590748, 24)"
      ]
     },
     "execution_count": 72,
     "metadata": {},
     "output_type": "execute_result"
    }
   ],
   "source": [
    "batch3_comments.shape"
   ]
  },
  {
   "cell_type": "code",
   "execution_count": 73,
   "id": "fda82cea",
   "metadata": {},
   "outputs": [
    {
     "data": {
      "text/plain": [
       "(584796, 24)"
      ]
     },
     "execution_count": 73,
     "metadata": {},
     "output_type": "execute_result"
    }
   ],
   "source": [
    "df = batch3_comments.dropna(subset=['id'])\n",
    "df.shape"
   ]
  },
  {
   "cell_type": "code",
   "execution_count": 74,
   "id": "5da0ac7d",
   "metadata": {},
   "outputs": [],
   "source": [
    "df.to_csv(r\"C:\\Users\\David\\Amber Heard Case\\Youtube\\New Data (filtered with 'amber' word)\\combinded for comments\\combined files for videos comments info batch 3\\combined files for videos comments info batch 3.csv\", index=None)"
   ]
  },
  {
   "cell_type": "code",
   "execution_count": null,
   "id": "1565cfb3",
   "metadata": {},
   "outputs": [],
   "source": []
  }
 ],
 "metadata": {
  "kernelspec": {
   "display_name": "Python 3 (ipykernel)",
   "language": "python",
   "name": "python3"
  },
  "language_info": {
   "codemirror_mode": {
    "name": "ipython",
    "version": 3
   },
   "file_extension": ".py",
   "mimetype": "text/x-python",
   "name": "python",
   "nbconvert_exporter": "python",
   "pygments_lexer": "ipython3",
   "version": "3.8.12"
  }
 },
 "nbformat": 4,
 "nbformat_minor": 5
}
