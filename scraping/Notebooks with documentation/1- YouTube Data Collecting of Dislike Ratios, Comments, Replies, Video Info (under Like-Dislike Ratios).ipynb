{
 "cells": [
  {
   "cell_type": "markdown",
   "id": "92df9cdb",
   "metadata": {},
   "source": [
    "#  Collect data from youtube for videos using video ID"
   ]
  },
  {
   "cell_type": "code",
   "execution_count": 20,
   "id": "41fbb07c",
   "metadata": {},
   "outputs": [],
   "source": [
    "import pandas as pd\n",
    "import json\n",
    "import requests\n",
    "from io import StringIO\n",
    "from csv import reader\n",
    "import os\n",
    "import glob"
   ]
  },
  {
   "cell_type": "code",
   "execution_count": 21,
   "id": "c84165bf",
   "metadata": {},
   "outputs": [],
   "source": [
    "class YTstats:\n",
    "    '''\n",
    "    this class takes api_key and video id\n",
    "    then obtain data for the video\n",
    "    '''\n",
    "  \n",
    "    def __init__(self, api_key, video_id):\n",
    "        self.api_key = api_key\n",
    "        self.video_id = video_id\n",
    "        self.video_statistics = None\n",
    "  \n",
    "    def get_video_statistics(self):\n",
    "        '''\n",
    "        recieve data from youtube with URL have the video_id and API key\n",
    "        '''        \n",
    "        url = f'https://www.googleapis.com/youtube/v3/videos?id={self.video_id}&key={self.api_key}&part=snippet,contentDetails,statistics,status'\n",
    "        json_url = requests.get(url)\n",
    "        data = json.loads(json_url.text)\n",
    "  \n",
    "        try:\n",
    "            data = data[\"items\"]#[0][\"statistics\"]\n",
    "        except:\n",
    "            data = None\n",
    "  \n",
    "        self.video_statistics = data\n",
    "        return data\n",
    "  \n",
    "    def dump(self):\n",
    "        '''\n",
    "        save the file with the data or print \"nothing happend\" it we have reply with no data\n",
    "        '''          \n",
    "        if self.video_statistics is None:\n",
    "            print('nothing happend')\n",
    "            return \n",
    "  \n",
    "        video_title = self.video_id\n",
    "        #video_title = video_title.replace(\" \", \"_\")\n",
    "  \n",
    "        # generate a json file with all the statistics data of the youtube video\n",
    "        file_name = video_title + '.json'\n",
    "        with open(file_name, 'w') as f:\n",
    "            json.dump(self.video_statistics, f, indent=4)\n",
    "        print('file dumped')"
   ]
  },
  {
   "cell_type": "markdown",
   "id": "45ace556",
   "metadata": {},
   "source": [
    "### Start from here"
   ]
  },
  {
   "cell_type": "markdown",
   "id": "cd0b446f",
   "metadata": {},
   "source": [
    "# cleaning the ids - read them then delete any id we obtained before"
   ]
  },
  {
   "cell_type": "code",
   "execution_count": 383,
   "id": "599c8dbc",
   "metadata": {},
   "outputs": [],
   "source": [
    "# file url and folder url:\n",
    "file_url = \"./34- scraped ids by david  - amber heard playing victim.csv\"\n",
    "folder_url = \"./34-amber heard playing victim/\""
   ]
  },
  {
   "cell_type": "code",
   "execution_count": 311,
   "id": "2c872efa",
   "metadata": {},
   "outputs": [
    {
     "data": {
      "text/plain": [
       "(122, 1)"
      ]
     },
     "execution_count": 311,
     "metadata": {},
     "output_type": "execute_result"
    }
   ],
   "source": [
    "# read videos IDs we get by search:\n",
    "\n",
    "new_ids = pd.read_csv(file_url)\n",
    "new_ids.shape"
   ]
  },
  {
   "cell_type": "code",
   "execution_count": 312,
   "id": "40ca9edb",
   "metadata": {},
   "outputs": [
    {
     "name": "stdout",
     "output_type": "stream",
     "text": [
      "(122, 1)\n"
     ]
    }
   ],
   "source": [
    "# remvove duplicates from its\n",
    "new_ids.drop_duplicates(inplace=True, keep='first')\n",
    "print(new_ids.shape)"
   ]
  },
  {
   "cell_type": "code",
   "execution_count": 313,
   "id": "aadef7ae",
   "metadata": {},
   "outputs": [],
   "source": [
    "# read totals ids we have data for it:\n",
    "total_ids = pd.read_csv(r'C:\\Users\\David\\Amber Heard Case\\Youtube\\SNA-AH-Case-YouTube\\scraping/IDs_for_all_videos_we_have_data_for.csv')"
   ]
  },
  {
   "cell_type": "code",
   "execution_count": 314,
   "id": "88e347a3",
   "metadata": {
    "scrolled": true
   },
   "outputs": [
    {
     "name": "stdout",
     "output_type": "stream",
     "text": [
      "total IDs size = 9979\n",
      "new IDs size = 122\n"
     ]
    }
   ],
   "source": [
    "#make lists for new and old IDs to comparing\n",
    "new_ids_list = list(new_ids['id'])\n",
    "total_ids_list = list(total_ids['id'])\n",
    "print(\"total IDs size = {}\\nnew IDs size = {}\".format(len(total_ids_list) , len(new_ids_list)))"
   ]
  },
  {
   "cell_type": "code",
   "execution_count": 315,
   "id": "3a3df3b9",
   "metadata": {},
   "outputs": [
    {
     "data": {
      "text/plain": [
       "0"
      ]
     },
     "execution_count": 315,
     "metadata": {},
     "output_type": "execute_result"
    }
   ],
   "source": [
    "# see if we collected a video id we have it and save it to a list with name: not_duplicated_ids:\n",
    "not_duplicated_ids = []\n",
    "for new_id in new_ids_list:\n",
    "    if new_id not in total_ids_list:\n",
    "        not_duplicated_ids.append(new_id)\n",
    "len(not_duplicated_ids)"
   ]
  },
  {
   "cell_type": "code",
   "execution_count": 259,
   "id": "21670641",
   "metadata": {},
   "outputs": [],
   "source": [
    "# update the csv file to have no duplicated with any ID all the time\n",
    "not_duplicated_ids_df = pd.DataFrame(not_duplicated_ids, columns=['id'])\n",
    "not_duplicated_ids_df.to_csv(file_url, index=None)"
   ]
  },
  {
   "cell_type": "code",
   "execution_count": 260,
   "id": "0ff6baba",
   "metadata": {},
   "outputs": [],
   "source": [
    "# adding new IDs to the IDs_for_all_videos_we_have_data_for file:\n",
    "new_total_ids = total_ids.append(not_duplicated_ids_df)\n",
    "\n",
    "new_total_ids_df = pd.DataFrame(new_total_ids, columns=['id'])\n",
    "new_total_ids_df.to_csv(r'C:\\Users\\David\\Amber Heard Case\\Youtube\\SNA-AH-Case-YouTube\\scraping/IDs_for_all_videos_we_have_data_for.csv', index=None)"
   ]
  },
  {
   "cell_type": "markdown",
   "id": "498514d1",
   "metadata": {},
   "source": [
    "### end of cleaning\n",
    "\n",
    "# Obtaining"
   ]
  },
  {
   "cell_type": "code",
   "execution_count": 384,
   "id": "b91ddb4d",
   "metadata": {},
   "outputs": [
    {
     "data": {
      "text/plain": [
       "76"
      ]
     },
     "execution_count": 384,
     "metadata": {},
     "output_type": "execute_result"
    }
   ],
   "source": [
    "#read data from youtube file and extratc video code for each and make a list of the videos code:\n",
    "\n",
    "# read dat for the same file we just dropped duplicate from:\n",
    "address = file_url\n",
    "Amber_Heard = pd.read_csv(address)\n",
    "Amber_Heard = Amber_Heard.melt().drop('variable',axis=1).rename({'value':'id'},axis=1)\n",
    "Amber_Heard = list(Amber_Heard['id']) # make a list with IDs we will obtain data from\n",
    "len(Amber_Heard)"
   ]
  },
  {
   "cell_type": "code",
   "execution_count": 385,
   "id": "e6f306c8",
   "metadata": {},
   "outputs": [
    {
     "data": {
      "text/plain": [
       "['QUQqXOMFtfk', 'jocf6k2MXRw', 'fWEn3lfmCKc']"
      ]
     },
     "execution_count": 385,
     "metadata": {},
     "output_type": "execute_result"
    }
   ],
   "source": [
    "Amber_Heard[:3] #first 3 items"
   ]
  },
  {
   "cell_type": "code",
   "execution_count": 386,
   "id": "21b95554",
   "metadata": {
    "scrolled": true
   },
   "outputs": [
    {
     "name": "stdout",
     "output_type": "stream",
     "text": [
      "QUQqXOMFtfk\n",
      "ids remain:  75\n",
      "file dumped\n",
      "fWEn3lfmCKc\n",
      "ids remain:  74\n",
      "file dumped\n",
      "LGpLOUjKgDs\n",
      "ids remain:  73\n",
      "file dumped\n",
      "ELZYfdcAmac\n",
      "ids remain:  72\n",
      "file dumped\n",
      "UBApuBdAYFY\n",
      "ids remain:  71\n",
      "file dumped\n",
      "INbpxn4by14\n",
      "ids remain:  70\n",
      "file dumped\n",
      "r8rcLTH0Fd0\n",
      "ids remain:  69\n",
      "file dumped\n",
      "DAsoO0HI3u0\n",
      "ids remain:  68\n",
      "file dumped\n",
      "VFU0GTifYiU\n",
      "ids remain:  67\n",
      "file dumped\n",
      "vPwD_VgP_mg\n",
      "ids remain:  66\n",
      "file dumped\n",
      "mehMlUJLgKo\n",
      "ids remain:  65\n",
      "file dumped\n",
      "wMcd1ywyiWI\n",
      "ids remain:  64\n",
      "file dumped\n",
      "JGr8QBEGM38\n",
      "ids remain:  63\n",
      "file dumped\n",
      "diEOWXOM65c\n",
      "ids remain:  62\n",
      "file dumped\n",
      "GzMYx1-LhsM\n",
      "ids remain:  61\n",
      "file dumped\n",
      "DhbaaA0Lu_4\n",
      "ids remain:  60\n",
      "file dumped\n",
      "JGlEsLDPdyM\n",
      "ids remain:  59\n",
      "file dumped\n",
      "AiEvwzKSgxE\n",
      "ids remain:  58\n",
      "file dumped\n",
      "cro6uqs-1XE\n",
      "ids remain:  57\n",
      "file dumped\n",
      "UAkAq00jXUI\n",
      "ids remain:  56\n",
      "file dumped\n",
      "COLVU_rIL48\n",
      "ids remain:  55\n",
      "file dumped\n",
      "g_agJcStq7g\n",
      "ids remain:  54\n",
      "file dumped\n",
      "m7O87lUtiPQ\n",
      "ids remain:  53\n",
      "file dumped\n",
      "XrmV-rKAhh8\n",
      "ids remain:  52\n",
      "file dumped\n",
      "eVGB0aqsRro\n",
      "ids remain:  51\n",
      "file dumped\n",
      "VMRy3747DHo\n",
      "ids remain:  50\n",
      "file dumped\n",
      "AKlM3CjxR2Q\n",
      "ids remain:  49\n",
      "file dumped\n",
      "DSqa4t5oi3g\n",
      "ids remain:  48\n",
      "file dumped\n",
      "1dQExSLqQXo\n",
      "ids remain:  47\n",
      "file dumped\n",
      "upg4O8P-ffs\n",
      "ids remain:  46\n",
      "file dumped\n",
      "eHWBLVM1O-w\n",
      "ids remain:  45\n",
      "file dumped\n",
      "IFhZV79yQCw\n",
      "ids remain:  44\n",
      "file dumped\n",
      "x5pDlHZkvw8\n",
      "ids remain:  43\n",
      "file dumped\n",
      "_d68HP8Ldz0\n",
      "ids remain:  42\n",
      "file dumped\n",
      "sUwetXL2mho\n",
      "ids remain:  41\n",
      "file dumped\n",
      "EmpW6k9XqHY\n",
      "ids remain:  40\n",
      "file dumped\n",
      "3-7MwQ3Styo\n",
      "ids remain:  39\n",
      "file dumped\n",
      "pDXNRbv5dT4\n",
      "ids remain:  38\n",
      "file dumped\n",
      "jocf6k2MXRw\n",
      "ids remain:  37\n",
      "file dumped\n",
      "hnHdtzSgacY\n",
      "ids remain:  36\n",
      "file dumped\n",
      "KPqHSiWJ5pA\n",
      "ids remain:  35\n",
      "file dumped\n",
      "LSFd8rL6pXE\n",
      "ids remain:  34\n",
      "file dumped\n",
      "-c5Nunmd-xs\n",
      "ids remain:  33\n",
      "file dumped\n",
      "qyOvIjzMg1s\n",
      "ids remain:  32\n",
      "file dumped\n",
      "LFq6mWnRZTs\n",
      "ids remain:  31\n",
      "file dumped\n",
      "DA7_pA6T8Cs\n",
      "ids remain:  30\n",
      "file dumped\n",
      "EsCyTTH6ynA\n",
      "ids remain:  29\n",
      "file dumped\n",
      "FSJwHmHpwB4\n",
      "ids remain:  28\n",
      "file dumped\n",
      "lMADE1E0dNA\n",
      "ids remain:  27\n",
      "file dumped\n",
      "3EP_1uxUDOU\n",
      "ids remain:  26\n",
      "file dumped\n",
      "p5QItIBl1KQ\n",
      "ids remain:  25\n",
      "file dumped\n",
      "CGnOndxwaaQ\n",
      "ids remain:  24\n",
      "file dumped\n",
      "WoJbm2ZxC04\n",
      "ids remain:  23\n",
      "file dumped\n",
      "SpzFwPxpaco\n",
      "ids remain:  22\n",
      "file dumped\n",
      "rJCDSeF47JQ\n",
      "ids remain:  21\n",
      "file dumped\n",
      "YyJ8pl-v63k\n",
      "ids remain:  20\n",
      "file dumped\n",
      "sC-DvZGf6JM\n",
      "ids remain:  19\n",
      "file dumped\n",
      "dwR5AygRQdY\n",
      "ids remain:  18\n",
      "file dumped\n",
      "aEAsvjb0rPY\n",
      "ids remain:  17\n",
      "file dumped\n",
      "X8YB33eK1PU\n",
      "ids remain:  16\n",
      "file dumped\n",
      "trUVER0vaa0\n",
      "ids remain:  15\n",
      "file dumped\n",
      "Dw6vnhfbcUk\n",
      "ids remain:  14\n",
      "file dumped\n",
      "3G3fD54waY4\n",
      "ids remain:  13\n",
      "file dumped\n",
      "WUIjR3CDi-M\n",
      "ids remain:  12\n",
      "file dumped\n",
      "KBHdq7_ExKY\n",
      "ids remain:  11\n",
      "file dumped\n",
      "PftiHf_I8q0\n",
      "ids remain:  10\n",
      "file dumped\n",
      "eL9_uIkRRIw\n",
      "ids remain:  9\n",
      "file dumped\n",
      "34jdaFSBg-Q\n",
      "ids remain:  8\n",
      "file dumped\n",
      "U98zKkraJEA\n",
      "ids remain:  7\n",
      "file dumped\n",
      "s3XH6Dwhpi0\n",
      "ids remain:  6\n",
      "file dumped\n",
      "mAVdHToZ-LU\n",
      "ids remain:  5\n",
      "file dumped\n",
      "u6m6s7CAB9M\n",
      "ids remain:  4\n",
      "file dumped\n",
      "Wsn4aXVptWU\n",
      "ids remain:  3\n",
      "file dumped\n",
      "PSHM9k1iPqQ\n",
      "ids remain:  2\n",
      "file dumped\n",
      "ZzgnnowuVZ4\n",
      "ids remain:  1\n",
      "file dumped\n",
      "cbJtCwEHY3o\n",
      "ids remain:  0\n",
      "file dumped\n"
     ]
    }
   ],
   "source": [
    "# recive data using API and save it on PC\n",
    "\n",
    "API_KEY = \"AIzaSyA-0KfpLK04NpQN1XghxhSlz********\"\n",
    "\n",
    "\n",
    "# read IDs form list to obtaining data:\n",
    "while len(Amber_Heard) != 0:\n",
    "    \n",
    "    for video in Amber_Heard:\n",
    "        print(video)\n",
    "        yt = YTstats(API_KEY, video)\n",
    "        yt.get_video_statistics()\n",
    "        Amber_Heard.remove(video)\n",
    "        print('ids remain: ', len(Amber_Heard))\n",
    "        yt.dump()"
   ]
  },
  {
   "cell_type": "markdown",
   "id": "7d33a2e3",
   "metadata": {},
   "source": [
    "#  read and save JSON files collected"
   ]
  },
  {
   "cell_type": "code",
   "execution_count": 387,
   "id": "48db546d",
   "metadata": {},
   "outputs": [
    {
     "data": {
      "text/plain": [
       "76"
      ]
     },
     "execution_count": 387,
     "metadata": {},
     "output_type": "execute_result"
    }
   ],
   "source": [
    "# read josn files and make a list with json files\n",
    "# (make 1 change)\n",
    "\n",
    "path_to_json = folder_url\n",
    "\n",
    "json_files = [pos_json for pos_json in os.listdir(path_to_json) if pos_json.endswith('.json')]\n",
    "json_files;  \n",
    "len(json_files)"
   ]
  },
  {
   "cell_type": "code",
   "execution_count": 388,
   "id": "2f5b4d2e",
   "metadata": {},
   "outputs": [
    {
     "data": {
      "text/plain": [
       "(76, 47)"
      ]
     },
     "execution_count": 388,
     "metadata": {},
     "output_type": "execute_result"
    }
   ],
   "source": [
    "# create a data frame with all json files:\n",
    "\n",
    "df = pd.DataFrame()\n",
    "for file in json_files:\n",
    "    file_path = path_to_json + file\n",
    "    with open(file_path) as data_file:    \n",
    "        data = json.load(data_file)\n",
    "        df = df.append(pd.json_normalize(data))\n",
    "df.shape"
   ]
  },
  {
   "cell_type": "code",
   "execution_count": 389,
   "id": "c0d64e51",
   "metadata": {},
   "outputs": [
    {
     "data": {
      "text/html": [
       "<div>\n",
       "<style scoped>\n",
       "    .dataframe tbody tr th:only-of-type {\n",
       "        vertical-align: middle;\n",
       "    }\n",
       "\n",
       "    .dataframe tbody tr th {\n",
       "        vertical-align: top;\n",
       "    }\n",
       "\n",
       "    .dataframe thead th {\n",
       "        text-align: right;\n",
       "    }\n",
       "</style>\n",
       "<table border=\"1\" class=\"dataframe\">\n",
       "  <thead>\n",
       "    <tr style=\"text-align: right;\">\n",
       "      <th></th>\n",
       "      <th>kind</th>\n",
       "      <th>etag</th>\n",
       "      <th>id</th>\n",
       "      <th>snippet.publishedAt</th>\n",
       "      <th>snippet.channelId</th>\n",
       "      <th>snippet.title</th>\n",
       "      <th>snippet.description</th>\n",
       "      <th>snippet.thumbnails.default.url</th>\n",
       "      <th>snippet.thumbnails.default.width</th>\n",
       "      <th>snippet.thumbnails.default.height</th>\n",
       "      <th>...</th>\n",
       "      <th>status.license</th>\n",
       "      <th>status.embeddable</th>\n",
       "      <th>status.publicStatsViewable</th>\n",
       "      <th>status.madeForKids</th>\n",
       "      <th>statistics.viewCount</th>\n",
       "      <th>statistics.likeCount</th>\n",
       "      <th>statistics.dislikeCount</th>\n",
       "      <th>statistics.favoriteCount</th>\n",
       "      <th>statistics.commentCount</th>\n",
       "      <th>snippet.defaultLanguage</th>\n",
       "    </tr>\n",
       "  </thead>\n",
       "  <tbody>\n",
       "    <tr>\n",
       "      <th>0</th>\n",
       "      <td>youtube#video</td>\n",
       "      <td>uQ2VTz2RRiIu-KJYapCe1O5vsCM</td>\n",
       "      <td>-c5Nunmd-xs</td>\n",
       "      <td>2021-09-24T10:27:44Z</td>\n",
       "      <td>UCYJA2v0ZsG5yMM3fUIkip2A</td>\n",
       "      <td>One Sentence: Johnny Depp, Amber Heard, and an...</td>\n",
       "      <td>Jonny Depp increasingly looks to have been the...</td>\n",
       "      <td>https://i.ytimg.com/vi/-c5Nunmd-xs/default.jpg</td>\n",
       "      <td>120</td>\n",
       "      <td>90</td>\n",
       "      <td>...</td>\n",
       "      <td>youtube</td>\n",
       "      <td>True</td>\n",
       "      <td>True</td>\n",
       "      <td>False</td>\n",
       "      <td>597</td>\n",
       "      <td>104</td>\n",
       "      <td>1</td>\n",
       "      <td>0</td>\n",
       "      <td>14</td>\n",
       "      <td>NaN</td>\n",
       "    </tr>\n",
       "    <tr>\n",
       "      <th>0</th>\n",
       "      <td>youtube#video</td>\n",
       "      <td>49EnyzitSjAUnJjLxEKKAlBJdAw</td>\n",
       "      <td>1dQExSLqQXo</td>\n",
       "      <td>2020-11-12T03:55:41Z</td>\n",
       "      <td>UC8AGq7bm-x4teGcvQonvnPw</td>\n",
       "      <td>Amber Heard &amp; TMZ Target My Channel | Conserva...</td>\n",
       "      <td>Let me know what you think!\\n\\n💕 Don't Forget ...</td>\n",
       "      <td>https://i.ytimg.com/vi/1dQExSLqQXo/default.jpg</td>\n",
       "      <td>120</td>\n",
       "      <td>90</td>\n",
       "      <td>...</td>\n",
       "      <td>youtube</td>\n",
       "      <td>True</td>\n",
       "      <td>True</td>\n",
       "      <td>False</td>\n",
       "      <td>4714</td>\n",
       "      <td>698</td>\n",
       "      <td>17</td>\n",
       "      <td>0</td>\n",
       "      <td>328</td>\n",
       "      <td>NaN</td>\n",
       "    </tr>\n",
       "  </tbody>\n",
       "</table>\n",
       "<p>2 rows × 47 columns</p>\n",
       "</div>"
      ],
      "text/plain": [
       "            kind                         etag           id  \\\n",
       "0  youtube#video  uQ2VTz2RRiIu-KJYapCe1O5vsCM  -c5Nunmd-xs   \n",
       "0  youtube#video  49EnyzitSjAUnJjLxEKKAlBJdAw  1dQExSLqQXo   \n",
       "\n",
       "    snippet.publishedAt         snippet.channelId  \\\n",
       "0  2021-09-24T10:27:44Z  UCYJA2v0ZsG5yMM3fUIkip2A   \n",
       "0  2020-11-12T03:55:41Z  UC8AGq7bm-x4teGcvQonvnPw   \n",
       "\n",
       "                                       snippet.title  \\\n",
       "0  One Sentence: Johnny Depp, Amber Heard, and an...   \n",
       "0  Amber Heard & TMZ Target My Channel | Conserva...   \n",
       "\n",
       "                                 snippet.description  \\\n",
       "0  Jonny Depp increasingly looks to have been the...   \n",
       "0  Let me know what you think!\\n\\n💕 Don't Forget ...   \n",
       "\n",
       "                   snippet.thumbnails.default.url  \\\n",
       "0  https://i.ytimg.com/vi/-c5Nunmd-xs/default.jpg   \n",
       "0  https://i.ytimg.com/vi/1dQExSLqQXo/default.jpg   \n",
       "\n",
       "   snippet.thumbnails.default.width  snippet.thumbnails.default.height  ...  \\\n",
       "0                               120                                 90  ...   \n",
       "0                               120                                 90  ...   \n",
       "\n",
       "  status.license  status.embeddable  status.publicStatsViewable  \\\n",
       "0        youtube               True                        True   \n",
       "0        youtube               True                        True   \n",
       "\n",
       "  status.madeForKids  statistics.viewCount  statistics.likeCount  \\\n",
       "0              False                   597                   104   \n",
       "0              False                  4714                   698   \n",
       "\n",
       "  statistics.dislikeCount  statistics.favoriteCount  statistics.commentCount  \\\n",
       "0                       1                         0                       14   \n",
       "0                      17                         0                      328   \n",
       "\n",
       "  snippet.defaultLanguage  \n",
       "0                     NaN  \n",
       "0                     NaN  \n",
       "\n",
       "[2 rows x 47 columns]"
      ]
     },
     "execution_count": 389,
     "metadata": {},
     "output_type": "execute_result"
    }
   ],
   "source": [
    "df.head(2)"
   ]
  },
  {
   "cell_type": "code",
   "execution_count": 390,
   "id": "4aa88ea8",
   "metadata": {},
   "outputs": [],
   "source": [
    "# save this dataframe with the search name as csv file:\n",
    "\n",
    "save_csv_url = r\"C:\\Users\\David\\Amber Heard Case\\Youtube\\SNA-AH-Case-YouTube\\scraping\\Videos_details/{} --scraped.csv\".format(path_to_json.split('/')[1])\n",
    "df.to_csv(save_csv_url, index=None)"
   ]
  },
  {
   "cell_type": "markdown",
   "id": "e3eb88ad",
   "metadata": {},
   "source": [
    "# save channels IDs to collect cannels info"
   ]
  },
  {
   "cell_type": "code",
   "execution_count": 391,
   "id": "cc034e6e",
   "metadata": {},
   "outputs": [
    {
     "name": "stdout",
     "output_type": "stream",
     "text": [
      "channels count before adding:  2415\n",
      "channels count after adding:  2491\n"
     ]
    }
   ],
   "source": [
    "# make new df with channels IDs:\n",
    "new_channels_id_df = pd.DataFrame(df['snippet.channelId'])\n",
    "\n",
    "# for the same batch read channels we have then add the news:\n",
    "channel_id_file_url = r'C:\\Users\\David\\Amber Heard Case\\Youtube\\SNA-AH-Case-YouTube\\scraping\\channels_ids_batch-4.csv'\n",
    "channel_id_df = pd.read_csv(channel_id_file_url)\n",
    "print(\"channels count before adding: \", channel_id_df.shape[0])\n",
    "# append the two dfs together and update the file to have the new IDs\n",
    "total_channels_ids = new_channels_id_df['snippet.channelId'].append(channel_id_df['id'], ignore_index=True)\n",
    "total_channels_ids = pd.DataFrame(total_channels_ids, columns=['id'])\n",
    "total_channels_ids.to_csv(channel_id_file_url, index=None )\n",
    "print(\"channels count after adding: \", total_channels_ids.shape[0])"
   ]
  },
  {
   "cell_type": "code",
   "execution_count": null,
   "id": "a5c45367",
   "metadata": {},
   "outputs": [],
   "source": []
  }
 ],
 "metadata": {
  "kernelspec": {
   "display_name": "Python 3 (ipykernel)",
   "language": "python",
   "name": "python3"
  },
  "language_info": {
   "codemirror_mode": {
    "name": "ipython",
    "version": 3
   },
   "file_extension": ".py",
   "mimetype": "text/x-python",
   "name": "python",
   "nbconvert_exporter": "python",
   "pygments_lexer": "ipython3",
   "version": "3.9.7"
  }
 },
 "nbformat": 4,
 "nbformat_minor": 5
}
