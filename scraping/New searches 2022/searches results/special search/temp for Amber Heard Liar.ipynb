{
 "cells": [
  {
   "cell_type": "code",
   "execution_count": 1,
   "id": "45d66e50",
   "metadata": {},
   "outputs": [],
   "source": [
    "import pandas as pd\n",
    "import json\n",
    "import requests\n",
    "from io import StringIO\n",
    "from csv import reader\n",
    "import os\n",
    "import glob\n",
    "import numpy as np\n",
    "import shutil\n",
    "import time\n",
    "import datetime"
   ]
  },
  {
   "cell_type": "code",
   "execution_count": 2,
   "id": "d05ca564",
   "metadata": {},
   "outputs": [],
   "source": [
    "df = pd.read_csv(\"Amber Heard Liar - Sheet1.csv\")"
   ]
  },
  {
   "cell_type": "code",
   "execution_count": 7,
   "id": "cb0d37fd",
   "metadata": {},
   "outputs": [],
   "source": [
    "df_id = pd.DataFrame(df['id'], columns=['id'])"
   ]
  },
  {
   "cell_type": "code",
   "execution_count": 10,
   "id": "28107f30",
   "metadata": {},
   "outputs": [],
   "source": [
    "all_df = pd.read_csv(r\"C:\\Users\\David\\Amber Heard Case\\Youtube\\New Data (filtered with 'amber' word)\\[CSV] Combined by year [6893 videos](videos, comments and channels) (final 25Dec21)\\combined files for videos by year\\all_scrabed_data_for_34_files(filterd).csv\")"
   ]
  },
  {
   "cell_type": "code",
   "execution_count": 12,
   "id": "0fea2dea",
   "metadata": {},
   "outputs": [],
   "source": [
    "AH_L = df_id.merge(all_df, on=['id'] )"
   ]
  },
  {
   "cell_type": "code",
   "execution_count": 20,
   "id": "a60f88fb",
   "metadata": {},
   "outputs": [],
   "source": [
    "del(AH_L['Unnamed: 0.1'])"
   ]
  },
  {
   "cell_type": "code",
   "execution_count": 23,
   "id": "074effab",
   "metadata": {},
   "outputs": [],
   "source": [
    "AH_L.to_csv('Amber Heard Liar -data from collected data.csv', index=None)"
   ]
  },
  {
   "cell_type": "code",
   "execution_count": 24,
   "id": "0ad7fd06",
   "metadata": {},
   "outputs": [
    {
     "data": {
      "text/plain": [
       "(167, 50)"
      ]
     },
     "execution_count": 24,
     "metadata": {},
     "output_type": "execute_result"
    }
   ],
   "source": [
    "AH_L.shape"
   ]
  },
  {
   "cell_type": "code",
   "execution_count": null,
   "id": "1da26eb6",
   "metadata": {},
   "outputs": [],
   "source": []
  }
 ],
 "metadata": {
  "kernelspec": {
   "display_name": "Python 3 (ipykernel)",
   "language": "python",
   "name": "python3"
  },
  "language_info": {
   "codemirror_mode": {
    "name": "ipython",
    "version": 3
   },
   "file_extension": ".py",
   "mimetype": "text/x-python",
   "name": "python",
   "nbconvert_exporter": "python",
   "pygments_lexer": "ipython3",
   "version": "3.8.12"
  }
 },
 "nbformat": 4,
 "nbformat_minor": 5
}
