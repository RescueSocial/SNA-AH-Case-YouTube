{
 "cells": [
  {
   "cell_type": "markdown",
   "id": "196f90b1",
   "metadata": {},
   "source": [
    "# Search for Amber Heard word in Collected Data"
   ]
  },
  {
   "cell_type": "code",
   "execution_count": 1,
   "id": "7ddb55c6",
   "metadata": {},
   "outputs": [],
   "source": [
    "import pandas as pd\n",
    "import json\n",
    "import requests\n",
    "from io import StringIO\n",
    "from csv import reader\n",
    "import os\n",
    "import glob\n",
    "import numpy as np\n",
    "import shutil\n",
    "import time\n",
    "import datetime\n",
    "import urllib\n",
    "import webbrowser\n",
    "from bs4 import BeautifulSoup\n"
   ]
  },
  {
   "cell_type": "code",
   "execution_count": 69,
   "id": "7e99c465",
   "metadata": {},
   "outputs": [],
   "source": [
    "# set pandas option to dispaly all colmn width and rows height.\n",
    "pd.set_option('display.max_colwidth', None)\n",
    "pd.set_option('display.max_rows', 500)\n"
   ]
  },
  {
   "cell_type": "code",
   "execution_count": 125,
   "id": "20fe386a",
   "metadata": {},
   "outputs": [
    {
     "data": {
      "text/plain": [
       "(13750, 49)"
      ]
     },
     "execution_count": 125,
     "metadata": {},
     "output_type": "execute_result"
    }
   ],
   "source": [
    "# read csv file\n",
    "all_vid_df = pd.read_csv(r\"C:\\Users\\Administrator\\AH case\\YouTube\\SNA-AH-Case-YouTube\\scraping\\New searches 2022\\CSV- combined data\\all_vid_data_13750v.csv\")\n",
    "all_vid_df.shape"
   ]
  },
  {
   "cell_type": "markdown",
   "id": "ff8a2ab5",
   "metadata": {},
   "source": [
    "# Filter results with Amber Heard words"
   ]
  },
  {
   "cell_type": "code",
   "execution_count": 30,
   "id": "f740f2d4",
   "metadata": {},
   "outputs": [],
   "source": [
    "# make sure that 'Heard' word in videos title\n",
    "all_vid_df['title_result'] = all_vid_df[\"snippet.title\"].str.contains(\"heard\", case=False, na=False).astype(int)"
   ]
  },
  {
   "cell_type": "code",
   "execution_count": 31,
   "id": "da61c73d",
   "metadata": {},
   "outputs": [],
   "source": [
    "# make sure that 'Heard' word in videos description\n",
    "\n",
    "all_vid_df['description_result'] = all_vid_df[\"snippet.description\"].str.contains(\"heard\", case=False, na=False).astype(int)"
   ]
  },
  {
   "cell_type": "code",
   "execution_count": 32,
   "id": "77810eb2",
   "metadata": {},
   "outputs": [],
   "source": [
    "all_vid_df['total'] = all_vid_df[\"title_result\"] + all_vid_df[\"description_result\"]"
   ]
  },
  {
   "cell_type": "code",
   "execution_count": 33,
   "id": "08397e7b",
   "metadata": {},
   "outputs": [
    {
     "name": "stdout",
     "output_type": "stream",
     "text": [
      "(2729, 52)\n"
     ]
    }
   ],
   "source": [
    "a = all_vid_df[all_vid_df['total'] == 0]\n",
    "print(a.shape)\n"
   ]
  },
  {
   "cell_type": "code",
   "execution_count": 49,
   "id": "5c58fe8a",
   "metadata": {},
   "outputs": [],
   "source": [
    "a.to_csv(\"filter before delete.csv\", index=None)"
   ]
  },
  {
   "cell_type": "code",
   "execution_count": null,
   "id": "63f9f783",
   "metadata": {},
   "outputs": [],
   "source": []
  },
  {
   "cell_type": "code",
   "execution_count": null,
   "id": "be34e434",
   "metadata": {},
   "outputs": [],
   "source": []
  },
  {
   "cell_type": "code",
   "execution_count": 162,
   "id": "197a49b8",
   "metadata": {},
   "outputs": [
    {
     "data": {
      "text/plain": [
       "(2637, 1)"
      ]
     },
     "execution_count": 162,
     "metadata": {},
     "output_type": "execute_result"
    }
   ],
   "source": [
    "filter_before_del_df = pd.read_csv(\"filter before delete.csv\")\n",
    "filter_before_del_df.shape"
   ]
  },
  {
   "cell_type": "code",
   "execution_count": 166,
   "id": "8f0b2602",
   "metadata": {},
   "outputs": [
    {
     "data": {
      "text/plain": [
       "38"
      ]
     },
     "execution_count": 166,
     "metadata": {},
     "output_type": "execute_result"
    }
   ],
   "source": [
    "filter_before_del_df.duplicated().sum()"
   ]
  },
  {
   "cell_type": "code",
   "execution_count": 167,
   "id": "4ac14370",
   "metadata": {},
   "outputs": [
    {
     "data": {
      "text/plain": [
       "(16387, 49)"
      ]
     },
     "execution_count": 167,
     "metadata": {},
     "output_type": "execute_result"
    }
   ],
   "source": [
    "check_df = pd.concat([all_vid_df, filter_before_del_df], axis=0, ignore_index=True)\n",
    "check_df.shape"
   ]
  },
  {
   "cell_type": "code",
   "execution_count": 168,
   "id": "2c1209b9",
   "metadata": {},
   "outputs": [
    {
     "data": {
      "text/plain": [
       "(11152, 49)"
      ]
     },
     "execution_count": 168,
     "metadata": {},
     "output_type": "execute_result"
    }
   ],
   "source": [
    "check_df.drop_duplicates(subset=['id'] ,keep=False, inplace=True)\n",
    "check_df.shape"
   ]
  },
  {
   "cell_type": "code",
   "execution_count": 153,
   "id": "a9d01bdf",
   "metadata": {},
   "outputs": [
    {
     "data": {
      "text/plain": [
       "0"
      ]
     },
     "execution_count": 153,
     "metadata": {},
     "output_type": "execute_result"
    }
   ],
   "source": [
    "check_df['id'].duplicated().sum()"
   ]
  },
  {
   "cell_type": "code",
   "execution_count": 159,
   "id": "a8814ebb",
   "metadata": {},
   "outputs": [
    {
     "data": {
      "text/plain": [
       "2598"
      ]
     },
     "execution_count": 159,
     "metadata": {},
     "output_type": "execute_result"
    }
   ],
   "source": [
    "list_1 = list(check_df['id'])\n",
    "list_2 = list(all_vid_df['id'])\n",
    "all_ids = set(set(list_2) - set(list_1))\n",
    "len(all_ids)"
   ]
  },
  {
   "cell_type": "code",
   "execution_count": 161,
   "id": "f6577327",
   "metadata": {},
   "outputs": [
    {
     "data": {
      "text/plain": [
       "38"
      ]
     },
     "execution_count": 161,
     "metadata": {},
     "output_type": "execute_result"
    }
   ],
   "source": [
    "filter_before_del_df['id'].duplicated().sum()"
   ]
  },
  {
   "cell_type": "code",
   "execution_count": 158,
   "id": "c5084095",
   "metadata": {},
   "outputs": [
    {
     "data": {
      "text/plain": [
       "set()"
      ]
     },
     "execution_count": 158,
     "metadata": {},
     "output_type": "execute_result"
    }
   ],
   "source": [
    "list_3 = set(filter_before_del_df['id'])\n",
    "all_ids - list_3"
   ]
  },
  {
   "cell_type": "code",
   "execution_count": 174,
   "id": "ec7175e6",
   "metadata": {},
   "outputs": [],
   "source": [
    "check_df.to_csv(r\"C:\\Users\\Administrator\\AH case\\YouTube\\SNA-AH-Case-YouTube\\scraping\\New searches 2022\\CSV- combined data\\all_videos_filtered_11152v.csv\", index=None)"
   ]
  },
  {
   "cell_type": "code",
   "execution_count": 170,
   "id": "10a6d4e3",
   "metadata": {},
   "outputs": [],
   "source": [
    "df = pd.read_csv(r'C:\\Users\\Administrator\\AH case\\YouTube\\SNA-AH-Case-YouTube\\scraping\\New searches 2022\\CSV- combined data\\removed_videos2637v.csv')"
   ]
  },
  {
   "cell_type": "code",
   "execution_count": 172,
   "id": "4c90ff99",
   "metadata": {},
   "outputs": [
    {
     "data": {
      "text/plain": [
       "(2599, 50)"
      ]
     },
     "execution_count": 172,
     "metadata": {},
     "output_type": "execute_result"
    }
   ],
   "source": [
    "df.drop_duplicates(subset=['id'], inplace=True)\n",
    "df.shape"
   ]
  },
  {
   "cell_type": "code",
   "execution_count": 173,
   "id": "002c0a07",
   "metadata": {},
   "outputs": [],
   "source": [
    "df.to_csv(r'C:\\Users\\Administrator\\AH case\\YouTube\\SNA-AH-Case-YouTube\\scraping\\New searches 2022\\CSV- combined data\\removed_videos2599v')"
   ]
  },
  {
   "cell_type": "code",
   "execution_count": 119,
   "id": "d93f4ed6",
   "metadata": {
    "scrolled": false
   },
   "outputs": [],
   "source": [
    "filter_before_del_df['title_result'] = filter_before_del_df[\"snippet.title\"].str.contains(\"aqua\", case=False, na=False).astype(int)"
   ]
  },
  {
   "cell_type": "code",
   "execution_count": 120,
   "id": "a76cb83f",
   "metadata": {},
   "outputs": [],
   "source": [
    "filter_before_del_df['description_result'] = filter_before_del_df[\"snippet.description\"].str.contains(\"aqua\", case=False, na=False).astype(int)"
   ]
  },
  {
   "cell_type": "code",
   "execution_count": 121,
   "id": "29350f14",
   "metadata": {},
   "outputs": [],
   "source": [
    "filter_before_del_df['total'] = filter_before_del_df[\"title_result\"] + filter_before_del_df[\"description_result\"]"
   ]
  },
  {
   "cell_type": "code",
   "execution_count": 122,
   "id": "c49209d5",
   "metadata": {},
   "outputs": [
    {
     "name": "stdout",
     "output_type": "stream",
     "text": [
      "(16, 6)\n"
     ]
    }
   ],
   "source": [
    "b = filter_before_del_df[filter_before_del_df['total'] ==  1]\n",
    "print(b.shape)\n"
   ]
  },
  {
   "cell_type": "code",
   "execution_count": 123,
   "id": "d74842fe",
   "metadata": {
    "scrolled": true
   },
   "outputs": [
    {
     "data": {
      "text/html": [
       "<div>\n",
       "<style scoped>\n",
       "    .dataframe tbody tr th:only-of-type {\n",
       "        vertical-align: middle;\n",
       "    }\n",
       "\n",
       "    .dataframe tbody tr th {\n",
       "        vertical-align: top;\n",
       "    }\n",
       "\n",
       "    .dataframe thead th {\n",
       "        text-align: right;\n",
       "    }\n",
       "</style>\n",
       "<table border=\"1\" class=\"dataframe\">\n",
       "  <thead>\n",
       "    <tr style=\"text-align: right;\">\n",
       "      <th></th>\n",
       "      <th>id</th>\n",
       "      <th>snippet.title</th>\n",
       "      <th>snippet.description</th>\n",
       "      <th>title_result</th>\n",
       "      <th>description_result</th>\n",
       "      <th>total</th>\n",
       "    </tr>\n",
       "  </thead>\n",
       "  <tbody>\n",
       "    <tr>\n",
       "      <th>4</th>\n",
       "      <td>H4Dj1KR2Zms</td>\n",
       "      <td>Amber Khan Biography l Amber Khan Facts l Amber Khan Life Style-Dramas-family-age-movies-2020</td>\n",
       "      <td>Amber Khan is a famous Pakistani Actress, Host and Makeup Artist. She was born on 6 October 1967 in Karachi, Pakistan. She started her career as a host with a morning show Sola Singhar on Indus TV. She becomes famous because of his excellent hosting skills, and she hosted this show for eight years. She also hosted many other TV shows on the same TV channel. After getting fame as a host, she opened her beauty salon and training institute with the name of Amber Khan Salon in Karachi. She is one of the famous Pakistani makeup, grooming, and styling expert and she also provides herbal treatments to her clients. After that, she made her small screen debut with a TV serial Dusri Biwi in 2014 on ARY Digital, in this TV serial she played a supporting role. After that, she has worked in many hit TV serials on different TV channels including Sanwari and Mohabbat Khawab Safar on Hum TV, Khuda Mera Bhi Hai on ARY Digital, Ishq Ya Rabba on A Plus and many more. She also made his Lollywood debut with the most hit Pakistani film Naa Maloom Afraad. She appeared in many morning shows as a guest and beauty expert.\\n\\n#amberkhanbiography#amberkhanfamily#amberkhanlifestyle#amberkhan#\\n\\n\\n\\nIf you are looking for Pakistani wedding Trends and styles,Showbiz news,Whats happeining in showbiz industry,media industry,Biographies of Celebrities,Dramas and Movies all kind of updates and News Well,this is the right channel for you.we will give you all type of information and updated regarded Pakistani Celebrities.\\n\\nNote:All the Photos are taken from Google image search by using advanced image search option. Usage rights: \"free to use, share and modify. Grateful to Google for the information.\\n\\n Disclaimer - Video is for educational and entertainment purpose only.Copyright Disclaimer Under Section 107 of the Copyright Act 1976,allowance is made for \"fair use\" for purposes such as criticism, comment, news reporting, teaching,scholarship,and research.Fair use is a use permitted by copyright statute that might otherwise..\\n\\n\\nOther Tags\\namber khan gemini, amber khan cancer, amber khan taurus, amber khan pisces, amber khan capricorn, amber khan virgo, amber khan files, amber khan sagittarius, amber khan aries, amber khan aries 2020, amber khan all movie, amber khan actor, amber khan aquarius may 2020, amber khan aries march 2020, amber khan against altaf hussain, amber khan altaf hussain, amber khan birthday, amber khan book, amber khan files, amber khan family, amber khan father death, amber khan full movie, the fountain amber khan, amber khan cancer, amber khan capricorn, amber khan cancer may, amber khan capricorn may 2020, amber khan cooking, amber khan cancer june 2020, amber khan capricorn april, amber khan capricorn june 2020, amber khan taurus, amber khan tarot, amber khan taurus may 2020, amber khan taurus 2020, amber khan tik tok, the fountain amber khan, amber khan cancer, amber khan cancer may, amber khan cancer june 2020, the fountain amber khan\\n#haqeeqicelebrity#\\n#duckybhai#\\n#duckyextra\\n#carryminati#\\n#carryminatinewvideo#\\n#villagevlogspakistan#\\n#realitytv#\\n#zohaibpendu#\\n#foodsecretevillages#\\n#mubashirsiddiquevlogs#\\n#harisawanvideos#\\n#villageroutine#\\n#pindroutinevideos#\\n#pakistanicelebrities#\\n#celebritiesbiography#\\n#celebritiesnews#\\n#indiancelebrities#\\n#indianvlogs#\\n#desivllagefood#\\n#zainulabdinvideos#\\n#goldminesfilms#\\n#foxnews#\\n#foxstarhindi#\\n#bolnetwork#\\n#khujleefamilyvideos#\\n#tpzserials#\\n#bbkivines#\\n#theidiots#\\n#ruchiandpiyush#\\n#moviehub#\\n#humtvdramas#\\n#newdramasofindianpakistan#\\n#fridayfunrecords#\\n#ryantoysvideos#\\n#naeemawrameezvideos#\\n#newsanchorsvideos#\\n#goodmorningpakistan#\\n#morningwithnida#</td>\n",
       "      <td>0</td>\n",
       "      <td>1</td>\n",
       "      <td>1</td>\n",
       "    </tr>\n",
       "    <tr>\n",
       "      <th>10</th>\n",
       "      <td>jdcFMrjw-UM</td>\n",
       "      <td>AMBERLYNN REID QUESTIONING HER SEXUALITY, OR LYING?</td>\n",
       "      <td>AMBERLYNN REID QUESTIONING HER SEXUALITY, OR LYING?\\nhttps://streamlabs.com/sinatra_sayslivestreams\\nBTC: 32ePRUDTSVMPkUan7S8YWZykyiSNgZYL9b\\nhttps://shop.stonk.solutions/?ref=sinatra \\nTwitch!: https://www.twitch.tv/sinatra_says\\nStore!: https://streamlabs.com/sinatra_sayslivestreams/merch\\ncheck out the fph: https://www.twitch.tv/gulfcity\\nSend me stuff to unbox:\\n\\nSinatra\\np.o. box 60 \\nElyria, OH\\n44036\\n\\nFOR FED EX OR UPS:\\n\\n345 E. Bridge Street\\nApt 60\\nElyria, Oh\\n44035\\n\\nOther Channels: \\nCreepyPasta: https://www.youtube.com/channel/UCP7Vt82amCBJSuGxZY5wPDw\\nSecond channel: https://www.youtube.com/channel/UCave741nrG8Z8zplLE3GDxQ?view_as=subscriber\\nAquarium channel: https://www.youtube.com/channel/UCAeHwv32g2EWaq54vKcaVsw\\n\\nSocial Media:\\n\\nTwitter: https://twitter.com/Sinatra_Says\\nMinds: https://www.minds.com/Sinatra_Says\\nGab.ai: https://gab.ai/Sinatra_Says\\n\\nSupport the channel:\\n\\nPayPal: https://www.paypal.me/Sinatrasays\\nPatreon: https://www.patreon.com/sinatra_says\\nSubscribeStar: https://www.subscribestar.com/sinatra_says\\nOne Time Donation: https://streamlabs.com/sinatra_sayslivestreams\\nGulf Gear: https://gulf-gear.com/\\n\\nCredits: \\n\\nOriginal video:\\n\\nArtwork done by: @ANTNB4 @Elephant_ITR @manicidiot @StuBertFM @SemajZ\\n\\nBackground FX: \\nhttps://www.youtube.com/channel/UCilPIl-SwFbtsoH8WLnvlfA?&amp;ab_channel=AAVFX\\n\\nhttps://www.youtube.com/channel/UC-kC2CW_Ipi8TvJhzT7Wc_Q?&amp;ab_channel=MatthiasM.de\\n\\nhttps://www.youtube.com/user/CGMeetUp/videos</td>\n",
       "      <td>0</td>\n",
       "      <td>1</td>\n",
       "      <td>1</td>\n",
       "    </tr>\n",
       "    <tr>\n",
       "      <th>279</th>\n",
       "      <td>6F5dgqwFHv0</td>\n",
       "      <td>Gin Amber Beauty REVIEW! (I finally used a Dermaroller!)</td>\n",
       "      <td>Skincare Routine/Reviews @4:05 (in order listed below)\\n\\n20% Vitamin C Booster - https://ginamber.com/collections/serums-creams/products/natural-vitamin-c-serum\\n\\nAdvanced Hyaluronic Acid Serum - https://ginamber.com/collections/serums-creams/products/advanced-hyaluronic-acid-serum\\n\\n10% Vitamin C Repair Cream - https://ginamber.com/collections/serums-creams/products/repair-cream-squalane-10-vitamin-c\\n\\nNatural 2.5% Retinol Serum - https://ginamber.com/collections/serums-creams/products/natural-2-5-retinol\\n\\nNatural Peptide Serum - https://ginamber.com/collections/serums-creams/products/natural-peptide-serum\\n\\nCat Headband - https://ginamber.com/collections/accessories-devices/products/headband\\n\\nUsing a Dermaroller @10:03\\n\\nDermaroller - https://ginamber.com/collections/microneedling/products/dermaroller-0-25-absorbtion\\n\\nAqua Stamp - https://ginamber.com/collections/microneedling/products/aqua-stamp-0-25\\n\\nCheck out Gin Amber's channel here: https://bit.ly/2SXpOyk\\n\\n#skincare #dermaroller\\n\\n--------\\n\\nThis video is part of an (extremely long) series in which I trial a brand or theme's skincare products for two weeks; afterward, I give a review of each product based on my experience, the ingredients, and the cost. I film these bare faced (with the skincare discussed applied) for transparency. These videos are made to share my own experience and general thoughts. For YOUR routine, I always recommend visiting your dermatologist!\\n\\n--------\\n\\nFTC Disclosure:\\nProducts gifted by Gin Amber Beauty. Not sponsored. All my own opinions. No affiliate links used.\\n\\n--------\\n\\nAbout Me:\\nDry/Acne-Prone Skin\\n\\nI film on a Nikon D3200 (no filters)\\n\\nFollow the white rabbit 🐇\\n🔸aliceintherabbithole@writeme.com\\n🔸Twitter: https://bit.ly/2U1DJCQ\\n🔸IG: https://bit.ly/2H0d0Tp\\n🔸Subscribe for 3 videos weekly!</td>\n",
       "      <td>0</td>\n",
       "      <td>1</td>\n",
       "      <td>1</td>\n",
       "    </tr>\n",
       "    <tr>\n",
       "      <th>836</th>\n",
       "      <td>MPmlw9GL4R0</td>\n",
       "      <td>ESG011 Echoes of our Ancestors and Cultivating Intimacy with Death With Amber Magnolia Hill</td>\n",
       "      <td>ESG011 Echoes of our Ancestors and Cultivating Intimacy with Death With Amber Magnolia Hill\\n\\nFor episode number 11, I am joined by mother, writer, teacher, and herbalist Amber Magnolia Hill.  Through her business Aquarian Dawn, Amber shares the fruits of her continued exploration of ancestry, psychedelic healing, float tanks, home funerals, empowered menstruation, sex, childbirth and more. In this episode we explore:\\n\\n• Reclaiming the word \"Witch\" and Facing Loss\\n\\n• The importance of being with and honoring your emotions even when it feels like you’ve been set on fire\\n\\n• How to keep your womb space clear by moving through grief, anger, illness and more with presence and compassion and in a general unshaming of the woman’s journey and experience\\n\\nTo learn more please visit www.aquariandawn.com where you can learn about herbal body oiling, peruse the blog, and shop for Mythic Medicinals, Amber’s inspired line of handmade herbal products.\\n\\nMusic for this episode: Innana by Ibo K Payne from the Album Spiritu\\n\\nTo never miss an episode, subscribe in iTunes.  \\nhttps://podcasts.apple.com/au/podcast/earthside-survival-guide/id1193825250\\n\\nIf you enjoyed this episode, leave a comment below with your favorite part to help  others find the stories and messages they need to hear most!</td>\n",
       "      <td>0</td>\n",
       "      <td>1</td>\n",
       "      <td>1</td>\n",
       "    </tr>\n",
       "    <tr>\n",
       "      <th>863</th>\n",
       "      <td>Dr693SPbT1k</td>\n",
       "      <td>ALL SIGNS 🔮 WHAT’S HIDDEN…SECRETS REVEALED 🔮 JANUARY 2022</td>\n",
       "      <td>🙏 ✨ Hello, beautiful soul! My name is Amber. Welcome … \\n\\nWant video access up to 2-weeks early, bonus content, reiki distance healing ➝ https://www.patreon.com/livesinsyncllc\\n\\n0:00 Intro + Collective Reading info \\n01:10 Capricorn \\n4:40 Taurus \\n10:20 Virgo \\n14:50 Sagittarius \\n18:45 Leo \\n23:45 Aries \\n38:10 Gemini \\n28:10 Libra \\n34:20 Aquarius \\n44:20 Pisces \\n48:40 Cancer \\n53:20 Scorpio \\n\\nTo book a reading➝ https://www.livesinsync.com/book-a-reading.html    (Tarot Reading Companion E-book FREE with every Full Reading)\\n\\n✨CHANNEL SCHEDULE✨\\nMONTHLY General for each sign / MONTHLY “Your Love Story” for each sign/ Weekend Reading / Birthday Reading / Special Bonus Readings ( 3 mth, mid year, end of year, new year, etc.)\\n\\n🎁 FREEBIES 🎁\\n• Moon Manifesting Worksheets➝ https://www.livesinsync.com/moon-manifesting.html  (Patreon videos posted before New &amp; Full moon)\\n• Abundance Manifesting Check➝ https://www.livesinsync.com/law-of-abundance-check.html \\n• Goal Planning Sheets➝ https://www.livesinsync.com/goal-planning.html \\n\\n👼  Feeling generous?  👼 \\n• Donation➝ http://www.paypal.me/livesinsync.  \\n• Donate a deck ➝ https://www.amazon.com/hz/wishlist/ls/1UBMCZN15OAFH?ref_=wl_share\\n\\n🎥 Follow me 🎥\\n• Facebook➝ https://www.facebook.com/livesinsyncllc (weekly energy, transits, moment of mindfulness, etc.)\\n• Instagram➝ https://www.instagram.com/livesinsync (weekly energy, transits, moment of mindfulness, etc.)\\n\\n🌛 Don’t know your sun, moon or rising signs? 🌜 \\n It is FREE! Visit http://astro.cafeastrology.com/natal.php \\n\\nDisclaimer:\\nTarot readings are for entertainment purposes only and should NEVER take the place of psychological, medical, legal, or financial professional services. Lives in Sync and Amber accepts no liability or responsibility for any action a client chooses to take.\\n\\nThis reading is for #allsigns #Tarot #january #TwinFlame #general #career #spirit #guidance #Soulmate #TarotReading #Love #2022</td>\n",
       "      <td>0</td>\n",
       "      <td>1</td>\n",
       "      <td>1</td>\n",
       "    </tr>\n",
       "    <tr>\n",
       "      <th>1017</th>\n",
       "      <td>umSsbAmfwoA</td>\n",
       "      <td>Specialist Reacts to Emma Chamberlain's Skin Care Routine</td>\n",
       "      <td>Subscribe to my Movement 🌍  @Selfless \\nhttps://www.youtube.com/watch?v=84u-rU1WQK4\\n\\nSubscribe to learn how to perfect YOUR skin care routine! 😄✨\\n\\n✨ PRODUCTS MENTIONED ✨\\n\\n🍐 CeraVe Hydrating Cleanser*: \\nhttps://shop-links.co/1721014556041311418\\n\\n🌊 Aquaphor Moisturizer*: \\nhttps://shop-links.co/1721014557149827659\\n\\n👄 Lansinoh Lanolin Cream*: \\nhttps://shop-links.co/1721014558923547114\\n\\n☀️ FAB Mineral SPF 30*: \\nhttps://shop-links.co/1721014557931608275\\n\\n💚YTTP Kale + Green Tea Cleanser* ($36): \\nhttps://shop-links.co/1721014559649278117\\n\\n🌿 iUnik Centella Gel Cream* ($10): \\nhttps://shop-links.co/1721014560072826203\\n\\n⚪ The Ordinary Niacinamide Serum* ($6): \\nhttps://shop-links.co/1721014560862451771\\n\\n🌊 Simple Micellar Gel Wash* ($7): \\nhttps://shop-links.co/1721014561612423358\\n\\n🐟 Krave Beauty Great Barrier Relief ($28): \\nhttps://shop-links.co/1721014563141130415\\n\\n✨ VIDEOS MENTIONED ✨\\n\\nEmma Chamberlain's Day Routine: https://www.youtube.com/watch?v=fd6op8NlCXk\\n\\nI Made a Skin Care Routine for Emma Chamberlain: https://www.youtube.com/watch?v=mp-SAxV6wBY\\n\\nThe BEST Face Sunscreens for this Summer: https://www.youtube.com/watch?v=vJcrcgJiu_Y\\n\\nBe sure to SUBSCRIBE to my channel to learn how to perfect your skin care routine every week! :)\\n\\n✨ PRODUCTS ON MY SHELF ✨\\n💚YTTP Kale + Green Tea Cleanser* ($36): http://bit.ly/2pbvxoR\\n🌿 iUnik Centella Gel Cream* ($10): http://shrsl.com/229st\\n⚪ The Ordinary Niacinamide Serum* ($6): https://bit.ly/34ffo25\\n🌊 Simple Micellar Gel Wash* ($7): https://amzn.to/35Vw0LN\\n🐟 Krave Beauty Great Barrier Relief ($28): https://bit.ly/2TmCYqi\\n\\n_______________________________________________________________\\nFOLLOW ME\\nInstagram (@SkinCarebyHyram): https://bit.ly/362vLzH\\nTwitter (@SkinCarebyHyram): https://bit.ly/2JfRM4n\\nTikTok: (@skincarebyhyram): https://bit.ly/3aphjDL\\n\\nBUSINESS/PR INQUIRIES: info@skincarebyhyram.com\\n\\n*These are affiliate links that help me earn a small commission from your purchase. Each purchase supports me to keep working as hard as I can to make videos for you guys! Thank you for the support :)\\n\\n*Disclaimer: I am a skin care specialist, facilitating ingredient and product trainings through the company I work for. This is the official title of my position. I am not, however, a licensed dermatologist or esthetician, nor do I claim to know more than either. I have checked with multiple dermatologists and estheticians to ensure that my use of the word 'specialist' is appropriate, to which they have confirmed so long as I disclose that I am not a dermatologist or esthetician. After consulting my subscribers as well, I felt that because the term specialist is my career title and is deemed appropriate by licensed professionals, I would prefer to use it instead of the terms 'expert' or 'guru', neither of which apply to me because I consider myself far below 'expert status'. Please know that I'm doing my best to use your feedback to describe who I am and what I do in the best way! If you have concerns about your skin, I always recommend going to either a dermatologist or esthetician to resolve your concern.*</td>\n",
       "      <td>0</td>\n",
       "      <td>1</td>\n",
       "      <td>1</td>\n",
       "    </tr>\n",
       "    <tr>\n",
       "      <th>1047</th>\n",
       "      <td>oaLZplT51EE</td>\n",
       "      <td>DOSSIER PERFUME REVIEW | LUXURY INSPIRED AFFORDABLE PERFUME!</td>\n",
       "      <td>Hey Guys!\\n\\nDossier kindly sent me along a perfume to try out and here it is! I chose Ambery Saffron! Dossier is a clean, vegan and cruelty free perfume brand that creates perfumes influenced by luxury perfumes but for an affordable price! Ambery Saffron is inspired by the very popular Baccarat Rouge 540! They have so many perfumes to choose from and an amazing return policy! I am definitely going to be trying out more of their perfume in the future!\\n\\nAs always, thanks for watching and I hope you enjoy it :)\\n\\nDon't forget to like and subscribe! Hit that notification bell so you don't miss out on any of my videos!\\n◾◾◾◾◾◾◾◾◾◾\\nDossier\\nhttps://dossier.co/discount/CORINNE10\\nUse Code CORINNE10 for 10% off!\\n\\nWHAT IM WEARING\\nFACE- Loreal Infallible 24HR Fresh Wear Foundation, Tarte Aquacealer, Milk Makeup Stick Bronzer, Rare Beauty Melting Blush, Trestique Stick Highlight\\nEYES- Too Faced White Peach Palette, Pretty Vulgar the Feathers Mascara\\nLIPS- Tarte Lipstick\\nBROWS- Morphe Micro Brow Pencil\\nNAILS- Essie Peppermint Condition\\n◾◾◾◾◾◾◾◾◾◾\\n\\nConnect with me!\\nInstagram: @rinneyrainey\\nTwitter: @rinneyrainey\\n\\nBusiness Inquiries: rinneyrainey@gmail.com\\n\\n#rinneyrainey #dossier\\n❤\\n\\n** This video is NOT sponsored. All opinions are my own</td>\n",
       "      <td>0</td>\n",
       "      <td>1</td>\n",
       "      <td>1</td>\n",
       "    </tr>\n",
       "    <tr>\n",
       "      <th>1211</th>\n",
       "      <td>esnFaHNFXjo</td>\n",
       "      <td>AMBERLYNN REID CELEBRATES CHRISTMAS WITH WIPEY.</td>\n",
       "      <td>AMBERLYNN REID CELEBRATES CHRISTMAS WITH WIPEY.\\nhttps://streamlabs.com/sinatra_sayslivestreams\\nBTC: 32ePRUDTSVMPkUan7S8YWZykyiSNgZYL9b\\nhttps://shop.stonk.solutions/?ref=sinatra \\nTwitch!: https://www.twitch.tv/sinatra_says\\nStore!: https://streamlabs.com/sinatra_sayslivestreams/merch\\ncheck out the fph: https://www.twitch.tv/gulfcity\\nSend me stuff to unbox:\\n\\nSinatra\\np.o. box 60 \\nElyria, OH\\n44036\\n\\nFOR FED EX OR UPS:\\n\\n345 E. Bridge Street\\nApt 60\\nElyria, Oh\\n44035\\n\\nOther Channels: \\nCreepyPasta: https://www.youtube.com/channel/UCP7Vt82amCBJSuGxZY5wPDw\\nSecond channel: https://www.youtube.com/channel/UCave741nrG8Z8zplLE3GDxQ?view_as=subscriber\\nAquarium channel: https://www.youtube.com/channel/UCAeHwv32g2EWaq54vKcaVsw\\n\\nSocial Media:\\n\\nTwitter: https://twitter.com/Sinatra_Says\\nMinds: https://www.minds.com/Sinatra_Says\\nGab.ai: https://gab.ai/Sinatra_Says\\n\\nSupport the channel:\\n\\nPayPal: https://www.paypal.me/Sinatrasays\\nPatreon: https://www.patreon.com/sinatra_says\\nSubscribeStar: https://www.subscribestar.com/sinatra_says\\nOne Time Donation: https://streamlabs.com/sinatra_sayslivestreams\\nGulf Gear: https://gulf-gear.com/\\n\\nCredits: \\n\\nOriginal video:\\n\\nArtwork done by: @ANTNB4 @Elephant_ITR @manicidiot @StuBertFM @SemajZ\\n\\nBackground FX: \\nhttps://www.youtube.com/channel/UCilPIl-SwFbtsoH8WLnvlfA?&amp;ab_channel=AAVFX\\n\\nhttps://www.youtube.com/channel/UC-kC2CW_Ipi8TvJhzT7Wc_Q?&amp;ab_channel=MatthiasM.de\\n\\nhttps://www.youtube.com/user/CGMeetUp/videos</td>\n",
       "      <td>0</td>\n",
       "      <td>1</td>\n",
       "      <td>1</td>\n",
       "    </tr>\n",
       "    <tr>\n",
       "      <th>1281</th>\n",
       "      <td>KPjVPpaQES8</td>\n",
       "      <td>Reminiscence Official Soundtrack | Save My Love - Lonr. &amp; Amber Mark | WaterTower</td>\n",
       "      <td>Save My Love, by Lonr. &amp; Amber Mark - from the #OfficialSoundtrack of Reminiscence\\nAvailable Now: https://lnk.to/ReminiscenceSndkID\\n\\n#Reminiscence #Lonr #AmberMark\\n\\nSubscribe to WaterTower Music on YouTube:\\nhttp://bit.ly/WaterTowerSub\\n\\nListen to more from Reminiscence:\\nhttps://www.youtube.com/playlist?list=PLBKadB95sF44li37sTjEp_dZjLeyNT38R\\n\\nTracklist:\\ncoming soon\\n\\nConnect with Reminiscence:\\nFollow Reminiscence on INSTAGRAM: https://www.instagram.com/ReminiscenceFilm/\\nLike Reminiscence on FACEBOOK: https://www.facebook.com/ReminiscenceFilm/\\nFollow Reminiscence on TWITTER: https://twitter.com/REMINISCENCE\\n\\nAbout Reminiscence: \\nFrom writer/director/producer Lisa Joy comes Warner Bros. Pictures’ action thriller Reminiscence, starring Oscar nominee Hugh Jackman, Rebecca Ferguson and Thandiwe Newton.\\n\\nNick Bannister (Jackman), a private investigator of the mind, navigates the darkly alluring world of the past by helping his clients access lost memories. Living on the fringes of the sunken Miami coast, his life is forever changed when he takes on a new client, Mae (Ferguson). A simple matter of lost and found becomes a dangerous obsession. As Bannister fights to find the truth about Mae's disappearance, he uncovers a violent conspiracy, and must ultimately answer the question: how far would you go to hold on to the ones you love?\\nMusic by: Ramin Djawadi\\n\\nConnect with WaterTower Music:\\nFollow WaterTower Music on Instagram: https://www.instagram.com/watertowermusic \\nLike WaterTower Music on Facebook: https://www.facebook.com/WaterTowerMusic \\nFollow WaterTower Music on Twitter: https://twitter.com/watertowermusic \\nVisit WaterTower Music at: https://www.watertower-music.com/ \\n\\nAbout WaterTower Music:\\nWaterTower Music, the in-house label for the WarnerMedia companies, releases recorded music as rich and diverse as the companies themselves. It has been the soundtrack home to many of the world’s most iconic films, television shows and games since 2001. Featured releases include the soundtracks for Aquaman, The Hobbit, Game of Thrones, Crazy Rich Asians, King Arthur, Justice League and Westworld.\\n\\nReminiscence Official Soundtrack | Save My Love - Lonr. &amp; Amber Mark | WaterTower\\nhttps://youtu.be/KPjVPpaQES8</td>\n",
       "      <td>0</td>\n",
       "      <td>1</td>\n",
       "      <td>1</td>\n",
       "    </tr>\n",
       "    <tr>\n",
       "      <th>1657</th>\n",
       "      <td>4GQQLayHihY</td>\n",
       "      <td>THE THEORY. Aquarius January 2022</td>\n",
       "      <td>https://www.AmberKhan.com/\\n\\nEarly Videos, Patreon: https://www.patreon.com/TheQuietestRevolution\\n\\nEXTENDED READING VIMEO: https://vimeo.com/ondemand/jan2022extended\\n\\nINSTANT EXTENDED: https://the-quietest-revolution.dpdcart.com/cart/add?product_id=219620&amp;method_id=239386\\n\\nFor recorded personal readings, please visit: https://www.cameo.com/thequietestrevolution\\n\\nQUIETEST REVOLUTION RINGS: https://www.amberkhan.com/quietest-revolution-rings\\n\\nRing Photos: https://www.instagram.com/quietestrevolutionrings/\\n\\nMERCHANDISE: https://teespring.com/stores/thequietestrevolution\\n\\nFOR YOUR DAILY HOROSCOPE, CHECK OUT THE REVOLUTION IG: \\nhttps://www.instagram.com/thequietestrevolution/</td>\n",
       "      <td>1</td>\n",
       "      <td>0</td>\n",
       "      <td>1</td>\n",
       "    </tr>\n",
       "    <tr>\n",
       "      <th>1660</th>\n",
       "      <td>UZ-c4WnVufM</td>\n",
       "      <td>Brock Samson and Amber have company | The Venture Bros | Adult Swim</td>\n",
       "      <td>SUBSCRIBE to Adult Swim UK: http://bit.ly/1ntNOb5\\n\\nA would-be spy wants in on Brock and Amber's mission.\\n\\nWatch Adult Swim every Thursday at 11pm on FOX UK.\\n\\nFACEBOOK: http://www.facebook.com/AdultSwimUK\\nTWITTER: https://twitter.com/adultswimuk\\nINSTAGRAM: https://www.instagram.com/adultswimuk/\\n\\nAdult Swim is your home for animation and live-action comedy. Enjoy some of your favourite shows, including Rick and Morty, Robot Chicken, Mr Pickles, Black Jesus, Venture Bros., Tim and Eric, Aqua Teen, Metalocalypse, Squidbillies, Frisky Dingo, Assy McGee and more. Watch some playlists. Fast forward, rewind, pause. It's all here. We know you wouldn't forget, but it never hurts to make sure.</td>\n",
       "      <td>0</td>\n",
       "      <td>1</td>\n",
       "      <td>1</td>\n",
       "    </tr>\n",
       "    <tr>\n",
       "      <th>1909</th>\n",
       "      <td>G0xAYviAFpE</td>\n",
       "      <td>DRUNK AMBERLYNN REID IS BACK, WIFEY TALKS LIVE!</td>\n",
       "      <td>DRUNK AMBERLYNN REID IS BACK, WIFEY TALKS LIVE!\\nhttps://streamlabs.com/sinatra_sayslivestreams\\nBTC: 32ePRUDTSVMPkUan7S8YWZykyiSNgZYL9b\\nhttps://shop.stonk.solutions/?ref=sinatra \\nTwitch!: https://www.twitch.tv/sinatra_says\\nStore!: https://streamlabs.com/sinatra_sayslivestreams/merch\\ncheck out the fph: https://www.twitch.tv/gulfcity\\nSend me stuff to unbox:\\n\\nSinatra\\np.o. box 60 \\nElyria, OH\\n44036\\n\\nFOR FED EX OR UPS:\\n\\n345 E. Bridge Street\\nApt 60\\nElyria, Oh\\n44035\\n\\nOther Channels: \\nCreepyPasta: https://www.youtube.com/channel/UCP7Vt82amCBJSuGxZY5wPDw\\nSecond channel: https://www.youtube.com/channel/UCave741nrG8Z8zplLE3GDxQ?view_as=subscriber\\nAquarium channel: https://www.youtube.com/channel/UCAeHwv32g2EWaq54vKcaVsw\\n\\nSocial Media:\\n\\nTwitter: https://twitter.com/Sinatra_Says\\nMinds: https://www.minds.com/Sinatra_Says\\nGab.ai: https://gab.ai/Sinatra_Says\\n\\nSupport the channel:\\n\\nPayPal: https://www.paypal.me/Sinatrasays\\nPatreon: https://www.patreon.com/sinatra_says\\nSubscribeStar: https://www.subscribestar.com/sinatra_says\\nOne Time Donation: https://streamlabs.com/sinatra_sayslivestreams\\nGulf Gear: https://gulf-gear.com/\\n\\nCredits: \\n\\nOriginal video:\\n\\nArtwork done by: @ANTNB4 @Elephant_ITR @manicidiot @StuBertFM @SemajZ\\n\\nBackground FX: \\nhttps://www.youtube.com/channel/UCilPIl-SwFbtsoH8WLnvlfA?&amp;ab_channel=AAVFX\\n\\nhttps://www.youtube.com/channel/UC-kC2CW_Ipi8TvJhzT7Wc_Q?&amp;ab_channel=MatthiasM.de\\n\\nhttps://www.youtube.com/user/CGMeetUp/videos</td>\n",
       "      <td>0</td>\n",
       "      <td>1</td>\n",
       "      <td>1</td>\n",
       "    </tr>\n",
       "    <tr>\n",
       "      <th>2061</th>\n",
       "      <td>nsYKveLd0xU</td>\n",
       "      <td>♦ Get Gorgeous Amber eyes ♦</td>\n",
       "      <td>☾Get Gorgeous Amber eyes!☽♠☽ Subliminal Frequencies\\n\\n\\n➤ Here some instructions. Follow us if you wanna feel the magic of Aquamagic Frequencies.\\n\\n1. You have to listen the video at least 4 times per day. Maximum 8 times in a day. If you listen too much, it will exhaust your brain. I recommend to space listening. You also can listen while you're sleeping.\\nIf you have dark eyes (brown or hazel eyes), I recommend you to use this subliminal in combination with my Super Fast eye melanin remover. Also, use the Booster in first place.\\n\\n2. If you download it, it will still work but it will work a lot slower. I use frequencies so it's better to watch online. Having faster results is better for motivation!\\n\\n3. Drink at least 1,5 L of water in a day. It's important to stay hydrated.\\n\\n4. Try to have a good lifestyle. Don't make excess with bad food or sleepless nights. It will help you to see faster results.\\n\\n5. You can use earphones or headphones, it's like you want.\\n\\n6. Listen at a confortable volume.\\n\\n➤ Some facts, true if you use Aquamagic Frequencies :\\n\\n1. You don't have to hardly believe to make it work. Frequencies work for you. \\n\\n2. No matter what's your native langage or ethnicity, it will work. It's completely universal.\\n\\n3. It's not possible to exactly say when you'll start to see a changes. Everyone is differents and results depend of many factor : original pigmentation, how your brain reacts, how consistent you are, respect of instructions... Some people will see results in few weeks, for others it will take months.\\n\\n\\n☼ Don't forget to subscribe to the channel, share and like videos.\\n\\nFollow us on Instragram and share your results https://www.instagram.com/aquamgicfrenquencies/?hl=fr\\n\\n☾Get Gorgeous Amber eyes!☽♠☽ Subliminal Frequencies</td>\n",
       "      <td>0</td>\n",
       "      <td>1</td>\n",
       "      <td>1</td>\n",
       "    </tr>\n",
       "    <tr>\n",
       "      <th>2249</th>\n",
       "      <td>zjORXqFVM_k</td>\n",
       "      <td>flowerhorn best food in tamil| Amber flowerhorn food |Fish Aqurium Tamil</td>\n",
       "      <td>#Flowhorn_best_food\\n#amber_food\\nA Unique formulated fish feed, flowerhorn max pro supports speedy head growth for all Flower Horn Breed Proper consistent feeding also helps in head growth in a healthy way.\\nFlowe horn Max pro fish feed is high in protein induces fish growthat at a healthy rate and supporting head growth for all flower Horn Breeed.\\nSpirulina and krill extracts being in high content with natural other colour enhancing elements will greatly improve the fish’s sparkle dots in couple of weeks\\nSpecial substance are added to flowerhorn Max Pro Fish feed to greatly increase the immunity of fish’s resistance against diseases\\nflowerhorn fish food in tamil\\nflowerhorn feeding shrimp\\nflowerhorn fish food malayalam\\nfeeding flowerhorn fry\\nbumpy head flowerhorn fish food\\namber flowerhorn food\\ngrand sumo flowerhorn food\\nfloran fish baby food\\nokiko flowerhorn food\\nflowerhorn eating fighter fish\\nxo starry flowerhorn food review\\n\\n\\nLow price intenal filter\\nhttps://ekaro.in/enkr2020070943133190\\n\\nFish food 200grm-111₹\\nhttps://ekaro.in/enkr2020070943155894\\n\\n\\nTop filter sobo-875₹\\nhttps://ekaro.in/enkr2020071043198943\\n\\nTaiyo Betta Pellets Fish Food, 45 g\\n@120₹\\nhttps://ekaro.in/enkr2020071043204789\\n\\nDolphin betta tank @400₹\\nhttps://ekaro.in/enkr2020071143238556\\n\\n20g x 3 Betta Fighter Fish Food - Colour &amp; Tails Growth - Aquarium Fish Tank ** COLOURFUL AQUARIUM ** @113₹\\nhttps://ekaro.in/enkr2020071143239123\\n\\nFully Automatic 100 Watts High Glass Aquarium Heater with Standby Light Indicator and auto on/Off @219₹\\n\\nhttps://ekaro.in/enkr2020072043530980\\n\\n5pcs/lot Stick-Temperature Temp Measurement Stickers @150₹\\nhttps://ekaro.in/enkr2020072043531011\\n\\nWhite Sugar Sand Gravel for Aquarium Decoration 3Kg@290₹\\nhttps://ekaro.in/enkr2020072043531924\\n\\nAquatic Remedies Aquarium Medicine Paracidol Freshwater 120Ml @169\\n\\nhttps://ekaro.in/enkr2020090745995584\\n\\n\\n\\n________________________________________\\n         COPYRIGHT  DISCLAIMER\\n__________________________________________\\n\\nCopyright Disclaimer Under Section 107 of the Copyright Act 1976, allowance is made for 'Fair Use' for purposes such as criticism, comment, news reporting, teaching, scholarship, and research, Fair use is a permitted by copyright statute that might otherwise be infringing, Non-profit, educational or personal use tips the balance in favor of fair use.\\n__________________________________________</td>\n",
       "      <td>0</td>\n",
       "      <td>1</td>\n",
       "      <td>1</td>\n",
       "    </tr>\n",
       "    <tr>\n",
       "      <th>2303</th>\n",
       "      <td>isJLHl4F5Gw</td>\n",
       "      <td>THE AMBERLYNN REID AND BECKY BREAK UP, THEN AMBER TRIES MANIPULATE!</td>\n",
       "      <td>THE AMBERLYNN REID AND BECKY BREAK UP, THEN AMBER TRIES MANIPULATE!\\n#Amberlynn #Reid #BreakUp\\nhttps://streamlabs.com/sinatra_sayslivestreams\\nBTC: 32ePRUDTSVMPkUan7S8YWZykyiSNgZYL9b\\nhttps://shop.stonk.solutions/?ref=sinatra \\nTwitch!: https://www.twitch.tv/sinatra_says\\nStore!: https://streamlabs.com/sinatra_sayslivestreams/merch\\ncheck out the fph: https://www.twitch.tv/gulfcity\\nSend me stuff to unbox:\\n\\nSinatra\\np.o. box 60 \\nElyria, OH\\n44036\\n\\nFOR FED EX OR UPS:\\n\\n345 E. Bridge Street\\nApt 60\\nElyria, Oh\\n44035\\n\\nOther Channels: \\nCreepyPasta: https://www.youtube.com/channel/UCP7Vt82amCBJSuGxZY5wPDw\\nSecond channel: https://www.youtube.com/channel/UCave741nrG8Z8zplLE3GDxQ?view_as=subscriber\\nAquarium channel: https://www.youtube.com/channel/UCAeHwv32g2EWaq54vKcaVsw\\n\\nSocial Media:\\n\\nTwitter: https://twitter.com/Sinatra_Says\\nMinds: https://www.minds.com/Sinatra_Says\\nGab.ai: https://gab.ai/Sinatra_Says\\n\\nSupport the channel:\\n\\nPayPal: https://www.paypal.me/Sinatrasays\\nPatreon: https://www.patreon.com/sinatra_says\\nSubscribeStar: https://www.subscribestar.com/sinatra_says\\nOne Time Donation: https://streamlabs.com/sinatra_sayslivestreams\\nGulf Gear: https://gulf-gear.com/\\n\\nCredits: \\n\\nOriginal video:\\n\\nArtwork done by: @ANTNB4 @Elephant_ITR @manicidiot @StuBertFM @SemajZ\\n\\nBackground FX: \\nhttps://www.youtube.com/channel/UCilPIl-SwFbtsoH8WLnvlfA?&amp;ab_channel=AAVFX\\n\\nhttps://www.youtube.com/channel/UC-kC2CW_Ipi8TvJhzT7Wc_Q?&amp;ab_channel=MatthiasM.de\\n\\nhttps://www.youtube.com/user/CGMeetUp/videos</td>\n",
       "      <td>0</td>\n",
       "      <td>1</td>\n",
       "      <td>1</td>\n",
       "    </tr>\n",
       "    <tr>\n",
       "      <th>2424</th>\n",
       "      <td>OC1fd0buz84</td>\n",
       "      <td>Best Food Flowerhorn Head Growth || Amber FlowerHorn food Review Hindi | okiko platinum orginal fake</td>\n",
       "      <td>Best Food Flowerhorn Head Growth || Amber FlowerHorn food Review Hindi || okiko platinum orginal vs fake in Hindi || amber max pro\\n\\n\\n\\n\\n\\nYouTube Subscribe - \\n\\nhttps://bit.ly/3c0plom\\n\\n\\ninsta -\\n https://instagram.com/i.am.aviraaj?igshid=g0v9fo3r85zw\\n\\n\\ntelegram - \\n\\nhttps://telegram.me/aviraaj_aquarium_pets_care\\n\\n\\n\\n#flowerhorndeworminginhindi\\n#dewormingflowerhorn\\n#whitepooptreatment\\n#flowerhorndeworming\\n#flowerhorncare\\n#aviraajaquariumpetscare\\n#syedshah5001\\n#fishandfins\\n#deworming_flowerhorn\\n#aquariumhobby\\n#aquarium\\n\\n\\n#flowerhorn\\n#amberfishfood\\n#okikoplatinum\\n#amberflowerhorn\\n\\n\\n\\n\\nTopic Cover :-\\n\\namber flowerhorn food\\namber flowerhorn food tamil\\namber flowerhorn food review hindi\\namber flowerhorn max pro\\namber flowerhorn food result\\namber flowerhorn\\ntaiyo amber flowerhorn food\\n\\namber flowerhorn fish food in hindi\\namber flowerhorn\\namber flowerhorn fish food review\\namber flowerhorn fish food\\namber flowerhorn food review\\n\\n\\namber max pro review\\namber max pro review tamil\\namber max pro result\\namber max pro\\namber flowerhorn max pro\\n\\n\\nbest flowerhorn food\\nbest flowerhorn food tamil\\nbest flowerhorn food for color\\nbest flowerhorn food for head growth\\nbest flowerhorn food in india\\nflowerhorn best food for head in tamil\\nbest flowerhorn pellet food\\nbest flowerhorn fish food in india\\nflowerhorn best live food\\nkamfa flowerhorn best food\\n\\n\\nokiko platinum flowerhorn food\\nokiko platinum original vs fake\\nokiko platinum head huncher\\nokiko platinum\\nokiko platinum review\\nokiko platinum flowerhorn food result\\nokiko platinum vs humpy head\\nokiko platinom results\\nokiko platinom flowerhorn food tamil\\nokiko platinom for goldfish\\n\\n\\nokiko platinum original vs fake in tamil\\nokiko platinum original vs fake in hindi\\nfake okiko platinom\\n\\n\\nokiko platinum us amber\\nokiko platinum vs amber in tamil\\n\\n\\n\\n\\nCopyright Disclaimer Onder Section 107 of the Copyright Act\\n1976, allowance is made for \"fair ose\" for porposes soch as\\ncriticism, comment, news reporting, teaching, scholarship, and\\nresearch. Fair use is a ose permitted by copyright statute that\\nmight otherwise be infringing. Non-profit, edocational or personal\\nose tips the balance in favor of fair ose</td>\n",
       "      <td>0</td>\n",
       "      <td>1</td>\n",
       "      <td>1</td>\n",
       "    </tr>\n",
       "  </tbody>\n",
       "</table>\n",
       "</div>"
      ],
      "text/plain": [
       "               id  \\\n",
       "4     H4Dj1KR2Zms   \n",
       "10    jdcFMrjw-UM   \n",
       "279   6F5dgqwFHv0   \n",
       "836   MPmlw9GL4R0   \n",
       "863   Dr693SPbT1k   \n",
       "1017  umSsbAmfwoA   \n",
       "1047  oaLZplT51EE   \n",
       "1211  esnFaHNFXjo   \n",
       "1281  KPjVPpaQES8   \n",
       "1657  4GQQLayHihY   \n",
       "1660  UZ-c4WnVufM   \n",
       "1909  G0xAYviAFpE   \n",
       "2061  nsYKveLd0xU   \n",
       "2249  zjORXqFVM_k   \n",
       "2303  isJLHl4F5Gw   \n",
       "2424  OC1fd0buz84   \n",
       "\n",
       "                                                                                             snippet.title  \\\n",
       "4            Amber Khan Biography l Amber Khan Facts l Amber Khan Life Style-Dramas-family-age-movies-2020   \n",
       "10                                                     AMBERLYNN REID QUESTIONING HER SEXUALITY, OR LYING?   \n",
       "279                                               Gin Amber Beauty REVIEW! (I finally used a Dermaroller!)   \n",
       "836            ESG011 Echoes of our Ancestors and Cultivating Intimacy with Death With Amber Magnolia Hill   \n",
       "863                                              ALL SIGNS 🔮 WHAT’S HIDDEN…SECRETS REVEALED 🔮 JANUARY 2022   \n",
       "1017                                             Specialist Reacts to Emma Chamberlain's Skin Care Routine   \n",
       "1047                                          DOSSIER PERFUME REVIEW | LUXURY INSPIRED AFFORDABLE PERFUME!   \n",
       "1211                                                       AMBERLYNN REID CELEBRATES CHRISTMAS WITH WIPEY.   \n",
       "1281                     Reminiscence Official Soundtrack | Save My Love - Lonr. & Amber Mark | WaterTower   \n",
       "1657                                                                     THE THEORY. Aquarius January 2022   \n",
       "1660                                   Brock Samson and Amber have company | The Venture Bros | Adult Swim   \n",
       "1909                                                       DRUNK AMBERLYNN REID IS BACK, WIFEY TALKS LIVE!   \n",
       "2061                                                                           ♦ Get Gorgeous Amber eyes ♦   \n",
       "2249                              flowerhorn best food in tamil| Amber flowerhorn food |Fish Aqurium Tamil   \n",
       "2303                                   THE AMBERLYNN REID AND BECKY BREAK UP, THEN AMBER TRIES MANIPULATE!   \n",
       "2424  Best Food Flowerhorn Head Growth || Amber FlowerHorn food Review Hindi | okiko platinum orginal fake   \n",
       "\n",
       "                                                                                                                                                                                                                                                                                                                                                                                                                                                                                                                                                                                                                                                                                                                                                                                                                                                                                                                                                                                                                                                                                                                                                                                                                                                                                                                                                                                                                                                                                                                                                                                                                                                                                                                                                                                                                                                                                                                                                                                                                                                                                                                                                                                                                                                                                                                                                                                                                                                                                                                                                                                                                                                                                                                                                                                                                                                                                                                                                                                                                                                                                                                                                                                                                                                                                                                                                                                                                                                                                                                                                                                                                                                                                                                                                                                                                           snippet.description  \\\n",
       "4     Amber Khan is a famous Pakistani Actress, Host and Makeup Artist. She was born on 6 October 1967 in Karachi, Pakistan. She started her career as a host with a morning show Sola Singhar on Indus TV. She becomes famous because of his excellent hosting skills, and she hosted this show for eight years. She also hosted many other TV shows on the same TV channel. After getting fame as a host, she opened her beauty salon and training institute with the name of Amber Khan Salon in Karachi. She is one of the famous Pakistani makeup, grooming, and styling expert and she also provides herbal treatments to her clients. After that, she made her small screen debut with a TV serial Dusri Biwi in 2014 on ARY Digital, in this TV serial she played a supporting role. After that, she has worked in many hit TV serials on different TV channels including Sanwari and Mohabbat Khawab Safar on Hum TV, Khuda Mera Bhi Hai on ARY Digital, Ishq Ya Rabba on A Plus and many more. She also made his Lollywood debut with the most hit Pakistani film Naa Maloom Afraad. She appeared in many morning shows as a guest and beauty expert.\\n\\n#amberkhanbiography#amberkhanfamily#amberkhanlifestyle#amberkhan#\\n\\n\\n\\nIf you are looking for Pakistani wedding Trends and styles,Showbiz news,Whats happeining in showbiz industry,media industry,Biographies of Celebrities,Dramas and Movies all kind of updates and News Well,this is the right channel for you.we will give you all type of information and updated regarded Pakistani Celebrities.\\n\\nNote:All the Photos are taken from Google image search by using advanced image search option. Usage rights: \"free to use, share and modify. Grateful to Google for the information.\\n\\n Disclaimer - Video is for educational and entertainment purpose only.Copyright Disclaimer Under Section 107 of the Copyright Act 1976,allowance is made for \"fair use\" for purposes such as criticism, comment, news reporting, teaching,scholarship,and research.Fair use is a use permitted by copyright statute that might otherwise..\\n\\n\\nOther Tags\\namber khan gemini, amber khan cancer, amber khan taurus, amber khan pisces, amber khan capricorn, amber khan virgo, amber khan files, amber khan sagittarius, amber khan aries, amber khan aries 2020, amber khan all movie, amber khan actor, amber khan aquarius may 2020, amber khan aries march 2020, amber khan against altaf hussain, amber khan altaf hussain, amber khan birthday, amber khan book, amber khan files, amber khan family, amber khan father death, amber khan full movie, the fountain amber khan, amber khan cancer, amber khan capricorn, amber khan cancer may, amber khan capricorn may 2020, amber khan cooking, amber khan cancer june 2020, amber khan capricorn april, amber khan capricorn june 2020, amber khan taurus, amber khan tarot, amber khan taurus may 2020, amber khan taurus 2020, amber khan tik tok, the fountain amber khan, amber khan cancer, amber khan cancer may, amber khan cancer june 2020, the fountain amber khan\\n#haqeeqicelebrity#\\n#duckybhai#\\n#duckyextra\\n#carryminati#\\n#carryminatinewvideo#\\n#villagevlogspakistan#\\n#realitytv#\\n#zohaibpendu#\\n#foodsecretevillages#\\n#mubashirsiddiquevlogs#\\n#harisawanvideos#\\n#villageroutine#\\n#pindroutinevideos#\\n#pakistanicelebrities#\\n#celebritiesbiography#\\n#celebritiesnews#\\n#indiancelebrities#\\n#indianvlogs#\\n#desivllagefood#\\n#zainulabdinvideos#\\n#goldminesfilms#\\n#foxnews#\\n#foxstarhindi#\\n#bolnetwork#\\n#khujleefamilyvideos#\\n#tpzserials#\\n#bbkivines#\\n#theidiots#\\n#ruchiandpiyush#\\n#moviehub#\\n#humtvdramas#\\n#newdramasofindianpakistan#\\n#fridayfunrecords#\\n#ryantoysvideos#\\n#naeemawrameezvideos#\\n#newsanchorsvideos#\\n#goodmorningpakistan#\\n#morningwithnida#   \n",
       "10                                                                                                                                                                                                                                                                                                                                                                                                                                                                                                                                                                                                                                                                                                                                                                                                                                                                                                                                                                                                                                                                                                                                                                                                                                                                                                                                                                                                                                                                                                                                                                                                                                                                                                                                                                                                                                                                                                                                                                                                                                                                                                                                                                                                                                                                                    AMBERLYNN REID QUESTIONING HER SEXUALITY, OR LYING?\\nhttps://streamlabs.com/sinatra_sayslivestreams\\nBTC: 32ePRUDTSVMPkUan7S8YWZykyiSNgZYL9b\\nhttps://shop.stonk.solutions/?ref=sinatra \\nTwitch!: https://www.twitch.tv/sinatra_says\\nStore!: https://streamlabs.com/sinatra_sayslivestreams/merch\\ncheck out the fph: https://www.twitch.tv/gulfcity\\nSend me stuff to unbox:\\n\\nSinatra\\np.o. box 60 \\nElyria, OH\\n44036\\n\\nFOR FED EX OR UPS:\\n\\n345 E. Bridge Street\\nApt 60\\nElyria, Oh\\n44035\\n\\nOther Channels: \\nCreepyPasta: https://www.youtube.com/channel/UCP7Vt82amCBJSuGxZY5wPDw\\nSecond channel: https://www.youtube.com/channel/UCave741nrG8Z8zplLE3GDxQ?view_as=subscriber\\nAquarium channel: https://www.youtube.com/channel/UCAeHwv32g2EWaq54vKcaVsw\\n\\nSocial Media:\\n\\nTwitter: https://twitter.com/Sinatra_Says\\nMinds: https://www.minds.com/Sinatra_Says\\nGab.ai: https://gab.ai/Sinatra_Says\\n\\nSupport the channel:\\n\\nPayPal: https://www.paypal.me/Sinatrasays\\nPatreon: https://www.patreon.com/sinatra_says\\nSubscribeStar: https://www.subscribestar.com/sinatra_says\\nOne Time Donation: https://streamlabs.com/sinatra_sayslivestreams\\nGulf Gear: https://gulf-gear.com/\\n\\nCredits: \\n\\nOriginal video:\\n\\nArtwork done by: @ANTNB4 @Elephant_ITR @manicidiot @StuBertFM @SemajZ\\n\\nBackground FX: \\nhttps://www.youtube.com/channel/UCilPIl-SwFbtsoH8WLnvlfA?&ab_channel=AAVFX\\n\\nhttps://www.youtube.com/channel/UC-kC2CW_Ipi8TvJhzT7Wc_Q?&ab_channel=MatthiasM.de\\n\\nhttps://www.youtube.com/user/CGMeetUp/videos   \n",
       "279                                                                                                                                                                                                                                                                                                                                                                                                                                                                                                                                                                                                                                                                                                                                                                                                                                                                                                                                                                                                                                                                                                                                                                                                                                                                                                                                                                                                                                                                                                                                                                                                                                                                                                                                                                                                                                                                                                                           Skincare Routine/Reviews @4:05 (in order listed below)\\n\\n20% Vitamin C Booster - https://ginamber.com/collections/serums-creams/products/natural-vitamin-c-serum\\n\\nAdvanced Hyaluronic Acid Serum - https://ginamber.com/collections/serums-creams/products/advanced-hyaluronic-acid-serum\\n\\n10% Vitamin C Repair Cream - https://ginamber.com/collections/serums-creams/products/repair-cream-squalane-10-vitamin-c\\n\\nNatural 2.5% Retinol Serum - https://ginamber.com/collections/serums-creams/products/natural-2-5-retinol\\n\\nNatural Peptide Serum - https://ginamber.com/collections/serums-creams/products/natural-peptide-serum\\n\\nCat Headband - https://ginamber.com/collections/accessories-devices/products/headband\\n\\nUsing a Dermaroller @10:03\\n\\nDermaroller - https://ginamber.com/collections/microneedling/products/dermaroller-0-25-absorbtion\\n\\nAqua Stamp - https://ginamber.com/collections/microneedling/products/aqua-stamp-0-25\\n\\nCheck out Gin Amber's channel here: https://bit.ly/2SXpOyk\\n\\n#skincare #dermaroller\\n\\n--------\\n\\nThis video is part of an (extremely long) series in which I trial a brand or theme's skincare products for two weeks; afterward, I give a review of each product based on my experience, the ingredients, and the cost. I film these bare faced (with the skincare discussed applied) for transparency. These videos are made to share my own experience and general thoughts. For YOUR routine, I always recommend visiting your dermatologist!\\n\\n--------\\n\\nFTC Disclosure:\\nProducts gifted by Gin Amber Beauty. Not sponsored. All my own opinions. No affiliate links used.\\n\\n--------\\n\\nAbout Me:\\nDry/Acne-Prone Skin\\n\\nI film on a Nikon D3200 (no filters)\\n\\nFollow the white rabbit 🐇\\n🔸aliceintherabbithole@writeme.com\\n🔸Twitter: https://bit.ly/2U1DJCQ\\n🔸IG: https://bit.ly/2H0d0Tp\\n🔸Subscribe for 3 videos weekly!   \n",
       "836                                                                                                                                                                                                                                                                                                                                                                                                                                                                                                                                                                                                                                                                                                                                                                                                                                                                                                                                                                                                                                                                                                                                                                                                                                                                                                                                                                                                                                                                                                                                                                                                                                                                                                                                                                                                                                                                                                                                                                                                                                                                                                                                                                                                                                                                                                                                                                                                                                                                               ESG011 Echoes of our Ancestors and Cultivating Intimacy with Death With Amber Magnolia Hill\\n\\nFor episode number 11, I am joined by mother, writer, teacher, and herbalist Amber Magnolia Hill.  Through her business Aquarian Dawn, Amber shares the fruits of her continued exploration of ancestry, psychedelic healing, float tanks, home funerals, empowered menstruation, sex, childbirth and more. In this episode we explore:\\n\\n• Reclaiming the word \"Witch\" and Facing Loss\\n\\n• The importance of being with and honoring your emotions even when it feels like you’ve been set on fire\\n\\n• How to keep your womb space clear by moving through grief, anger, illness and more with presence and compassion and in a general unshaming of the woman’s journey and experience\\n\\nTo learn more please visit www.aquariandawn.com where you can learn about herbal body oiling, peruse the blog, and shop for Mythic Medicinals, Amber’s inspired line of handmade herbal products.\\n\\nMusic for this episode: Innana by Ibo K Payne from the Album Spiritu\\n\\nTo never miss an episode, subscribe in iTunes.  \\nhttps://podcasts.apple.com/au/podcast/earthside-survival-guide/id1193825250\\n\\nIf you enjoyed this episode, leave a comment below with your favorite part to help  others find the stories and messages they need to hear most!   \n",
       "863                                                                                                                                                                                                                                                                                                                                                                                                                                                                                                                                                                                                                                                                                                                                                                                                                                                                                                                                                                                                                                                                                                                                                                                                                                                                                                                                                                                                                                                                                                                                                                                                                                                                                                                                                                                                    🙏 ✨ Hello, beautiful soul! My name is Amber. Welcome … \\n\\nWant video access up to 2-weeks early, bonus content, reiki distance healing ➝ https://www.patreon.com/livesinsyncllc\\n\\n0:00 Intro + Collective Reading info \\n01:10 Capricorn \\n4:40 Taurus \\n10:20 Virgo \\n14:50 Sagittarius \\n18:45 Leo \\n23:45 Aries \\n38:10 Gemini \\n28:10 Libra \\n34:20 Aquarius \\n44:20 Pisces \\n48:40 Cancer \\n53:20 Scorpio \\n\\nTo book a reading➝ https://www.livesinsync.com/book-a-reading.html    (Tarot Reading Companion E-book FREE with every Full Reading)\\n\\n✨CHANNEL SCHEDULE✨\\nMONTHLY General for each sign / MONTHLY “Your Love Story” for each sign/ Weekend Reading / Birthday Reading / Special Bonus Readings ( 3 mth, mid year, end of year, new year, etc.)\\n\\n🎁 FREEBIES 🎁\\n• Moon Manifesting Worksheets➝ https://www.livesinsync.com/moon-manifesting.html  (Patreon videos posted before New & Full moon)\\n• Abundance Manifesting Check➝ https://www.livesinsync.com/law-of-abundance-check.html \\n• Goal Planning Sheets➝ https://www.livesinsync.com/goal-planning.html \\n\\n👼  Feeling generous?  👼 \\n• Donation➝ http://www.paypal.me/livesinsync.  \\n• Donate a deck ➝ https://www.amazon.com/hz/wishlist/ls/1UBMCZN15OAFH?ref_=wl_share\\n\\n🎥 Follow me 🎥\\n• Facebook➝ https://www.facebook.com/livesinsyncllc (weekly energy, transits, moment of mindfulness, etc.)\\n• Instagram➝ https://www.instagram.com/livesinsync (weekly energy, transits, moment of mindfulness, etc.)\\n\\n🌛 Don’t know your sun, moon or rising signs? 🌜 \\n It is FREE! Visit http://astro.cafeastrology.com/natal.php \\n\\nDisclaimer:\\nTarot readings are for entertainment purposes only and should NEVER take the place of psychological, medical, legal, or financial professional services. Lives in Sync and Amber accepts no liability or responsibility for any action a client chooses to take.\\n\\nThis reading is for #allsigns #Tarot #january #TwinFlame #general #career #spirit #guidance #Soulmate #TarotReading #Love #2022   \n",
       "1017                                                                                                                                                                                                                                                                                                                                                                                                                                                                                                                                                                      Subscribe to my Movement 🌍  @Selfless \\nhttps://www.youtube.com/watch?v=84u-rU1WQK4\\n\\nSubscribe to learn how to perfect YOUR skin care routine! 😄✨\\n\\n✨ PRODUCTS MENTIONED ✨\\n\\n🍐 CeraVe Hydrating Cleanser*: \\nhttps://shop-links.co/1721014556041311418\\n\\n🌊 Aquaphor Moisturizer*: \\nhttps://shop-links.co/1721014557149827659\\n\\n👄 Lansinoh Lanolin Cream*: \\nhttps://shop-links.co/1721014558923547114\\n\\n☀️ FAB Mineral SPF 30*: \\nhttps://shop-links.co/1721014557931608275\\n\\n💚YTTP Kale + Green Tea Cleanser* ($36): \\nhttps://shop-links.co/1721014559649278117\\n\\n🌿 iUnik Centella Gel Cream* ($10): \\nhttps://shop-links.co/1721014560072826203\\n\\n⚪ The Ordinary Niacinamide Serum* ($6): \\nhttps://shop-links.co/1721014560862451771\\n\\n🌊 Simple Micellar Gel Wash* ($7): \\nhttps://shop-links.co/1721014561612423358\\n\\n🐟 Krave Beauty Great Barrier Relief ($28): \\nhttps://shop-links.co/1721014563141130415\\n\\n✨ VIDEOS MENTIONED ✨\\n\\nEmma Chamberlain's Day Routine: https://www.youtube.com/watch?v=fd6op8NlCXk\\n\\nI Made a Skin Care Routine for Emma Chamberlain: https://www.youtube.com/watch?v=mp-SAxV6wBY\\n\\nThe BEST Face Sunscreens for this Summer: https://www.youtube.com/watch?v=vJcrcgJiu_Y\\n\\nBe sure to SUBSCRIBE to my channel to learn how to perfect your skin care routine every week! :)\\n\\n✨ PRODUCTS ON MY SHELF ✨\\n💚YTTP Kale + Green Tea Cleanser* ($36): http://bit.ly/2pbvxoR\\n🌿 iUnik Centella Gel Cream* ($10): http://shrsl.com/229st\\n⚪ The Ordinary Niacinamide Serum* ($6): https://bit.ly/34ffo25\\n🌊 Simple Micellar Gel Wash* ($7): https://amzn.to/35Vw0LN\\n🐟 Krave Beauty Great Barrier Relief ($28): https://bit.ly/2TmCYqi\\n\\n_______________________________________________________________\\nFOLLOW ME\\nInstagram (@SkinCarebyHyram): https://bit.ly/362vLzH\\nTwitter (@SkinCarebyHyram): https://bit.ly/2JfRM4n\\nTikTok: (@skincarebyhyram): https://bit.ly/3aphjDL\\n\\nBUSINESS/PR INQUIRIES: info@skincarebyhyram.com\\n\\n*These are affiliate links that help me earn a small commission from your purchase. Each purchase supports me to keep working as hard as I can to make videos for you guys! Thank you for the support :)\\n\\n*Disclaimer: I am a skin care specialist, facilitating ingredient and product trainings through the company I work for. This is the official title of my position. I am not, however, a licensed dermatologist or esthetician, nor do I claim to know more than either. I have checked with multiple dermatologists and estheticians to ensure that my use of the word 'specialist' is appropriate, to which they have confirmed so long as I disclose that I am not a dermatologist or esthetician. After consulting my subscribers as well, I felt that because the term specialist is my career title and is deemed appropriate by licensed professionals, I would prefer to use it instead of the terms 'expert' or 'guru', neither of which apply to me because I consider myself far below 'expert status'. Please know that I'm doing my best to use your feedback to describe who I am and what I do in the best way! If you have concerns about your skin, I always recommend going to either a dermatologist or esthetician to resolve your concern.*   \n",
       "1047                                                                                                                                                                                                                                                                                                                                                                                                                                                                                                                                                                                                                                                                                                                                                                                                                                                                                                                                                                                                                                                                                                                                                                                                                                                                                                                                                                                                                                                                                                                                                                                                                                                                                                                                                                                                                                                                                                                                                                                                                                                                                                                                                                                                                                                                                                                                                                                                                                                                                                                       Hey Guys!\\n\\nDossier kindly sent me along a perfume to try out and here it is! I chose Ambery Saffron! Dossier is a clean, vegan and cruelty free perfume brand that creates perfumes influenced by luxury perfumes but for an affordable price! Ambery Saffron is inspired by the very popular Baccarat Rouge 540! They have so many perfumes to choose from and an amazing return policy! I am definitely going to be trying out more of their perfume in the future!\\n\\nAs always, thanks for watching and I hope you enjoy it :)\\n\\nDon't forget to like and subscribe! Hit that notification bell so you don't miss out on any of my videos!\\n◾◾◾◾◾◾◾◾◾◾\\nDossier\\nhttps://dossier.co/discount/CORINNE10\\nUse Code CORINNE10 for 10% off!\\n\\nWHAT IM WEARING\\nFACE- Loreal Infallible 24HR Fresh Wear Foundation, Tarte Aquacealer, Milk Makeup Stick Bronzer, Rare Beauty Melting Blush, Trestique Stick Highlight\\nEYES- Too Faced White Peach Palette, Pretty Vulgar the Feathers Mascara\\nLIPS- Tarte Lipstick\\nBROWS- Morphe Micro Brow Pencil\\nNAILS- Essie Peppermint Condition\\n◾◾◾◾◾◾◾◾◾◾\\n\\nConnect with me!\\nInstagram: @rinneyrainey\\nTwitter: @rinneyrainey\\n\\nBusiness Inquiries: rinneyrainey@gmail.com\\n\\n#rinneyrainey #dossier\\n❤\\n\\n** This video is NOT sponsored. All opinions are my own   \n",
       "1211                                                                                                                                                                                                                                                                                                                                                                                                                                                                                                                                                                                                                                                                                                                                                                                                                                                                                                                                                                                                                                                                                                                                                                                                                                                                                                                                                                                                                                                                                                                                                                                                                                                                                                                                                                                                                                                                                                                                                                                                                                                                                                                                                                                                                                                                                      AMBERLYNN REID CELEBRATES CHRISTMAS WITH WIPEY.\\nhttps://streamlabs.com/sinatra_sayslivestreams\\nBTC: 32ePRUDTSVMPkUan7S8YWZykyiSNgZYL9b\\nhttps://shop.stonk.solutions/?ref=sinatra \\nTwitch!: https://www.twitch.tv/sinatra_says\\nStore!: https://streamlabs.com/sinatra_sayslivestreams/merch\\ncheck out the fph: https://www.twitch.tv/gulfcity\\nSend me stuff to unbox:\\n\\nSinatra\\np.o. box 60 \\nElyria, OH\\n44036\\n\\nFOR FED EX OR UPS:\\n\\n345 E. Bridge Street\\nApt 60\\nElyria, Oh\\n44035\\n\\nOther Channels: \\nCreepyPasta: https://www.youtube.com/channel/UCP7Vt82amCBJSuGxZY5wPDw\\nSecond channel: https://www.youtube.com/channel/UCave741nrG8Z8zplLE3GDxQ?view_as=subscriber\\nAquarium channel: https://www.youtube.com/channel/UCAeHwv32g2EWaq54vKcaVsw\\n\\nSocial Media:\\n\\nTwitter: https://twitter.com/Sinatra_Says\\nMinds: https://www.minds.com/Sinatra_Says\\nGab.ai: https://gab.ai/Sinatra_Says\\n\\nSupport the channel:\\n\\nPayPal: https://www.paypal.me/Sinatrasays\\nPatreon: https://www.patreon.com/sinatra_says\\nSubscribeStar: https://www.subscribestar.com/sinatra_says\\nOne Time Donation: https://streamlabs.com/sinatra_sayslivestreams\\nGulf Gear: https://gulf-gear.com/\\n\\nCredits: \\n\\nOriginal video:\\n\\nArtwork done by: @ANTNB4 @Elephant_ITR @manicidiot @StuBertFM @SemajZ\\n\\nBackground FX: \\nhttps://www.youtube.com/channel/UCilPIl-SwFbtsoH8WLnvlfA?&ab_channel=AAVFX\\n\\nhttps://www.youtube.com/channel/UC-kC2CW_Ipi8TvJhzT7Wc_Q?&ab_channel=MatthiasM.de\\n\\nhttps://www.youtube.com/user/CGMeetUp/videos   \n",
       "1281                                                                                                                                                                                                                                                                                                                                                                                                                                                                                                                                                                                                                                                                                                                                                                                                                                                                                                                                                                                                                                                                                                                                                                                                                                                                                                                                                                                                                                                                                Save My Love, by Lonr. & Amber Mark - from the #OfficialSoundtrack of Reminiscence\\nAvailable Now: https://lnk.to/ReminiscenceSndkID\\n\\n#Reminiscence #Lonr #AmberMark\\n\\nSubscribe to WaterTower Music on YouTube:\\nhttp://bit.ly/WaterTowerSub\\n\\nListen to more from Reminiscence:\\nhttps://www.youtube.com/playlist?list=PLBKadB95sF44li37sTjEp_dZjLeyNT38R\\n\\nTracklist:\\ncoming soon\\n\\nConnect with Reminiscence:\\nFollow Reminiscence on INSTAGRAM: https://www.instagram.com/ReminiscenceFilm/\\nLike Reminiscence on FACEBOOK: https://www.facebook.com/ReminiscenceFilm/\\nFollow Reminiscence on TWITTER: https://twitter.com/REMINISCENCE\\n\\nAbout Reminiscence: \\nFrom writer/director/producer Lisa Joy comes Warner Bros. Pictures’ action thriller Reminiscence, starring Oscar nominee Hugh Jackman, Rebecca Ferguson and Thandiwe Newton.\\n\\nNick Bannister (Jackman), a private investigator of the mind, navigates the darkly alluring world of the past by helping his clients access lost memories. Living on the fringes of the sunken Miami coast, his life is forever changed when he takes on a new client, Mae (Ferguson). A simple matter of lost and found becomes a dangerous obsession. As Bannister fights to find the truth about Mae's disappearance, he uncovers a violent conspiracy, and must ultimately answer the question: how far would you go to hold on to the ones you love?\\nMusic by: Ramin Djawadi\\n\\nConnect with WaterTower Music:\\nFollow WaterTower Music on Instagram: https://www.instagram.com/watertowermusic \\nLike WaterTower Music on Facebook: https://www.facebook.com/WaterTowerMusic \\nFollow WaterTower Music on Twitter: https://twitter.com/watertowermusic \\nVisit WaterTower Music at: https://www.watertower-music.com/ \\n\\nAbout WaterTower Music:\\nWaterTower Music, the in-house label for the WarnerMedia companies, releases recorded music as rich and diverse as the companies themselves. It has been the soundtrack home to many of the world’s most iconic films, television shows and games since 2001. Featured releases include the soundtracks for Aquaman, The Hobbit, Game of Thrones, Crazy Rich Asians, King Arthur, Justice League and Westworld.\\n\\nReminiscence Official Soundtrack | Save My Love - Lonr. & Amber Mark | WaterTower\\nhttps://youtu.be/KPjVPpaQES8   \n",
       "1657                                                                                                                                                                                                                                                                                                                                                                                                                                                                                                                                                                                                                                                                                                                                                                                                                                                                                                                                                                                                                                                                                                                                                                                                                                                                                                                                                                                                                                                                                                                                                                                                                                                                                                                                                                                                                                                                                                                                                                                                                                                                                                                                                                                                                                                                                                                                                                                                                                                                                                                                                                                                                                                                                                                                                                                                                                                                                                                                                                                                                                                                                                                   https://www.AmberKhan.com/\\n\\nEarly Videos, Patreon: https://www.patreon.com/TheQuietestRevolution\\n\\nEXTENDED READING VIMEO: https://vimeo.com/ondemand/jan2022extended\\n\\nINSTANT EXTENDED: https://the-quietest-revolution.dpdcart.com/cart/add?product_id=219620&method_id=239386\\n\\nFor recorded personal readings, please visit: https://www.cameo.com/thequietestrevolution\\n\\nQUIETEST REVOLUTION RINGS: https://www.amberkhan.com/quietest-revolution-rings\\n\\nRing Photos: https://www.instagram.com/quietestrevolutionrings/\\n\\nMERCHANDISE: https://teespring.com/stores/thequietestrevolution\\n\\nFOR YOUR DAILY HOROSCOPE, CHECK OUT THE REVOLUTION IG: \\nhttps://www.instagram.com/thequietestrevolution/   \n",
       "1660                                                                                                                                                                                                                                                                                                                                                                                                                                                                                                                                                                                                                                                                                                                                                                                                                                                                                                                                                                                                                                                                                                                                                                                                                                                                                                                                                                                                                                                                                                                                                                                                                                                                                                                                                                                                                                                                                                                                                                                                                                                                                                                                                                                                                                                                                                                                                                                                                                                                                                                                                                                                                                                                                                                                                                                                                                                                                                                                                                                                                                                                                                             SUBSCRIBE to Adult Swim UK: http://bit.ly/1ntNOb5\\n\\nA would-be spy wants in on Brock and Amber's mission.\\n\\nWatch Adult Swim every Thursday at 11pm on FOX UK.\\n\\nFACEBOOK: http://www.facebook.com/AdultSwimUK\\nTWITTER: https://twitter.com/adultswimuk\\nINSTAGRAM: https://www.instagram.com/adultswimuk/\\n\\nAdult Swim is your home for animation and live-action comedy. Enjoy some of your favourite shows, including Rick and Morty, Robot Chicken, Mr Pickles, Black Jesus, Venture Bros., Tim and Eric, Aqua Teen, Metalocalypse, Squidbillies, Frisky Dingo, Assy McGee and more. Watch some playlists. Fast forward, rewind, pause. It's all here. We know you wouldn't forget, but it never hurts to make sure.   \n",
       "1909                                                                                                                                                                                                                                                                                                                                                                                                                                                                                                                                                                                                                                                                                                                                                                                                                                                                                                                                                                                                                                                                                                                                                                                                                                                                                                                                                                                                                                                                                                                                                                                                                                                                                                                                                                                                                                                                                                                                                                                                                                                                                                                                                                                                                                                                                      DRUNK AMBERLYNN REID IS BACK, WIFEY TALKS LIVE!\\nhttps://streamlabs.com/sinatra_sayslivestreams\\nBTC: 32ePRUDTSVMPkUan7S8YWZykyiSNgZYL9b\\nhttps://shop.stonk.solutions/?ref=sinatra \\nTwitch!: https://www.twitch.tv/sinatra_says\\nStore!: https://streamlabs.com/sinatra_sayslivestreams/merch\\ncheck out the fph: https://www.twitch.tv/gulfcity\\nSend me stuff to unbox:\\n\\nSinatra\\np.o. box 60 \\nElyria, OH\\n44036\\n\\nFOR FED EX OR UPS:\\n\\n345 E. Bridge Street\\nApt 60\\nElyria, Oh\\n44035\\n\\nOther Channels: \\nCreepyPasta: https://www.youtube.com/channel/UCP7Vt82amCBJSuGxZY5wPDw\\nSecond channel: https://www.youtube.com/channel/UCave741nrG8Z8zplLE3GDxQ?view_as=subscriber\\nAquarium channel: https://www.youtube.com/channel/UCAeHwv32g2EWaq54vKcaVsw\\n\\nSocial Media:\\n\\nTwitter: https://twitter.com/Sinatra_Says\\nMinds: https://www.minds.com/Sinatra_Says\\nGab.ai: https://gab.ai/Sinatra_Says\\n\\nSupport the channel:\\n\\nPayPal: https://www.paypal.me/Sinatrasays\\nPatreon: https://www.patreon.com/sinatra_says\\nSubscribeStar: https://www.subscribestar.com/sinatra_says\\nOne Time Donation: https://streamlabs.com/sinatra_sayslivestreams\\nGulf Gear: https://gulf-gear.com/\\n\\nCredits: \\n\\nOriginal video:\\n\\nArtwork done by: @ANTNB4 @Elephant_ITR @manicidiot @StuBertFM @SemajZ\\n\\nBackground FX: \\nhttps://www.youtube.com/channel/UCilPIl-SwFbtsoH8WLnvlfA?&ab_channel=AAVFX\\n\\nhttps://www.youtube.com/channel/UC-kC2CW_Ipi8TvJhzT7Wc_Q?&ab_channel=MatthiasM.de\\n\\nhttps://www.youtube.com/user/CGMeetUp/videos   \n",
       "2061                                                                                                                                                                                                                                                                                                                                                                                                                                                                                                                                                                                                                                                                                                                                                                                                                                                                                                                                                                                                                                                                                                                                                                                                                                                                                                                                                                                                                                                                                                                                                                                                                                                                                                                                                                                                                                                                                                                                                                      ☾Get Gorgeous Amber eyes!☽♠☽ Subliminal Frequencies\\n\\n\\n➤ Here some instructions. Follow us if you wanna feel the magic of Aquamagic Frequencies.\\n\\n1. You have to listen the video at least 4 times per day. Maximum 8 times in a day. If you listen too much, it will exhaust your brain. I recommend to space listening. You also can listen while you're sleeping.\\nIf you have dark eyes (brown or hazel eyes), I recommend you to use this subliminal in combination with my Super Fast eye melanin remover. Also, use the Booster in first place.\\n\\n2. If you download it, it will still work but it will work a lot slower. I use frequencies so it's better to watch online. Having faster results is better for motivation!\\n\\n3. Drink at least 1,5 L of water in a day. It's important to stay hydrated.\\n\\n4. Try to have a good lifestyle. Don't make excess with bad food or sleepless nights. It will help you to see faster results.\\n\\n5. You can use earphones or headphones, it's like you want.\\n\\n6. Listen at a confortable volume.\\n\\n➤ Some facts, true if you use Aquamagic Frequencies :\\n\\n1. You don't have to hardly believe to make it work. Frequencies work for you. \\n\\n2. No matter what's your native langage or ethnicity, it will work. It's completely universal.\\n\\n3. It's not possible to exactly say when you'll start to see a changes. Everyone is differents and results depend of many factor : original pigmentation, how your brain reacts, how consistent you are, respect of instructions... Some people will see results in few weeks, for others it will take months.\\n\\n\\n☼ Don't forget to subscribe to the channel, share and like videos.\\n\\nFollow us on Instragram and share your results https://www.instagram.com/aquamgicfrenquencies/?hl=fr\\n\\n☾Get Gorgeous Amber eyes!☽♠☽ Subliminal Frequencies   \n",
       "2249                                                                                                                                                                                                                                                                                                                                                                                                                                                                                                                                                                                                                                                                                                                                                                                                                                                                                                                                                                                                                                                                                                                                                                                                                                                                                                     #Flowhorn_best_food\\n#amber_food\\nA Unique formulated fish feed, flowerhorn max pro supports speedy head growth for all Flower Horn Breed Proper consistent feeding also helps in head growth in a healthy way.\\nFlowe horn Max pro fish feed is high in protein induces fish growthat at a healthy rate and supporting head growth for all flower Horn Breeed.\\nSpirulina and krill extracts being in high content with natural other colour enhancing elements will greatly improve the fish’s sparkle dots in couple of weeks\\nSpecial substance are added to flowerhorn Max Pro Fish feed to greatly increase the immunity of fish’s resistance against diseases\\nflowerhorn fish food in tamil\\nflowerhorn feeding shrimp\\nflowerhorn fish food malayalam\\nfeeding flowerhorn fry\\nbumpy head flowerhorn fish food\\namber flowerhorn food\\ngrand sumo flowerhorn food\\nfloran fish baby food\\nokiko flowerhorn food\\nflowerhorn eating fighter fish\\nxo starry flowerhorn food review\\n\\n\\nLow price intenal filter\\nhttps://ekaro.in/enkr2020070943133190\\n\\nFish food 200grm-111₹\\nhttps://ekaro.in/enkr2020070943155894\\n\\n\\nTop filter sobo-875₹\\nhttps://ekaro.in/enkr2020071043198943\\n\\nTaiyo Betta Pellets Fish Food, 45 g\\n@120₹\\nhttps://ekaro.in/enkr2020071043204789\\n\\nDolphin betta tank @400₹\\nhttps://ekaro.in/enkr2020071143238556\\n\\n20g x 3 Betta Fighter Fish Food - Colour & Tails Growth - Aquarium Fish Tank ** COLOURFUL AQUARIUM ** @113₹\\nhttps://ekaro.in/enkr2020071143239123\\n\\nFully Automatic 100 Watts High Glass Aquarium Heater with Standby Light Indicator and auto on/Off @219₹\\n\\nhttps://ekaro.in/enkr2020072043530980\\n\\n5pcs/lot Stick-Temperature Temp Measurement Stickers @150₹\\nhttps://ekaro.in/enkr2020072043531011\\n\\nWhite Sugar Sand Gravel for Aquarium Decoration 3Kg@290₹\\nhttps://ekaro.in/enkr2020072043531924\\n\\nAquatic Remedies Aquarium Medicine Paracidol Freshwater 120Ml @169\\n\\nhttps://ekaro.in/enkr2020090745995584\\n\\n\\n\\n________________________________________\\n         COPYRIGHT  DISCLAIMER\\n__________________________________________\\n\\nCopyright Disclaimer Under Section 107 of the Copyright Act 1976, allowance is made for 'Fair Use' for purposes such as criticism, comment, news reporting, teaching, scholarship, and research, Fair use is a permitted by copyright statute that might otherwise be infringing, Non-profit, educational or personal use tips the balance in favor of fair use.\\n__________________________________________   \n",
       "2303                                                                                                                                                                                                                                                                                                                                                                                                                                                                                                                                                                                                                                                                                                                                                                                                                                                                                                                                                                                                                                                                                                                                                                                                                                                                                                                                                                                                                                                                                                                                                                                                                                                                                                                                                                                                                                                                                                                                                                                                                                                                                                                                                                                                                                       THE AMBERLYNN REID AND BECKY BREAK UP, THEN AMBER TRIES MANIPULATE!\\n#Amberlynn #Reid #BreakUp\\nhttps://streamlabs.com/sinatra_sayslivestreams\\nBTC: 32ePRUDTSVMPkUan7S8YWZykyiSNgZYL9b\\nhttps://shop.stonk.solutions/?ref=sinatra \\nTwitch!: https://www.twitch.tv/sinatra_says\\nStore!: https://streamlabs.com/sinatra_sayslivestreams/merch\\ncheck out the fph: https://www.twitch.tv/gulfcity\\nSend me stuff to unbox:\\n\\nSinatra\\np.o. box 60 \\nElyria, OH\\n44036\\n\\nFOR FED EX OR UPS:\\n\\n345 E. Bridge Street\\nApt 60\\nElyria, Oh\\n44035\\n\\nOther Channels: \\nCreepyPasta: https://www.youtube.com/channel/UCP7Vt82amCBJSuGxZY5wPDw\\nSecond channel: https://www.youtube.com/channel/UCave741nrG8Z8zplLE3GDxQ?view_as=subscriber\\nAquarium channel: https://www.youtube.com/channel/UCAeHwv32g2EWaq54vKcaVsw\\n\\nSocial Media:\\n\\nTwitter: https://twitter.com/Sinatra_Says\\nMinds: https://www.minds.com/Sinatra_Says\\nGab.ai: https://gab.ai/Sinatra_Says\\n\\nSupport the channel:\\n\\nPayPal: https://www.paypal.me/Sinatrasays\\nPatreon: https://www.patreon.com/sinatra_says\\nSubscribeStar: https://www.subscribestar.com/sinatra_says\\nOne Time Donation: https://streamlabs.com/sinatra_sayslivestreams\\nGulf Gear: https://gulf-gear.com/\\n\\nCredits: \\n\\nOriginal video:\\n\\nArtwork done by: @ANTNB4 @Elephant_ITR @manicidiot @StuBertFM @SemajZ\\n\\nBackground FX: \\nhttps://www.youtube.com/channel/UCilPIl-SwFbtsoH8WLnvlfA?&ab_channel=AAVFX\\n\\nhttps://www.youtube.com/channel/UC-kC2CW_Ipi8TvJhzT7Wc_Q?&ab_channel=MatthiasM.de\\n\\nhttps://www.youtube.com/user/CGMeetUp/videos   \n",
       "2424                                                                                                                                                                                                                                                                                                                                                                                                                                                                                                                                                                                                                                                                                                                                                                                                                                                                                                                                                                                                                                                                                                                                                                                                                                                                                                                                                                                                                                                                                              Best Food Flowerhorn Head Growth || Amber FlowerHorn food Review Hindi || okiko platinum orginal vs fake in Hindi || amber max pro\\n\\n\\n\\n\\n\\nYouTube Subscribe - \\n\\nhttps://bit.ly/3c0plom\\n\\n\\ninsta -\\n https://instagram.com/i.am.aviraaj?igshid=g0v9fo3r85zw\\n\\n\\ntelegram - \\n\\nhttps://telegram.me/aviraaj_aquarium_pets_care\\n\\n\\n\\n#flowerhorndeworminginhindi\\n#dewormingflowerhorn\\n#whitepooptreatment\\n#flowerhorndeworming\\n#flowerhorncare\\n#aviraajaquariumpetscare\\n#syedshah5001\\n#fishandfins\\n#deworming_flowerhorn\\n#aquariumhobby\\n#aquarium\\n\\n\\n#flowerhorn\\n#amberfishfood\\n#okikoplatinum\\n#amberflowerhorn\\n\\n\\n\\n\\nTopic Cover :-\\n\\namber flowerhorn food\\namber flowerhorn food tamil\\namber flowerhorn food review hindi\\namber flowerhorn max pro\\namber flowerhorn food result\\namber flowerhorn\\ntaiyo amber flowerhorn food\\n\\namber flowerhorn fish food in hindi\\namber flowerhorn\\namber flowerhorn fish food review\\namber flowerhorn fish food\\namber flowerhorn food review\\n\\n\\namber max pro review\\namber max pro review tamil\\namber max pro result\\namber max pro\\namber flowerhorn max pro\\n\\n\\nbest flowerhorn food\\nbest flowerhorn food tamil\\nbest flowerhorn food for color\\nbest flowerhorn food for head growth\\nbest flowerhorn food in india\\nflowerhorn best food for head in tamil\\nbest flowerhorn pellet food\\nbest flowerhorn fish food in india\\nflowerhorn best live food\\nkamfa flowerhorn best food\\n\\n\\nokiko platinum flowerhorn food\\nokiko platinum original vs fake\\nokiko platinum head huncher\\nokiko platinum\\nokiko platinum review\\nokiko platinum flowerhorn food result\\nokiko platinum vs humpy head\\nokiko platinom results\\nokiko platinom flowerhorn food tamil\\nokiko platinom for goldfish\\n\\n\\nokiko platinum original vs fake in tamil\\nokiko platinum original vs fake in hindi\\nfake okiko platinom\\n\\n\\nokiko platinum us amber\\nokiko platinum vs amber in tamil\\n\\n\\n\\n\\nCopyright Disclaimer Onder Section 107 of the Copyright Act\\n1976, allowance is made for \"fair ose\" for porposes soch as\\ncriticism, comment, news reporting, teaching, scholarship, and\\nresearch. Fair use is a ose permitted by copyright statute that\\nmight otherwise be infringing. Non-profit, edocational or personal\\nose tips the balance in favor of fair ose   \n",
       "\n",
       "      title_result  description_result  total  \n",
       "4                0                   1      1  \n",
       "10               0                   1      1  \n",
       "279              0                   1      1  \n",
       "836              0                   1      1  \n",
       "863              0                   1      1  \n",
       "1017             0                   1      1  \n",
       "1047             0                   1      1  \n",
       "1211             0                   1      1  \n",
       "1281             0                   1      1  \n",
       "1657             1                   0      1  \n",
       "1660             0                   1      1  \n",
       "1909             0                   1      1  \n",
       "2061             0                   1      1  \n",
       "2249             0                   1      1  \n",
       "2303             0                   1      1  \n",
       "2424             0                   1      1  "
      ]
     },
     "execution_count": 123,
     "metadata": {},
     "output_type": "execute_result"
    }
   ],
   "source": [
    "b"
   ]
  },
  {
   "cell_type": "code",
   "execution_count": null,
   "id": "8baf522f",
   "metadata": {},
   "outputs": [],
   "source": []
  },
  {
   "cell_type": "code",
   "execution_count": 67,
   "id": "86e1c68e",
   "metadata": {},
   "outputs": [
    {
     "data": {
      "text/plain": [
       "(91, 57)"
      ]
     },
     "execution_count": 67,
     "metadata": {},
     "output_type": "execute_result"
    }
   ],
   "source": [
    "check_df = filter_before_del_df.merge(b, how='inner', on=['id'])\n",
    "check_df.shape"
   ]
  },
  {
   "cell_type": "code",
   "execution_count": null,
   "id": "61e90570",
   "metadata": {},
   "outputs": [],
   "source": [
    "zEXrPidsZKA"
   ]
  },
  {
   "cell_type": "code",
   "execution_count": null,
   "id": "9c00ad0c",
   "metadata": {},
   "outputs": [],
   "source": []
  },
  {
   "cell_type": "code",
   "execution_count": 40,
   "id": "74605d10",
   "metadata": {},
   "outputs": [
    {
     "name": "stderr",
     "output_type": "stream",
     "text": [
      "C:\\ProgramData\\Anaconda3\\lib\\site-packages\\pandas\\core\\frame.py:4906: SettingWithCopyWarning: \n",
      "A value is trying to be set on a copy of a slice from a DataFrame\n",
      "\n",
      "See the caveats in the documentation: https://pandas.pydata.org/pandas-docs/stable/user_guide/indexing.html#returning-a-view-versus-a-copy\n",
      "  return super().drop(\n"
     ]
    },
    {
     "data": {
      "text/plain": [
       "(2729, 49)"
      ]
     },
     "execution_count": 40,
     "metadata": {},
     "output_type": "execute_result"
    }
   ],
   "source": [
    "a.drop(['title_result', \"description_result\", 'total'], axis=1, inplace=True)\n",
    "a.shape"
   ]
  },
  {
   "cell_type": "code",
   "execution_count": null,
   "id": "846943ee",
   "metadata": {},
   "outputs": [],
   "source": []
  },
  {
   "cell_type": "code",
   "execution_count": null,
   "id": "000a5d79",
   "metadata": {},
   "outputs": [],
   "source": []
  },
  {
   "cell_type": "code",
   "execution_count": 2311,
   "id": "6dee711f",
   "metadata": {},
   "outputs": [
    {
     "data": {
      "text/plain": [
       "(11021, 52)"
      ]
     },
     "execution_count": 2311,
     "metadata": {},
     "output_type": "execute_result"
    }
   ],
   "source": [
    "df = all_vid_df[all_vid_df['total'] != 0]\n",
    "df.shape"
   ]
  }
 ],
 "metadata": {
  "kernelspec": {
   "display_name": "Python 3 (ipykernel)",
   "language": "python",
   "name": "python3"
  },
  "language_info": {
   "codemirror_mode": {
    "name": "ipython",
    "version": 3
   },
   "file_extension": ".py",
   "mimetype": "text/x-python",
   "name": "python",
   "nbconvert_exporter": "python",
   "pygments_lexer": "ipython3",
   "version": "3.9.7"
  }
 },
 "nbformat": 4,
 "nbformat_minor": 5
}
