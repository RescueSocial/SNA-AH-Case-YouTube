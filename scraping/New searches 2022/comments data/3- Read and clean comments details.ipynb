{
 "cells": [
  {
   "cell_type": "markdown",
   "id": "33ffae6b",
   "metadata": {},
   "source": [
    "# Read and clean comments details"
   ]
  },
  {
   "cell_type": "code",
   "execution_count": 1,
   "id": "b0c19a42",
   "metadata": {},
   "outputs": [],
   "source": [
    "import pandas as pd\n",
    "import json\n",
    "import requests\n",
    "from io import StringIO\n",
    "from csv import reader\n",
    "import os\n",
    "import glob"
   ]
  },
  {
   "cell_type": "code",
   "execution_count": 2,
   "id": "f46db17b",
   "metadata": {
    "scrolled": true
   },
   "outputs": [
    {
     "data": {
      "text/plain": [
       "10552"
      ]
     },
     "execution_count": 2,
     "metadata": {},
     "output_type": "execute_result"
    }
   ],
   "source": [
    "# read josn files and make a list with json files\n",
    "# (make 1 change)\n",
    "folder_name = 'JSON batch4-6'\n",
    "path_to_json = './'\n",
    "json_files = [pos_json for pos_json in os.listdir(path_to_json) if pos_json.endswith('.json')]\n",
    "json_files;  \n",
    "len(json_files)"
   ]
  },
  {
   "cell_type": "code",
   "execution_count": 3,
   "id": "6b0a30c6",
   "metadata": {},
   "outputs": [
    {
     "data": {
      "text/plain": [
       "(324029, 24)"
      ]
     },
     "execution_count": 3,
     "metadata": {},
     "output_type": "execute_result"
    }
   ],
   "source": [
    "# create a data frame with all json files:\n",
    "\n",
    "df = pd.DataFrame()\n",
    "for file in json_files:\n",
    "    file_path = path_to_json+\"/\" + file\n",
    "    with open(file_path) as data_file:    \n",
    "        data = json.load(data_file)\n",
    "        df = df.append(pd.json_normalize(data))\n",
    "df.shape"
   ]
  },
  {
   "cell_type": "code",
   "execution_count": 45,
   "id": "8810d8e8",
   "metadata": {},
   "outputs": [
    {
     "data": {
      "text/plain": [
       "(83887, 24)"
      ]
     },
     "execution_count": 45,
     "metadata": {},
     "output_type": "execute_result"
    }
   ],
   "source": [
    "df.shape"
   ]
  },
  {
   "cell_type": "code",
   "execution_count": 5,
   "id": "f68dae8b",
   "metadata": {},
   "outputs": [],
   "source": [
    "# save every 500 video comments to one file\n",
    "save_url = r\"C:\\Users\\Administrator\\AH case\\YouTube\\SNA-AH-Case-YouTube\\scraping\\New searches 2022\\CSV- combined data/comments324029.csv\"\n",
    "df.to_csv(save_url, index=None)"
   ]
  },
  {
   "cell_type": "code",
   "execution_count": 4,
   "id": "f9415c74",
   "metadata": {},
   "outputs": [
    {
     "data": {
      "text/html": [
       "<div>\n",
       "<style scoped>\n",
       "    .dataframe tbody tr th:only-of-type {\n",
       "        vertical-align: middle;\n",
       "    }\n",
       "\n",
       "    .dataframe tbody tr th {\n",
       "        vertical-align: top;\n",
       "    }\n",
       "\n",
       "    .dataframe thead th {\n",
       "        text-align: right;\n",
       "    }\n",
       "</style>\n",
       "<table border=\"1\" class=\"dataframe\">\n",
       "  <thead>\n",
       "    <tr style=\"text-align: right;\">\n",
       "      <th></th>\n",
       "      <th>kind</th>\n",
       "      <th>etag</th>\n",
       "      <th>id</th>\n",
       "      <th>snippet.videoId</th>\n",
       "      <th>snippet.topLevelComment.kind</th>\n",
       "      <th>snippet.topLevelComment.etag</th>\n",
       "      <th>snippet.topLevelComment.id</th>\n",
       "      <th>snippet.topLevelComment.snippet.videoId</th>\n",
       "      <th>snippet.topLevelComment.snippet.textDisplay</th>\n",
       "      <th>snippet.topLevelComment.snippet.textOriginal</th>\n",
       "      <th>...</th>\n",
       "      <th>snippet.topLevelComment.snippet.canRate</th>\n",
       "      <th>snippet.topLevelComment.snippet.viewerRating</th>\n",
       "      <th>snippet.topLevelComment.snippet.likeCount</th>\n",
       "      <th>snippet.topLevelComment.snippet.publishedAt</th>\n",
       "      <th>snippet.topLevelComment.snippet.updatedAt</th>\n",
       "      <th>snippet.canReply</th>\n",
       "      <th>snippet.totalReplyCount</th>\n",
       "      <th>snippet.isPublic</th>\n",
       "      <th>replies.comments</th>\n",
       "      <th>snippet.topLevelComment.snippet.moderationStatus</th>\n",
       "    </tr>\n",
       "  </thead>\n",
       "  <tbody>\n",
       "    <tr>\n",
       "      <th>0</th>\n",
       "      <td>youtube#commentThread</td>\n",
       "      <td>PKxoOmMQueS03JrnojarGLuyYEc</td>\n",
       "      <td>Ugweg0cCY3DTlHBpjTV4AaABAg</td>\n",
       "      <td>--l75VzOkp8</td>\n",
       "      <td>youtube#comment</td>\n",
       "      <td>fGjKF-vqFLkNZLaDxJoAov2_8yw</td>\n",
       "      <td>Ugweg0cCY3DTlHBpjTV4AaABAg</td>\n",
       "      <td>--l75VzOkp8</td>\n",
       "      <td>Nice movie 👍</td>\n",
       "      <td>Nice movie 👍</td>\n",
       "      <td>...</td>\n",
       "      <td>True</td>\n",
       "      <td>none</td>\n",
       "      <td>1</td>\n",
       "      <td>2021-08-17T14:26:08Z</td>\n",
       "      <td>2021-08-17T14:26:08Z</td>\n",
       "      <td>True</td>\n",
       "      <td>0</td>\n",
       "      <td>True</td>\n",
       "      <td>NaN</td>\n",
       "      <td>NaN</td>\n",
       "    </tr>\n",
       "    <tr>\n",
       "      <th>0</th>\n",
       "      <td>youtube#commentThread</td>\n",
       "      <td>3pzgKgyFRPUHInTX1QTsQ2f6pfw</td>\n",
       "      <td>UgymEyXQ93eJqPnFrLR4AaABAg</td>\n",
       "      <td>--Te2eW6viU</td>\n",
       "      <td>youtube#comment</td>\n",
       "      <td>R2I458rF3YlRYm-fl_o-AsyFRMA</td>\n",
       "      <td>UgymEyXQ93eJqPnFrLR4AaABAg</td>\n",
       "      <td>--Te2eW6viU</td>\n",
       "      <td>What hold has she got on all concerned  wow !??</td>\n",
       "      <td>What hold has she got on all concerned  wow !??</td>\n",
       "      <td>...</td>\n",
       "      <td>True</td>\n",
       "      <td>none</td>\n",
       "      <td>0</td>\n",
       "      <td>2022-01-28T14:56:18Z</td>\n",
       "      <td>2022-01-28T14:56:18Z</td>\n",
       "      <td>True</td>\n",
       "      <td>0</td>\n",
       "      <td>True</td>\n",
       "      <td>NaN</td>\n",
       "      <td>NaN</td>\n",
       "    </tr>\n",
       "    <tr>\n",
       "      <th>1</th>\n",
       "      <td>youtube#commentThread</td>\n",
       "      <td>J3LiRcJ8vOwtAItOw9mr1pmxhyI</td>\n",
       "      <td>UgxtAq5EVshvbpEGXqt4AaABAg</td>\n",
       "      <td>--Te2eW6viU</td>\n",
       "      <td>youtube#comment</td>\n",
       "      <td>IC7GKdB36WCnGoNsZb28A9bwgwY</td>\n",
       "      <td>UgxtAq5EVshvbpEGXqt4AaABAg</td>\n",
       "      <td>--Te2eW6viU</td>\n",
       "      <td>This is getting better and better. Thanks for ...</td>\n",
       "      <td>This is getting better and better. Thanks for ...</td>\n",
       "      <td>...</td>\n",
       "      <td>True</td>\n",
       "      <td>none</td>\n",
       "      <td>1</td>\n",
       "      <td>2021-06-11T11:36:31Z</td>\n",
       "      <td>2021-06-11T11:36:31Z</td>\n",
       "      <td>True</td>\n",
       "      <td>1</td>\n",
       "      <td>True</td>\n",
       "      <td>[{'kind': 'youtube#comment', 'etag': '6JM2QIhh...</td>\n",
       "      <td>NaN</td>\n",
       "    </tr>\n",
       "    <tr>\n",
       "      <th>2</th>\n",
       "      <td>youtube#commentThread</td>\n",
       "      <td>PpqYJjPA3P3Nc77122nETxs3O5A</td>\n",
       "      <td>Ugx8DED6KLLfC1lEEPR4AaABAg</td>\n",
       "      <td>--Te2eW6viU</td>\n",
       "      <td>youtube#comment</td>\n",
       "      <td>LADNlg75q-1vrFvxzjlwhvIhEk4</td>\n",
       "      <td>Ugx8DED6KLLfC1lEEPR4AaABAg</td>\n",
       "      <td>--Te2eW6viU</td>\n",
       "      <td>ANOTHER GREAT VID!!! THANK YOU!! subscribed.</td>\n",
       "      <td>ANOTHER GREAT VID!!! THANK YOU!! subscribed.</td>\n",
       "      <td>...</td>\n",
       "      <td>True</td>\n",
       "      <td>none</td>\n",
       "      <td>2</td>\n",
       "      <td>2021-06-09T22:02:19Z</td>\n",
       "      <td>2021-06-09T22:02:19Z</td>\n",
       "      <td>True</td>\n",
       "      <td>3</td>\n",
       "      <td>True</td>\n",
       "      <td>[{'kind': 'youtube#comment', 'etag': 'A1ZZFIww...</td>\n",
       "      <td>NaN</td>\n",
       "    </tr>\n",
       "    <tr>\n",
       "      <th>3</th>\n",
       "      <td>youtube#commentThread</td>\n",
       "      <td>qRBQjMmF8wsC3lkMCz1xv4EZIG4</td>\n",
       "      <td>UgxeYCggUdStQ-9wXeF4AaABAg</td>\n",
       "      <td>--Te2eW6viU</td>\n",
       "      <td>youtube#comment</td>\n",
       "      <td>OJEXMKAYQj2PJkI7OHCSNDQxCPE</td>\n",
       "      <td>UgxeYCggUdStQ-9wXeF4AaABAg</td>\n",
       "      <td>--Te2eW6viU</td>\n",
       "      <td>Washington Post is involved? WOW!</td>\n",
       "      <td>Washington Post is involved? WOW!</td>\n",
       "      <td>...</td>\n",
       "      <td>True</td>\n",
       "      <td>none</td>\n",
       "      <td>1</td>\n",
       "      <td>2021-06-08T18:14:12Z</td>\n",
       "      <td>2021-06-08T18:14:12Z</td>\n",
       "      <td>True</td>\n",
       "      <td>1</td>\n",
       "      <td>True</td>\n",
       "      <td>[{'kind': 'youtube#comment', 'etag': 'DBYcOFwU...</td>\n",
       "      <td>NaN</td>\n",
       "    </tr>\n",
       "  </tbody>\n",
       "</table>\n",
       "<p>5 rows × 24 columns</p>\n",
       "</div>"
      ],
      "text/plain": [
       "                    kind                         etag  \\\n",
       "0  youtube#commentThread  PKxoOmMQueS03JrnojarGLuyYEc   \n",
       "0  youtube#commentThread  3pzgKgyFRPUHInTX1QTsQ2f6pfw   \n",
       "1  youtube#commentThread  J3LiRcJ8vOwtAItOw9mr1pmxhyI   \n",
       "2  youtube#commentThread  PpqYJjPA3P3Nc77122nETxs3O5A   \n",
       "3  youtube#commentThread  qRBQjMmF8wsC3lkMCz1xv4EZIG4   \n",
       "\n",
       "                           id snippet.videoId snippet.topLevelComment.kind  \\\n",
       "0  Ugweg0cCY3DTlHBpjTV4AaABAg     --l75VzOkp8              youtube#comment   \n",
       "0  UgymEyXQ93eJqPnFrLR4AaABAg     --Te2eW6viU              youtube#comment   \n",
       "1  UgxtAq5EVshvbpEGXqt4AaABAg     --Te2eW6viU              youtube#comment   \n",
       "2  Ugx8DED6KLLfC1lEEPR4AaABAg     --Te2eW6viU              youtube#comment   \n",
       "3  UgxeYCggUdStQ-9wXeF4AaABAg     --Te2eW6viU              youtube#comment   \n",
       "\n",
       "  snippet.topLevelComment.etag  snippet.topLevelComment.id  \\\n",
       "0  fGjKF-vqFLkNZLaDxJoAov2_8yw  Ugweg0cCY3DTlHBpjTV4AaABAg   \n",
       "0  R2I458rF3YlRYm-fl_o-AsyFRMA  UgymEyXQ93eJqPnFrLR4AaABAg   \n",
       "1  IC7GKdB36WCnGoNsZb28A9bwgwY  UgxtAq5EVshvbpEGXqt4AaABAg   \n",
       "2  LADNlg75q-1vrFvxzjlwhvIhEk4  Ugx8DED6KLLfC1lEEPR4AaABAg   \n",
       "3  OJEXMKAYQj2PJkI7OHCSNDQxCPE  UgxeYCggUdStQ-9wXeF4AaABAg   \n",
       "\n",
       "  snippet.topLevelComment.snippet.videoId  \\\n",
       "0                             --l75VzOkp8   \n",
       "0                             --Te2eW6viU   \n",
       "1                             --Te2eW6viU   \n",
       "2                             --Te2eW6viU   \n",
       "3                             --Te2eW6viU   \n",
       "\n",
       "         snippet.topLevelComment.snippet.textDisplay  \\\n",
       "0                                       Nice movie 👍   \n",
       "0    What hold has she got on all concerned  wow !??   \n",
       "1  This is getting better and better. Thanks for ...   \n",
       "2       ANOTHER GREAT VID!!! THANK YOU!! subscribed.   \n",
       "3                  Washington Post is involved? WOW!   \n",
       "\n",
       "        snippet.topLevelComment.snippet.textOriginal  ...  \\\n",
       "0                                       Nice movie 👍  ...   \n",
       "0    What hold has she got on all concerned  wow !??  ...   \n",
       "1  This is getting better and better. Thanks for ...  ...   \n",
       "2       ANOTHER GREAT VID!!! THANK YOU!! subscribed.  ...   \n",
       "3                  Washington Post is involved? WOW!  ...   \n",
       "\n",
       "  snippet.topLevelComment.snippet.canRate  \\\n",
       "0                                    True   \n",
       "0                                    True   \n",
       "1                                    True   \n",
       "2                                    True   \n",
       "3                                    True   \n",
       "\n",
       "  snippet.topLevelComment.snippet.viewerRating  \\\n",
       "0                                         none   \n",
       "0                                         none   \n",
       "1                                         none   \n",
       "2                                         none   \n",
       "3                                         none   \n",
       "\n",
       "  snippet.topLevelComment.snippet.likeCount  \\\n",
       "0                                         1   \n",
       "0                                         0   \n",
       "1                                         1   \n",
       "2                                         2   \n",
       "3                                         1   \n",
       "\n",
       "  snippet.topLevelComment.snippet.publishedAt  \\\n",
       "0                        2021-08-17T14:26:08Z   \n",
       "0                        2022-01-28T14:56:18Z   \n",
       "1                        2021-06-11T11:36:31Z   \n",
       "2                        2021-06-09T22:02:19Z   \n",
       "3                        2021-06-08T18:14:12Z   \n",
       "\n",
       "   snippet.topLevelComment.snippet.updatedAt snippet.canReply  \\\n",
       "0                       2021-08-17T14:26:08Z             True   \n",
       "0                       2022-01-28T14:56:18Z             True   \n",
       "1                       2021-06-11T11:36:31Z             True   \n",
       "2                       2021-06-09T22:02:19Z             True   \n",
       "3                       2021-06-08T18:14:12Z             True   \n",
       "\n",
       "   snippet.totalReplyCount snippet.isPublic  \\\n",
       "0                        0             True   \n",
       "0                        0             True   \n",
       "1                        1             True   \n",
       "2                        3             True   \n",
       "3                        1             True   \n",
       "\n",
       "                                    replies.comments  \\\n",
       "0                                                NaN   \n",
       "0                                                NaN   \n",
       "1  [{'kind': 'youtube#comment', 'etag': '6JM2QIhh...   \n",
       "2  [{'kind': 'youtube#comment', 'etag': 'A1ZZFIww...   \n",
       "3  [{'kind': 'youtube#comment', 'etag': 'DBYcOFwU...   \n",
       "\n",
       "   snippet.topLevelComment.snippet.moderationStatus  \n",
       "0                                               NaN  \n",
       "0                                               NaN  \n",
       "1                                               NaN  \n",
       "2                                               NaN  \n",
       "3                                               NaN  \n",
       "\n",
       "[5 rows x 24 columns]"
      ]
     },
     "execution_count": 4,
     "metadata": {},
     "output_type": "execute_result"
    }
   ],
   "source": [
    "df.head()"
   ]
  },
  {
   "cell_type": "code",
   "execution_count": 6,
   "id": "3c93459c",
   "metadata": {},
   "outputs": [
    {
     "data": {
      "text/plain": [
       "Index(['kind', 'etag', 'id', 'snippet.videoId', 'snippet.topLevelComment.kind',\n",
       "       'snippet.topLevelComment.etag', 'snippet.topLevelComment.id',\n",
       "       'snippet.topLevelComment.snippet.videoId',\n",
       "       'snippet.topLevelComment.snippet.textDisplay',\n",
       "       'snippet.topLevelComment.snippet.textOriginal',\n",
       "       'snippet.topLevelComment.snippet.authorDisplayName',\n",
       "       'snippet.topLevelComment.snippet.authorProfileImageUrl',\n",
       "       'snippet.topLevelComment.snippet.authorChannelUrl',\n",
       "       'snippet.topLevelComment.snippet.authorChannelId.value',\n",
       "       'snippet.topLevelComment.snippet.canRate',\n",
       "       'snippet.topLevelComment.snippet.viewerRating',\n",
       "       'snippet.topLevelComment.snippet.likeCount',\n",
       "       'snippet.topLevelComment.snippet.publishedAt',\n",
       "       'snippet.topLevelComment.snippet.updatedAt', 'snippet.canReply',\n",
       "       'snippet.totalReplyCount', 'snippet.isPublic', 'replies.comments',\n",
       "       'snippet.topLevelComment.snippet.moderationStatus'],\n",
       "      dtype='object')"
      ]
     },
     "execution_count": 6,
     "metadata": {},
     "output_type": "execute_result"
    }
   ],
   "source": [
    "df.columns"
   ]
  },
  {
   "cell_type": "code",
   "execution_count": 8,
   "id": "fe4a8de7",
   "metadata": {},
   "outputs": [
    {
     "data": {
      "text/plain": [
       "'2007-05-22T01:34:13Z'"
      ]
     },
     "execution_count": 8,
     "metadata": {},
     "output_type": "execute_result"
    }
   ],
   "source": [
    "df['snippet.topLevelComment.snippet.publishedAt'].min()"
   ]
  },
  {
   "cell_type": "code",
   "execution_count": null,
   "id": "c4ae1d26",
   "metadata": {},
   "outputs": [],
   "source": []
  },
  {
   "cell_type": "code",
   "execution_count": 11,
   "id": "4f09e82b",
   "metadata": {},
   "outputs": [],
   "source": [
    "#create new column with the publised year\n",
    "yt_data = pd.DataFrame()\n",
    "yt_data['year'] = pd.DatetimeIndex(df['snippet.topLevelComment.snippet.publishedAt']).year"
   ]
  },
  {
   "cell_type": "code",
   "execution_count": 12,
   "id": "fbf0b9a9",
   "metadata": {},
   "outputs": [
    {
     "data": {
      "text/plain": [
       "2007        13\n",
       "2008       110\n",
       "2009       147\n",
       "2010       222\n",
       "2011      1641\n",
       "2012       767\n",
       "2013      2735\n",
       "2014      1186\n",
       "2015      1095\n",
       "2016      4641\n",
       "2017      2210\n",
       "2018     11459\n",
       "2019     16654\n",
       "2020    195384\n",
       "2021     79733\n",
       "2022      6032\n",
       "Name: year, dtype: int64"
      ]
     },
     "execution_count": 12,
     "metadata": {},
     "output_type": "execute_result"
    }
   ],
   "source": [
    "yt_data.year.value_counts().sort_index()"
   ]
  },
  {
   "cell_type": "code",
   "execution_count": 18,
   "id": "5ae243ce",
   "metadata": {},
   "outputs": [],
   "source": [
    "df['snippet.topLevelComment.snippet.publishedAt'] = pd.to_datetime(df['snippet.topLevelComment.snippet.publishedAt'])"
   ]
  },
  {
   "cell_type": "code",
   "execution_count": 13,
   "id": "cff609b8",
   "metadata": {},
   "outputs": [],
   "source": [
    "folder_path = r\"C:\\Users\\Administrator\\AH case\\YouTube\\SNA-AH-Case-YouTube\\scraping\\New searches 2022\\CSV- combined data\\comments\""
   ]
  },
  {
   "cell_type": "code",
   "execution_count": 19,
   "id": "db6668ef",
   "metadata": {},
   "outputs": [
    {
     "name": "stdout",
     "output_type": "stream",
     "text": [
      "(6032, 24) 2022-01-01 00:05:27+00:00 2022-01-30 19:29:18+00:00\n"
     ]
    }
   ],
   "source": [
    "# crate new dataframe for the year 2022:\n",
    "year = 2022\n",
    "yt_data_year = df[df['snippet.topLevelComment.snippet.publishedAt'].dt.year == year]\n",
    "# save dataframe to CSV file:\n",
    "yt_data_year.to_csv(folder_path+r'\\comments_data_{}.csv'.format(year), index=None)\n",
    "print(yt_data_year.shape, yt_data_year['snippet.topLevelComment.snippet.publishedAt'].min(), yt_data_year['snippet.topLevelComment.snippet.publishedAt'].max())\n",
    "yt_data_year = None"
   ]
  },
  {
   "cell_type": "code",
   "execution_count": 20,
   "id": "18e7cdcf",
   "metadata": {},
   "outputs": [
    {
     "name": "stdout",
     "output_type": "stream",
     "text": [
      "(79733, 24) 2021-01-01 00:01:50+00:00 2021-12-31 23:54:37+00:00\n"
     ]
    }
   ],
   "source": [
    "# crate new dataframe for the year 2021:\n",
    "year = 2021\n",
    "yt_data_year = df[df['snippet.topLevelComment.snippet.publishedAt'].dt.year == year]\n",
    "# save dataframe to CSV file:\n",
    "yt_data_year.to_csv(folder_path+r'\\comments_data_{}.csv'.format(year), index=None)\n",
    "print(yt_data_year.shape, yt_data_year['snippet.topLevelComment.snippet.publishedAt'].min(), yt_data_year['snippet.topLevelComment.snippet.publishedAt'].max())\n",
    "yt_data_year = None"
   ]
  },
  {
   "cell_type": "code",
   "execution_count": 21,
   "id": "f35ea38c",
   "metadata": {},
   "outputs": [
    {
     "name": "stdout",
     "output_type": "stream",
     "text": [
      "(195384, 24) 2020-01-01 01:45:53+00:00 2020-12-31 23:59:23+00:00\n"
     ]
    }
   ],
   "source": [
    "# crate new dataframe for the year 2020:\n",
    "year = 2020\n",
    "yt_data_year = df[df['snippet.topLevelComment.snippet.publishedAt'].dt.year == year]\n",
    "# save dataframe to CSV file:\n",
    "yt_data_year.to_csv(folder_path+r'\\comments_data_{}.csv'.format(year), index=None)\n",
    "print(yt_data_year.shape, yt_data_year['snippet.topLevelComment.snippet.publishedAt'].min(), yt_data_year['snippet.topLevelComment.snippet.publishedAt'].max())\n",
    "yt_data_year = None"
   ]
  },
  {
   "cell_type": "code",
   "execution_count": 22,
   "id": "50e0d234",
   "metadata": {},
   "outputs": [
    {
     "name": "stdout",
     "output_type": "stream",
     "text": [
      "(16654, 24) 2019-01-01 00:37:28+00:00 2019-12-31 23:05:45+00:00\n"
     ]
    }
   ],
   "source": [
    "# crate new dataframe for the year 2019:\n",
    "year = 2019\n",
    "yt_data_year = df[df['snippet.topLevelComment.snippet.publishedAt'].dt.year == year]\n",
    "# save dataframe to CSV file:\n",
    "yt_data_year.to_csv(folder_path+r'\\comments_data_{}.csv'.format(year), index=None)\n",
    "print(yt_data_year.shape, yt_data_year['snippet.topLevelComment.snippet.publishedAt'].min(), yt_data_year['snippet.topLevelComment.snippet.publishedAt'].max())\n",
    "yt_data_year = None"
   ]
  },
  {
   "cell_type": "code",
   "execution_count": 23,
   "id": "24acef2a",
   "metadata": {},
   "outputs": [
    {
     "name": "stdout",
     "output_type": "stream",
     "text": [
      "(11459, 24) 2018-01-01 07:12:29+00:00 2018-12-31 23:49:29+00:00\n"
     ]
    }
   ],
   "source": [
    "# crate new dataframe for the year 2018:\n",
    "year = 2018\n",
    "yt_data_year = df[df['snippet.topLevelComment.snippet.publishedAt'].dt.year == year]\n",
    "# save dataframe to CSV file:\n",
    "yt_data_year.to_csv(folder_path+r'\\comments_data_{}.csv'.format(year), index=None)\n",
    "print(yt_data_year.shape, yt_data_year['snippet.topLevelComment.snippet.publishedAt'].min(), yt_data_year['snippet.topLevelComment.snippet.publishedAt'].max())\n",
    "yt_data_year = None"
   ]
  },
  {
   "cell_type": "code",
   "execution_count": 24,
   "id": "4ffb3d9c",
   "metadata": {},
   "outputs": [
    {
     "name": "stdout",
     "output_type": "stream",
     "text": [
      "(2210, 24) 2017-01-01 02:54:54+00:00 2017-12-31 18:53:00+00:00\n"
     ]
    }
   ],
   "source": [
    "# crate new dataframe for the year 2017:\n",
    "year = 2017\n",
    "yt_data_year = df[df['snippet.topLevelComment.snippet.publishedAt'].dt.year == year]\n",
    "# save dataframe to CSV file:\n",
    "yt_data_year.to_csv(folder_path+r'\\comments_data_{}.csv'.format(year), index=None)\n",
    "print(yt_data_year.shape, yt_data_year['snippet.topLevelComment.snippet.publishedAt'].min(), yt_data_year['snippet.topLevelComment.snippet.publishedAt'].max())\n",
    "yt_data_year = None"
   ]
  },
  {
   "cell_type": "code",
   "execution_count": 25,
   "id": "52ec762c",
   "metadata": {},
   "outputs": [
    {
     "name": "stdout",
     "output_type": "stream",
     "text": [
      "(4641, 24) 2016-01-01 04:18:39+00:00 2016-12-31 05:33:14+00:00\n"
     ]
    }
   ],
   "source": [
    "# crate new dataframe for the year 2016:\n",
    "year = 2016\n",
    "yt_data_year = df[df['snippet.topLevelComment.snippet.publishedAt'].dt.year == year]\n",
    "# save dataframe to CSV file:\n",
    "yt_data_year.to_csv(folder_path+r'\\comments_data_{}.csv'.format(year), index=None)\n",
    "print(yt_data_year.shape, yt_data_year['snippet.topLevelComment.snippet.publishedAt'].min(), yt_data_year['snippet.topLevelComment.snippet.publishedAt'].max())\n",
    "yt_data_year = None"
   ]
  },
  {
   "cell_type": "code",
   "execution_count": 27,
   "id": "18d643cb",
   "metadata": {},
   "outputs": [
    {
     "name": "stdout",
     "output_type": "stream",
     "text": [
      "(7916, 24) 2007-05-22 01:34:13+00:00 2015-12-31 22:29:41+00:00\n"
     ]
    }
   ],
   "source": [
    "# crate new dataframe for the years from 2008 to 2015:\n",
    "years = [2015, 2014, 2013, 2012, 2011, 2010, 2009, 2008, 2007]\n",
    "yt_data_2008to2015 = pd.DataFrame()\n",
    "for year in years:\n",
    "    yt_data_2008to2015 = yt_data_2008to2015.append(df[df['snippet.topLevelComment.snippet.publishedAt'].dt.year == year])\n",
    "# save dataframe to CSV file:\n",
    "yt_data_2008to2015.to_csv(folder_path+r'\\youtube_data_2007to2015.csv', index=None)\n",
    "print(yt_data_2008to2015.shape, yt_data_2008to2015['snippet.topLevelComment.snippet.publishedAt'].min(), yt_data_2008to2015['snippet.topLevelComment.snippet.publishedAt'].max())\n",
    "\n",
    "yt_data_2008to2015 = None"
   ]
  },
  {
   "cell_type": "code",
   "execution_count": null,
   "id": "5ae8fda8",
   "metadata": {},
   "outputs": [],
   "source": []
  }
 ],
 "metadata": {
  "kernelspec": {
   "display_name": "Python 3 (ipykernel)",
   "language": "python",
   "name": "python3"
  },
  "language_info": {
   "codemirror_mode": {
    "name": "ipython",
    "version": 3
   },
   "file_extension": ".py",
   "mimetype": "text/x-python",
   "name": "python",
   "nbconvert_exporter": "python",
   "pygments_lexer": "ipython3",
   "version": "3.9.7"
  }
 },
 "nbformat": 4,
 "nbformat_minor": 5
}
