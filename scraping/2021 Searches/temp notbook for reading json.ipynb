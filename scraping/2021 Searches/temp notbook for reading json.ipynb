{
 "cells": [
  {
   "cell_type": "markdown",
   "id": "6ba2887b",
   "metadata": {},
   "source": [
    "# read and combining JSONs of channels"
   ]
  },
  {
   "cell_type": "code",
   "execution_count": 1,
   "id": "1572e671",
   "metadata": {},
   "outputs": [],
   "source": [
    "import pandas as pd\n",
    "import json\n",
    "import requests\n",
    "from io import StringIO\n",
    "from csv import reader\n",
    "import os\n",
    "import glob\n",
    "import numpy as np\n",
    "import shutil\n",
    "import time\n",
    "import datetime\n"
   ]
  },
  {
   "cell_type": "code",
   "execution_count": 28,
   "id": "b9497293",
   "metadata": {
    "scrolled": true
   },
   "outputs": [
    {
     "data": {
      "text/plain": [
       "15214"
      ]
     },
     "execution_count": 28,
     "metadata": {},
     "output_type": "execute_result"
    }
   ],
   "source": [
    "# read josn files and make a list with json files\n",
    "\n",
    "folder_no = 5\n",
    "path_to_json = r\"C:\\Users\\David\\Amber Heard Case\\Youtube\\New Data (filtered with 'amber' word)\\channels info by years\\2018\\{}\".format(folder_no)\n",
    "json_files = [pos_json for pos_json in os.listdir(path_to_json) if pos_json.endswith('.json')]\n",
    "len(json_files)"
   ]
  },
  {
   "cell_type": "code",
   "execution_count": 29,
   "id": "f1ebf8f0",
   "metadata": {
    "scrolled": true
   },
   "outputs": [
    {
     "name": "stdout",
     "output_type": "stream",
     "text": [
      "2021-12-26 13:49:42.371573\n",
      "500 (500, 39) folder no: 5\n",
      "1000 (1000, 45) folder no: 5\n",
      "1500 (1500, 49) folder no: 5\n",
      "2000 (2000, 67) folder no: 5\n",
      "2500 (2500, 67) folder no: 5\n",
      "3000 (3000, 69) folder no: 5\n",
      "3500 (3500, 69) folder no: 5\n",
      "4000 (4000, 77) folder no: 5\n",
      "4500 (4500, 78) folder no: 5\n",
      "5000 (5000, 79) folder no: 5\n",
      "5500 (5500, 79) folder no: 5\n",
      "6000 (6000, 81) folder no: 5\n",
      "6500 (6500, 81) folder no: 5\n",
      "7000 (7000, 83) folder no: 5\n",
      "7500 (7500, 83) folder no: 5\n",
      "8000 (8000, 85) folder no: 5\n",
      "8500 (8500, 85) folder no: 5\n",
      "9000 (9000, 85) folder no: 5\n",
      "9500 (9500, 86) folder no: 5\n",
      "10000 (10000, 88) folder no: 5\n",
      "10500 (10500, 88) folder no: 5\n",
      "11000 (11000, 88) folder no: 5\n",
      "11500 (11500, 88) folder no: 5\n",
      "12000 (12000, 88) folder no: 5\n",
      "12500 (12500, 88) folder no: 5\n",
      "13000 (13000, 88) folder no: 5\n",
      "13500 (13500, 88) folder no: 5\n",
      "14000 (14000, 89) folder no: 5\n",
      "14500 (14500, 91) folder no: 5\n",
      "15000 (15000, 91) folder no: 5\n",
      "elapsed time: 9.989411803086599\n"
     ]
    },
    {
     "data": {
      "text/plain": [
       "(15214, 93)"
      ]
     },
     "execution_count": 29,
     "metadata": {},
     "output_type": "execute_result"
    }
   ],
   "source": [
    "# create a data frame with all json files:\n",
    "print(datetime.datetime.now())\n",
    "df = pd.DataFrame()\n",
    "start = time.time()\n",
    "i=0\n",
    "for file in json_files:\n",
    "    file_path = path_to_json + '/' + file\n",
    "    with open(file_path) as data_file:\n",
    "        i +=1\n",
    "        data = json.load(data_file)\n",
    "        df = df.append(pd.json_normalize(data))\n",
    "        if i % 500 == 0: print(i, df.shape, \"folder no:\", folder_no)\n",
    "end = time.time()\n",
    "print('elapsed time:',(end-start)/60)\n",
    "df.shape"
   ]
  },
  {
   "cell_type": "code",
   "execution_count": 30,
   "id": "8fb4ac0d",
   "metadata": {},
   "outputs": [
    {
     "data": {
      "text/plain": [
       "Index(['kind', 'etag', 'id', 'snippet.title', 'snippet.description',\n",
       "       'snippet.publishedAt', 'snippet.thumbnails.default.url',\n",
       "       'snippet.thumbnails.default.width', 'snippet.thumbnails.default.height',\n",
       "       'snippet.thumbnails.medium.url', 'snippet.thumbnails.medium.width',\n",
       "       'snippet.thumbnails.medium.height', 'snippet.thumbnails.high.url',\n",
       "       'snippet.thumbnails.high.width', 'snippet.thumbnails.high.height',\n",
       "       'snippet.localized.title', 'snippet.localized.description',\n",
       "       'snippet.country', 'contentDetails.relatedPlaylists.likes',\n",
       "       'contentDetails.relatedPlaylists.uploads', 'statistics.viewCount',\n",
       "       'statistics.hiddenSubscriberCount', 'statistics.videoCount',\n",
       "       'topicDetails.topicIds', 'topicDetails.topicCategories',\n",
       "       'status.privacyStatus', 'status.isLinked', 'status.longUploadsStatus',\n",
       "       'status.madeForKids', 'brandingSettings.channel.title',\n",
       "       'brandingSettings.channel.description',\n",
       "       'brandingSettings.channel.country',\n",
       "       'brandingSettings.image.bannerExternalUrl',\n",
       "       'statistics.subscriberCount', 'brandingSettings.channel.keywords',\n",
       "       'brandingSettings.channel.unsubscribedTrailer', 'snippet.customUrl',\n",
       "       'brandingSettings.channel.trackingAnalyticsAccountId',\n",
       "       'brandingSettings.channel.moderateComments', 'snippet.defaultLanguage',\n",
       "       'brandingSettings.channel.defaultLanguage', 'localizations.zh_CN.title',\n",
       "       'localizations.zh_CN.description', 'localizations.en_US.title',\n",
       "       'localizations.en_US.description', 'localizations.id_ID.title',\n",
       "       'localizations.id_ID.description', 'localizations.en_GB.title',\n",
       "       'localizations.en_GB.description', 'localizations.hi_IN.title',\n",
       "       'localizations.hi_IN.description', 'localizations.ru_RU.title',\n",
       "       'localizations.ru_RU.description', 'localizations.de_DE.title',\n",
       "       'localizations.de_DE.description', 'localizations.ar_EG.title',\n",
       "       'localizations.ar_EG.description', 'localizations.tr_TR.title',\n",
       "       'localizations.tr_TR.description', 'localizations.nl_NL.title',\n",
       "       'localizations.nl_NL.description', 'localizations.fr_FR.title',\n",
       "       'localizations.fr_FR.description', 'localizations.es_MX.title',\n",
       "       'localizations.es_MX.description', 'localizations.es_ES.title',\n",
       "       'localizations.es_ES.description', 'localizations.km_KH.title',\n",
       "       'localizations.km_KH.description', 'localizations.af_ZA.title',\n",
       "       'localizations.af_ZA.description', 'localizations.sq_AL.title',\n",
       "       'localizations.sq_AL.description', 'localizations.am_ET.title',\n",
       "       'localizations.am_ET.description', 'localizations.pt_PT.title',\n",
       "       'localizations.pt_PT.description', 'localizations.en_IN.description',\n",
       "       'localizations.ta_IN.description', 'localizations.bn_BD.title',\n",
       "       'localizations.bn_BD.description', 'localizations.ja_JP.title',\n",
       "       'localizations.ja_JP.description', 'localizations.pt_BR.title',\n",
       "       'localizations.pt_BR.description', 'localizations.en_IN.title',\n",
       "       'localizations.vi_VN.title', 'localizations.vi_VN.description',\n",
       "       'localizations.th_TH.description', 'localizations.zh_TW.title',\n",
       "       'localizations.zh_TW.description', 'localizations.fil_PH.title',\n",
       "       'localizations.fil_PH.description'],\n",
       "      dtype='object')"
      ]
     },
     "execution_count": 30,
     "metadata": {},
     "output_type": "execute_result"
    }
   ],
   "source": [
    "df.columns"
   ]
  },
  {
   "cell_type": "code",
   "execution_count": 31,
   "id": "ef2bccc0",
   "metadata": {},
   "outputs": [],
   "source": [
    "df = df[df.columns.drop(list(df.filter(regex='localizations')))]"
   ]
  },
  {
   "cell_type": "code",
   "execution_count": 32,
   "id": "f36d0d18",
   "metadata": {},
   "outputs": [
    {
     "data": {
      "text/plain": [
       "(15214, 41)"
      ]
     },
     "execution_count": 32,
     "metadata": {},
     "output_type": "execute_result"
    }
   ],
   "source": [
    "df.shape"
   ]
  },
  {
   "cell_type": "code",
   "execution_count": 33,
   "id": "e6d6ce1d",
   "metadata": {},
   "outputs": [],
   "source": [
    "df.to_csv(r\"C:\\Users\\David\\Amber Heard Case\\Youtube\\New Data (filtered with 'amber' word)\\channels info by years\\2018\\folder {}.csv\".format(folder_no), index=None)"
   ]
  },
  {
   "cell_type": "code",
   "execution_count": 3,
   "id": "79770ffe",
   "metadata": {},
   "outputs": [
    {
     "data": {
      "text/plain": [
       "1152872"
      ]
     },
     "execution_count": 3,
     "metadata": {},
     "output_type": "execute_result"
    }
   ],
   "source": [
    "346486 + 450538+ 81358 + 134940 + 32756 + 37904 + 20537 + 36833 + 12480 - 960"
   ]
  },
  {
   "cell_type": "markdown",
   "id": "51f4323f",
   "metadata": {},
   "source": [
    "2021 have 346,486 channel ID\n",
    "\n",
    "2020 have 450,538 channel ID\n",
    "\n",
    "2019 have 81,358 channel ID\n",
    "\n",
    "2018 have 134,940 channel ID\n",
    "\n",
    "2017 have 32,756 channel ID\n",
    "\n",
    "2016 have 37,904 channel ID\n",
    "\n",
    "2015 have 20,537 channel ID\n",
    "\n",
    "2014 have 36,833 channel ID\n",
    "\n",
    "2008 to 2013 have 12,480 channel ID"
   ]
  },
  {
   "cell_type": "code",
   "execution_count": null,
   "id": "9f8f82f4",
   "metadata": {},
   "outputs": [],
   "source": []
  }
 ],
 "metadata": {
  "kernelspec": {
   "display_name": "Python 3 (ipykernel)",
   "language": "python",
   "name": "python3"
  },
  "language_info": {
   "codemirror_mode": {
    "name": "ipython",
    "version": 3
   },
   "file_extension": ".py",
   "mimetype": "text/x-python",
   "name": "python",
   "nbconvert_exporter": "python",
   "pygments_lexer": "ipython3",
   "version": "3.8.12"
  }
 },
 "nbformat": 4,
 "nbformat_minor": 5
}
