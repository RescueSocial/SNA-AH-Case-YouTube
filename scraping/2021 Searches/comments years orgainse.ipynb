{
 "cells": [
  {
   "cell_type": "code",
   "execution_count": 1,
   "id": "f7095184",
   "metadata": {},
   "outputs": [],
   "source": [
    "import pandas as pd\n",
    "import json\n",
    "import requests\n",
    "from io import StringIO\n",
    "from csv import reader\n",
    "import os\n",
    "import glob\n",
    "import numpy as np\n",
    "import shutil\n",
    "import time\n",
    "import datetime\n"
   ]
  },
  {
   "cell_type": "code",
   "execution_count": 5,
   "id": "777bb269",
   "metadata": {},
   "outputs": [
    {
     "data": {
      "text/plain": [
       "4"
      ]
     },
     "execution_count": 5,
     "metadata": {},
     "output_type": "execute_result"
    }
   ],
   "source": [
    "# read josn files and make a list with json files\n",
    "# (make 1 change)\n",
    "\n",
    "path_to_csv = r\"C:\\Users\\David\\Amber Heard Case\\Youtube\\New Data (filtered with 'amber' word)\\combinded for comments (filtered)\"\n",
    "csv_files = [pos_csv for pos_csv in os.listdir(path_to_csv) if pos_csv.endswith('.csv')]\n",
    "len(csv_files)"
   ]
  },
  {
   "cell_type": "code",
   "execution_count": 6,
   "id": "5adeb6f6",
   "metadata": {},
   "outputs": [
    {
     "name": "stderr",
     "output_type": "stream",
     "text": [
      "C:\\Users\\David\\anaconda3\\lib\\site-packages\\IPython\\core\\interactiveshell.py:3444: DtypeWarning: Columns (24) have mixed types.Specify dtype option on import or set low_memory=False.\n",
      "  exec(code_obj, self.user_global_ns, self.user_ns)\n",
      "C:\\Users\\David\\anaconda3\\lib\\site-packages\\IPython\\core\\interactiveshell.py:3444: DtypeWarning: Columns (23) have mixed types.Specify dtype option on import or set low_memory=False.\n",
      "  exec(code_obj, self.user_global_ns, self.user_ns)\n"
     ]
    },
    {
     "data": {
      "text/plain": [
       "(1702095, 25)"
      ]
     },
     "execution_count": 6,
     "metadata": {},
     "output_type": "execute_result"
    }
   ],
   "source": [
    "# create a data frame with all json files:\n",
    "# (make 1 change)\n",
    "i=0\n",
    "df = pd.DataFrame()\n",
    "for file in csv_files:\n",
    "    file_path = path_to_csv + '/' + file\n",
    "    with open(file_path) as data_file:\n",
    "        data = pd.read_csv(data_file)\n",
    "        df = df.append(data)\n",
    "df.shape"
   ]
  },
  {
   "cell_type": "code",
   "execution_count": 9,
   "id": "a09d463f",
   "metadata": {
    "collapsed": true
   },
   "outputs": [
    {
     "data": {
      "text/plain": [
       "0        2021-03-19 17:03:31+00:00\n",
       "1        2021-08-06 20:57:49+00:00\n",
       "2        2021-06-13 00:57:35+00:00\n",
       "3        2021-06-08 20:07:10+00:00\n",
       "4        2021-06-01 19:25:25+00:00\n",
       "                    ...           \n",
       "120209   2020-12-16 14:55:58+00:00\n",
       "120210   2020-12-14 15:16:56+00:00\n",
       "120211   2020-12-14 12:33:18+00:00\n",
       "120212   2020-12-14 02:36:44+00:00\n",
       "120213   2020-12-11 05:55:25+00:00\n",
       "Name: snippet.topLevelComment.snippet.publishedAt, Length: 1702095, dtype: datetime64[ns, UTC]"
      ]
     },
     "execution_count": 9,
     "metadata": {},
     "output_type": "execute_result"
    }
   ],
   "source": [
    "df['snippet.topLevelComment.snippet.publishedAt'] = pd.to_datetime(df['snippet.topLevelComment.snippet.publishedAt'])"
   ]
  },
  {
   "cell_type": "code",
   "execution_count": 12,
   "id": "175aff83",
   "metadata": {},
   "outputs": [],
   "source": [
    "# crate new dataframe for the year 2021:\n",
    "folder_path = r\"C:\\Users\\David\\Amber Heard Case\\Youtube\\New Data (filtered with 'amber' word)\\combinded for comments (filtered)\\comments filter by year(based on comment year Not main video)\"\n",
    "year = 2021\n",
    "comments_data_2021 = df[df['snippet.topLevelComment.snippet.publishedAt'].dt.year == year]\n",
    "# save dataframe to CSV file:\n",
    "comments_data_2021.to_csv(folder_path+r'\\comments_data_2021.csv', index=None)\n",
    "print(comments_data_2021.shape)\n",
    "comments_data_2021 = None"
   ]
  },
  {
   "cell_type": "code",
   "execution_count": 13,
   "id": "ab5733f4",
   "metadata": {},
   "outputs": [
    {
     "name": "stdout",
     "output_type": "stream",
     "text": [
      "(706348, 25)\n"
     ]
    }
   ],
   "source": [
    "# crate new dataframe for the year 2020:\n",
    "folder_path = r\"C:\\Users\\David\\Amber Heard Case\\Youtube\\New Data (filtered with 'amber' word)\\combinded for comments (filtered)\\comments filter by year(based on comment year Not main video)\"\n",
    "year = 2020\n",
    "comments_data = df[df['snippet.topLevelComment.snippet.publishedAt'].dt.year == year]\n",
    "# save dataframe to CSV file:\n",
    "comments_data.to_csv(folder_path+r'\\comments_data_{}.csv'.format(year), index=None)\n",
    "print(comments_data.shape)\n",
    "comments_data = None"
   ]
  },
  {
   "cell_type": "code",
   "execution_count": 14,
   "id": "f26723f0",
   "metadata": {},
   "outputs": [
    {
     "name": "stdout",
     "output_type": "stream",
     "text": [
      "(91870, 25)\n"
     ]
    }
   ],
   "source": [
    "# crate new dataframe for the year 2019:\n",
    "folder_path = r\"C:\\Users\\David\\Amber Heard Case\\Youtube\\New Data (filtered with 'amber' word)\\combinded for comments (filtered)\\comments filter by year(based on comment year Not main video)\"\n",
    "year = 2019\n",
    "comments_data = df[df['snippet.topLevelComment.snippet.publishedAt'].dt.year == year]\n",
    "# save dataframe to CSV file:\n",
    "comments_data.to_csv(folder_path+r'\\comments_data_{}.csv'.format(year), index=None)\n",
    "print(comments_data.shape)\n",
    "comments_data = None"
   ]
  },
  {
   "cell_type": "code",
   "execution_count": 15,
   "id": "a09512c0",
   "metadata": {},
   "outputs": [
    {
     "name": "stdout",
     "output_type": "stream",
     "text": [
      "(156043, 25)\n"
     ]
    }
   ],
   "source": [
    "# crate new dataframe for the year 2018:\n",
    "folder_path = r\"C:\\Users\\David\\Amber Heard Case\\Youtube\\New Data (filtered with 'amber' word)\\combinded for comments (filtered)\\comments filter by year(based on comment year Not main video)\"\n",
    "year = 2018\n",
    "comments_data = df[df['snippet.topLevelComment.snippet.publishedAt'].dt.year == year]\n",
    "# save dataframe to CSV file:\n",
    "comments_data.to_csv(folder_path+r'\\comments_data_{}.csv'.format(year), index=None)\n",
    "print(comments_data.shape)\n",
    "comments_data = None"
   ]
  },
  {
   "cell_type": "code",
   "execution_count": 16,
   "id": "2fdffe5a",
   "metadata": {},
   "outputs": [
    {
     "name": "stdout",
     "output_type": "stream",
     "text": [
      "(36005, 25)\n"
     ]
    }
   ],
   "source": [
    "# crate new dataframe for the year 2017:\n",
    "folder_path = r\"C:\\Users\\David\\Amber Heard Case\\Youtube\\New Data (filtered with 'amber' word)\\combinded for comments (filtered)\\comments filter by year(based on comment year Not main video)\"\n",
    "year = 2017\n",
    "comments_data = df[df['snippet.topLevelComment.snippet.publishedAt'].dt.year == year]\n",
    "# save dataframe to CSV file:\n",
    "comments_data.to_csv(folder_path+r'\\comments_data_{}.csv'.format(year), index=None)\n",
    "print(comments_data.shape)\n",
    "comments_data = None"
   ]
  },
  {
   "cell_type": "code",
   "execution_count": 17,
   "id": "11f18cf7",
   "metadata": {},
   "outputs": [
    {
     "name": "stdout",
     "output_type": "stream",
     "text": [
      "(43175, 25)\n"
     ]
    }
   ],
   "source": [
    "# crate new dataframe for the year 2016:\n",
    "folder_path = r\"C:\\Users\\David\\Amber Heard Case\\Youtube\\New Data (filtered with 'amber' word)\\combinded for comments (filtered)\\comments filter by year(based on comment year Not main video)\"\n",
    "year = 2016\n",
    "comments_data = df[df['snippet.topLevelComment.snippet.publishedAt'].dt.year == year]\n",
    "# save dataframe to CSV file:\n",
    "comments_data.to_csv(folder_path+r'\\comments_data_{}.csv'.format(year), index=None)\n",
    "print(comments_data.shape)\n",
    "comments_data = None"
   ]
  },
  {
   "cell_type": "code",
   "execution_count": 18,
   "id": "02de4b4a",
   "metadata": {},
   "outputs": [
    {
     "name": "stdout",
     "output_type": "stream",
     "text": [
      "(22350, 25)\n"
     ]
    }
   ],
   "source": [
    "# crate new dataframe for the year 2015:\n",
    "folder_path = r\"C:\\Users\\David\\Amber Heard Case\\Youtube\\New Data (filtered with 'amber' word)\\combinded for comments (filtered)\\comments filter by year(based on comment year Not main video)\"\n",
    "year = 2015\n",
    "comments_data = df[df['snippet.topLevelComment.snippet.publishedAt'].dt.year == year]\n",
    "# save dataframe to CSV file:\n",
    "comments_data.to_csv(folder_path+r'\\comments_data_{}.csv'.format(year), index=None)\n",
    "print(comments_data.shape)\n",
    "comments_data = None"
   ]
  },
  {
   "cell_type": "code",
   "execution_count": 19,
   "id": "2e924baa",
   "metadata": {},
   "outputs": [
    {
     "name": "stdout",
     "output_type": "stream",
     "text": [
      "(39560, 25)\n"
     ]
    }
   ],
   "source": [
    "# crate new dataframe for the year 2014:\n",
    "folder_path = r\"C:\\Users\\David\\Amber Heard Case\\Youtube\\New Data (filtered with 'amber' word)\\combinded for comments (filtered)\\comments filter by year(based on comment year Not main video)\"\n",
    "year = 2014\n",
    "comments_data = df[df['snippet.topLevelComment.snippet.publishedAt'].dt.year == year]\n",
    "# save dataframe to CSV file:\n",
    "comments_data.to_csv(folder_path+r'\\comments_data_{}.csv'.format(year), index=None)\n",
    "print(comments_data.shape)\n",
    "comments_data = None"
   ]
  },
  {
   "cell_type": "code",
   "execution_count": 26,
   "id": "5f18d0aa",
   "metadata": {},
   "outputs": [],
   "source": [
    "# crate new dataframe for the years from 2008 to 2015:\n",
    "years = [2013, 2012, 2011, 2010, 2009, 2008]\n",
    "comments_data_2008to2013 = pd.DataFrame()\n",
    "for year in years:\n",
    "    comments_data_2008to2013 = comments_data_2008to2013.append(df[df['snippet.topLevelComment.snippet.publishedAt'].dt.year == year])\n",
    "# save dataframe to CSV file:\n",
    "comments_data_2008to2013.to_csv(folder_path+r'\\comments_data_2008to2013.csv', index=None)\n",
    "#comments_data_2008to2013 = None"
   ]
  },
  {
   "cell_type": "code",
   "execution_count": 31,
   "id": "a97985de",
   "metadata": {},
   "outputs": [
    {
     "data": {
      "text/plain": [
       "2013"
      ]
     },
     "execution_count": 31,
     "metadata": {},
     "output_type": "execute_result"
    }
   ],
   "source": [
    "comments_data_2008to2013['snippet.topLevelComment.snippet.publishedAt'].dt.year.max()"
   ]
  },
  {
   "cell_type": "code",
   "execution_count": null,
   "id": "f52a40a6",
   "metadata": {},
   "outputs": [],
   "source": []
  }
 ],
 "metadata": {
  "kernelspec": {
   "display_name": "Python 3 (ipykernel)",
   "language": "python",
   "name": "python3"
  },
  "language_info": {
   "codemirror_mode": {
    "name": "ipython",
    "version": 3
   },
   "file_extension": ".py",
   "mimetype": "text/x-python",
   "name": "python",
   "nbconvert_exporter": "python",
   "pygments_lexer": "ipython3",
   "version": "3.8.12"
  }
 },
 "nbformat": 4,
 "nbformat_minor": 5
}
