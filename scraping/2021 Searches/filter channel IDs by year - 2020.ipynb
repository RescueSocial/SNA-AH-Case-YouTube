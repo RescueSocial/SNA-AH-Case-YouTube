{
 "cells": [
  {
   "cell_type": "markdown",
   "id": "f8357d18",
   "metadata": {},
   "source": [
    "# Read channle IDs then search on it on json files"
   ]
  },
  {
   "cell_type": "code",
   "execution_count": 1,
   "id": "d025021b",
   "metadata": {},
   "outputs": [],
   "source": [
    "import pandas as pd\n",
    "import json\n",
    "import requests\n",
    "from io import StringIO\n",
    "from csv import reader\n",
    "import os\n",
    "import glob\n",
    "import numpy as np\n",
    "import shutil\n",
    "import time\n",
    "import datetime\n"
   ]
  },
  {
   "cell_type": "code",
   "execution_count": 2,
   "id": "54495266",
   "metadata": {},
   "outputs": [],
   "source": [
    "year = 2020\n",
    "url = r\"C:\\Users\\David\\Amber Heard Case\\Youtube\\New Data (filtered with 'amber' word)\\combinded for comments (filtered)\\comments filter by year(based on comment year Not main video)\\comments_data_{}.csv\".format(year)\n",
    "\n",
    "\n",
    "channels_ids = pd.read_csv(url, usecols=['snippet.topLevelComment.snippet.authorChannelId.value'])"
   ]
  },
  {
   "cell_type": "code",
   "execution_count": 3,
   "id": "27fe6a4f",
   "metadata": {},
   "outputs": [],
   "source": [
    "channels_ids = list(channels_ids['snippet.topLevelComment.snippet.authorChannelId.value'])\n",
    "channels_ids = set(channels_ids)\n",
    "channels_ids = list(channels_ids)"
   ]
  },
  {
   "cell_type": "code",
   "execution_count": 4,
   "id": "b35cd7a7",
   "metadata": {},
   "outputs": [
    {
     "data": {
      "text/plain": [
       "450538"
      ]
     },
     "execution_count": 4,
     "metadata": {},
     "output_type": "execute_result"
    }
   ],
   "source": [
    "len(channels_ids)"
   ]
  },
  {
   "cell_type": "code",
   "execution_count": null,
   "id": "aa76c491",
   "metadata": {
    "scrolled": true
   },
   "outputs": [],
   "source": [
    "# compare files in a dir with a list then copy the target to the destination:\n",
    "\n",
    "for ii in range(1, 25):\n",
    "    \n",
    "\n",
    "    start = time.time()\n",
    "    path = r\"C:\\Users\\David\\Amber Heard Case\\Youtube\\New Data (filtered with 'amber' word)\\channels info\\channels info for commenters - {}\".format(ii)\n",
    "    source = os.listdir(path)\n",
    "    destination = r\"C:\\Users\\David\\Amber Heard Case\\Youtube\\New Data (filtered with 'amber' word)\\channels info by years\\{}\\{}\".format(year, ii)\n",
    "\n",
    "    i = 0            \n",
    "    for file in source:\n",
    "        i+=1\n",
    "        if i % 500 == 0: print('file no:', i, 'in folder',ii)\n",
    "        if file.split('.')[0] in channels_ids:\n",
    "            shutil.copy(path + '/'+file, destination)\n",
    "            channels_ids.remove(file.split('.')[0])\n",
    "    end = time.time()\n",
    "    print(\"time in minuts:\", (end - start)/60)"
   ]
  },
  {
   "cell_type": "markdown",
   "id": "adcd66fa",
   "metadata": {},
   "source": [
    "2021 have 346,486 channel ID\n",
    "\n",
    "2020 have 450,538 channel ID\n",
    "\n",
    "2019 have 81,358 channel ID\n",
    "\n",
    "2018 have 134,940 channel ID\n",
    "\n",
    "2017 have 32,756 channel ID\n",
    "\n",
    "2016 have 37,904 channel ID\n",
    "\n",
    "2015 have 20,537 channel ID\n",
    "\n",
    "2014 have 36,833 channel ID\n",
    "\n",
    "2008 to 2013 have 12,480 channel ID"
   ]
  },
  {
   "cell_type": "code",
   "execution_count": null,
   "id": "7db99286",
   "metadata": {},
   "outputs": [],
   "source": [
    "346486+450538+81358+134940+32765+37904+20537+36833+12480"
   ]
  },
  {
   "cell_type": "markdown",
   "id": "98cd6d5c",
   "metadata": {},
   "source": [
    "# See if IDs not obtainied data for:"
   ]
  },
  {
   "cell_type": "code",
   "execution_count": 81,
   "id": "f71b9671",
   "metadata": {},
   "outputs": [
    {
     "name": "stdout",
     "output_type": "stream",
     "text": [
      "Count of channels we have info for:  450,261\n"
     ]
    }
   ],
   "source": [
    "# read all json files in folder and subfolder:\n",
    "path_to_json = r\"C:\\Users\\David\\Amber Heard Case\\Youtube\\New Data (filtered with 'amber' word)\\channels info by years\\2020\"\n",
    "names = []\n",
    "for root, dirs, files in os.walk(path_to_json):\n",
    "    for name in files:\n",
    "        if name.endswith((\".json\")):\n",
    "            names.append(name.split('.')[0])\n",
    "            full_path = os.path.join(root, name)\n",
    "names = set(names)\n",
    "names = list(names)\n",
    "print('Count of channels we have info for: ', f\"{len(names):,}\")"
   ]
  },
  {
   "cell_type": "code",
   "execution_count": 82,
   "id": "a844074f",
   "metadata": {},
   "outputs": [
    {
     "data": {
      "text/plain": [
       "900799"
      ]
     },
     "execution_count": 82,
     "metadata": {},
     "output_type": "execute_result"
    }
   ],
   "source": [
    "all_ids = channels_ids + names\n",
    "len(all_ids)"
   ]
  },
  {
   "cell_type": "code",
   "execution_count": 83,
   "id": "b3981614",
   "metadata": {},
   "outputs": [],
   "source": [
    "all_ids = pd.DataFrame(all_ids, columns=['id'])"
   ]
  },
  {
   "cell_type": "code",
   "execution_count": 84,
   "id": "db23f5c8",
   "metadata": {},
   "outputs": [],
   "source": [
    "all_ids = all_ids.drop_duplicates(keep=False)"
   ]
  },
  {
   "cell_type": "code",
   "execution_count": 85,
   "id": "1092eafd",
   "metadata": {},
   "outputs": [
    {
     "data": {
      "text/plain": [
       "(277, 1)"
      ]
     },
     "execution_count": 85,
     "metadata": {},
     "output_type": "execute_result"
    }
   ],
   "source": [
    "all_ids.shape"
   ]
  },
  {
   "cell_type": "code",
   "execution_count": 86,
   "id": "79bc709e",
   "metadata": {},
   "outputs": [],
   "source": [
    "all_ids.to_csv(r\"C:\\Users\\David\\Amber Heard Case\\Youtube\\New Data (filtered with 'amber' word)\\2020_channels_ids.csv\", index=None)"
   ]
  },
  {
   "cell_type": "code",
   "execution_count": null,
   "id": "a1565b71",
   "metadata": {},
   "outputs": [],
   "source": []
  },
  {
   "cell_type": "markdown",
   "id": "88a8563a",
   "metadata": {},
   "source": [
    "# Reading JSON files and combine them:"
   ]
  },
  {
   "cell_type": "code",
   "execution_count": 58,
   "id": "28ac0fc8",
   "metadata": {},
   "outputs": [
    {
     "data": {
      "text/plain": [
       "30000"
      ]
     },
     "execution_count": 58,
     "metadata": {},
     "output_type": "execute_result"
    }
   ],
   "source": [
    "# read josn files and make a list with json files\n",
    "\n",
    "folder_no = 12\n",
    "path_to_json = r\"C:\\Users\\David\\Amber Heard Case\\Youtube\\New Data (filtered with 'amber' word)\\channels info by years\\2020\\{}\".format(folder_no)\n",
    "json_files = [pos_json for pos_json in os.listdir(path_to_json) if pos_json.endswith('.json')]\n",
    "json_files;  \n",
    "len(json_files)"
   ]
  },
  {
   "cell_type": "code",
   "execution_count": 59,
   "id": "4d3c57c8",
   "metadata": {
    "scrolled": true
   },
   "outputs": [
    {
     "name": "stdout",
     "output_type": "stream",
     "text": [
      "500 (500, 47) folder no: 12\n",
      "1000 (1000, 47) folder no: 12\n",
      "1500 (1500, 50) folder no: 12\n",
      "2000 (2000, 52) folder no: 12\n",
      "2500 (2500, 52) folder no: 12\n",
      "3000 (3000, 54) folder no: 12\n",
      "3500 (3500, 59) folder no: 12\n",
      "4000 (4000, 103) folder no: 12\n",
      "4500 (4500, 103) folder no: 12\n",
      "5000 (5000, 103) folder no: 12\n",
      "5500 (5500, 103) folder no: 12\n",
      "6000 (6000, 103) folder no: 12\n",
      "6500 (6500, 105) folder no: 12\n",
      "7000 (7000, 105) folder no: 12\n",
      "7500 (7500, 105) folder no: 12\n",
      "8000 (8000, 105) folder no: 12\n",
      "8500 (8500, 105) folder no: 12\n",
      "9000 (9000, 105) folder no: 12\n",
      "9500 (9500, 105) folder no: 12\n",
      "10000 (10000, 105) folder no: 12\n",
      "10500 (10500, 105) folder no: 12\n",
      "11000 (11000, 105) folder no: 12\n",
      "11500 (11500, 107) folder no: 12\n",
      "12000 (12000, 107) folder no: 12\n",
      "12500 (12500, 107) folder no: 12\n",
      "13000 (13000, 107) folder no: 12\n",
      "13500 (13500, 107) folder no: 12\n",
      "14000 (14000, 107) folder no: 12\n",
      "14500 (14500, 109) folder no: 12\n",
      "15000 (15000, 111) folder no: 12\n",
      "15500 (15500, 207) folder no: 12\n",
      "16000 (16000, 207) folder no: 12\n",
      "16500 (16500, 207) folder no: 12\n",
      "17000 (17000, 207) folder no: 12\n",
      "17500 (17500, 207) folder no: 12\n",
      "18000 (18000, 207) folder no: 12\n",
      "18500 (18500, 207) folder no: 12\n",
      "19000 (19000, 207) folder no: 12\n",
      "19500 (19500, 207) folder no: 12\n",
      "20000 (20000, 207) folder no: 12\n",
      "20500 (20500, 207) folder no: 12\n",
      "21000 (21000, 207) folder no: 12\n",
      "21500 (21500, 207) folder no: 12\n",
      "22000 (22000, 207) folder no: 12\n",
      "22500 (22500, 207) folder no: 12\n",
      "23000 (23000, 207) folder no: 12\n",
      "23500 (23500, 207) folder no: 12\n",
      "24000 (24000, 207) folder no: 12\n",
      "24500 (24500, 207) folder no: 12\n",
      "25000 (25000, 207) folder no: 12\n",
      "25500 (25500, 207) folder no: 12\n",
      "26000 (26000, 207) folder no: 12\n",
      "26500 (26500, 207) folder no: 12\n",
      "27000 (27000, 207) folder no: 12\n",
      "27500 (27500, 207) folder no: 12\n",
      "28000 (28000, 207) folder no: 12\n",
      "28500 (28500, 207) folder no: 12\n",
      "29000 (29000, 207) folder no: 12\n",
      "29500 (29500, 207) folder no: 12\n",
      "30000 (30000, 207) folder no: 12\n",
      "elapsed time: 45.32321181694667\n"
     ]
    },
    {
     "data": {
      "text/plain": [
       "(30000, 207)"
      ]
     },
     "execution_count": 59,
     "metadata": {},
     "output_type": "execute_result"
    }
   ],
   "source": [
    "# create a data frame with all json files:\n",
    "df = pd.DataFrame()\n",
    "start = time.time()\n",
    "i=0\n",
    "for file in json_files:\n",
    "    file_path = path_to_json + '/' + file\n",
    "    with open(file_path) as data_file:\n",
    "        i +=1\n",
    "        data = json.load(data_file)\n",
    "        df = df.append(pd.json_normalize(data))\n",
    "        if i % 500 == 0: print(i, df.shape, \"folder no:\", folder_no)\n",
    "end = time.time()\n",
    "print('elapsed time:',(end-start)/60)\n",
    "df.shape"
   ]
  },
  {
   "cell_type": "code",
   "execution_count": 60,
   "id": "8593b1d7",
   "metadata": {},
   "outputs": [
    {
     "data": {
      "text/plain": [
       "Index(['kind', 'etag', 'id', 'snippet.title', 'snippet.description',\n",
       "       'snippet.publishedAt', 'snippet.thumbnails.default.url',\n",
       "       'snippet.thumbnails.default.width', 'snippet.thumbnails.default.height',\n",
       "       'snippet.thumbnails.medium.url',\n",
       "       ...\n",
       "       'localizations.fa_IR.title', 'localizations.fa_IR.description',\n",
       "       'localizations.sr_Latn_RS.title',\n",
       "       'localizations.sr_Latn_RS.description', 'localizations.my_MM.title',\n",
       "       'localizations.my_MM.description', 'localizations.ta_IN.title',\n",
       "       'localizations.ta_IN.description', 'localizations.hy_AM.title',\n",
       "       'localizations.hy_AM.description'],\n",
       "      dtype='object', length=207)"
      ]
     },
     "execution_count": 60,
     "metadata": {},
     "output_type": "execute_result"
    }
   ],
   "source": [
    "df.columns"
   ]
  },
  {
   "cell_type": "code",
   "execution_count": 61,
   "id": "f5384e55",
   "metadata": {},
   "outputs": [],
   "source": [
    "df = df[df.columns.drop(list(df.filter(regex='localizations')))]"
   ]
  },
  {
   "cell_type": "code",
   "execution_count": 62,
   "id": "f23b5c62",
   "metadata": {},
   "outputs": [
    {
     "data": {
      "text/plain": [
       "(30000, 41)"
      ]
     },
     "execution_count": 62,
     "metadata": {},
     "output_type": "execute_result"
    }
   ],
   "source": [
    "df.shape"
   ]
  },
  {
   "cell_type": "code",
   "execution_count": 63,
   "id": "945abec9",
   "metadata": {},
   "outputs": [],
   "source": [
    "df.to_csv(r\"C:\\Users\\David\\Amber Heard Case\\Youtube\\New Data (filtered with 'amber' word)\\channels info by years\\2020\\folder {}.csv\".format(folder_no), index=None)"
   ]
  },
  {
   "cell_type": "code",
   "execution_count": null,
   "id": "dfde26d3",
   "metadata": {},
   "outputs": [],
   "source": []
  },
  {
   "cell_type": "markdown",
   "id": "a228b0c1",
   "metadata": {},
   "source": [
    "folder 01 shape = (30000, 41)\n",
    "\n",
    "folder 02 shape = (30000, 41)\n",
    "\n",
    "folder 03 shape = (30000, 41)\n",
    "\n",
    "folder 04 shape = (30000, 41)\n",
    "\n",
    "folder 05 shape = (30000, 41)\n",
    "\n",
    "folder 06 shape = (30000, 41)\n",
    "\n",
    "folder 07 shape = (30000, 41)\n",
    "\n",
    "folder 08 shape = (30000, 41)\n",
    "\n",
    "folder 09 shape = (30000, 41)\n",
    "\n",
    "folder 10 shape = (30000, 41)\n",
    "\n",
    "folder 11 shape = (30000, 41)\n",
    "\n",
    "folder 12 shape = (30000, 41)\n",
    "\n",
    "folder 13 shape = (30000, 41)\n",
    "\n",
    "folder 14 shape = (30000, 41)\n",
    "\n",
    "folder 15 shape = "
   ]
  },
  {
   "cell_type": "markdown",
   "id": "3a028c1e",
   "metadata": {},
   "source": [
    "# Read combined files for each folder and make 1 CSV file"
   ]
  },
  {
   "cell_type": "code",
   "execution_count": 95,
   "id": "e3729b88",
   "metadata": {},
   "outputs": [
    {
     "data": {
      "text/plain": [
       "15"
      ]
     },
     "execution_count": 95,
     "metadata": {},
     "output_type": "execute_result"
    }
   ],
   "source": [
    "# read josn files and make a list with json files\n",
    "# (make 1 change)\n",
    "\n",
    "path_to_csv = r\"C:\\Users\\David\\Amber Heard Case\\Youtube\\New Data (filtered with 'amber' word)\\channels info by years\\2020\"\n",
    "csv_files = [pos_csv for pos_csv in os.listdir(path_to_csv) if pos_csv.endswith('.csv')]\n",
    "csv_files;  \n",
    "len(csv_files)"
   ]
  },
  {
   "cell_type": "code",
   "execution_count": 96,
   "id": "e28ec7fe",
   "metadata": {},
   "outputs": [
    {
     "data": {
      "text/plain": [
       "(450592, 41)"
      ]
     },
     "execution_count": 96,
     "metadata": {},
     "output_type": "execute_result"
    }
   ],
   "source": [
    "df = pd.DataFrame()\n",
    "for file in csv_files:\n",
    "    temp_df = pd.read_csv(path_to_csv + '/' + file)\n",
    "    df = df.append(temp_df)\n",
    "df.shape"
   ]
  },
  {
   "cell_type": "code",
   "execution_count": 97,
   "id": "56fbccfd",
   "metadata": {},
   "outputs": [],
   "source": [
    "df.to_csv(r\"C:\\Users\\David\\Amber Heard Case\\Youtube\\New Data (filtered with 'amber' word)\\channels info by years\\2020\\channles_info_2020.csv\", index=None)"
   ]
  },
  {
   "cell_type": "code",
   "execution_count": null,
   "id": "0f360bbb",
   "metadata": {},
   "outputs": [],
   "source": []
  }
 ],
 "metadata": {
  "kernelspec": {
   "display_name": "Python 3 (ipykernel)",
   "language": "python",
   "name": "python3"
  },
  "language_info": {
   "codemirror_mode": {
    "name": "ipython",
    "version": 3
   },
   "file_extension": ".py",
   "mimetype": "text/x-python",
   "name": "python",
   "nbconvert_exporter": "python",
   "pygments_lexer": "ipython3",
   "version": "3.8.12"
  }
 },
 "nbformat": 4,
 "nbformat_minor": 5
}
