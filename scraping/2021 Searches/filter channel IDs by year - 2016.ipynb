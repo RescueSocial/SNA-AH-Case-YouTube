{
 "cells": [
  {
   "cell_type": "markdown",
   "id": "f8357d18",
   "metadata": {},
   "source": [
    "# Read channle IDs then search on it on json files"
   ]
  },
  {
   "cell_type": "code",
   "execution_count": 2,
   "id": "d025021b",
   "metadata": {},
   "outputs": [],
   "source": [
    "import pandas as pd\n",
    "import json\n",
    "import requests\n",
    "from io import StringIO\n",
    "from csv import reader\n",
    "import os\n",
    "import glob\n",
    "import numpy as np\n",
    "import shutil\n",
    "import time\n",
    "import datetime\n"
   ]
  },
  {
   "cell_type": "code",
   "execution_count": 3,
   "id": "54495266",
   "metadata": {},
   "outputs": [],
   "source": [
    "year = 2016\n",
    "url = r\"C:\\Users\\David\\Amber Heard Case\\Youtube\\New Data (filtered with 'amber' word)\\combinded for comments (filtered)\\comments filter by year(based on comment year Not main video)\\comments_data_{}.csv\".format(year)\n",
    "\n",
    "\n",
    "channels_ids = pd.read_csv(url, usecols=['snippet.topLevelComment.snippet.authorChannelId.value'])"
   ]
  },
  {
   "cell_type": "code",
   "execution_count": 6,
   "id": "27fe6a4f",
   "metadata": {},
   "outputs": [],
   "source": [
    "channels_ids = list(channels_ids['snippet.topLevelComment.snippet.authorChannelId.value'])\n",
    "channels_ids = set(channels_ids)\n",
    "channels_ids = list(channels_ids)"
   ]
  },
  {
   "cell_type": "code",
   "execution_count": 7,
   "id": "b35cd7a7",
   "metadata": {
    "scrolled": true
   },
   "outputs": [
    {
     "data": {
      "text/plain": [
       "37904"
      ]
     },
     "execution_count": 7,
     "metadata": {},
     "output_type": "execute_result"
    }
   ],
   "source": [
    "len(channels_ids)"
   ]
  },
  {
   "cell_type": "code",
   "execution_count": null,
   "id": "aa76c491",
   "metadata": {
    "scrolled": true
   },
   "outputs": [],
   "source": [
    "# compare files in a dir with a list then copy the target to the destination:\n",
    "\n",
    "for ii in range(1, 25):\n",
    "    \n",
    "\n",
    "    start = time.time()\n",
    "    path = r\"C:\\Users\\David\\Amber Heard Case\\Youtube\\New Data (filtered with 'amber' word)\\channels info\\channels info for commenters - {}\".format(ii)\n",
    "    source = os.listdir(path)\n",
    "    destination = r\"C:\\Users\\David\\Amber Heard Case\\Youtube\\New Data (filtered with 'amber' word)\\channels info by years\\{}\\{}\".format(year, ii)\n",
    "\n",
    "    i = 0            \n",
    "    for file in source:\n",
    "        i+=1\n",
    "        if i % 500 == 0: print('file no:', i, 'in folder',ii)\n",
    "        if file.split('.')[0] in channels_ids:\n",
    "            shutil.copy(path + '/'+file, destination)\n",
    "            channels_ids.remove(file.split('.')[0])\n",
    "    end = time.time()\n",
    "    print(\"time in minuts:\", (end - start)/60)"
   ]
  },
  {
   "cell_type": "markdown",
   "id": "98cd6d5c",
   "metadata": {},
   "source": [
    "# See if IDs not obtainied data for:"
   ]
  },
  {
   "cell_type": "code",
   "execution_count": 19,
   "id": "d6a659f8",
   "metadata": {},
   "outputs": [
    {
     "name": "stdout",
     "output_type": "stream",
     "text": [
      "Count of channels we have info for:  37,898\n"
     ]
    }
   ],
   "source": [
    "# read all json files in folder and subfolder:\n",
    "path_to_json = r\"C:\\Users\\David\\Amber Heard Case\\Youtube\\New Data (filtered with 'amber' word)\\channels info by years\\2016\"\n",
    "names = []\n",
    "for root, dirs, files in os.walk(path_to_json):\n",
    "    for name in files:\n",
    "        if name.endswith((\".json\")):\n",
    "            names.append(name.split('.')[0])\n",
    "            full_path = os.path.join(root, name)\n",
    "names = set(names)\n",
    "names = list(names)\n",
    "print('Count of channels we have info for: ', f\"{len(names):,}\")"
   ]
  },
  {
   "cell_type": "code",
   "execution_count": 20,
   "id": "b517c733",
   "metadata": {},
   "outputs": [
    {
     "data": {
      "text/plain": [
       "75802"
      ]
     },
     "execution_count": 20,
     "metadata": {},
     "output_type": "execute_result"
    }
   ],
   "source": [
    "all_ids = channels_ids + names\n",
    "len(all_ids)"
   ]
  },
  {
   "cell_type": "code",
   "execution_count": 21,
   "id": "8d8bf855",
   "metadata": {},
   "outputs": [],
   "source": [
    "all_ids = pd.DataFrame(all_ids, columns=['id'])"
   ]
  },
  {
   "cell_type": "code",
   "execution_count": 22,
   "id": "bda81d4e",
   "metadata": {},
   "outputs": [],
   "source": [
    "all_ids = all_ids.drop_duplicates(keep=False)"
   ]
  },
  {
   "cell_type": "code",
   "execution_count": 23,
   "id": "7c9db645",
   "metadata": {},
   "outputs": [
    {
     "data": {
      "text/plain": [
       "(6, 1)"
      ]
     },
     "execution_count": 23,
     "metadata": {},
     "output_type": "execute_result"
    }
   ],
   "source": [
    "all_ids.shape"
   ]
  },
  {
   "cell_type": "code",
   "execution_count": 24,
   "id": "0ee8f172",
   "metadata": {},
   "outputs": [],
   "source": [
    "all_ids.to_csv(r\"C:\\Users\\David\\Amber Heard Case\\Youtube\\New Data (filtered with 'amber' word)\\2016_channels_ids.csv\", index=None)"
   ]
  },
  {
   "cell_type": "markdown",
   "id": "0c319f33",
   "metadata": {},
   "source": [
    "# Reading JSON files and combine them:"
   ]
  },
  {
   "cell_type": "code",
   "execution_count": 25,
   "id": "9507227f",
   "metadata": {},
   "outputs": [
    {
     "data": {
      "text/plain": [
       "37898"
      ]
     },
     "execution_count": 25,
     "metadata": {},
     "output_type": "execute_result"
    }
   ],
   "source": [
    "# read josn files and make a list with json files\n",
    "\n",
    "folder_no = 1\n",
    "path_to_json = r\"C:\\Users\\David\\Amber Heard Case\\Youtube\\New Data (filtered with 'amber' word)\\channels info by years\\2016\\{}\".format(folder_no)\n",
    "json_files = [pos_json for pos_json in os.listdir(path_to_json) if pos_json.endswith('.json')]\n",
    "json_files;  \n",
    "len(json_files)"
   ]
  },
  {
   "cell_type": "code",
   "execution_count": 26,
   "id": "5856a8be",
   "metadata": {
    "scrolled": true
   },
   "outputs": [
    {
     "name": "stdout",
     "output_type": "stream",
     "text": [
      "500 (500, 46) folder no: 1\n",
      "1000 (1000, 50) folder no: 1\n",
      "1500 (1500, 54) folder no: 1\n",
      "2000 (2000, 56) folder no: 1\n",
      "2500 (2500, 56) folder no: 1\n",
      "3000 (3000, 59) folder no: 1\n",
      "3500 (3500, 61) folder no: 1\n",
      "4000 (4000, 61) folder no: 1\n",
      "4500 (4500, 69) folder no: 1\n",
      "5000 (5000, 69) folder no: 1\n",
      "5500 (5500, 71) folder no: 1\n",
      "6000 (6000, 71) folder no: 1\n",
      "6500 (6500, 71) folder no: 1\n",
      "7000 (7000, 71) folder no: 1\n",
      "7500 (7500, 71) folder no: 1\n",
      "8000 (8000, 71) folder no: 1\n",
      "8500 (8500, 71) folder no: 1\n",
      "9000 (9000, 73) folder no: 1\n",
      "9500 (9500, 76) folder no: 1\n",
      "10000 (10000, 76) folder no: 1\n",
      "10500 (10500, 78) folder no: 1\n",
      "11000 (11000, 78) folder no: 1\n",
      "11500 (11500, 78) folder no: 1\n",
      "12000 (12000, 78) folder no: 1\n",
      "12500 (12500, 78) folder no: 1\n",
      "13000 (13000, 92) folder no: 1\n",
      "13500 (13500, 92) folder no: 1\n",
      "14000 (14000, 92) folder no: 1\n",
      "14500 (14500, 92) folder no: 1\n",
      "15000 (15000, 92) folder no: 1\n",
      "15500 (15500, 94) folder no: 1\n",
      "16000 (16000, 94) folder no: 1\n",
      "16500 (16500, 98) folder no: 1\n",
      "17000 (17000, 100) folder no: 1\n",
      "17500 (17500, 100) folder no: 1\n",
      "18000 (18000, 100) folder no: 1\n",
      "18500 (18500, 102) folder no: 1\n",
      "19000 (19000, 102) folder no: 1\n",
      "19500 (19500, 102) folder no: 1\n",
      "20000 (20000, 102) folder no: 1\n",
      "20500 (20500, 102) folder no: 1\n",
      "21000 (21000, 102) folder no: 1\n",
      "21500 (21500, 102) folder no: 1\n",
      "22000 (22000, 102) folder no: 1\n",
      "22500 (22500, 102) folder no: 1\n",
      "23000 (23000, 102) folder no: 1\n",
      "23500 (23500, 102) folder no: 1\n",
      "24000 (24000, 102) folder no: 1\n",
      "24500 (24500, 102) folder no: 1\n",
      "25000 (25000, 102) folder no: 1\n",
      "25500 (25500, 102) folder no: 1\n",
      "26000 (26000, 102) folder no: 1\n",
      "26500 (26500, 102) folder no: 1\n",
      "27000 (27000, 102) folder no: 1\n",
      "27500 (27500, 102) folder no: 1\n",
      "28000 (28000, 102) folder no: 1\n",
      "28500 (28500, 102) folder no: 1\n",
      "29000 (29000, 102) folder no: 1\n",
      "29500 (29500, 102) folder no: 1\n",
      "30000 (30000, 104) folder no: 1\n",
      "30500 (30500, 105) folder no: 1\n",
      "31000 (31000, 105) folder no: 1\n",
      "31500 (31500, 105) folder no: 1\n",
      "32000 (32000, 108) folder no: 1\n",
      "32500 (32500, 108) folder no: 1\n",
      "33000 (33000, 108) folder no: 1\n",
      "33500 (33500, 108) folder no: 1\n",
      "34000 (34000, 108) folder no: 1\n",
      "34500 (34500, 108) folder no: 1\n",
      "35000 (35000, 108) folder no: 1\n",
      "35500 (35500, 108) folder no: 1\n",
      "36000 (36000, 108) folder no: 1\n",
      "36500 (36500, 108) folder no: 1\n",
      "37000 (37000, 108) folder no: 1\n",
      "37500 (37500, 108) folder no: 1\n",
      "elapsed time: 52.34164282083511\n"
     ]
    },
    {
     "data": {
      "text/plain": [
       "(37898, 108)"
      ]
     },
     "execution_count": 26,
     "metadata": {},
     "output_type": "execute_result"
    }
   ],
   "source": [
    "# create a data frame with all json files:\n",
    "df = pd.DataFrame()\n",
    "start = time.time()\n",
    "i=0\n",
    "for file in json_files:\n",
    "    file_path = path_to_json + '/' + file\n",
    "    with open(file_path) as data_file:\n",
    "        i +=1\n",
    "        data = json.load(data_file)\n",
    "        df = df.append(pd.json_normalize(data))\n",
    "        if i % 500 == 0: print(i, df.shape, \"folder no:\", folder_no)\n",
    "end = time.time()\n",
    "print('elapsed time:',(end-start)/60)\n",
    "df.shape"
   ]
  },
  {
   "cell_type": "code",
   "execution_count": null,
   "id": "596d176c",
   "metadata": {},
   "outputs": [],
   "source": [
    "df.columns"
   ]
  },
  {
   "cell_type": "code",
   "execution_count": 27,
   "id": "0464f723",
   "metadata": {},
   "outputs": [],
   "source": [
    "df = df[df.columns.drop(list(df.filter(regex='localizations')))]"
   ]
  },
  {
   "cell_type": "code",
   "execution_count": 29,
   "id": "e06fc75e",
   "metadata": {},
   "outputs": [
    {
     "data": {
      "text/plain": [
       "(37898, 41)"
      ]
     },
     "execution_count": 29,
     "metadata": {},
     "output_type": "execute_result"
    }
   ],
   "source": [
    "df.shape"
   ]
  },
  {
   "cell_type": "code",
   "execution_count": null,
   "id": "36de7dfe",
   "metadata": {},
   "outputs": [],
   "source": [
    "df.to_csv(r\"C:\\Users\\David\\Amber Heard Case\\Youtube\\New Data (filtered with 'amber' word)\\channels info by years\\2016\\folder {}.csv\".format(folder_no), index=None)"
   ]
  },
  {
   "cell_type": "markdown",
   "id": "6e1fb7c4",
   "metadata": {},
   "source": [
    "# Read combined files for each folder and make 1 CSV file"
   ]
  },
  {
   "cell_type": "code",
   "execution_count": null,
   "id": "1e2a1463",
   "metadata": {},
   "outputs": [],
   "source": [
    "# read josn files and make a list with json files\n",
    "# (make 1 change)\n",
    "\n",
    "path_to_csv = r\"C:\\Users\\David\\Amber Heard Case\\Youtube\\New Data (filtered with 'amber' word)\\channels info by years\\2016\"\n",
    "csv_files = [pos_csv for pos_csv in os.listdir(path_to_csv) if pos_csv.endswith('.csv')]\n",
    "csv_files;  \n",
    "len(csv_files)"
   ]
  },
  {
   "cell_type": "code",
   "execution_count": null,
   "id": "6d883a0c",
   "metadata": {},
   "outputs": [],
   "source": [
    "df = pd.DataFrame()\n",
    "for file in csv_files:\n",
    "    temp_df = pd.read_csv(path_to_csv + '/' + file)\n",
    "    df = df.append(temp_df)\n",
    "df.shape"
   ]
  },
  {
   "cell_type": "code",
   "execution_count": 28,
   "id": "13db26c2",
   "metadata": {},
   "outputs": [],
   "source": [
    "df.to_csv(r\"C:\\Users\\David\\Amber Heard Case\\Youtube\\New Data (filtered with 'amber' word)\\channels info by years\\2016\\channles_info_2016.csv\", index=None)"
   ]
  },
  {
   "cell_type": "code",
   "execution_count": null,
   "id": "1fdb6f53",
   "metadata": {},
   "outputs": [],
   "source": []
  },
  {
   "cell_type": "code",
   "execution_count": null,
   "id": "a353d1c6",
   "metadata": {},
   "outputs": [],
   "source": []
  },
  {
   "cell_type": "code",
   "execution_count": null,
   "id": "866551d4",
   "metadata": {},
   "outputs": [],
   "source": []
  }
 ],
 "metadata": {
  "kernelspec": {
   "display_name": "Python 3 (ipykernel)",
   "language": "python",
   "name": "python3"
  },
  "language_info": {
   "codemirror_mode": {
    "name": "ipython",
    "version": 3
   },
   "file_extension": ".py",
   "mimetype": "text/x-python",
   "name": "python",
   "nbconvert_exporter": "python",
   "pygments_lexer": "ipython3",
   "version": "3.8.12"
  }
 },
 "nbformat": 4,
 "nbformat_minor": 5
}
