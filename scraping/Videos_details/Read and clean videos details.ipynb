{
 "cells": [
  {
   "cell_type": "code",
   "execution_count": 52,
   "id": "b0c19a42",
   "metadata": {},
   "outputs": [],
   "source": [
    "import pandas as pd\n",
    "import json\n",
    "import requests\n",
    "from io import StringIO\n",
    "from csv import reader\n",
    "import os\n",
    "import glob"
   ]
  },
  {
   "cell_type": "code",
   "execution_count": 85,
   "id": "f46db17b",
   "metadata": {
    "scrolled": true
   },
   "outputs": [
    {
     "data": {
      "text/plain": [
       "16"
      ]
     },
     "execution_count": 85,
     "metadata": {},
     "output_type": "execute_result"
    }
   ],
   "source": [
    "path_to_csv = './'\n",
    "csv_files = [pos_csv for pos_csv in os.listdir(path_to_csv) if pos_csv.endswith('.csv')]\n",
    "len(csv_files)"
   ]
  },
  {
   "cell_type": "code",
   "execution_count": 86,
   "id": "5a85a118",
   "metadata": {},
   "outputs": [
    {
     "data": {
      "text/plain": [
       "(5628, 51)"
      ]
     },
     "execution_count": 86,
     "metadata": {},
     "output_type": "execute_result"
    }
   ],
   "source": [
    "li = []\n",
    "\n",
    "for filename in csv_files:\n",
    "    df = pd.read_csv(filename, index_col=None, header=0)\n",
    "    li.append(df)\n",
    "\n",
    "frame = pd.concat(li, axis=0, ignore_index=True)\n",
    "frame.shape"
   ]
  },
  {
   "cell_type": "code",
   "execution_count": 87,
   "id": "c43f2ae1",
   "metadata": {},
   "outputs": [
    {
     "data": {
      "text/plain": [
       "(5003, 51)"
      ]
     },
     "execution_count": 87,
     "metadata": {},
     "output_type": "execute_result"
    }
   ],
   "source": [
    "frame.drop_duplicates(subset='id', keep='last', inplace=True)\n",
    "frame.shape"
   ]
  },
  {
   "cell_type": "code",
   "execution_count": 76,
   "id": "ea59f2a0",
   "metadata": {},
   "outputs": [],
   "source": [
    "#frame.to_csv('all_scrabed_data_for_16_files.csv', index=None)"
   ]
  },
  {
   "cell_type": "markdown",
   "id": "cacedf7c",
   "metadata": {},
   "source": [
    "\n",
    "total_channels_id = frame['snippet.channelId']\n",
    "total_channels_id.to_csv(r'C:\\Users\\David\\Amber Heard Case\\Youtube\\SNA-AH-Case-YouTube\\scraping\\total_channels_id.csv', index=None)"
   ]
  },
  {
   "cell_type": "code",
   "execution_count": 81,
   "id": "bea4b625",
   "metadata": {},
   "outputs": [],
   "source": [
    "total = frame['id']\n",
    "total.to_csv(r'C:\\Users\\David\\Amber Heard Case\\Youtube\\SNA-AH-Case-YouTube\\scraping\\total.csv', index=None)"
   ]
  },
  {
   "cell_type": "code",
   "execution_count": null,
   "id": "6ab2bb76",
   "metadata": {},
   "outputs": [],
   "source": []
  }
 ],
 "metadata": {
  "kernelspec": {
   "display_name": "Python 3 (ipykernel)",
   "language": "python",
   "name": "python3"
  },
  "language_info": {
   "codemirror_mode": {
    "name": "ipython",
    "version": 3
   },
   "file_extension": ".py",
   "mimetype": "text/x-python",
   "name": "python",
   "nbconvert_exporter": "python",
   "pygments_lexer": "ipython3",
   "version": "3.8.12"
  }
 },
 "nbformat": 4,
 "nbformat_minor": 5
}
