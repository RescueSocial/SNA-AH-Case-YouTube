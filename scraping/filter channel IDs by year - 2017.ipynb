{
 "cells": [
  {
   "cell_type": "markdown",
   "id": "f8357d18",
   "metadata": {},
   "source": [
    "# Read channle IDs then search on it on json files"
   ]
  },
  {
   "cell_type": "code",
   "execution_count": 12,
   "id": "d025021b",
   "metadata": {},
   "outputs": [],
   "source": [
    "import pandas as pd\n",
    "import json\n",
    "import requests\n",
    "from io import StringIO\n",
    "from csv import reader\n",
    "import os\n",
    "import glob\n",
    "import numpy as np\n",
    "import shutil\n",
    "import time\n",
    "import datetime\n"
   ]
  },
  {
   "cell_type": "code",
   "execution_count": 13,
   "id": "54495266",
   "metadata": {},
   "outputs": [],
   "source": [
    "year = 2017\n",
    "url = r\"C:\\Users\\David\\Amber Heard Case\\Youtube\\New Data (filtered with 'amber' word)\\combinded for comments (filtered)\\comments filter by year(based on comment year Not main video)\\comments_data_{}.csv\".format(year)\n",
    "\n",
    "\n",
    "channels_ids = pd.read_csv(url, usecols=['snippet.topLevelComment.snippet.authorChannelId.value'])"
   ]
  },
  {
   "cell_type": "code",
   "execution_count": 14,
   "id": "27fe6a4f",
   "metadata": {},
   "outputs": [],
   "source": [
    "channels_ids = list(channels_ids['snippet.topLevelComment.snippet.authorChannelId.value'])\n",
    "channels_ids = set(channels_ids)\n",
    "channels_ids = list(channels_ids)"
   ]
  },
  {
   "cell_type": "code",
   "execution_count": 15,
   "id": "b35cd7a7",
   "metadata": {},
   "outputs": [
    {
     "data": {
      "text/plain": [
       "32756"
      ]
     },
     "execution_count": 15,
     "metadata": {},
     "output_type": "execute_result"
    }
   ],
   "source": [
    "len(channels_ids)"
   ]
  },
  {
   "cell_type": "code",
   "execution_count": 11,
   "id": "aa76c491",
   "metadata": {
    "scrolled": true
   },
   "outputs": [
    {
     "ename": "FileNotFoundError",
     "evalue": "[WinError 3] The system cannot find the path specified: \"C:\\\\Users\\\\David\\\\Amber Heard Case\\\\Youtube\\\\New Data (filtered with 'amber' word)\\\\channels info\\\\channels info for commenters - 1\"",
     "output_type": "error",
     "traceback": [
      "\u001b[1;31m---------------------------------------------------------------------------\u001b[0m",
      "\u001b[1;31mFileNotFoundError\u001b[0m                         Traceback (most recent call last)",
      "\u001b[1;32m~\\AppData\\Local\\Temp/ipykernel_1208/1023208328.py\u001b[0m in \u001b[0;36m<module>\u001b[1;34m\u001b[0m\n\u001b[0;32m      6\u001b[0m     \u001b[0mstart\u001b[0m \u001b[1;33m=\u001b[0m \u001b[0mtime\u001b[0m\u001b[1;33m.\u001b[0m\u001b[0mtime\u001b[0m\u001b[1;33m(\u001b[0m\u001b[1;33m)\u001b[0m\u001b[1;33m\u001b[0m\u001b[1;33m\u001b[0m\u001b[0m\n\u001b[0;32m      7\u001b[0m     \u001b[0mpath\u001b[0m \u001b[1;33m=\u001b[0m \u001b[1;34mr\"C:\\Users\\David\\Amber Heard Case\\Youtube\\New Data (filtered with 'amber' word)\\channels info\\channels info for commenters - {}\"\u001b[0m\u001b[1;33m.\u001b[0m\u001b[0mformat\u001b[0m\u001b[1;33m(\u001b[0m\u001b[0mii\u001b[0m\u001b[1;33m)\u001b[0m\u001b[1;33m\u001b[0m\u001b[1;33m\u001b[0m\u001b[0m\n\u001b[1;32m----> 8\u001b[1;33m     \u001b[0msource\u001b[0m \u001b[1;33m=\u001b[0m \u001b[0mos\u001b[0m\u001b[1;33m.\u001b[0m\u001b[0mlistdir\u001b[0m\u001b[1;33m(\u001b[0m\u001b[0mpath\u001b[0m\u001b[1;33m)\u001b[0m\u001b[1;33m\u001b[0m\u001b[1;33m\u001b[0m\u001b[0m\n\u001b[0m\u001b[0;32m      9\u001b[0m     \u001b[0mdestination\u001b[0m \u001b[1;33m=\u001b[0m \u001b[1;34mr\"C:\\Users\\David\\Amber Heard Case\\Youtube\\New Data (filtered with 'amber' word)\\channels info by years\\{}\\{}\"\u001b[0m\u001b[1;33m.\u001b[0m\u001b[0mformat\u001b[0m\u001b[1;33m(\u001b[0m\u001b[0myear\u001b[0m\u001b[1;33m,\u001b[0m \u001b[0mii\u001b[0m\u001b[1;33m)\u001b[0m\u001b[1;33m\u001b[0m\u001b[1;33m\u001b[0m\u001b[0m\n\u001b[0;32m     10\u001b[0m \u001b[1;33m\u001b[0m\u001b[0m\n",
      "\u001b[1;31mFileNotFoundError\u001b[0m: [WinError 3] The system cannot find the path specified: \"C:\\\\Users\\\\David\\\\Amber Heard Case\\\\Youtube\\\\New Data (filtered with 'amber' word)\\\\channels info\\\\channels info for commenters - 1\""
     ]
    }
   ],
   "source": [
    "# compare files in a dir with a list then copy the target to the destination:\n",
    "\n",
    "for ii in range(1, 25):\n",
    "    \n",
    "\n",
    "    start = time.time()\n",
    "    path = r\"C:\\Users\\David\\Amber Heard Case\\Youtube\\New Data (filtered with 'amber' word)\\channels info\\channels info for commenters - {}\".format(ii)\n",
    "    source = os.listdir(path)\n",
    "    destination = r\"C:\\Users\\David\\Amber Heard Case\\Youtube\\New Data (filtered with 'amber' word)\\channels info by years\\{}\\{}\".format(year, ii)\n",
    "\n",
    "    i = 0            \n",
    "    for file in source:\n",
    "        i+=1\n",
    "        if i % 500 == 0: print('file no:', i, 'in folder',ii)\n",
    "        if file.split('.')[0] in channels_ids:\n",
    "            shutil.copy(path + '/'+file, destination)\n",
    "            channels_ids.remove(file.split('.')[0])\n",
    "    end = time.time()\n",
    "    print(\"time in minuts:\", (end - start)/60)"
   ]
  },
  {
   "cell_type": "markdown",
   "id": "98cd6d5c",
   "metadata": {},
   "source": [
    "# See if IDs not obtainied data for:"
   ]
  },
  {
   "cell_type": "code",
   "execution_count": 28,
   "id": "d6a659f8",
   "metadata": {},
   "outputs": [
    {
     "name": "stdout",
     "output_type": "stream",
     "text": [
      "Count of channels we have info for:  32,748\n"
     ]
    }
   ],
   "source": [
    "# read all json files in folder and subfolder:\n",
    "path_to_json = r\"C:\\Users\\David\\Amber Heard Case\\Youtube\\New Data (filtered with 'amber' word)\\channels info by years\\2017\"\n",
    "names = []\n",
    "for root, dirs, files in os.walk(path_to_json):\n",
    "    for name in files:\n",
    "        if name.endswith((\".json\")):\n",
    "            names.append(name.split('.')[0])\n",
    "            full_path = os.path.join(root, name)\n",
    "names = set(names)\n",
    "names = list(names)\n",
    "print('Count of channels we have info for: ', f\"{len(names):,}\")"
   ]
  },
  {
   "cell_type": "code",
   "execution_count": 29,
   "id": "06709e76",
   "metadata": {},
   "outputs": [
    {
     "data": {
      "text/plain": [
       "65504"
      ]
     },
     "execution_count": 29,
     "metadata": {},
     "output_type": "execute_result"
    }
   ],
   "source": [
    "all_ids = channels_ids + names\n",
    "len(all_ids)"
   ]
  },
  {
   "cell_type": "code",
   "execution_count": 30,
   "id": "0a75aad5",
   "metadata": {},
   "outputs": [],
   "source": [
    "all_ids = pd.DataFrame(all_ids, columns=['id'])"
   ]
  },
  {
   "cell_type": "code",
   "execution_count": 31,
   "id": "4b56b090",
   "metadata": {},
   "outputs": [],
   "source": [
    "all_ids = all_ids.drop_duplicates(keep=False)"
   ]
  },
  {
   "cell_type": "code",
   "execution_count": 32,
   "id": "a874155a",
   "metadata": {},
   "outputs": [
    {
     "data": {
      "text/plain": [
       "(8, 1)"
      ]
     },
     "execution_count": 32,
     "metadata": {},
     "output_type": "execute_result"
    }
   ],
   "source": [
    "all_ids.shape"
   ]
  },
  {
   "cell_type": "code",
   "execution_count": 33,
   "id": "9f921f18",
   "metadata": {},
   "outputs": [],
   "source": [
    "all_ids.to_csv(r\"C:\\Users\\David\\Amber Heard Case\\Youtube\\New Data (filtered with 'amber' word)\\2017_channels_ids.csv\", index=None)"
   ]
  },
  {
   "cell_type": "markdown",
   "id": "fae6228d",
   "metadata": {},
   "source": [
    "# Reading JSON files and combine them:"
   ]
  },
  {
   "cell_type": "code",
   "execution_count": 34,
   "id": "7dac4209",
   "metadata": {},
   "outputs": [
    {
     "data": {
      "text/plain": [
       "32748"
      ]
     },
     "execution_count": 34,
     "metadata": {},
     "output_type": "execute_result"
    }
   ],
   "source": [
    "# read josn files and make a list with json files\n",
    "\n",
    "folder_no = 1\n",
    "path_to_json = r\"C:\\Users\\David\\Amber Heard Case\\Youtube\\New Data (filtered with 'amber' word)\\channels info by years\\2017\\{}\".format(folder_no)\n",
    "json_files = [pos_json for pos_json in os.listdir(path_to_json) if pos_json.endswith('.json')]\n",
    "json_files;  \n",
    "len(json_files)"
   ]
  },
  {
   "cell_type": "code",
   "execution_count": 35,
   "id": "2b480b03",
   "metadata": {
    "scrolled": true
   },
   "outputs": [
    {
     "name": "stdout",
     "output_type": "stream",
     "text": [
      "500 (500, 38) folder no: 1\n",
      "1000 (1000, 38) folder no: 1\n",
      "1500 (1500, 46) folder no: 1\n",
      "2000 (2000, 53) folder no: 1\n",
      "2500 (2500, 53) folder no: 1\n",
      "3000 (3000, 56) folder no: 1\n",
      "3500 (3500, 58) folder no: 1\n",
      "4000 (4000, 58) folder no: 1\n",
      "4500 (4500, 65) folder no: 1\n",
      "5000 (5000, 67) folder no: 1\n",
      "5500 (5500, 67) folder no: 1\n",
      "6000 (6000, 67) folder no: 1\n",
      "6500 (6500, 68) folder no: 1\n",
      "7000 (7000, 68) folder no: 1\n",
      "7500 (7500, 69) folder no: 1\n",
      "8000 (8000, 69) folder no: 1\n",
      "8500 (8500, 71) folder no: 1\n",
      "9000 (9000, 71) folder no: 1\n",
      "9500 (9500, 73) folder no: 1\n",
      "10000 (10000, 73) folder no: 1\n",
      "10500 (10500, 73) folder no: 1\n",
      "11000 (11000, 73) folder no: 1\n",
      "11500 (11500, 73) folder no: 1\n",
      "12000 (12000, 75) folder no: 1\n",
      "12500 (12500, 75) folder no: 1\n",
      "13000 (13000, 75) folder no: 1\n",
      "13500 (13500, 77) folder no: 1\n",
      "14000 (14000, 78) folder no: 1\n",
      "14500 (14500, 78) folder no: 1\n",
      "15000 (15000, 78) folder no: 1\n",
      "15500 (15500, 78) folder no: 1\n",
      "16000 (16000, 82) folder no: 1\n",
      "16500 (16500, 82) folder no: 1\n",
      "17000 (17000, 82) folder no: 1\n",
      "17500 (17500, 84) folder no: 1\n",
      "18000 (18000, 84) folder no: 1\n",
      "18500 (18500, 84) folder no: 1\n",
      "19000 (19000, 84) folder no: 1\n",
      "19500 (19500, 85) folder no: 1\n",
      "20000 (20000, 86) folder no: 1\n",
      "20500 (20500, 86) folder no: 1\n",
      "21000 (21000, 86) folder no: 1\n",
      "21500 (21500, 86) folder no: 1\n",
      "22000 (22000, 88) folder no: 1\n",
      "22500 (22500, 90) folder no: 1\n",
      "23000 (23000, 90) folder no: 1\n",
      "23500 (23500, 93) folder no: 1\n",
      "24000 (24000, 95) folder no: 1\n",
      "24500 (24500, 95) folder no: 1\n",
      "25000 (25000, 95) folder no: 1\n",
      "25500 (25500, 95) folder no: 1\n",
      "26000 (26000, 95) folder no: 1\n",
      "26500 (26500, 95) folder no: 1\n",
      "27000 (27000, 95) folder no: 1\n",
      "27500 (27500, 95) folder no: 1\n",
      "28000 (28000, 95) folder no: 1\n",
      "28500 (28500, 96) folder no: 1\n",
      "29000 (29000, 96) folder no: 1\n",
      "29500 (29500, 96) folder no: 1\n",
      "30000 (30000, 96) folder no: 1\n",
      "30500 (30500, 96) folder no: 1\n",
      "31000 (31000, 96) folder no: 1\n",
      "31500 (31500, 98) folder no: 1\n",
      "32000 (32000, 98) folder no: 1\n",
      "32500 (32500, 98) folder no: 1\n",
      "elapsed time: 37.3077810049057\n"
     ]
    },
    {
     "data": {
      "text/plain": [
       "(32748, 98)"
      ]
     },
     "execution_count": 35,
     "metadata": {},
     "output_type": "execute_result"
    }
   ],
   "source": [
    "# create a data frame with all json files:\n",
    "df = pd.DataFrame()\n",
    "start = time.time()\n",
    "i=0\n",
    "for file in json_files:\n",
    "    file_path = path_to_json + '/' + file\n",
    "    with open(file_path) as data_file:\n",
    "        i +=1\n",
    "        data = json.load(data_file)\n",
    "        df = df.append(pd.json_normalize(data))\n",
    "        if i % 500 == 0: print(i, df.shape, \"folder no:\", folder_no)\n",
    "end = time.time()\n",
    "print('elapsed time:',(end-start)/60)\n",
    "df.shape"
   ]
  },
  {
   "cell_type": "code",
   "execution_count": 36,
   "id": "8496475a",
   "metadata": {},
   "outputs": [
    {
     "data": {
      "text/plain": [
       "Index(['kind', 'etag', 'id', 'snippet.title', 'snippet.description',\n",
       "       'snippet.publishedAt', 'snippet.thumbnails.default.url',\n",
       "       'snippet.thumbnails.default.width', 'snippet.thumbnails.default.height',\n",
       "       'snippet.thumbnails.medium.url', 'snippet.thumbnails.medium.width',\n",
       "       'snippet.thumbnails.medium.height', 'snippet.thumbnails.high.url',\n",
       "       'snippet.thumbnails.high.width', 'snippet.thumbnails.high.height',\n",
       "       'snippet.localized.title', 'snippet.localized.description',\n",
       "       'contentDetails.relatedPlaylists.likes',\n",
       "       'contentDetails.relatedPlaylists.uploads', 'statistics.viewCount',\n",
       "       'statistics.subscriberCount', 'statistics.hiddenSubscriberCount',\n",
       "       'statistics.videoCount', 'status.privacyStatus', 'status.isLinked',\n",
       "       'status.longUploadsStatus', 'brandingSettings.channel.title',\n",
       "       'topicDetails.topicIds', 'topicDetails.topicCategories',\n",
       "       'brandingSettings.channel.description',\n",
       "       'brandingSettings.image.bannerExternalUrl',\n",
       "       'brandingSettings.channel.unsubscribedTrailer', 'snippet.customUrl',\n",
       "       'snippet.country', 'brandingSettings.channel.country',\n",
       "       'brandingSettings.channel.keywords', 'status.madeForKids',\n",
       "       'brandingSettings.channel.moderateComments',\n",
       "       'localizations.pt_BR.description', 'snippet.defaultLanguage',\n",
       "       'brandingSettings.channel.defaultLanguage', 'localizations.th_TH.title',\n",
       "       'localizations.th_TH.description', 'localizations.en_US.title',\n",
       "       'localizations.en_US.description', 'localizations.es_US.description',\n",
       "       'localizations.en_GB.title', 'localizations.en_GB.description',\n",
       "       'localizations.es_MX.title', 'localizations.es_MX.description',\n",
       "       'brandingSettings.channel.trackingAnalyticsAccountId',\n",
       "       'localizations.ms_MY.title', 'localizations.ms_MY.description',\n",
       "       'localizations.fr_FR.title', 'localizations.fr_FR.description',\n",
       "       'localizations.pt_BR.title', 'localizations.ar_EG.title',\n",
       "       'localizations.ar_EG.description', 'localizations.de_DE.title',\n",
       "       'localizations.de_DE.description', 'localizations.ru_RU.title',\n",
       "       'localizations.bg_BG.title', 'localizations.bg_BG.description',\n",
       "       'localizations.es_ES.title', 'localizations.es_ES.description',\n",
       "       'localizations.da_DK.title', 'localizations.da_DK.description',\n",
       "       'localizations.ja_JP.description', 'localizations.tr_TR.description',\n",
       "       'localizations.bn_BD.title', 'localizations.bn_BD.description',\n",
       "       'localizations.fil_PH.title', 'localizations.fil_PH.description',\n",
       "       'localizations.zh_TW.title', 'localizations.zh_TW.description',\n",
       "       'localizations.fr_CA.title', 'localizations.fr_CA.description',\n",
       "       'localizations.es_US.title', 'localizations.kn_IN.title',\n",
       "       'localizations.kn_IN.description', 'localizations.nl_NL.title',\n",
       "       'localizations.nl_NL.description', 'localizations.pl_PL.title',\n",
       "       'localizations.pl_PL.description', 'localizations.ko_KR.description',\n",
       "       'localizations.ro_RO.title', 'localizations.it_IT.title',\n",
       "       'localizations.it_IT.description', 'localizations.pt_PT.title',\n",
       "       'localizations.pt_PT.description', 'localizations.ja_JP.title',\n",
       "       'localizations.sq_AL.title', 'localizations.sq_AL.description',\n",
       "       'localizations.az_AZ.title', 'localizations.az_AZ.description',\n",
       "       'localizations.ru_RU.description', 'localizations.sw_TZ.title',\n",
       "       'localizations.sw_TZ.description'],\n",
       "      dtype='object')"
      ]
     },
     "execution_count": 36,
     "metadata": {},
     "output_type": "execute_result"
    }
   ],
   "source": [
    "df.columns"
   ]
  },
  {
   "cell_type": "code",
   "execution_count": 37,
   "id": "2d221d3f",
   "metadata": {},
   "outputs": [],
   "source": [
    "df = df[df.columns.drop(list(df.filter(regex='localizations')))]"
   ]
  },
  {
   "cell_type": "code",
   "execution_count": 38,
   "id": "ec50329a",
   "metadata": {},
   "outputs": [
    {
     "data": {
      "text/plain": [
       "(32748, 41)"
      ]
     },
     "execution_count": 38,
     "metadata": {},
     "output_type": "execute_result"
    }
   ],
   "source": [
    "df.shape"
   ]
  },
  {
   "cell_type": "code",
   "execution_count": null,
   "id": "20fe4c5d",
   "metadata": {},
   "outputs": [],
   "source": [
    "df.to_csv(r\"C:\\Users\\David\\Amber Heard Case\\Youtube\\New Data (filtered with 'amber' word)\\channels info by years\\2017\\folder {}.csv\".format(folder_no), index=None)"
   ]
  },
  {
   "cell_type": "markdown",
   "id": "2d02335e",
   "metadata": {},
   "source": [
    "# Read combined files for each folder and make 1 CSV file"
   ]
  },
  {
   "cell_type": "code",
   "execution_count": null,
   "id": "b0dacfbf",
   "metadata": {},
   "outputs": [],
   "source": [
    "# read josn files and make a list with json files\n",
    "# (make 1 change)\n",
    "\n",
    "path_to_csv = r\"C:\\Users\\David\\Amber Heard Case\\Youtube\\New Data (filtered with 'amber' word)\\channels info by years\\2017\"\n",
    "csv_files = [pos_csv for pos_csv in os.listdir(path_to_csv) if pos_csv.endswith('.csv')]\n",
    "csv_files;  \n",
    "len(csv_files)"
   ]
  },
  {
   "cell_type": "code",
   "execution_count": null,
   "id": "39a3a4e3",
   "metadata": {},
   "outputs": [],
   "source": [
    "df = pd.DataFrame()\n",
    "for file in csv_files:\n",
    "    temp_df = pd.read_csv(path_to_csv + '/' + file)\n",
    "    df = df.append(temp_df)\n",
    "df.shape"
   ]
  },
  {
   "cell_type": "code",
   "execution_count": 39,
   "id": "df22b5e1",
   "metadata": {},
   "outputs": [],
   "source": [
    "df.to_csv(r\"C:\\Users\\David\\Amber Heard Case\\Youtube\\New Data (filtered with 'amber' word)\\channels info by years\\2017\\channles_info_2017.csv\", index=None)"
   ]
  },
  {
   "cell_type": "code",
   "execution_count": null,
   "id": "ceb9dc71",
   "metadata": {},
   "outputs": [],
   "source": []
  },
  {
   "cell_type": "code",
   "execution_count": null,
   "id": "a353d1c6",
   "metadata": {},
   "outputs": [],
   "source": []
  }
 ],
 "metadata": {
  "kernelspec": {
   "display_name": "Python 3 (ipykernel)",
   "language": "python",
   "name": "python3"
  },
  "language_info": {
   "codemirror_mode": {
    "name": "ipython",
    "version": 3
   },
   "file_extension": ".py",
   "mimetype": "text/x-python",
   "name": "python",
   "nbconvert_exporter": "python",
   "pygments_lexer": "ipython3",
   "version": "3.8.12"
  }
 },
 "nbformat": 4,
 "nbformat_minor": 5
}
