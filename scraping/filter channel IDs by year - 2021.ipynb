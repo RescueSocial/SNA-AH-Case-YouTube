{
 "cells": [
  {
   "cell_type": "markdown",
   "id": "f8357d18",
   "metadata": {},
   "source": [
    "# Read channle IDs then search on it on json files"
   ]
  },
  {
   "cell_type": "code",
   "execution_count": 1,
   "id": "d025021b",
   "metadata": {},
   "outputs": [],
   "source": [
    "import pandas as pd\n",
    "import json\n",
    "import requests\n",
    "from io import StringIO\n",
    "from csv import reader\n",
    "import os\n",
    "import glob\n",
    "import numpy as np\n",
    "import shutil\n",
    "import time\n",
    "import datetime\n"
   ]
  },
  {
   "cell_type": "code",
   "execution_count": 4,
   "id": "54495266",
   "metadata": {},
   "outputs": [],
   "source": [
    "year = 2021\n",
    "url = r\"C:\\Users\\David\\Amber Heard Case\\Youtube\\New Data (filtered with 'amber' word)\\combinded for comments (filtered)\\comments filter by year(based on comment year Not main video)\\comments_data_{}.csv\".format(year)\n",
    "\n",
    "\n",
    "channels_ids = pd.read_csv(url, usecols=['snippet.topLevelComment.snippet.authorChannelId.value'])"
   ]
  },
  {
   "cell_type": "code",
   "execution_count": 5,
   "id": "27fe6a4f",
   "metadata": {},
   "outputs": [],
   "source": [
    "channels_ids = list(channels_ids['snippet.topLevelComment.snippet.authorChannelId.value'])\n",
    "channels_ids = set(channels_ids)\n",
    "channels_ids = list(channels_ids)"
   ]
  },
  {
   "cell_type": "code",
   "execution_count": 6,
   "id": "b35cd7a7",
   "metadata": {},
   "outputs": [
    {
     "data": {
      "text/plain": [
       "450538"
      ]
     },
     "execution_count": 6,
     "metadata": {},
     "output_type": "execute_result"
    }
   ],
   "source": [
    "len(channels_ids)"
   ]
  },
  {
   "cell_type": "code",
   "execution_count": null,
   "id": "aa76c491",
   "metadata": {
    "scrolled": true
   },
   "outputs": [],
   "source": [
    "# compare files in a dir with a list then copy the target to the destination:\n",
    "\n",
    "for ii in range(1, 25):\n",
    "    \n",
    "\n",
    "    start = time.time()\n",
    "    path = r\"C:\\Users\\David\\Amber Heard Case\\Youtube\\New Data (filtered with 'amber' word)\\channels info\\channels info for commenters - {}\".format(ii)\n",
    "    source = os.listdir(path)\n",
    "    destination = r\"C:\\Users\\David\\Amber Heard Case\\Youtube\\New Data (filtered with 'amber' word)\\channels info by years\\{}\\{}\".format(year, ii)\n",
    "\n",
    "    i = 0            \n",
    "    for file in source:\n",
    "        i+=1\n",
    "        if i % 500 == 0: print('file no:', i, 'in folder',ii)\n",
    "        if file.split('.')[0] in channels_ids:\n",
    "            shutil.copy(path + '/'+file, destination)\n",
    "            channels_ids.remove(file.split('.')[0])\n",
    "    end = time.time()\n",
    "    print(\"time in minuts:\", (end - start)/60)"
   ]
  },
  {
   "cell_type": "code",
   "execution_count": null,
   "id": "c5475da5",
   "metadata": {},
   "outputs": [],
   "source": []
  },
  {
   "cell_type": "markdown",
   "id": "62961d3b",
   "metadata": {},
   "source": [
    "# See if IDs not obtainied data for:"
   ]
  },
  {
   "cell_type": "code",
   "execution_count": 3,
   "id": "b7560d34",
   "metadata": {},
   "outputs": [
    {
     "name": "stdout",
     "output_type": "stream",
     "text": [
      "Count of channels we have info for:  338,294\n"
     ]
    }
   ],
   "source": [
    "# read all json files in folder and subfolder:\n",
    "path_to_json = r\"C:\\Users\\David\\Amber Heard Case\\Youtube\\New Data (filtered with 'amber' word)\\channels info by years\\2021\"\n",
    "names = []\n",
    "for root, dirs, files in os.walk(path_to_json):\n",
    "    for name in files:\n",
    "        if name.endswith((\".json\")):\n",
    "            names.append(name.split('.')[0])\n",
    "            full_path = os.path.join(root, name)\n",
    "names = set(names)\n",
    "names = list(names)\n",
    "print('Count of channels we have info for: ', f\"{len(names):,}\")"
   ]
  },
  {
   "cell_type": "code",
   "execution_count": 7,
   "id": "4b10eb2d",
   "metadata": {},
   "outputs": [
    {
     "data": {
      "text/plain": [
       "788832"
      ]
     },
     "execution_count": 7,
     "metadata": {},
     "output_type": "execute_result"
    }
   ],
   "source": [
    "all_ids = channels_ids + names\n",
    "len(all_ids)"
   ]
  },
  {
   "cell_type": "code",
   "execution_count": 8,
   "id": "4e098045",
   "metadata": {},
   "outputs": [],
   "source": [
    "all_ids = pd.DataFrame(all_ids, columns=['id'])"
   ]
  },
  {
   "cell_type": "code",
   "execution_count": 9,
   "id": "02609ce6",
   "metadata": {},
   "outputs": [],
   "source": [
    "all_ids = all_ids.drop_duplicates(keep=False)"
   ]
  },
  {
   "cell_type": "code",
   "execution_count": 10,
   "id": "7eb55ce2",
   "metadata": {},
   "outputs": [
    {
     "data": {
      "text/plain": [
       "(112244, 1)"
      ]
     },
     "execution_count": 10,
     "metadata": {},
     "output_type": "execute_result"
    }
   ],
   "source": [
    "all_ids.shape"
   ]
  },
  {
   "cell_type": "code",
   "execution_count": 11,
   "id": "18d35663",
   "metadata": {},
   "outputs": [],
   "source": [
    "all_ids.to_csv(r\"C:\\Users\\David\\Amber Heard Case\\Youtube\\New Data (filtered with 'amber' word)\\2021_channels_ids.csv\", index=None)"
   ]
  },
  {
   "cell_type": "code",
   "execution_count": null,
   "id": "96502d57",
   "metadata": {},
   "outputs": [],
   "source": []
  },
  {
   "cell_type": "markdown",
   "id": "ed498441",
   "metadata": {},
   "source": [
    "# Reading JSON files and combine them:"
   ]
  },
  {
   "cell_type": "code",
   "execution_count": 25,
   "id": "e4551c2c",
   "metadata": {},
   "outputs": [],
   "source": [
    "df = pd.DataFrame()"
   ]
  },
  {
   "cell_type": "code",
   "execution_count": 28,
   "id": "3349fbfa",
   "metadata": {},
   "outputs": [
    {
     "data": {
      "text/plain": [
       "30000"
      ]
     },
     "execution_count": 28,
     "metadata": {},
     "output_type": "execute_result"
    }
   ],
   "source": [
    "# read josn files and make a list with json files\n",
    "# (make 1 change)\n",
    "\n",
    "path_to_json = r\"C:\\Users\\David\\Amber Heard Case\\Youtube\\New Data (filtered with 'amber' word)\\channels info by years\\2021\\6\"\n",
    "json_files = [pos_json for pos_json in os.listdir(path_to_json) if pos_json.endswith('.json')]\n",
    "json_files;  \n",
    "len(json_files)"
   ]
  },
  {
   "cell_type": "code",
   "execution_count": 29,
   "id": "1065043e",
   "metadata": {
    "scrolled": true
   },
   "outputs": [
    {
     "name": "stdout",
     "output_type": "stream",
     "text": [
      "500 (30499, 110)\n",
      "1000 (30999, 110)\n",
      "1500 (31499, 110)\n",
      "2000 (31999, 110)\n",
      "2500 (32499, 112)\n",
      "3000 (32999, 112)\n",
      "3500 (33499, 112)\n",
      "4000 (33999, 115)\n",
      "4500 (34499, 115)\n",
      "5000 (34999, 115)\n",
      "5500 (35499, 115)\n",
      "6000 (35999, 115)\n",
      "6500 (36499, 115)\n",
      "7000 (36999, 117)\n",
      "7500 (37499, 117)\n",
      "8000 (37999, 119)\n",
      "8500 (38499, 121)\n",
      "9000 (38999, 121)\n",
      "9500 (39499, 121)\n",
      "10000 (39999, 121)\n",
      "10500 (40499, 121)\n",
      "11000 (40999, 121)\n",
      "11500 (41499, 123)\n",
      "12000 (41999, 123)\n",
      "12500 (42499, 123)\n",
      "13000 (42999, 123)\n",
      "13500 (43499, 123)\n",
      "14000 (43999, 123)\n",
      "14500 (44499, 123)\n",
      "15000 (44999, 123)\n",
      "15500 (45499, 123)\n",
      "16000 (45999, 123)\n",
      "16500 (46499, 123)\n",
      "17000 (46999, 125)\n",
      "17500 (47499, 125)\n",
      "18000 (47999, 125)\n",
      "18500 (48499, 125)\n",
      "19000 (48999, 125)\n",
      "19500 (49499, 125)\n",
      "20000 (49999, 125)\n",
      "20500 (50499, 125)\n",
      "21000 (50999, 125)\n",
      "21500 (51499, 125)\n",
      "22000 (51999, 125)\n",
      "22500 (52499, 125)\n",
      "23000 (52999, 131)\n",
      "23500 (53499, 131)\n",
      "24000 (53999, 131)\n",
      "24500 (54499, 131)\n",
      "25000 (54999, 131)\n",
      "25500 (55499, 131)\n",
      "26000 (55999, 131)\n",
      "26500 (56499, 131)\n",
      "27000 (56999, 131)\n",
      "27500 (57499, 131)\n",
      "28000 (57999, 131)\n",
      "28500 (58499, 131)\n",
      "29000 (58999, 131)\n",
      "29500 (59499, 131)\n",
      "30000 (59999, 131)\n",
      "elapsed time: 90.83383889198304\n"
     ]
    },
    {
     "data": {
      "text/plain": [
       "(60000, 131)"
      ]
     },
     "execution_count": 29,
     "metadata": {},
     "output_type": "execute_result"
    }
   ],
   "source": [
    "# create a data frame with all json files:\n",
    "start = time.time()\n",
    "i=0\n",
    "for file in json_files:\n",
    "    file_path = path_to_json + '/' + file\n",
    "    with open(file_path) as data_file:\n",
    "        i +=1\n",
    "        if i % 500 == 0: print(i, df.shape)\n",
    "        data = json.load(data_file)\n",
    "        df = df.append(pd.json_normalize(data))\n",
    "end = time.time()\n",
    "print('elapsed time:',(end-start)/60)\n",
    "df.shape"
   ]
  },
  {
   "cell_type": "code",
   "execution_count": 30,
   "id": "522eb0fd",
   "metadata": {},
   "outputs": [],
   "source": [
    "df.to_csv(r\"C:\\Users\\David\\Amber Heard Case\\Youtube\\New Data (filtered with 'amber' word)\\channels info by years\\2021\\folders 5 and 6.csv\", index=None)"
   ]
  },
  {
   "cell_type": "code",
   "execution_count": null,
   "id": "9128c8dc",
   "metadata": {},
   "outputs": [],
   "source": []
  }
 ],
 "metadata": {
  "kernelspec": {
   "display_name": "Python 3 (ipykernel)",
   "language": "python",
   "name": "python3"
  },
  "language_info": {
   "codemirror_mode": {
    "name": "ipython",
    "version": 3
   },
   "file_extension": ".py",
   "mimetype": "text/x-python",
   "name": "python",
   "nbconvert_exporter": "python",
   "pygments_lexer": "ipython3",
   "version": "3.8.12"
  }
 },
 "nbformat": 4,
 "nbformat_minor": 5
}
