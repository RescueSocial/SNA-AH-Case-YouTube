{
 "cells": [
  {
   "cell_type": "code",
   "execution_count": 31,
   "id": "fc8269aa",
   "metadata": {},
   "outputs": [],
   "source": [
    "import pandas as pd\n",
    "import json\n",
    "import requests\n",
    "from io import StringIO\n",
    "from csv import reader\n",
    "import os\n",
    "import glob"
   ]
  },
  {
   "cell_type": "markdown",
   "id": "ca2f117b",
   "metadata": {},
   "source": [
    "# Extracting Channels IDs from comments data files"
   ]
  },
  {
   "cell_type": "code",
   "execution_count": 32,
   "id": "ffee2348",
   "metadata": {},
   "outputs": [],
   "source": [
    "url1 = r\"C:\\Users\\David\\Amber Heard Case\\Youtube\\New Data (filtered with 'amber' word)\\combinded for comments\\combined files for videos comments info batch 1 (filtered)\\combined files for videos comments info batch 1.csv\"\n",
    "url2 = r\"C:\\Users\\David\\Amber Heard Case\\Youtube\\New Data (filtered with 'amber' word)\\combinded for comments\\combined files for videos comments info batch 2 (filtered)\\combined files for videos comments info batch 2.csv\"\n",
    "url3 = r\"C:\\Users\\David\\Amber Heard Case\\Youtube\\New Data (filtered with 'amber' word)\\combinded for comments\\combined files for videos comments info batch 3 (filtered)\\combined files for videos comments info batch 3.csv\"\n",
    "url4 = r\"C:\\Users\\David\\Amber Heard Case\\Youtube\\New Data (filtered with 'amber' word)\\combinded for comments\\combined files for videos comments info batch 4 (filtered)\\combined files for videos comments info batch 4.csv\"\n",
    "#url5 = r'C:\\Users\\David\\Amber Heard Case\\Youtube\\Data\\combined files for videos comments info batch 4\\scraped comments- JSON -5 Batch-4.csv'\n",
    "#url6 = r'C:\\Users\\David\\Amber Heard Case\\Youtube\\Data\\combined files for videos comments info batch 4\\scraped comments- JSON -6 Batch-4.csv'\n",
    "#url7 = r'C:\\Users\\David\\Amber Heard Case\\Youtube\\Data\\combined files for videos comments info batch 3\\scraped comments- JSON -7 Batch-2.csv'"
   ]
  },
  {
   "cell_type": "code",
   "execution_count": 36,
   "id": "5e11c25d",
   "metadata": {},
   "outputs": [],
   "source": [
    "batch_1_channels_id1 = pd.read_csv(url1, usecols=['snippet.topLevelComment.snippet.authorChannelId.value'])\n",
    "batch_1_channels_id2 = pd.read_csv(url2, usecols=['snippet.topLevelComment.snippet.authorChannelId.value'])\n",
    "batch_1_channels_id3 = pd.read_csv(url3, usecols=['snippet.topLevelComment.snippet.authorChannelId.value'])\n",
    "batch_1_channels_id4 = pd.read_csv(url4, usecols=['snippet.topLevelComment.snippet.authorChannelId.value'])\n",
    "#batch_1_channels_id5 = pd.read_csv(url5, usecols=[13])\n",
    "#batch_1_channels_id6 = pd.read_csv(url6, usecols=[13])\n",
    "#batch_1_channels_id7 = pd.read_csv(url7, usecols=[13])\n"
   ]
  },
  {
   "cell_type": "code",
   "execution_count": 37,
   "id": "55e74129",
   "metadata": {},
   "outputs": [
    {
     "data": {
      "text/html": [
       "<div>\n",
       "<style scoped>\n",
       "    .dataframe tbody tr th:only-of-type {\n",
       "        vertical-align: middle;\n",
       "    }\n",
       "\n",
       "    .dataframe tbody tr th {\n",
       "        vertical-align: top;\n",
       "    }\n",
       "\n",
       "    .dataframe thead th {\n",
       "        text-align: right;\n",
       "    }\n",
       "</style>\n",
       "<table border=\"1\" class=\"dataframe\">\n",
       "  <thead>\n",
       "    <tr style=\"text-align: right;\">\n",
       "      <th></th>\n",
       "      <th>snippet.topLevelComment.snippet.authorChannelId.value</th>\n",
       "    </tr>\n",
       "  </thead>\n",
       "  <tbody>\n",
       "    <tr>\n",
       "      <th>0</th>\n",
       "      <td>UC8TfvTdn4nAKPMuhw7-BGQQ</td>\n",
       "    </tr>\n",
       "    <tr>\n",
       "      <th>1</th>\n",
       "      <td>UCzeIlZiqg2FEVtpqR-R6WCw</td>\n",
       "    </tr>\n",
       "    <tr>\n",
       "      <th>2</th>\n",
       "      <td>UCzeIlZiqg2FEVtpqR-R6WCw</td>\n",
       "    </tr>\n",
       "    <tr>\n",
       "      <th>3</th>\n",
       "      <td>UCj9HuthoDUN4AzJSan8q4pw</td>\n",
       "    </tr>\n",
       "    <tr>\n",
       "      <th>4</th>\n",
       "      <td>UCfRjUnShSrwiNQGeBr_Nmyw</td>\n",
       "    </tr>\n",
       "    <tr>\n",
       "      <th>...</th>\n",
       "      <td>...</td>\n",
       "    </tr>\n",
       "    <tr>\n",
       "      <th>120209</th>\n",
       "      <td>UCRg3KZifWUnzqupMkhaY7jA</td>\n",
       "    </tr>\n",
       "    <tr>\n",
       "      <th>120210</th>\n",
       "      <td>UCKR14HJmoUDh73VlZY0EHEA</td>\n",
       "    </tr>\n",
       "    <tr>\n",
       "      <th>120211</th>\n",
       "      <td>UCtFDY41CuxB0v_M1vcP6bxw</td>\n",
       "    </tr>\n",
       "    <tr>\n",
       "      <th>120212</th>\n",
       "      <td>UCCNRJJ7jcr0NMST7sIzqWvA</td>\n",
       "    </tr>\n",
       "    <tr>\n",
       "      <th>120213</th>\n",
       "      <td>UCrGYhxT7EHyrpcyGmgjYOMQ</td>\n",
       "    </tr>\n",
       "  </tbody>\n",
       "</table>\n",
       "<p>120214 rows × 1 columns</p>\n",
       "</div>"
      ],
      "text/plain": [
       "       snippet.topLevelComment.snippet.authorChannelId.value\n",
       "0                                UC8TfvTdn4nAKPMuhw7-BGQQ   \n",
       "1                                UCzeIlZiqg2FEVtpqR-R6WCw   \n",
       "2                                UCzeIlZiqg2FEVtpqR-R6WCw   \n",
       "3                                UCj9HuthoDUN4AzJSan8q4pw   \n",
       "4                                UCfRjUnShSrwiNQGeBr_Nmyw   \n",
       "...                                                   ...   \n",
       "120209                           UCRg3KZifWUnzqupMkhaY7jA   \n",
       "120210                           UCKR14HJmoUDh73VlZY0EHEA   \n",
       "120211                           UCtFDY41CuxB0v_M1vcP6bxw   \n",
       "120212                           UCCNRJJ7jcr0NMST7sIzqWvA   \n",
       "120213                           UCrGYhxT7EHyrpcyGmgjYOMQ   \n",
       "\n",
       "[120214 rows x 1 columns]"
      ]
     },
     "execution_count": 37,
     "metadata": {},
     "output_type": "execute_result"
    }
   ],
   "source": [
    "batch_1_channels_id4"
   ]
  },
  {
   "cell_type": "code",
   "execution_count": 38,
   "id": "221a02d7",
   "metadata": {},
   "outputs": [],
   "source": [
    "total_channels = batch_1_channels_id1.append(batch_1_channels_id2)\n",
    "total_channels = total_channels.append(batch_1_channels_id3)\n",
    "total_channels = total_channels.append(batch_1_channels_id4)\n",
    "#total_channels = total_channels.append(batch_1_channels_id5)\n",
    "#total_channels = total_channels.append(batch_1_channels_id6)\n",
    "#total_channels = total_channels.append(batch_1_channels_id7)"
   ]
  },
  {
   "cell_type": "code",
   "execution_count": 39,
   "id": "c0ba160e",
   "metadata": {},
   "outputs": [
    {
     "data": {
      "text/plain": [
       "1464329"
      ]
     },
     "execution_count": 39,
     "metadata": {},
     "output_type": "execute_result"
    }
   ],
   "source": [
    "batch_1_channels_id1.shape[0] + batch_1_channels_id2.shape[0] + batch_1_channels_id3.shape[0] + batch_1_channels_id4.shape[0] #+ batch_1_channels_id5.shape[0] + batch_1_channels_id6.shape[0] + batch_1_channels_id7.shape[0]"
   ]
  },
  {
   "cell_type": "code",
   "execution_count": 40,
   "id": "266e8d60",
   "metadata": {
    "scrolled": true
   },
   "outputs": [
    {
     "data": {
      "text/plain": [
       "(1464329, 1)"
      ]
     },
     "execution_count": 40,
     "metadata": {},
     "output_type": "execute_result"
    }
   ],
   "source": [
    "total_channels.shape"
   ]
  },
  {
   "cell_type": "code",
   "execution_count": 41,
   "id": "93ba1535",
   "metadata": {},
   "outputs": [
    {
     "data": {
      "text/plain": [
       "(692529, 1)"
      ]
     },
     "execution_count": 41,
     "metadata": {},
     "output_type": "execute_result"
    }
   ],
   "source": [
    "total_channels.drop_duplicates(inplace=True, keep='first')\n",
    "total_channels.shape"
   ]
  },
  {
   "cell_type": "code",
   "execution_count": 42,
   "id": "a6e6cff3",
   "metadata": {},
   "outputs": [],
   "source": [
    "total_channels.to_csv(r'C:\\Users\\David\\Amber Heard Case\\Youtube\\Data\\channels IDs for obtaining\\all_batch_channels_id.csv', index=None)"
   ]
  },
  {
   "cell_type": "code",
   "execution_count": 29,
   "id": "cebab6ae",
   "metadata": {},
   "outputs": [
    {
     "ename": "FileNotFoundError",
     "evalue": "[WinError 3] The system cannot find the path specified: 'C:\\\\Users\\\\David\\\\Amber Heard Case\\\\Youtube\\\\SNA-AH-Case-YouTube\\\\scraping\\\\Channels info\\\\channels IDs for obtaining'",
     "output_type": "error",
     "traceback": [
      "\u001b[1;31m---------------------------------------------------------------------------\u001b[0m",
      "\u001b[1;31mFileNotFoundError\u001b[0m                         Traceback (most recent call last)",
      "\u001b[1;32m~\\AppData\\Local\\Temp/ipykernel_1360/2330220504.py\u001b[0m in \u001b[0;36m<module>\u001b[1;34m\u001b[0m\n\u001b[0;32m      1\u001b[0m \u001b[0mpath_to_csv\u001b[0m \u001b[1;33m=\u001b[0m \u001b[1;34mr'C:\\Users\\David\\Amber Heard Case\\Youtube\\SNA-AH-Case-YouTube\\scraping\\Channels info\\channels IDs for obtaining'\u001b[0m\u001b[1;33m\u001b[0m\u001b[1;33m\u001b[0m\u001b[0m\n\u001b[1;32m----> 2\u001b[1;33m \u001b[0mcsv_files\u001b[0m \u001b[1;33m=\u001b[0m \u001b[1;33m[\u001b[0m\u001b[0mpos_csv\u001b[0m \u001b[1;32mfor\u001b[0m \u001b[0mpos_csv\u001b[0m \u001b[1;32min\u001b[0m \u001b[0mos\u001b[0m\u001b[1;33m.\u001b[0m\u001b[0mlistdir\u001b[0m\u001b[1;33m(\u001b[0m\u001b[0mpath_to_csv\u001b[0m\u001b[1;33m)\u001b[0m \u001b[1;32mif\u001b[0m \u001b[0mpos_csv\u001b[0m\u001b[1;33m.\u001b[0m\u001b[0mendswith\u001b[0m\u001b[1;33m(\u001b[0m\u001b[1;34m'.csv'\u001b[0m\u001b[1;33m)\u001b[0m\u001b[1;33m]\u001b[0m\u001b[1;33m\u001b[0m\u001b[1;33m\u001b[0m\u001b[0m\n\u001b[0m\u001b[0;32m      3\u001b[0m \u001b[0mlen\u001b[0m\u001b[1;33m(\u001b[0m\u001b[0mcsv_files\u001b[0m\u001b[1;33m)\u001b[0m\u001b[1;33m\u001b[0m\u001b[1;33m\u001b[0m\u001b[0m\n",
      "\u001b[1;31mFileNotFoundError\u001b[0m: [WinError 3] The system cannot find the path specified: 'C:\\\\Users\\\\David\\\\Amber Heard Case\\\\Youtube\\\\SNA-AH-Case-YouTube\\\\scraping\\\\Channels info\\\\channels IDs for obtaining'"
     ]
    }
   ],
   "source": [
    "path_to_csv = r'C:\\Users\\David\\Amber Heard Case\\Youtube\\SNA-AH-Case-YouTube\\scraping\\Channels info\\channels IDs for obtaining'\n",
    "csv_files = [pos_csv for pos_csv in os.listdir(path_to_csv) if pos_csv.endswith('.csv')]\n",
    "len(csv_files)"
   ]
  },
  {
   "cell_type": "code",
   "execution_count": 7,
   "id": "762da297",
   "metadata": {},
   "outputs": [
    {
     "data": {
      "text/plain": [
       "(6022251, 1)"
      ]
     },
     "execution_count": 7,
     "metadata": {},
     "output_type": "execute_result"
    }
   ],
   "source": [
    "li = []\n",
    "\n",
    "for filename in csv_files:\n",
    "    df = pd.read_csv(path_to_csv+\"/\"+filename, index_col=None, header=0)\n",
    "    li.append(df)\n",
    "\n",
    "frame = pd.concat(li, axis=0, ignore_index=True)\n",
    "frame.shape"
   ]
  },
  {
   "cell_type": "code",
   "execution_count": 8,
   "id": "93d9673e",
   "metadata": {},
   "outputs": [
    {
     "data": {
      "text/plain": [
       "(4253016, 1)"
      ]
     },
     "execution_count": 8,
     "metadata": {},
     "output_type": "execute_result"
    }
   ],
   "source": [
    "frame.drop_duplicates(inplace=True)\n",
    "frame.shape"
   ]
  },
  {
   "cell_type": "code",
   "execution_count": null,
   "id": "00947f4a",
   "metadata": {},
   "outputs": [],
   "source": []
  }
 ],
 "metadata": {
  "kernelspec": {
   "display_name": "Python 3 (ipykernel)",
   "language": "python",
   "name": "python3"
  },
  "language_info": {
   "codemirror_mode": {
    "name": "ipython",
    "version": 3
   },
   "file_extension": ".py",
   "mimetype": "text/x-python",
   "name": "python",
   "nbconvert_exporter": "python",
   "pygments_lexer": "ipython3",
   "version": "3.8.12"
  }
 },
 "nbformat": 4,
 "nbformat_minor": 5
}
