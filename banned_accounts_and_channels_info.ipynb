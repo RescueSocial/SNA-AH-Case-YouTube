{
 "cells": [
  {
   "cell_type": "code",
   "execution_count": 1,
   "id": "6faf08e3",
   "metadata": {},
   "outputs": [],
   "source": [
    "import pandas as pd"
   ]
  },
  {
   "cell_type": "markdown",
   "id": "109e7a25",
   "metadata": {},
   "source": [
    "## Banned Accounts"
   ]
  },
  {
   "cell_type": "code",
   "execution_count": 2,
   "id": "1a1f22e5",
   "metadata": {},
   "outputs": [
    {
     "name": "stdout",
     "output_type": "stream",
     "text": [
      "D:\\New folder\n"
     ]
    }
   ],
   "source": [
    "cd .."
   ]
  },
  {
   "cell_type": "code",
   "execution_count": 3,
   "id": "9ad0cdb9",
   "metadata": {},
   "outputs": [
    {
     "name": "stdout",
     "output_type": "stream",
     "text": [
      " Volume in drive D has no label.\n",
      " Volume Serial Number is 4623-EF98\n",
      "\n",
      " Directory of D:\\New folder\n",
      "\n",
      "01/05/2022  02:18 PM    <DIR>          .\n",
      "01/05/2022  02:18 PM    <DIR>          ..\n",
      "12/26/2021  02:01 PM    <DIR>          [CSV] Combined by year [6893 videos](videos, comments and channels) (final 25Dec21)\n",
      "01/04/2022  07:39 AM       591,264,772 [CSV] Combined by year [6893 videos](videos, comments and channels) (final 25Dec21).rar\n",
      "11/11/2021  10:38 AM    <DIR>          Scenario Simulator Combined\n",
      "01/05/2022  10:17 PM    <DIR>          SNA-AH-Case-YouTube\n",
      "               1 File(s)    591,264,772 bytes\n",
      "               5 Dir(s)  67,705,548,800 bytes free\n"
     ]
    }
   ],
   "source": [
    "ls"
   ]
  },
  {
   "cell_type": "code",
   "execution_count": 4,
   "id": "3fd7ccb0",
   "metadata": {},
   "outputs": [
    {
     "name": "stdout",
     "output_type": "stream",
     "text": [
      "D:\\New folder\\[CSV] Combined by year [6893 videos](videos, comments and channels) (final 25Dec21)\n"
     ]
    }
   ],
   "source": [
    "cd \"[CSV] Combined by year [6893 videos](videos, comments and channels) (final 25Dec21)\""
   ]
  },
  {
   "cell_type": "code",
   "execution_count": 5,
   "id": "c7f9628c",
   "metadata": {},
   "outputs": [
    {
     "name": "stdout",
     "output_type": "stream",
     "text": [
      " Volume in drive D has no label.\n",
      " Volume Serial Number is 4623-EF98\n",
      "\n",
      " Directory of D:\\New folder\\[CSV] Combined by year [6893 videos](videos, comments and channels) (final 25Dec21)\n",
      "\n",
      "12/26/2021  02:01 PM    <DIR>          .\n",
      "12/26/2021  02:01 PM    <DIR>          ..\n",
      "12/26/2021  01:56 PM    <DIR>          Blocked users\n",
      "12/26/2021  02:00 PM    <DIR>          combined channels info by year\n",
      "12/20/2021  02:34 PM    <DIR>          combined files for videos by year\n",
      "12/20/2021  03:22 PM    <DIR>          comments filter by year(based on comment year Not main video)\n",
      "               0 File(s)              0 bytes\n",
      "               6 Dir(s)  67,705,548,800 bytes free\n"
     ]
    }
   ],
   "source": [
    "ls"
   ]
  },
  {
   "cell_type": "code",
   "execution_count": 6,
   "id": "8dd47b54",
   "metadata": {},
   "outputs": [
    {
     "name": "stdout",
     "output_type": "stream",
     "text": [
      "D:\\New folder\\[CSV] Combined by year [6893 videos](videos, comments and channels) (final 25Dec21)\\Blocked users\n"
     ]
    }
   ],
   "source": [
    "cd \"Blocked users\""
   ]
  },
  {
   "cell_type": "code",
   "execution_count": 7,
   "id": "c9a4007e",
   "metadata": {},
   "outputs": [
    {
     "name": "stdout",
     "output_type": "stream",
     "text": [
      " Volume in drive D has no label.\n",
      " Volume Serial Number is 4623-EF98\n",
      "\n",
      " Directory of D:\\New folder\\[CSV] Combined by year [6893 videos](videos, comments and channels) (final 25Dec21)\\Blocked users\n",
      "\n",
      "12/26/2021  01:56 PM    <DIR>          .\n",
      "12/26/2021  01:56 PM    <DIR>          ..\n",
      "12/25/2021  01:01 AM               108 2008-2013_channels_ids.csv\n",
      "12/25/2021  01:20 AM               242 2014_channels_ids.csv\n",
      "12/24/2021  11:55 PM               134 2015_channels_ids.csv\n",
      "12/24/2021  11:27 PM               138 2016_channels_ids.csv\n",
      "12/24/2021  10:34 PM               212 2017_channels_ids.csv\n",
      "12/26/2021  01:48 PM             2,192 2018_channels_ids.csv\n",
      "12/24/2021  08:19 PM             1,252 2019_channels_ids.csv\n",
      "12/24/2021  04:50 PM             7,184 2020_channels_ids.csv\n",
      "12/22/2021  06:36 PM            13,528 2021_channels_ids.csv\n",
      "12/26/2021  01:56 PM            29,758 all blocked users for all years.csv\n",
      "              10 File(s)         54,748 bytes\n",
      "               2 Dir(s)  67,705,548,800 bytes free\n"
     ]
    }
   ],
   "source": [
    "ls"
   ]
  },
  {
   "cell_type": "code",
   "execution_count": 8,
   "id": "79659eee",
   "metadata": {},
   "outputs": [],
   "source": [
    "df_blocked_users = pd.read_csv(\"all blocked users for all years.csv\")"
   ]
  },
  {
   "cell_type": "code",
   "execution_count": 9,
   "id": "29190672",
   "metadata": {},
   "outputs": [
    {
     "data": {
      "text/html": [
       "<div>\n",
       "<style scoped>\n",
       "    .dataframe tbody tr th:only-of-type {\n",
       "        vertical-align: middle;\n",
       "    }\n",
       "\n",
       "    .dataframe tbody tr th {\n",
       "        vertical-align: top;\n",
       "    }\n",
       "\n",
       "    .dataframe thead th {\n",
       "        text-align: right;\n",
       "    }\n",
       "</style>\n",
       "<table border=\"1\" class=\"dataframe\">\n",
       "  <thead>\n",
       "    <tr style=\"text-align: right;\">\n",
       "      <th></th>\n",
       "      <th>id</th>\n",
       "      <th>year</th>\n",
       "    </tr>\n",
       "  </thead>\n",
       "  <tbody>\n",
       "    <tr>\n",
       "      <th>0</th>\n",
       "      <td>UCMleEX13hy2xBPTuTYyJYBw</td>\n",
       "      <td>2021</td>\n",
       "    </tr>\n",
       "    <tr>\n",
       "      <th>1</th>\n",
       "      <td>UCduQXkqfUrxe_VbhswqZB8A</td>\n",
       "      <td>2021</td>\n",
       "    </tr>\n",
       "    <tr>\n",
       "      <th>2</th>\n",
       "      <td>UC-NXyHB89BMFPAFi6oGGvbQ</td>\n",
       "      <td>2021</td>\n",
       "    </tr>\n",
       "    <tr>\n",
       "      <th>3</th>\n",
       "      <td>UCmcI2wnOL0zZFXdhJ2zAbhA</td>\n",
       "      <td>2021</td>\n",
       "    </tr>\n",
       "    <tr>\n",
       "      <th>4</th>\n",
       "      <td>UCk2S3sNheHiyhx6zcUVUV4g</td>\n",
       "      <td>2021</td>\n",
       "    </tr>\n",
       "  </tbody>\n",
       "</table>\n",
       "</div>"
      ],
      "text/plain": [
       "                         id  year\n",
       "0  UCMleEX13hy2xBPTuTYyJYBw  2021\n",
       "1  UCduQXkqfUrxe_VbhswqZB8A  2021\n",
       "2  UC-NXyHB89BMFPAFi6oGGvbQ  2021\n",
       "3  UCmcI2wnOL0zZFXdhJ2zAbhA  2021\n",
       "4  UCk2S3sNheHiyhx6zcUVUV4g  2021"
      ]
     },
     "execution_count": 9,
     "metadata": {},
     "output_type": "execute_result"
    }
   ],
   "source": [
    "df_blocked_users.head()"
   ]
  },
  {
   "cell_type": "code",
   "execution_count": 10,
   "id": "b0cef3b0",
   "metadata": {},
   "outputs": [
    {
     "data": {
      "text/plain": [
       "33"
      ]
     },
     "execution_count": 10,
     "metadata": {},
     "output_type": "execute_result"
    }
   ],
   "source": [
    "sum(df_blocked_users[\"id\"].duplicated().values)"
   ]
  },
  {
   "cell_type": "code",
   "execution_count": 11,
   "id": "6c00d2b6",
   "metadata": {},
   "outputs": [
    {
     "data": {
      "text/html": [
       "<div>\n",
       "<style scoped>\n",
       "    .dataframe tbody tr th:only-of-type {\n",
       "        vertical-align: middle;\n",
       "    }\n",
       "\n",
       "    .dataframe tbody tr th {\n",
       "        vertical-align: top;\n",
       "    }\n",
       "\n",
       "    .dataframe thead th {\n",
       "        text-align: right;\n",
       "    }\n",
       "</style>\n",
       "<table border=\"1\" class=\"dataframe\">\n",
       "  <thead>\n",
       "    <tr style=\"text-align: right;\">\n",
       "      <th></th>\n",
       "      <th>id</th>\n",
       "      <th>year</th>\n",
       "    </tr>\n",
       "  </thead>\n",
       "  <tbody>\n",
       "    <tr>\n",
       "      <th>656</th>\n",
       "      <td>UC-Za54W_swfgXwdDD8la2Og</td>\n",
       "      <td>2020</td>\n",
       "    </tr>\n",
       "    <tr>\n",
       "      <th>894</th>\n",
       "      <td>UC2eg8mOD_WVoVIytK-otr7w</td>\n",
       "      <td>2018</td>\n",
       "    </tr>\n",
       "    <tr>\n",
       "      <th>671</th>\n",
       "      <td>UC3ZkI3Hf2sBjdXJhzQbYrmA</td>\n",
       "      <td>2020</td>\n",
       "    </tr>\n",
       "    <tr>\n",
       "      <th>853</th>\n",
       "      <td>UC3uzi4g7O4MMQvPVCRjogbg</td>\n",
       "      <td>2018</td>\n",
       "    </tr>\n",
       "    <tr>\n",
       "      <th>910</th>\n",
       "      <td>UC8gFiTKS6FBHFVdsSNfONyQ</td>\n",
       "      <td>2018</td>\n",
       "    </tr>\n",
       "    <tr>\n",
       "      <th>581</th>\n",
       "      <td>UC8gFiTKS6FBHFVdsSNfONyQ</td>\n",
       "      <td>2020</td>\n",
       "    </tr>\n",
       "    <tr>\n",
       "      <th>790</th>\n",
       "      <td>UC9aMk-P1VywT1l9vRzE_-AA</td>\n",
       "      <td>2020</td>\n",
       "    </tr>\n",
       "    <tr>\n",
       "      <th>529</th>\n",
       "      <td>UCAgP1VaK66TzJxx6LZTNoKw</td>\n",
       "      <td>2020</td>\n",
       "    </tr>\n",
       "    <tr>\n",
       "      <th>582</th>\n",
       "      <td>UCB-CYNvGbW9ZplwGqISGJLQ</td>\n",
       "      <td>2020</td>\n",
       "    </tr>\n",
       "    <tr>\n",
       "      <th>574</th>\n",
       "      <td>UCIP-rwRT-neNzaML_kgWhKQ</td>\n",
       "      <td>2020</td>\n",
       "    </tr>\n",
       "    <tr>\n",
       "      <th>856</th>\n",
       "      <td>UCKNdQaojdy31Ft76G7dq8pQ</td>\n",
       "      <td>2018</td>\n",
       "    </tr>\n",
       "    <tr>\n",
       "      <th>619</th>\n",
       "      <td>UCKTUVONGFuz8C-HqcM1IHOQ</td>\n",
       "      <td>2020</td>\n",
       "    </tr>\n",
       "    <tr>\n",
       "      <th>827</th>\n",
       "      <td>UCNkJgnRMGf27rPlcAqNAVKw</td>\n",
       "      <td>2019</td>\n",
       "    </tr>\n",
       "    <tr>\n",
       "      <th>672</th>\n",
       "      <td>UCPsvoJmcOw-B6v7S5x2CR6g</td>\n",
       "      <td>2020</td>\n",
       "    </tr>\n",
       "    <tr>\n",
       "      <th>687</th>\n",
       "      <td>UCRnszS6i284cpgwzr8x5lJA</td>\n",
       "      <td>2020</td>\n",
       "    </tr>\n",
       "    <tr>\n",
       "      <th>887</th>\n",
       "      <td>UCSW3d8G--3HPOc8pIYrAPtw</td>\n",
       "      <td>2018</td>\n",
       "    </tr>\n",
       "    <tr>\n",
       "      <th>521</th>\n",
       "      <td>UCSW3d8G--3HPOc8pIYrAPtw</td>\n",
       "      <td>2020</td>\n",
       "    </tr>\n",
       "    <tr>\n",
       "      <th>723</th>\n",
       "      <td>UCU7lvhV8AFEYHNNBtiEYgEQ</td>\n",
       "      <td>2020</td>\n",
       "    </tr>\n",
       "    <tr>\n",
       "      <th>925</th>\n",
       "      <td>UCV1CcOsLMf_LwOo88OX1IDQ</td>\n",
       "      <td>2018</td>\n",
       "    </tr>\n",
       "    <tr>\n",
       "      <th>938</th>\n",
       "      <td>UCX9ciOHN7zRGEWIo-2tdu3w</td>\n",
       "      <td>2016</td>\n",
       "    </tr>\n",
       "    <tr>\n",
       "      <th>701</th>\n",
       "      <td>UCcNTALqUH41OBAiv1bgYnyQ</td>\n",
       "      <td>2020</td>\n",
       "    </tr>\n",
       "    <tr>\n",
       "      <th>539</th>\n",
       "      <td>UCeYX2_MU1mN4dl7DZJDT2-w</td>\n",
       "      <td>2020</td>\n",
       "    </tr>\n",
       "    <tr>\n",
       "      <th>836</th>\n",
       "      <td>UCeikMBHHEdI-uq9FG5tPDZQ</td>\n",
       "      <td>2019</td>\n",
       "    </tr>\n",
       "    <tr>\n",
       "      <th>551</th>\n",
       "      <td>UCjMJFt1wwb5zKKuHmB19DQA</td>\n",
       "      <td>2020</td>\n",
       "    </tr>\n",
       "    <tr>\n",
       "      <th>930</th>\n",
       "      <td>UCoE9syjEjEPRMPQ08oF-QNA</td>\n",
       "      <td>2017</td>\n",
       "    </tr>\n",
       "    <tr>\n",
       "      <th>939</th>\n",
       "      <td>UCoE9syjEjEPRMPQ08oF-QNA</td>\n",
       "      <td>2016</td>\n",
       "    </tr>\n",
       "    <tr>\n",
       "      <th>834</th>\n",
       "      <td>UCoRzCNsGDhbRyJsxIAFe5xA</td>\n",
       "      <td>2019</td>\n",
       "    </tr>\n",
       "    <tr>\n",
       "      <th>883</th>\n",
       "      <td>UCoRzCNsGDhbRyJsxIAFe5xA</td>\n",
       "      <td>2018</td>\n",
       "    </tr>\n",
       "    <tr>\n",
       "      <th>941</th>\n",
       "      <td>UCoRzCNsGDhbRyJsxIAFe5xA</td>\n",
       "      <td>2015</td>\n",
       "    </tr>\n",
       "    <tr>\n",
       "      <th>917</th>\n",
       "      <td>UCp743YRRQ3uK6lQ1mMt37Xw</td>\n",
       "      <td>2018</td>\n",
       "    </tr>\n",
       "    <tr>\n",
       "      <th>865</th>\n",
       "      <td>UCtfTukQiflH_dgBgtgV44Kg</td>\n",
       "      <td>2018</td>\n",
       "    </tr>\n",
       "    <tr>\n",
       "      <th>880</th>\n",
       "      <td>UCuChDpbJEYi9s51RyVRXIPg</td>\n",
       "      <td>2018</td>\n",
       "    </tr>\n",
       "    <tr>\n",
       "      <th>647</th>\n",
       "      <td>UCxLxMm-NQYHo6Db4pi7mkcg</td>\n",
       "      <td>2020</td>\n",
       "    </tr>\n",
       "  </tbody>\n",
       "</table>\n",
       "</div>"
      ],
      "text/plain": [
       "                           id  year\n",
       "656  UC-Za54W_swfgXwdDD8la2Og  2020\n",
       "894  UC2eg8mOD_WVoVIytK-otr7w  2018\n",
       "671  UC3ZkI3Hf2sBjdXJhzQbYrmA  2020\n",
       "853  UC3uzi4g7O4MMQvPVCRjogbg  2018\n",
       "910  UC8gFiTKS6FBHFVdsSNfONyQ  2018\n",
       "581  UC8gFiTKS6FBHFVdsSNfONyQ  2020\n",
       "790  UC9aMk-P1VywT1l9vRzE_-AA  2020\n",
       "529  UCAgP1VaK66TzJxx6LZTNoKw  2020\n",
       "582  UCB-CYNvGbW9ZplwGqISGJLQ  2020\n",
       "574  UCIP-rwRT-neNzaML_kgWhKQ  2020\n",
       "856  UCKNdQaojdy31Ft76G7dq8pQ  2018\n",
       "619  UCKTUVONGFuz8C-HqcM1IHOQ  2020\n",
       "827  UCNkJgnRMGf27rPlcAqNAVKw  2019\n",
       "672  UCPsvoJmcOw-B6v7S5x2CR6g  2020\n",
       "687  UCRnszS6i284cpgwzr8x5lJA  2020\n",
       "887  UCSW3d8G--3HPOc8pIYrAPtw  2018\n",
       "521  UCSW3d8G--3HPOc8pIYrAPtw  2020\n",
       "723  UCU7lvhV8AFEYHNNBtiEYgEQ  2020\n",
       "925  UCV1CcOsLMf_LwOo88OX1IDQ  2018\n",
       "938  UCX9ciOHN7zRGEWIo-2tdu3w  2016\n",
       "701  UCcNTALqUH41OBAiv1bgYnyQ  2020\n",
       "539  UCeYX2_MU1mN4dl7DZJDT2-w  2020\n",
       "836  UCeikMBHHEdI-uq9FG5tPDZQ  2019\n",
       "551  UCjMJFt1wwb5zKKuHmB19DQA  2020\n",
       "930  UCoE9syjEjEPRMPQ08oF-QNA  2017\n",
       "939  UCoE9syjEjEPRMPQ08oF-QNA  2016\n",
       "834  UCoRzCNsGDhbRyJsxIAFe5xA  2019\n",
       "883  UCoRzCNsGDhbRyJsxIAFe5xA  2018\n",
       "941  UCoRzCNsGDhbRyJsxIAFe5xA  2015\n",
       "917  UCp743YRRQ3uK6lQ1mMt37Xw  2018\n",
       "865  UCtfTukQiflH_dgBgtgV44Kg  2018\n",
       "880  UCuChDpbJEYi9s51RyVRXIPg  2018\n",
       "647  UCxLxMm-NQYHo6Db4pi7mkcg  2020"
      ]
     },
     "execution_count": 11,
     "metadata": {},
     "output_type": "execute_result"
    }
   ],
   "source": [
    "df_blocked_users[df_blocked_users[\"id\"].duplicated()].sort_values(\"id\")"
   ]
  },
  {
   "cell_type": "code",
   "execution_count": 12,
   "id": "6b9b91a4",
   "metadata": {},
   "outputs": [
    {
     "data": {
      "text/html": [
       "<div>\n",
       "<style scoped>\n",
       "    .dataframe tbody tr th:only-of-type {\n",
       "        vertical-align: middle;\n",
       "    }\n",
       "\n",
       "    .dataframe tbody tr th {\n",
       "        vertical-align: top;\n",
       "    }\n",
       "\n",
       "    .dataframe thead th {\n",
       "        text-align: right;\n",
       "    }\n",
       "</style>\n",
       "<table border=\"1\" class=\"dataframe\">\n",
       "  <thead>\n",
       "    <tr style=\"text-align: right;\">\n",
       "      <th></th>\n",
       "      <th>id</th>\n",
       "      <th>year</th>\n",
       "    </tr>\n",
       "  </thead>\n",
       "  <tbody>\n",
       "    <tr>\n",
       "      <th>259</th>\n",
       "      <td>UC-Za54W_swfgXwdDD8la2Og</td>\n",
       "      <td>2021</td>\n",
       "    </tr>\n",
       "    <tr>\n",
       "      <th>656</th>\n",
       "      <td>UC-Za54W_swfgXwdDD8la2Og</td>\n",
       "      <td>2020</td>\n",
       "    </tr>\n",
       "  </tbody>\n",
       "</table>\n",
       "</div>"
      ],
      "text/plain": [
       "                           id  year\n",
       "259  UC-Za54W_swfgXwdDD8la2Og  2021\n",
       "656  UC-Za54W_swfgXwdDD8la2Og  2020"
      ]
     },
     "execution_count": 12,
     "metadata": {},
     "output_type": "execute_result"
    }
   ],
   "source": [
    "df_blocked_users[df_blocked_users.id == \"UC-Za54W_swfgXwdDD8la2Og\"]"
   ]
  },
  {
   "cell_type": "code",
   "execution_count": 13,
   "id": "a243e6f2",
   "metadata": {},
   "outputs": [
    {
     "data": {
      "text/html": [
       "<div>\n",
       "<style scoped>\n",
       "    .dataframe tbody tr th:only-of-type {\n",
       "        vertical-align: middle;\n",
       "    }\n",
       "\n",
       "    .dataframe tbody tr th {\n",
       "        vertical-align: top;\n",
       "    }\n",
       "\n",
       "    .dataframe thead th {\n",
       "        text-align: right;\n",
       "    }\n",
       "</style>\n",
       "<table border=\"1\" class=\"dataframe\">\n",
       "  <thead>\n",
       "    <tr style=\"text-align: right;\">\n",
       "      <th></th>\n",
       "      <th>id</th>\n",
       "      <th>year</th>\n",
       "    </tr>\n",
       "  </thead>\n",
       "  <tbody>\n",
       "    <tr>\n",
       "      <th>384</th>\n",
       "      <td>UCeikMBHHEdI-uq9FG5tPDZQ</td>\n",
       "      <td>2021</td>\n",
       "    </tr>\n",
       "    <tr>\n",
       "      <th>836</th>\n",
       "      <td>UCeikMBHHEdI-uq9FG5tPDZQ</td>\n",
       "      <td>2019</td>\n",
       "    </tr>\n",
       "  </tbody>\n",
       "</table>\n",
       "</div>"
      ],
      "text/plain": [
       "                           id  year\n",
       "384  UCeikMBHHEdI-uq9FG5tPDZQ  2021\n",
       "836  UCeikMBHHEdI-uq9FG5tPDZQ  2019"
      ]
     },
     "execution_count": 13,
     "metadata": {},
     "output_type": "execute_result"
    }
   ],
   "source": [
    "df_blocked_users[df_blocked_users.id == \"UCeikMBHHEdI-uq9FG5tPDZQ\"]"
   ]
  },
  {
   "cell_type": "markdown",
   "id": "7d8a6118",
   "metadata": {},
   "source": [
    "**<font color='red'>Is the account Id assigned to another new account after the first one is banned?</font>**"
   ]
  },
  {
   "cell_type": "markdown",
   "id": "dc9cc60d",
   "metadata": {},
   "source": [
    "## Channels Info"
   ]
  },
  {
   "cell_type": "code",
   "execution_count": 14,
   "id": "b3058eb8",
   "metadata": {},
   "outputs": [
    {
     "name": "stdout",
     "output_type": "stream",
     "text": [
      "D:\\New folder\\[CSV] Combined by year [6893 videos](videos, comments and channels) (final 25Dec21)\n"
     ]
    }
   ],
   "source": [
    "cd .."
   ]
  },
  {
   "cell_type": "code",
   "execution_count": 15,
   "id": "a9d31155",
   "metadata": {},
   "outputs": [
    {
     "name": "stdout",
     "output_type": "stream",
     "text": [
      " Volume in drive D has no label.\n",
      " Volume Serial Number is 4623-EF98\n",
      "\n",
      " Directory of D:\\New folder\\[CSV] Combined by year [6893 videos](videos, comments and channels) (final 25Dec21)\n",
      "\n",
      "12/26/2021  02:01 PM    <DIR>          .\n",
      "12/26/2021  02:01 PM    <DIR>          ..\n",
      "12/26/2021  01:56 PM    <DIR>          Blocked users\n",
      "12/26/2021  02:00 PM    <DIR>          combined channels info by year\n",
      "12/20/2021  02:34 PM    <DIR>          combined files for videos by year\n",
      "12/20/2021  03:22 PM    <DIR>          comments filter by year(based on comment year Not main video)\n",
      "               0 File(s)              0 bytes\n",
      "               6 Dir(s)  67,705,548,800 bytes free\n"
     ]
    }
   ],
   "source": [
    "ls"
   ]
  },
  {
   "cell_type": "code",
   "execution_count": 16,
   "id": "08fe22c1",
   "metadata": {},
   "outputs": [
    {
     "name": "stdout",
     "output_type": "stream",
     "text": [
      "D:\\New folder\\[CSV] Combined by year [6893 videos](videos, comments and channels) (final 25Dec21)\\combined channels info by year\n"
     ]
    }
   ],
   "source": [
    "cd \"combined channels info by year\""
   ]
  },
  {
   "cell_type": "code",
   "execution_count": 17,
   "id": "3a72c3d1",
   "metadata": {},
   "outputs": [
    {
     "name": "stdout",
     "output_type": "stream",
     "text": [
      " Volume in drive D has no label.\n",
      " Volume Serial Number is 4623-EF98\n",
      "\n",
      " Directory of D:\\New folder\\[CSV] Combined by year [6893 videos](videos, comments and channels) (final 25Dec21)\\combined channels info by year\n",
      "\n",
      "12/26/2021  02:00 PM    <DIR>          .\n",
      "12/26/2021  02:00 PM    <DIR>          ..\n",
      "12/25/2021  01:10 AM         8,990,826 channles_info_2008-2013.csv\n",
      "12/25/2021  01:24 AM        25,645,625 channles_info_2014.csv\n",
      "12/25/2021  12:13 AM        14,046,633 channles_info_2015.csv\n",
      "12/25/2021  12:24 AM        26,616,411 channles_info_2016.csv\n",
      "12/24/2021  11:22 PM        23,032,718 channles_info_2017.csv\n",
      "12/26/2021  02:00 PM       100,570,157 channles_info_2018.csv\n",
      "12/24/2021  08:46 PM        60,045,164 channles_info_2019.csv\n",
      "12/24/2021  05:31 PM       323,916,426 channles_info_2020.csv\n",
      "12/23/2021  11:28 PM       251,573,878 channles_info_2021.csv\n",
      "               9 File(s)    834,437,838 bytes\n",
      "               2 Dir(s)  67,705,548,800 bytes free\n"
     ]
    }
   ],
   "source": [
    "ls"
   ]
  },
  {
   "cell_type": "code",
   "execution_count": 18,
   "id": "5ab06e8d",
   "metadata": {},
   "outputs": [],
   "source": [
    "df_channed_21 = pd.read_csv(\"channles_info_2021.csv\")"
   ]
  },
  {
   "cell_type": "code",
   "execution_count": 19,
   "id": "348a602f",
   "metadata": {},
   "outputs": [
    {
     "data": {
      "text/plain": [
       "(347618, 41)"
      ]
     },
     "execution_count": 19,
     "metadata": {},
     "output_type": "execute_result"
    }
   ],
   "source": [
    "df_channed_21.shape"
   ]
  },
  {
   "cell_type": "code",
   "execution_count": 20,
   "id": "311e36ba",
   "metadata": {},
   "outputs": [
    {
     "data": {
      "text/html": [
       "<div>\n",
       "<style scoped>\n",
       "    .dataframe tbody tr th:only-of-type {\n",
       "        vertical-align: middle;\n",
       "    }\n",
       "\n",
       "    .dataframe tbody tr th {\n",
       "        vertical-align: top;\n",
       "    }\n",
       "\n",
       "    .dataframe thead th {\n",
       "        text-align: right;\n",
       "    }\n",
       "</style>\n",
       "<table border=\"1\" class=\"dataframe\">\n",
       "  <thead>\n",
       "    <tr style=\"text-align: right;\">\n",
       "      <th></th>\n",
       "      <th>kind</th>\n",
       "      <th>etag</th>\n",
       "      <th>id</th>\n",
       "      <th>snippet.title</th>\n",
       "      <th>snippet.description</th>\n",
       "      <th>snippet.publishedAt</th>\n",
       "      <th>snippet.thumbnails.default.url</th>\n",
       "      <th>snippet.thumbnails.default.width</th>\n",
       "      <th>snippet.thumbnails.default.height</th>\n",
       "      <th>snippet.thumbnails.medium.url</th>\n",
       "      <th>...</th>\n",
       "      <th>status.madeForKids</th>\n",
       "      <th>brandingSettings.channel.description</th>\n",
       "      <th>brandingSettings.channel.defaultLanguage</th>\n",
       "      <th>brandingSettings.channel.country</th>\n",
       "      <th>brandingSettings.image.bannerExternalUrl</th>\n",
       "      <th>brandingSettings.channel.keywords</th>\n",
       "      <th>brandingSettings.channel.unsubscribedTrailer</th>\n",
       "      <th>brandingSettings.channel.moderateComments</th>\n",
       "      <th>snippet.customUrl</th>\n",
       "      <th>brandingSettings.channel.trackingAnalyticsAccountId</th>\n",
       "    </tr>\n",
       "  </thead>\n",
       "  <tbody>\n",
       "    <tr>\n",
       "      <th>0</th>\n",
       "      <td>youtube#channel</td>\n",
       "      <td>ufAfvZ7KdGVW_JsmrLBUo-phE0I</td>\n",
       "      <td>UC--AstY5260JjJjMi8llM9g</td>\n",
       "      <td>Thăng Long Nguyễn Vũ</td>\n",
       "      <td>NaN</td>\n",
       "      <td>2014-08-05T03:34:39Z</td>\n",
       "      <td>https://yt3.ggpht.com/ytc/AKedOLR_hLp2SYU3rmrY...</td>\n",
       "      <td>88</td>\n",
       "      <td>88</td>\n",
       "      <td>https://yt3.ggpht.com/ytc/AKedOLR_hLp2SYU3rmrY...</td>\n",
       "      <td>...</td>\n",
       "      <td>NaN</td>\n",
       "      <td>NaN</td>\n",
       "      <td>NaN</td>\n",
       "      <td>NaN</td>\n",
       "      <td>NaN</td>\n",
       "      <td>NaN</td>\n",
       "      <td>NaN</td>\n",
       "      <td>NaN</td>\n",
       "      <td>NaN</td>\n",
       "      <td>NaN</td>\n",
       "    </tr>\n",
       "  </tbody>\n",
       "</table>\n",
       "<p>1 rows × 41 columns</p>\n",
       "</div>"
      ],
      "text/plain": [
       "              kind                         etag                        id  \\\n",
       "0  youtube#channel  ufAfvZ7KdGVW_JsmrLBUo-phE0I  UC--AstY5260JjJjMi8llM9g   \n",
       "\n",
       "          snippet.title snippet.description   snippet.publishedAt  \\\n",
       "0  Thăng Long Nguyễn Vũ                 NaN  2014-08-05T03:34:39Z   \n",
       "\n",
       "                      snippet.thumbnails.default.url  \\\n",
       "0  https://yt3.ggpht.com/ytc/AKedOLR_hLp2SYU3rmrY...   \n",
       "\n",
       "   snippet.thumbnails.default.width  snippet.thumbnails.default.height  \\\n",
       "0                                88                                 88   \n",
       "\n",
       "                       snippet.thumbnails.medium.url  ...  status.madeForKids  \\\n",
       "0  https://yt3.ggpht.com/ytc/AKedOLR_hLp2SYU3rmrY...  ...                 NaN   \n",
       "\n",
       "   brandingSettings.channel.description  \\\n",
       "0                                   NaN   \n",
       "\n",
       "  brandingSettings.channel.defaultLanguage  brandingSettings.channel.country  \\\n",
       "0                                      NaN                               NaN   \n",
       "\n",
       "   brandingSettings.image.bannerExternalUrl brandingSettings.channel.keywords  \\\n",
       "0                                       NaN                               NaN   \n",
       "\n",
       "  brandingSettings.channel.unsubscribedTrailer  \\\n",
       "0                                          NaN   \n",
       "\n",
       "   brandingSettings.channel.moderateComments snippet.customUrl  \\\n",
       "0                                        NaN               NaN   \n",
       "\n",
       "   brandingSettings.channel.trackingAnalyticsAccountId  \n",
       "0                                                NaN    \n",
       "\n",
       "[1 rows x 41 columns]"
      ]
     },
     "execution_count": 20,
     "metadata": {},
     "output_type": "execute_result"
    }
   ],
   "source": [
    "df_channed_21.head(1)"
   ]
  }
 ],
 "metadata": {
  "kernelspec": {
   "display_name": "Python 3",
   "language": "python",
   "name": "python3"
  },
  "language_info": {
   "codemirror_mode": {
    "name": "ipython",
    "version": 3
   },
   "file_extension": ".py",
   "mimetype": "text/x-python",
   "name": "python",
   "nbconvert_exporter": "python",
   "pygments_lexer": "ipython3",
   "version": "3.8.8"
  }
 },
 "nbformat": 4,
 "nbformat_minor": 5
}
