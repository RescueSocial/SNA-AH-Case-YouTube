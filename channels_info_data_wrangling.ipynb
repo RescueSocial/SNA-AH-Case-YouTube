{
 "cells": [
  {
   "cell_type": "markdown",
   "id": "0dde9eec",
   "metadata": {},
   "source": [
    "# Channels info Data Wrangling\n",
    "<b>Adel Abu Hashim<br>\n",
    "5 Jan 2022"
   ]
  },
  {
   "cell_type": "code",
   "execution_count": 28,
   "id": "7ff80cad",
   "metadata": {},
   "outputs": [],
   "source": [
    "import pandas as pd\n",
    "import os\n",
    "import ast"
   ]
  },
  {
   "cell_type": "code",
   "execution_count": 2,
   "id": "f9260386",
   "metadata": {},
   "outputs": [
    {
     "name": "stdout",
     "output_type": "stream",
     "text": [
      "D:\\New folder\\[CSV] Combined by year [6893 videos](videos, comments and channels) (final 25Dec21)\\combined channels info by year\n"
     ]
    }
   ],
   "source": [
    "cd \"../[CSV] Combined by year [6893 videos](videos, comments and channels) (final 25Dec21)/combined channels info by year\""
   ]
  },
  {
   "cell_type": "code",
   "execution_count": 3,
   "id": "ae19c706",
   "metadata": {},
   "outputs": [
    {
     "name": "stdout",
     "output_type": "stream",
     "text": [
      " Volume in drive D has no label.\n",
      " Volume Serial Number is 4623-EF98\n",
      "\n",
      " Directory of D:\\New folder\\[CSV] Combined by year [6893 videos](videos, comments and channels) (final 25Dec21)\\combined channels info by year\n",
      "\n",
      "12/26/2021  02:00 PM    <DIR>          .\n",
      "12/26/2021  02:00 PM    <DIR>          ..\n",
      "12/25/2021  01:10 AM         8,990,826 channles_info_2008-2013.csv\n",
      "12/25/2021  01:24 AM        25,645,625 channles_info_2014.csv\n",
      "12/25/2021  12:13 AM        14,046,633 channles_info_2015.csv\n",
      "12/25/2021  12:24 AM        26,616,411 channles_info_2016.csv\n",
      "12/24/2021  11:22 PM        23,032,718 channles_info_2017.csv\n",
      "12/26/2021  02:00 PM       100,570,157 channles_info_2018.csv\n",
      "12/24/2021  08:46 PM        60,045,164 channles_info_2019.csv\n",
      "12/24/2021  05:31 PM       323,916,426 channles_info_2020.csv\n",
      "12/23/2021  11:28 PM       251,573,878 channles_info_2021.csv\n",
      "               9 File(s)    834,437,838 bytes\n",
      "               2 Dir(s)  67,705,548,800 bytes free\n"
     ]
    }
   ],
   "source": [
    "ls"
   ]
  },
  {
   "cell_type": "code",
   "execution_count": 4,
   "id": "6e1e924c",
   "metadata": {},
   "outputs": [
    {
     "data": {
      "text/plain": [
       "['channles_info_2008-2013.csv',\n",
       " 'channles_info_2014.csv',\n",
       " 'channles_info_2015.csv',\n",
       " 'channles_info_2016.csv',\n",
       " 'channles_info_2017.csv',\n",
       " 'channles_info_2018.csv',\n",
       " 'channles_info_2019.csv',\n",
       " 'channles_info_2020.csv',\n",
       " 'channles_info_2021.csv']"
      ]
     },
     "execution_count": 4,
     "metadata": {},
     "output_type": "execute_result"
    }
   ],
   "source": [
    "os.listdir()"
   ]
  },
  {
   "cell_type": "markdown",
   "id": "0b357f52",
   "metadata": {},
   "source": [
    "### Load data into data frames"
   ]
  },
  {
   "cell_type": "code",
   "execution_count": 5,
   "id": "d283dad3",
   "metadata": {},
   "outputs": [],
   "source": [
    "df_old = pd.read_csv(\"channles_info_2008-2013.csv\")"
   ]
  },
  {
   "cell_type": "code",
   "execution_count": 6,
   "id": "f8e51c7e",
   "metadata": {},
   "outputs": [],
   "source": [
    "df_14 = pd.read_csv('channles_info_2014.csv')\n",
    "df_15 = pd.read_csv('channles_info_2015.csv')\n",
    "df_16 = pd.read_csv('channles_info_2016.csv')\n",
    "df_17 = pd.read_csv('channles_info_2017.csv')\n",
    "df_18 = pd.read_csv('channles_info_2018.csv')\n",
    "df_19 = pd.read_csv('channles_info_2019.csv')\n",
    "df_20 = pd.read_csv('channles_info_2020.csv')\n",
    "df_21 = pd.read_csv('channles_info_2021.csv')"
   ]
  },
  {
   "cell_type": "code",
   "execution_count": 7,
   "id": "650f7a13",
   "metadata": {},
   "outputs": [],
   "source": [
    "pd.set_option('display.max_columns', 45)"
   ]
  },
  {
   "cell_type": "markdown",
   "id": "9ed83b7d",
   "metadata": {},
   "source": [
    "## Merge Data into one df"
   ]
  },
  {
   "cell_type": "code",
   "execution_count": 50,
   "id": "07e4a8f6",
   "metadata": {},
   "outputs": [],
   "source": [
    "years_list = [df_old, df_14, df_15, df_16, df_17, df_18, df_19, df_20, df_21]"
   ]
  },
  {
   "cell_type": "code",
   "execution_count": 54,
   "id": "dad1a7d5",
   "metadata": {},
   "outputs": [],
   "source": [
    "df_channels = pd.concat(years_list, ignore_index=True)"
   ]
  },
  {
   "cell_type": "code",
   "execution_count": 55,
   "id": "4c35bcbc",
   "metadata": {},
   "outputs": [
    {
     "data": {
      "text/html": [
       "<div>\n",
       "<style scoped>\n",
       "    .dataframe tbody tr th:only-of-type {\n",
       "        vertical-align: middle;\n",
       "    }\n",
       "\n",
       "    .dataframe tbody tr th {\n",
       "        vertical-align: top;\n",
       "    }\n",
       "\n",
       "    .dataframe thead th {\n",
       "        text-align: right;\n",
       "    }\n",
       "</style>\n",
       "<table border=\"1\" class=\"dataframe\">\n",
       "  <thead>\n",
       "    <tr style=\"text-align: right;\">\n",
       "      <th></th>\n",
       "      <th>kind</th>\n",
       "      <th>etag</th>\n",
       "      <th>id</th>\n",
       "      <th>snippet.title</th>\n",
       "      <th>snippet.description</th>\n",
       "      <th>snippet.publishedAt</th>\n",
       "      <th>snippet.thumbnails.default.url</th>\n",
       "      <th>snippet.thumbnails.default.width</th>\n",
       "      <th>snippet.thumbnails.default.height</th>\n",
       "      <th>snippet.thumbnails.medium.url</th>\n",
       "      <th>snippet.thumbnails.medium.width</th>\n",
       "      <th>snippet.thumbnails.medium.height</th>\n",
       "      <th>snippet.thumbnails.high.url</th>\n",
       "      <th>snippet.thumbnails.high.width</th>\n",
       "      <th>snippet.thumbnails.high.height</th>\n",
       "      <th>snippet.localized.title</th>\n",
       "      <th>snippet.localized.description</th>\n",
       "      <th>contentDetails.relatedPlaylists.likes</th>\n",
       "      <th>contentDetails.relatedPlaylists.uploads</th>\n",
       "      <th>statistics.viewCount</th>\n",
       "      <th>statistics.subscriberCount</th>\n",
       "      <th>statistics.hiddenSubscriberCount</th>\n",
       "      <th>statistics.videoCount</th>\n",
       "      <th>topicDetails.topicIds</th>\n",
       "      <th>topicDetails.topicCategories</th>\n",
       "      <th>status.privacyStatus</th>\n",
       "      <th>status.isLinked</th>\n",
       "      <th>status.longUploadsStatus</th>\n",
       "      <th>brandingSettings.channel.title</th>\n",
       "      <th>snippet.customUrl</th>\n",
       "      <th>snippet.country</th>\n",
       "      <th>brandingSettings.channel.keywords</th>\n",
       "      <th>brandingSettings.channel.country</th>\n",
       "      <th>brandingSettings.image.bannerExternalUrl</th>\n",
       "      <th>brandingSettings.channel.moderateComments</th>\n",
       "      <th>brandingSettings.channel.description</th>\n",
       "      <th>status.madeForKids</th>\n",
       "      <th>brandingSettings.channel.unsubscribedTrailer</th>\n",
       "      <th>brandingSettings.channel.trackingAnalyticsAccountId</th>\n",
       "      <th>snippet.defaultLanguage</th>\n",
       "      <th>brandingSettings.channel.defaultLanguage</th>\n",
       "    </tr>\n",
       "  </thead>\n",
       "  <tbody>\n",
       "    <tr>\n",
       "      <th>0</th>\n",
       "      <td>youtube#channel</td>\n",
       "      <td>9xWBmgJRinhToZwPS8aicoZgDEY</td>\n",
       "      <td>UC--0k43d5M8nmtdf319cEBw</td>\n",
       "      <td>This Side Of Life</td>\n",
       "      <td>NaN</td>\n",
       "      <td>2010-12-05T18:55:37Z</td>\n",
       "      <td>https://yt3.ggpht.com/ytc/AKedOLRLngK6WorzmQ-i...</td>\n",
       "      <td>88</td>\n",
       "      <td>88</td>\n",
       "      <td>https://yt3.ggpht.com/ytc/AKedOLRLngK6WorzmQ-i...</td>\n",
       "      <td>240</td>\n",
       "      <td>240</td>\n",
       "      <td>https://yt3.ggpht.com/ytc/AKedOLRLngK6WorzmQ-i...</td>\n",
       "      <td>800</td>\n",
       "      <td>800</td>\n",
       "      <td>This Side Of Life</td>\n",
       "      <td>NaN</td>\n",
       "      <td>NaN</td>\n",
       "      <td>UU--0k43d5M8nmtdf319cEBw</td>\n",
       "      <td>59</td>\n",
       "      <td>0.0</td>\n",
       "      <td>False</td>\n",
       "      <td>3</td>\n",
       "      <td>['/m/019_rr']</td>\n",
       "      <td>['https://en.wikipedia.org/wiki/Lifestyle_(soc...</td>\n",
       "      <td>public</td>\n",
       "      <td>True</td>\n",
       "      <td>longUploadsUnspecified</td>\n",
       "      <td>This Side Of Life</td>\n",
       "      <td>NaN</td>\n",
       "      <td>NaN</td>\n",
       "      <td>NaN</td>\n",
       "      <td>NaN</td>\n",
       "      <td>NaN</td>\n",
       "      <td>NaN</td>\n",
       "      <td>NaN</td>\n",
       "      <td>NaN</td>\n",
       "      <td>NaN</td>\n",
       "      <td>NaN</td>\n",
       "      <td>NaN</td>\n",
       "      <td>NaN</td>\n",
       "    </tr>\n",
       "    <tr>\n",
       "      <th>1</th>\n",
       "      <td>youtube#channel</td>\n",
       "      <td>keNfPOTzrt8SBeRPvkAeX0JMKws</td>\n",
       "      <td>UC--88vmCfoADXKrbkr55QBQ</td>\n",
       "      <td>memberWinny</td>\n",
       "      <td>NaN</td>\n",
       "      <td>2007-01-02T14:54:57Z</td>\n",
       "      <td>https://yt3.ggpht.com/ytc/AKedOLSNB2PHvSOdin05...</td>\n",
       "      <td>88</td>\n",
       "      <td>88</td>\n",
       "      <td>https://yt3.ggpht.com/ytc/AKedOLSNB2PHvSOdin05...</td>\n",
       "      <td>240</td>\n",
       "      <td>240</td>\n",
       "      <td>https://yt3.ggpht.com/ytc/AKedOLSNB2PHvSOdin05...</td>\n",
       "      <td>800</td>\n",
       "      <td>800</td>\n",
       "      <td>memberWinny</td>\n",
       "      <td>NaN</td>\n",
       "      <td>NaN</td>\n",
       "      <td>UU--88vmCfoADXKrbkr55QBQ</td>\n",
       "      <td>54293</td>\n",
       "      <td>26.0</td>\n",
       "      <td>False</td>\n",
       "      <td>38</td>\n",
       "      <td>['/m/04rlf', '/m/019_rr']</td>\n",
       "      <td>['https://en.wikipedia.org/wiki/Music', 'https...</td>\n",
       "      <td>public</td>\n",
       "      <td>True</td>\n",
       "      <td>longUploadsUnspecified</td>\n",
       "      <td>memberWinny</td>\n",
       "      <td>NaN</td>\n",
       "      <td>NaN</td>\n",
       "      <td>NaN</td>\n",
       "      <td>NaN</td>\n",
       "      <td>NaN</td>\n",
       "      <td>NaN</td>\n",
       "      <td>NaN</td>\n",
       "      <td>NaN</td>\n",
       "      <td>NaN</td>\n",
       "      <td>NaN</td>\n",
       "      <td>NaN</td>\n",
       "      <td>NaN</td>\n",
       "    </tr>\n",
       "    <tr>\n",
       "      <th>2</th>\n",
       "      <td>youtube#channel</td>\n",
       "      <td>o4YiXuwtwbBgAAJOudKvaU9EH8o</td>\n",
       "      <td>UC--x-JoynEq-qzYTdsxkHog</td>\n",
       "      <td>yarinka collucci</td>\n",
       "      <td>NaN</td>\n",
       "      <td>2008-12-30T06:07:01Z</td>\n",
       "      <td>https://yt3.ggpht.com/ytc/AKedOLR8HRwWfEGRj1Wt...</td>\n",
       "      <td>88</td>\n",
       "      <td>88</td>\n",
       "      <td>https://yt3.ggpht.com/ytc/AKedOLR8HRwWfEGRj1Wt...</td>\n",
       "      <td>240</td>\n",
       "      <td>240</td>\n",
       "      <td>https://yt3.ggpht.com/ytc/AKedOLR8HRwWfEGRj1Wt...</td>\n",
       "      <td>800</td>\n",
       "      <td>800</td>\n",
       "      <td>yarinka collucci</td>\n",
       "      <td>NaN</td>\n",
       "      <td>NaN</td>\n",
       "      <td>UU--x-JoynEq-qzYTdsxkHog</td>\n",
       "      <td>319512</td>\n",
       "      <td>1550.0</td>\n",
       "      <td>False</td>\n",
       "      <td>53</td>\n",
       "      <td>['/m/04rlf', '/m/02lkt', '/m/0g293']</td>\n",
       "      <td>['https://en.wikipedia.org/wiki/Music', 'https...</td>\n",
       "      <td>public</td>\n",
       "      <td>True</td>\n",
       "      <td>longUploadsUnspecified</td>\n",
       "      <td>yarinka collucci</td>\n",
       "      <td>yarinkacollucci</td>\n",
       "      <td>US</td>\n",
       "      <td>seapunk clubkid hyperpop \"French house\" vaporw...</td>\n",
       "      <td>US</td>\n",
       "      <td>https://yt3.ggpht.com/wZJn0WtHEr8A8oL7gP4VXbJw...</td>\n",
       "      <td>NaN</td>\n",
       "      <td>NaN</td>\n",
       "      <td>NaN</td>\n",
       "      <td>NaN</td>\n",
       "      <td>NaN</td>\n",
       "      <td>NaN</td>\n",
       "      <td>NaN</td>\n",
       "    </tr>\n",
       "    <tr>\n",
       "      <th>3</th>\n",
       "      <td>youtube#channel</td>\n",
       "      <td>1d-q4hifYCDuO2tl6zyuvsglKt0</td>\n",
       "      <td>UC-000PgnyXlAIhdvum7m7RQ</td>\n",
       "      <td>KHAS</td>\n",
       "      <td>NaN</td>\n",
       "      <td>2007-02-28T03:18:19Z</td>\n",
       "      <td>https://yt3.ggpht.com/ytc/AKedOLQXbbs4ZH1rjIrl...</td>\n",
       "      <td>88</td>\n",
       "      <td>88</td>\n",
       "      <td>https://yt3.ggpht.com/ytc/AKedOLQXbbs4ZH1rjIrl...</td>\n",
       "      <td>240</td>\n",
       "      <td>240</td>\n",
       "      <td>https://yt3.ggpht.com/ytc/AKedOLQXbbs4ZH1rjIrl...</td>\n",
       "      <td>800</td>\n",
       "      <td>800</td>\n",
       "      <td>KHAS</td>\n",
       "      <td>NaN</td>\n",
       "      <td>NaN</td>\n",
       "      <td>UU-000PgnyXlAIhdvum7m7RQ</td>\n",
       "      <td>0</td>\n",
       "      <td>2.0</td>\n",
       "      <td>False</td>\n",
       "      <td>0</td>\n",
       "      <td>NaN</td>\n",
       "      <td>NaN</td>\n",
       "      <td>public</td>\n",
       "      <td>True</td>\n",
       "      <td>longUploadsUnspecified</td>\n",
       "      <td>KHAS</td>\n",
       "      <td>NaN</td>\n",
       "      <td>NaN</td>\n",
       "      <td>NaN</td>\n",
       "      <td>NaN</td>\n",
       "      <td>NaN</td>\n",
       "      <td>True</td>\n",
       "      <td>NaN</td>\n",
       "      <td>NaN</td>\n",
       "      <td>NaN</td>\n",
       "      <td>NaN</td>\n",
       "      <td>NaN</td>\n",
       "      <td>NaN</td>\n",
       "    </tr>\n",
       "    <tr>\n",
       "      <th>4</th>\n",
       "      <td>youtube#channel</td>\n",
       "      <td>koU4v4cx_bfh5sxWClu4lDoQmL0</td>\n",
       "      <td>UC-06UNtFZvhaRXgckLDzkgA</td>\n",
       "      <td>Laurentiu korko</td>\n",
       "      <td>NaN</td>\n",
       "      <td>2010-06-07T15:41:05Z</td>\n",
       "      <td>https://yt3.ggpht.com/ytc/AKedOLSdJAMlHHANxUi-...</td>\n",
       "      <td>88</td>\n",
       "      <td>88</td>\n",
       "      <td>https://yt3.ggpht.com/ytc/AKedOLSdJAMlHHANxUi-...</td>\n",
       "      <td>240</td>\n",
       "      <td>240</td>\n",
       "      <td>https://yt3.ggpht.com/ytc/AKedOLSdJAMlHHANxUi-...</td>\n",
       "      <td>800</td>\n",
       "      <td>800</td>\n",
       "      <td>Laurentiu korko</td>\n",
       "      <td>NaN</td>\n",
       "      <td>NaN</td>\n",
       "      <td>UU-06UNtFZvhaRXgckLDzkgA</td>\n",
       "      <td>16960</td>\n",
       "      <td>65.0</td>\n",
       "      <td>False</td>\n",
       "      <td>4</td>\n",
       "      <td>['/m/04rlf', '/m/019_rr']</td>\n",
       "      <td>['https://en.wikipedia.org/wiki/Music', 'https...</td>\n",
       "      <td>public</td>\n",
       "      <td>True</td>\n",
       "      <td>longUploadsUnspecified</td>\n",
       "      <td>Laurentiu korko</td>\n",
       "      <td>NaN</td>\n",
       "      <td>NaN</td>\n",
       "      <td>NaN</td>\n",
       "      <td>NaN</td>\n",
       "      <td>NaN</td>\n",
       "      <td>NaN</td>\n",
       "      <td>NaN</td>\n",
       "      <td>NaN</td>\n",
       "      <td>NaN</td>\n",
       "      <td>NaN</td>\n",
       "      <td>NaN</td>\n",
       "      <td>NaN</td>\n",
       "    </tr>\n",
       "    <tr>\n",
       "      <th>...</th>\n",
       "      <td>...</td>\n",
       "      <td>...</td>\n",
       "      <td>...</td>\n",
       "      <td>...</td>\n",
       "      <td>...</td>\n",
       "      <td>...</td>\n",
       "      <td>...</td>\n",
       "      <td>...</td>\n",
       "      <td>...</td>\n",
       "      <td>...</td>\n",
       "      <td>...</td>\n",
       "      <td>...</td>\n",
       "      <td>...</td>\n",
       "      <td>...</td>\n",
       "      <td>...</td>\n",
       "      <td>...</td>\n",
       "      <td>...</td>\n",
       "      <td>...</td>\n",
       "      <td>...</td>\n",
       "      <td>...</td>\n",
       "      <td>...</td>\n",
       "      <td>...</td>\n",
       "      <td>...</td>\n",
       "      <td>...</td>\n",
       "      <td>...</td>\n",
       "      <td>...</td>\n",
       "      <td>...</td>\n",
       "      <td>...</td>\n",
       "      <td>...</td>\n",
       "      <td>...</td>\n",
       "      <td>...</td>\n",
       "      <td>...</td>\n",
       "      <td>...</td>\n",
       "      <td>...</td>\n",
       "      <td>...</td>\n",
       "      <td>...</td>\n",
       "      <td>...</td>\n",
       "      <td>...</td>\n",
       "      <td>...</td>\n",
       "      <td>...</td>\n",
       "      <td>...</td>\n",
       "    </tr>\n",
       "    <tr>\n",
       "      <th>1155206</th>\n",
       "      <td>youtube#channel</td>\n",
       "      <td>-dETwBGWUcXGn87otjwddaC72mQ</td>\n",
       "      <td>UCZ_VdoVZ56FkDEYmJpNFW4g</td>\n",
       "      <td>Xzeeland B</td>\n",
       "      <td>Xzeeland</td>\n",
       "      <td>2016-08-29T10:57:45Z</td>\n",
       "      <td>https://yt3.ggpht.com/ytc/AKedOLRpgrskfu7OHUJ1...</td>\n",
       "      <td>88</td>\n",
       "      <td>88</td>\n",
       "      <td>https://yt3.ggpht.com/ytc/AKedOLRpgrskfu7OHUJ1...</td>\n",
       "      <td>240</td>\n",
       "      <td>240</td>\n",
       "      <td>https://yt3.ggpht.com/ytc/AKedOLRpgrskfu7OHUJ1...</td>\n",
       "      <td>800</td>\n",
       "      <td>800</td>\n",
       "      <td>Xzeeland B</td>\n",
       "      <td>Xzeeland</td>\n",
       "      <td>NaN</td>\n",
       "      <td>UUZ_VdoVZ56FkDEYmJpNFW4g</td>\n",
       "      <td>11</td>\n",
       "      <td>8.0</td>\n",
       "      <td>False</td>\n",
       "      <td>2</td>\n",
       "      <td>['/m/0403l3g', '/m/02ntfj', '/m/025zzc', '/m/0...</td>\n",
       "      <td>['https://en.wikipedia.org/wiki/Role-playing_v...</td>\n",
       "      <td>public</td>\n",
       "      <td>True</td>\n",
       "      <td>longUploadsUnspecified</td>\n",
       "      <td>Xzeeland B</td>\n",
       "      <td>NaN</td>\n",
       "      <td>NaN</td>\n",
       "      <td>NaN</td>\n",
       "      <td>NaN</td>\n",
       "      <td>NaN</td>\n",
       "      <td>NaN</td>\n",
       "      <td>Xzeeland</td>\n",
       "      <td>NaN</td>\n",
       "      <td>NaN</td>\n",
       "      <td>NaN</td>\n",
       "      <td>NaN</td>\n",
       "      <td>NaN</td>\n",
       "    </tr>\n",
       "    <tr>\n",
       "      <th>1155207</th>\n",
       "      <td>youtube#channel</td>\n",
       "      <td>nhIHPRGzst71DGEwKBFUdeZ_gkw</td>\n",
       "      <td>UCZ_x-HDGDCwnJ1U8nk3xOJA</td>\n",
       "      <td>Katherine Dennison</td>\n",
       "      <td>NaN</td>\n",
       "      <td>2016-06-30T23:23:49Z</td>\n",
       "      <td>https://yt3.ggpht.com/ytc/AKedOLSI9AOqQfBRRiB9...</td>\n",
       "      <td>88</td>\n",
       "      <td>88</td>\n",
       "      <td>https://yt3.ggpht.com/ytc/AKedOLSI9AOqQfBRRiB9...</td>\n",
       "      <td>240</td>\n",
       "      <td>240</td>\n",
       "      <td>https://yt3.ggpht.com/ytc/AKedOLSI9AOqQfBRRiB9...</td>\n",
       "      <td>800</td>\n",
       "      <td>800</td>\n",
       "      <td>Katherine Dennison</td>\n",
       "      <td>NaN</td>\n",
       "      <td>NaN</td>\n",
       "      <td>UUZ_x-HDGDCwnJ1U8nk3xOJA</td>\n",
       "      <td>0</td>\n",
       "      <td>9.0</td>\n",
       "      <td>False</td>\n",
       "      <td>0</td>\n",
       "      <td>NaN</td>\n",
       "      <td>NaN</td>\n",
       "      <td>public</td>\n",
       "      <td>True</td>\n",
       "      <td>longUploadsUnspecified</td>\n",
       "      <td>Katherine Dennison</td>\n",
       "      <td>NaN</td>\n",
       "      <td>NaN</td>\n",
       "      <td>NaN</td>\n",
       "      <td>NaN</td>\n",
       "      <td>NaN</td>\n",
       "      <td>NaN</td>\n",
       "      <td>NaN</td>\n",
       "      <td>NaN</td>\n",
       "      <td>NaN</td>\n",
       "      <td>NaN</td>\n",
       "      <td>NaN</td>\n",
       "      <td>NaN</td>\n",
       "    </tr>\n",
       "    <tr>\n",
       "      <th>1155208</th>\n",
       "      <td>youtube#channel</td>\n",
       "      <td>cBQZ-R-eJAxFW371DjIt6p55lxw</td>\n",
       "      <td>UCZ_xiZ4ytN-_yvVFQHHl_2A</td>\n",
       "      <td>J Dizzle</td>\n",
       "      <td>NaN</td>\n",
       "      <td>2013-12-22T15:47:40Z</td>\n",
       "      <td>https://yt3.ggpht.com/ytc/AKedOLSUj63rZzQdDe8u...</td>\n",
       "      <td>88</td>\n",
       "      <td>88</td>\n",
       "      <td>https://yt3.ggpht.com/ytc/AKedOLSUj63rZzQdDe8u...</td>\n",
       "      <td>240</td>\n",
       "      <td>240</td>\n",
       "      <td>https://yt3.ggpht.com/ytc/AKedOLSUj63rZzQdDe8u...</td>\n",
       "      <td>800</td>\n",
       "      <td>800</td>\n",
       "      <td>J Dizzle</td>\n",
       "      <td>NaN</td>\n",
       "      <td>NaN</td>\n",
       "      <td>UUZ_xiZ4ytN-_yvVFQHHl_2A</td>\n",
       "      <td>0</td>\n",
       "      <td>5.0</td>\n",
       "      <td>False</td>\n",
       "      <td>0</td>\n",
       "      <td>NaN</td>\n",
       "      <td>NaN</td>\n",
       "      <td>public</td>\n",
       "      <td>True</td>\n",
       "      <td>longUploadsUnspecified</td>\n",
       "      <td>J Dizzle</td>\n",
       "      <td>NaN</td>\n",
       "      <td>NaN</td>\n",
       "      <td>NaN</td>\n",
       "      <td>NaN</td>\n",
       "      <td>NaN</td>\n",
       "      <td>NaN</td>\n",
       "      <td>NaN</td>\n",
       "      <td>NaN</td>\n",
       "      <td>NaN</td>\n",
       "      <td>NaN</td>\n",
       "      <td>NaN</td>\n",
       "      <td>NaN</td>\n",
       "    </tr>\n",
       "    <tr>\n",
       "      <th>1155209</th>\n",
       "      <td>youtube#channel</td>\n",
       "      <td>pAOlNCi6RAd6xiD96kkqK8FNLqo</td>\n",
       "      <td>UCz_yGIAGq-TfWMknM1j7mCw</td>\n",
       "      <td>Максим</td>\n",
       "      <td>NaN</td>\n",
       "      <td>2013-10-14T17:59:47Z</td>\n",
       "      <td>https://yt3.ggpht.com/ytc/AKedOLQ3JzE0Rf_bC4MC...</td>\n",
       "      <td>88</td>\n",
       "      <td>88</td>\n",
       "      <td>https://yt3.ggpht.com/ytc/AKedOLQ3JzE0Rf_bC4MC...</td>\n",
       "      <td>240</td>\n",
       "      <td>240</td>\n",
       "      <td>https://yt3.ggpht.com/ytc/AKedOLQ3JzE0Rf_bC4MC...</td>\n",
       "      <td>800</td>\n",
       "      <td>800</td>\n",
       "      <td>Максим</td>\n",
       "      <td>NaN</td>\n",
       "      <td>NaN</td>\n",
       "      <td>UUz_yGIAGq-TfWMknM1j7mCw</td>\n",
       "      <td>1221</td>\n",
       "      <td>5.0</td>\n",
       "      <td>False</td>\n",
       "      <td>10</td>\n",
       "      <td>['/m/03hf_rm', '/m/025zzc', '/m/02ntfj', '/m/0...</td>\n",
       "      <td>['https://en.wikipedia.org/wiki/Strategy_video...</td>\n",
       "      <td>public</td>\n",
       "      <td>True</td>\n",
       "      <td>longUploadsUnspecified</td>\n",
       "      <td>Максим</td>\n",
       "      <td>NaN</td>\n",
       "      <td>NaN</td>\n",
       "      <td>NaN</td>\n",
       "      <td>NaN</td>\n",
       "      <td>NaN</td>\n",
       "      <td>NaN</td>\n",
       "      <td>NaN</td>\n",
       "      <td>False</td>\n",
       "      <td>NaN</td>\n",
       "      <td>NaN</td>\n",
       "      <td>NaN</td>\n",
       "      <td>NaN</td>\n",
       "    </tr>\n",
       "    <tr>\n",
       "      <th>1155210</th>\n",
       "      <td>youtube#channel</td>\n",
       "      <td>_dZCowjlfo-pPGFHb-PijgaJGLU</td>\n",
       "      <td>UCz_zpkRjGG7gGamSL-bLZmA</td>\n",
       "      <td>NinjaPlayzRblx YT</td>\n",
       "      <td>NaN</td>\n",
       "      <td>2020-06-07T21:50:49.339244Z</td>\n",
       "      <td>https://yt3.ggpht.com/ytc/AKedOLRmhVCA7z5ocr1A...</td>\n",
       "      <td>88</td>\n",
       "      <td>88</td>\n",
       "      <td>https://yt3.ggpht.com/ytc/AKedOLRmhVCA7z5ocr1A...</td>\n",
       "      <td>240</td>\n",
       "      <td>240</td>\n",
       "      <td>https://yt3.ggpht.com/ytc/AKedOLRmhVCA7z5ocr1A...</td>\n",
       "      <td>800</td>\n",
       "      <td>800</td>\n",
       "      <td>NinjaPlayzRblx YT</td>\n",
       "      <td>NaN</td>\n",
       "      <td>NaN</td>\n",
       "      <td>UUz_zpkRjGG7gGamSL-bLZmA</td>\n",
       "      <td>21</td>\n",
       "      <td>0.0</td>\n",
       "      <td>False</td>\n",
       "      <td>1</td>\n",
       "      <td>NaN</td>\n",
       "      <td>NaN</td>\n",
       "      <td>public</td>\n",
       "      <td>True</td>\n",
       "      <td>longUploadsUnspecified</td>\n",
       "      <td>NinjaPlayzRblx YT</td>\n",
       "      <td>NaN</td>\n",
       "      <td>NaN</td>\n",
       "      <td>NaN</td>\n",
       "      <td>NaN</td>\n",
       "      <td>NaN</td>\n",
       "      <td>NaN</td>\n",
       "      <td>NaN</td>\n",
       "      <td>NaN</td>\n",
       "      <td>NaN</td>\n",
       "      <td>NaN</td>\n",
       "      <td>NaN</td>\n",
       "      <td>NaN</td>\n",
       "    </tr>\n",
       "  </tbody>\n",
       "</table>\n",
       "<p>1155211 rows × 41 columns</p>\n",
       "</div>"
      ],
      "text/plain": [
       "                    kind                         etag  \\\n",
       "0        youtube#channel  9xWBmgJRinhToZwPS8aicoZgDEY   \n",
       "1        youtube#channel  keNfPOTzrt8SBeRPvkAeX0JMKws   \n",
       "2        youtube#channel  o4YiXuwtwbBgAAJOudKvaU9EH8o   \n",
       "3        youtube#channel  1d-q4hifYCDuO2tl6zyuvsglKt0   \n",
       "4        youtube#channel  koU4v4cx_bfh5sxWClu4lDoQmL0   \n",
       "...                  ...                          ...   \n",
       "1155206  youtube#channel  -dETwBGWUcXGn87otjwddaC72mQ   \n",
       "1155207  youtube#channel  nhIHPRGzst71DGEwKBFUdeZ_gkw   \n",
       "1155208  youtube#channel  cBQZ-R-eJAxFW371DjIt6p55lxw   \n",
       "1155209  youtube#channel  pAOlNCi6RAd6xiD96kkqK8FNLqo   \n",
       "1155210  youtube#channel  _dZCowjlfo-pPGFHb-PijgaJGLU   \n",
       "\n",
       "                               id       snippet.title snippet.description  \\\n",
       "0        UC--0k43d5M8nmtdf319cEBw   This Side Of Life                 NaN   \n",
       "1        UC--88vmCfoADXKrbkr55QBQ         memberWinny                 NaN   \n",
       "2        UC--x-JoynEq-qzYTdsxkHog    yarinka collucci                 NaN   \n",
       "3        UC-000PgnyXlAIhdvum7m7RQ                KHAS                 NaN   \n",
       "4        UC-06UNtFZvhaRXgckLDzkgA     Laurentiu korko                 NaN   \n",
       "...                           ...                 ...                 ...   \n",
       "1155206  UCZ_VdoVZ56FkDEYmJpNFW4g          Xzeeland B            Xzeeland   \n",
       "1155207  UCZ_x-HDGDCwnJ1U8nk3xOJA  Katherine Dennison                 NaN   \n",
       "1155208  UCZ_xiZ4ytN-_yvVFQHHl_2A            J Dizzle                 NaN   \n",
       "1155209  UCz_yGIAGq-TfWMknM1j7mCw              Максим                 NaN   \n",
       "1155210  UCz_zpkRjGG7gGamSL-bLZmA   NinjaPlayzRblx YT                 NaN   \n",
       "\n",
       "                 snippet.publishedAt  \\\n",
       "0               2010-12-05T18:55:37Z   \n",
       "1               2007-01-02T14:54:57Z   \n",
       "2               2008-12-30T06:07:01Z   \n",
       "3               2007-02-28T03:18:19Z   \n",
       "4               2010-06-07T15:41:05Z   \n",
       "...                              ...   \n",
       "1155206         2016-08-29T10:57:45Z   \n",
       "1155207         2016-06-30T23:23:49Z   \n",
       "1155208         2013-12-22T15:47:40Z   \n",
       "1155209         2013-10-14T17:59:47Z   \n",
       "1155210  2020-06-07T21:50:49.339244Z   \n",
       "\n",
       "                            snippet.thumbnails.default.url  \\\n",
       "0        https://yt3.ggpht.com/ytc/AKedOLRLngK6WorzmQ-i...   \n",
       "1        https://yt3.ggpht.com/ytc/AKedOLSNB2PHvSOdin05...   \n",
       "2        https://yt3.ggpht.com/ytc/AKedOLR8HRwWfEGRj1Wt...   \n",
       "3        https://yt3.ggpht.com/ytc/AKedOLQXbbs4ZH1rjIrl...   \n",
       "4        https://yt3.ggpht.com/ytc/AKedOLSdJAMlHHANxUi-...   \n",
       "...                                                    ...   \n",
       "1155206  https://yt3.ggpht.com/ytc/AKedOLRpgrskfu7OHUJ1...   \n",
       "1155207  https://yt3.ggpht.com/ytc/AKedOLSI9AOqQfBRRiB9...   \n",
       "1155208  https://yt3.ggpht.com/ytc/AKedOLSUj63rZzQdDe8u...   \n",
       "1155209  https://yt3.ggpht.com/ytc/AKedOLQ3JzE0Rf_bC4MC...   \n",
       "1155210  https://yt3.ggpht.com/ytc/AKedOLRmhVCA7z5ocr1A...   \n",
       "\n",
       "         snippet.thumbnails.default.width  snippet.thumbnails.default.height  \\\n",
       "0                                      88                                 88   \n",
       "1                                      88                                 88   \n",
       "2                                      88                                 88   \n",
       "3                                      88                                 88   \n",
       "4                                      88                                 88   \n",
       "...                                   ...                                ...   \n",
       "1155206                                88                                 88   \n",
       "1155207                                88                                 88   \n",
       "1155208                                88                                 88   \n",
       "1155209                                88                                 88   \n",
       "1155210                                88                                 88   \n",
       "\n",
       "                             snippet.thumbnails.medium.url  \\\n",
       "0        https://yt3.ggpht.com/ytc/AKedOLRLngK6WorzmQ-i...   \n",
       "1        https://yt3.ggpht.com/ytc/AKedOLSNB2PHvSOdin05...   \n",
       "2        https://yt3.ggpht.com/ytc/AKedOLR8HRwWfEGRj1Wt...   \n",
       "3        https://yt3.ggpht.com/ytc/AKedOLQXbbs4ZH1rjIrl...   \n",
       "4        https://yt3.ggpht.com/ytc/AKedOLSdJAMlHHANxUi-...   \n",
       "...                                                    ...   \n",
       "1155206  https://yt3.ggpht.com/ytc/AKedOLRpgrskfu7OHUJ1...   \n",
       "1155207  https://yt3.ggpht.com/ytc/AKedOLSI9AOqQfBRRiB9...   \n",
       "1155208  https://yt3.ggpht.com/ytc/AKedOLSUj63rZzQdDe8u...   \n",
       "1155209  https://yt3.ggpht.com/ytc/AKedOLQ3JzE0Rf_bC4MC...   \n",
       "1155210  https://yt3.ggpht.com/ytc/AKedOLRmhVCA7z5ocr1A...   \n",
       "\n",
       "         snippet.thumbnails.medium.width  snippet.thumbnails.medium.height  \\\n",
       "0                                    240                               240   \n",
       "1                                    240                               240   \n",
       "2                                    240                               240   \n",
       "3                                    240                               240   \n",
       "4                                    240                               240   \n",
       "...                                  ...                               ...   \n",
       "1155206                              240                               240   \n",
       "1155207                              240                               240   \n",
       "1155208                              240                               240   \n",
       "1155209                              240                               240   \n",
       "1155210                              240                               240   \n",
       "\n",
       "                               snippet.thumbnails.high.url  \\\n",
       "0        https://yt3.ggpht.com/ytc/AKedOLRLngK6WorzmQ-i...   \n",
       "1        https://yt3.ggpht.com/ytc/AKedOLSNB2PHvSOdin05...   \n",
       "2        https://yt3.ggpht.com/ytc/AKedOLR8HRwWfEGRj1Wt...   \n",
       "3        https://yt3.ggpht.com/ytc/AKedOLQXbbs4ZH1rjIrl...   \n",
       "4        https://yt3.ggpht.com/ytc/AKedOLSdJAMlHHANxUi-...   \n",
       "...                                                    ...   \n",
       "1155206  https://yt3.ggpht.com/ytc/AKedOLRpgrskfu7OHUJ1...   \n",
       "1155207  https://yt3.ggpht.com/ytc/AKedOLSI9AOqQfBRRiB9...   \n",
       "1155208  https://yt3.ggpht.com/ytc/AKedOLSUj63rZzQdDe8u...   \n",
       "1155209  https://yt3.ggpht.com/ytc/AKedOLQ3JzE0Rf_bC4MC...   \n",
       "1155210  https://yt3.ggpht.com/ytc/AKedOLRmhVCA7z5ocr1A...   \n",
       "\n",
       "         snippet.thumbnails.high.width  snippet.thumbnails.high.height  \\\n",
       "0                                  800                             800   \n",
       "1                                  800                             800   \n",
       "2                                  800                             800   \n",
       "3                                  800                             800   \n",
       "4                                  800                             800   \n",
       "...                                ...                             ...   \n",
       "1155206                            800                             800   \n",
       "1155207                            800                             800   \n",
       "1155208                            800                             800   \n",
       "1155209                            800                             800   \n",
       "1155210                            800                             800   \n",
       "\n",
       "        snippet.localized.title snippet.localized.description  \\\n",
       "0             This Side Of Life                           NaN   \n",
       "1                   memberWinny                           NaN   \n",
       "2              yarinka collucci                           NaN   \n",
       "3                          KHAS                           NaN   \n",
       "4               Laurentiu korko                           NaN   \n",
       "...                         ...                           ...   \n",
       "1155206              Xzeeland B                      Xzeeland   \n",
       "1155207      Katherine Dennison                           NaN   \n",
       "1155208                J Dizzle                           NaN   \n",
       "1155209                  Максим                           NaN   \n",
       "1155210       NinjaPlayzRblx YT                           NaN   \n",
       "\n",
       "         contentDetails.relatedPlaylists.likes  \\\n",
       "0                                          NaN   \n",
       "1                                          NaN   \n",
       "2                                          NaN   \n",
       "3                                          NaN   \n",
       "4                                          NaN   \n",
       "...                                        ...   \n",
       "1155206                                    NaN   \n",
       "1155207                                    NaN   \n",
       "1155208                                    NaN   \n",
       "1155209                                    NaN   \n",
       "1155210                                    NaN   \n",
       "\n",
       "        contentDetails.relatedPlaylists.uploads  statistics.viewCount  \\\n",
       "0                      UU--0k43d5M8nmtdf319cEBw                    59   \n",
       "1                      UU--88vmCfoADXKrbkr55QBQ                 54293   \n",
       "2                      UU--x-JoynEq-qzYTdsxkHog                319512   \n",
       "3                      UU-000PgnyXlAIhdvum7m7RQ                     0   \n",
       "4                      UU-06UNtFZvhaRXgckLDzkgA                 16960   \n",
       "...                                         ...                   ...   \n",
       "1155206                UUZ_VdoVZ56FkDEYmJpNFW4g                    11   \n",
       "1155207                UUZ_x-HDGDCwnJ1U8nk3xOJA                     0   \n",
       "1155208                UUZ_xiZ4ytN-_yvVFQHHl_2A                     0   \n",
       "1155209                UUz_yGIAGq-TfWMknM1j7mCw                  1221   \n",
       "1155210                UUz_zpkRjGG7gGamSL-bLZmA                    21   \n",
       "\n",
       "         statistics.subscriberCount  statistics.hiddenSubscriberCount  \\\n",
       "0                               0.0                             False   \n",
       "1                              26.0                             False   \n",
       "2                            1550.0                             False   \n",
       "3                               2.0                             False   \n",
       "4                              65.0                             False   \n",
       "...                             ...                               ...   \n",
       "1155206                         8.0                             False   \n",
       "1155207                         9.0                             False   \n",
       "1155208                         5.0                             False   \n",
       "1155209                         5.0                             False   \n",
       "1155210                         0.0                             False   \n",
       "\n",
       "         statistics.videoCount  \\\n",
       "0                            3   \n",
       "1                           38   \n",
       "2                           53   \n",
       "3                            0   \n",
       "4                            4   \n",
       "...                        ...   \n",
       "1155206                      2   \n",
       "1155207                      0   \n",
       "1155208                      0   \n",
       "1155209                     10   \n",
       "1155210                      1   \n",
       "\n",
       "                                     topicDetails.topicIds  \\\n",
       "0                                            ['/m/019_rr']   \n",
       "1                                ['/m/04rlf', '/m/019_rr']   \n",
       "2                     ['/m/04rlf', '/m/02lkt', '/m/0g293']   \n",
       "3                                                      NaN   \n",
       "4                                ['/m/04rlf', '/m/019_rr']   \n",
       "...                                                    ...   \n",
       "1155206  ['/m/0403l3g', '/m/02ntfj', '/m/025zzc', '/m/0...   \n",
       "1155207                                                NaN   \n",
       "1155208                                                NaN   \n",
       "1155209  ['/m/03hf_rm', '/m/025zzc', '/m/02ntfj', '/m/0...   \n",
       "1155210                                                NaN   \n",
       "\n",
       "                              topicDetails.topicCategories  \\\n",
       "0        ['https://en.wikipedia.org/wiki/Lifestyle_(soc...   \n",
       "1        ['https://en.wikipedia.org/wiki/Music', 'https...   \n",
       "2        ['https://en.wikipedia.org/wiki/Music', 'https...   \n",
       "3                                                      NaN   \n",
       "4        ['https://en.wikipedia.org/wiki/Music', 'https...   \n",
       "...                                                    ...   \n",
       "1155206  ['https://en.wikipedia.org/wiki/Role-playing_v...   \n",
       "1155207                                                NaN   \n",
       "1155208                                                NaN   \n",
       "1155209  ['https://en.wikipedia.org/wiki/Strategy_video...   \n",
       "1155210                                                NaN   \n",
       "\n",
       "        status.privacyStatus  status.isLinked status.longUploadsStatus  \\\n",
       "0                     public             True   longUploadsUnspecified   \n",
       "1                     public             True   longUploadsUnspecified   \n",
       "2                     public             True   longUploadsUnspecified   \n",
       "3                     public             True   longUploadsUnspecified   \n",
       "4                     public             True   longUploadsUnspecified   \n",
       "...                      ...              ...                      ...   \n",
       "1155206               public             True   longUploadsUnspecified   \n",
       "1155207               public             True   longUploadsUnspecified   \n",
       "1155208               public             True   longUploadsUnspecified   \n",
       "1155209               public             True   longUploadsUnspecified   \n",
       "1155210               public             True   longUploadsUnspecified   \n",
       "\n",
       "        brandingSettings.channel.title snippet.customUrl snippet.country  \\\n",
       "0                    This Side Of Life               NaN             NaN   \n",
       "1                          memberWinny               NaN             NaN   \n",
       "2                     yarinka collucci   yarinkacollucci              US   \n",
       "3                                 KHAS               NaN             NaN   \n",
       "4                      Laurentiu korko               NaN             NaN   \n",
       "...                                ...               ...             ...   \n",
       "1155206                     Xzeeland B               NaN             NaN   \n",
       "1155207             Katherine Dennison               NaN             NaN   \n",
       "1155208                       J Dizzle               NaN             NaN   \n",
       "1155209                         Максим               NaN             NaN   \n",
       "1155210              NinjaPlayzRblx YT               NaN             NaN   \n",
       "\n",
       "                         brandingSettings.channel.keywords  \\\n",
       "0                                                      NaN   \n",
       "1                                                      NaN   \n",
       "2        seapunk clubkid hyperpop \"French house\" vaporw...   \n",
       "3                                                      NaN   \n",
       "4                                                      NaN   \n",
       "...                                                    ...   \n",
       "1155206                                                NaN   \n",
       "1155207                                                NaN   \n",
       "1155208                                                NaN   \n",
       "1155209                                                NaN   \n",
       "1155210                                                NaN   \n",
       "\n",
       "        brandingSettings.channel.country  \\\n",
       "0                                    NaN   \n",
       "1                                    NaN   \n",
       "2                                     US   \n",
       "3                                    NaN   \n",
       "4                                    NaN   \n",
       "...                                  ...   \n",
       "1155206                              NaN   \n",
       "1155207                              NaN   \n",
       "1155208                              NaN   \n",
       "1155209                              NaN   \n",
       "1155210                              NaN   \n",
       "\n",
       "                  brandingSettings.image.bannerExternalUrl  \\\n",
       "0                                                      NaN   \n",
       "1                                                      NaN   \n",
       "2        https://yt3.ggpht.com/wZJn0WtHEr8A8oL7gP4VXbJw...   \n",
       "3                                                      NaN   \n",
       "4                                                      NaN   \n",
       "...                                                    ...   \n",
       "1155206                                                NaN   \n",
       "1155207                                                NaN   \n",
       "1155208                                                NaN   \n",
       "1155209                                                NaN   \n",
       "1155210                                                NaN   \n",
       "\n",
       "        brandingSettings.channel.moderateComments  \\\n",
       "0                                             NaN   \n",
       "1                                             NaN   \n",
       "2                                             NaN   \n",
       "3                                            True   \n",
       "4                                             NaN   \n",
       "...                                           ...   \n",
       "1155206                                       NaN   \n",
       "1155207                                       NaN   \n",
       "1155208                                       NaN   \n",
       "1155209                                       NaN   \n",
       "1155210                                       NaN   \n",
       "\n",
       "        brandingSettings.channel.description status.madeForKids  \\\n",
       "0                                        NaN                NaN   \n",
       "1                                        NaN                NaN   \n",
       "2                                        NaN                NaN   \n",
       "3                                        NaN                NaN   \n",
       "4                                        NaN                NaN   \n",
       "...                                      ...                ...   \n",
       "1155206                             Xzeeland                NaN   \n",
       "1155207                                  NaN                NaN   \n",
       "1155208                                  NaN                NaN   \n",
       "1155209                                  NaN              False   \n",
       "1155210                                  NaN                NaN   \n",
       "\n",
       "        brandingSettings.channel.unsubscribedTrailer  \\\n",
       "0                                                NaN   \n",
       "1                                                NaN   \n",
       "2                                                NaN   \n",
       "3                                                NaN   \n",
       "4                                                NaN   \n",
       "...                                              ...   \n",
       "1155206                                          NaN   \n",
       "1155207                                          NaN   \n",
       "1155208                                          NaN   \n",
       "1155209                                          NaN   \n",
       "1155210                                          NaN   \n",
       "\n",
       "        brandingSettings.channel.trackingAnalyticsAccountId  \\\n",
       "0                                                      NaN    \n",
       "1                                                      NaN    \n",
       "2                                                      NaN    \n",
       "3                                                      NaN    \n",
       "4                                                      NaN    \n",
       "...                                                    ...    \n",
       "1155206                                                NaN    \n",
       "1155207                                                NaN    \n",
       "1155208                                                NaN    \n",
       "1155209                                                NaN    \n",
       "1155210                                                NaN    \n",
       "\n",
       "        snippet.defaultLanguage brandingSettings.channel.defaultLanguage  \n",
       "0                           NaN                                      NaN  \n",
       "1                           NaN                                      NaN  \n",
       "2                           NaN                                      NaN  \n",
       "3                           NaN                                      NaN  \n",
       "4                           NaN                                      NaN  \n",
       "...                         ...                                      ...  \n",
       "1155206                     NaN                                      NaN  \n",
       "1155207                     NaN                                      NaN  \n",
       "1155208                     NaN                                      NaN  \n",
       "1155209                     NaN                                      NaN  \n",
       "1155210                     NaN                                      NaN  \n",
       "\n",
       "[1155211 rows x 41 columns]"
      ]
     },
     "execution_count": 55,
     "metadata": {},
     "output_type": "execute_result"
    }
   ],
   "source": [
    "df_channels"
   ]
  },
  {
   "cell_type": "code",
   "execution_count": 57,
   "id": "e0699c1a",
   "metadata": {},
   "outputs": [],
   "source": [
    "# copy df to use it in any wrong case\n",
    "df_channels_original = df_channels.copy()"
   ]
  },
  {
   "cell_type": "markdown",
   "id": "c81987e6",
   "metadata": {},
   "source": [
    "## Investigate Each Column"
   ]
  },
  {
   "cell_type": "code",
   "execution_count": 12,
   "id": "3e84babf",
   "metadata": {},
   "outputs": [
    {
     "data": {
      "text/plain": [
       "Index(['kind', 'etag', 'id', 'snippet.title', 'snippet.description',\n",
       "       'snippet.publishedAt', 'snippet.thumbnails.default.url',\n",
       "       'snippet.thumbnails.default.width', 'snippet.thumbnails.default.height',\n",
       "       'snippet.thumbnails.medium.url', 'snippet.thumbnails.medium.width',\n",
       "       'snippet.thumbnails.medium.height', 'snippet.thumbnails.high.url',\n",
       "       'snippet.thumbnails.high.width', 'snippet.thumbnails.high.height',\n",
       "       'snippet.localized.title', 'snippet.localized.description',\n",
       "       'contentDetails.relatedPlaylists.likes',\n",
       "       'contentDetails.relatedPlaylists.uploads', 'statistics.viewCount',\n",
       "       'statistics.subscriberCount', 'statistics.hiddenSubscriberCount',\n",
       "       'statistics.videoCount', 'topicDetails.topicIds',\n",
       "       'topicDetails.topicCategories', 'status.privacyStatus',\n",
       "       'status.isLinked', 'status.longUploadsStatus',\n",
       "       'brandingSettings.channel.title', 'snippet.customUrl',\n",
       "       'snippet.country', 'brandingSettings.channel.keywords',\n",
       "       'brandingSettings.channel.country',\n",
       "       'brandingSettings.image.bannerExternalUrl',\n",
       "       'brandingSettings.channel.moderateComments',\n",
       "       'brandingSettings.channel.description', 'status.madeForKids',\n",
       "       'brandingSettings.channel.unsubscribedTrailer',\n",
       "       'brandingSettings.channel.trackingAnalyticsAccountId',\n",
       "       'snippet.defaultLanguage', 'brandingSettings.channel.defaultLanguage'],\n",
       "      dtype='object')"
      ]
     },
     "execution_count": 12,
     "metadata": {},
     "output_type": "execute_result"
    }
   ],
   "source": [
    "df_old.columns"
   ]
  },
  {
   "cell_type": "code",
   "execution_count": 62,
   "id": "1c3b11db",
   "metadata": {},
   "outputs": [
    {
     "data": {
      "text/plain": [
       "['kind',\n",
       " 'etag',\n",
       " 'id',\n",
       " 'snippet',\n",
       " 'contentDetails',\n",
       " 'statistics',\n",
       " 'topicDetails',\n",
       " 'status',\n",
       " 'brandingSettings']"
      ]
     },
     "execution_count": 62,
     "metadata": {},
     "output_type": "execute_result"
    }
   ],
   "source": [
    "unique_columns_names = []\n",
    "for c in df_old.columns:\n",
    "    un = c.split(\".\")[0]\n",
    "    if un not in unique_columns_names:\n",
    "        unique_columns_names.append(un)\n",
    "unique_columns_names"
   ]
  },
  {
   "cell_type": "code",
   "execution_count": 69,
   "id": "913b303c",
   "metadata": {},
   "outputs": [
    {
     "name": "stdout",
     "output_type": "stream",
     "text": [
      "* [kind](#kind)\n",
      "* [etag](#etag)\n",
      "* [id](#id)\n",
      "* [snippet](#snippet)\n",
      "* [contentDetails](#contentDetails)\n",
      "* [statistics](#statistics)\n",
      "* [topicDetails](#topicDetails)\n",
      "* [status](#status)\n",
      "* [brandingSettings](#brandingSettings)\n"
     ]
    }
   ],
   "source": [
    "for c in unique_columns_names:\n",
    "    print(f\"* [{c}](#{c})\")"
   ]
  },
  {
   "cell_type": "code",
   "execution_count": 124,
   "id": "4f3636d4",
   "metadata": {},
   "outputs": [
    {
     "name": "stdout",
     "output_type": "stream",
     "text": [
      "        * [snippet_thumbnails_default_url](#snippet_thumbnails_default_url)\n",
      "        * [snippet_thumbnails_default_width](#snippet_thumbnails_default_width)\n",
      "        * [snippet_thumbnails_default_height](#snippet_thumbnails_default_height)\n",
      "        * [snippet_thumbnails_medium_url](#snippet_thumbnails_medium_url)\n",
      "        * [snippet_thumbnails_medium_width](#snippet_thumbnails_medium_width)\n",
      "        * [snippet_thumbnails_medium_height](#snippet_thumbnails_medium_height)\n",
      "        * [snippet_thumbnails_high_url](#snippet_thumbnails_high_url)\n",
      "        * [snippet_thumbnails_high_width](#snippet_thumbnails_high_width)\n",
      "        * [snippet_thumbnails_high_height](#snippet_thumbnails_high_height)\n"
     ]
    }
   ],
   "source": [
    "for i in [\n",
    "    \"snippet.thumbnails.default.url\",\n",
    "    \"snippet.thumbnails.default.width\",\n",
    "    \"snippet.thumbnails.default.height\",\n",
    "    \"snippet.thumbnails.medium.url\",\n",
    "    \"snippet.thumbnails.medium.width\",\n",
    "    \"snippet.thumbnails.medium.height\",\n",
    "    \"snippet.thumbnails.high.url\",\n",
    "    \"snippet.thumbnails.high.width\",\n",
    "    \"snippet.thumbnails.high.height\",\n",
    "]:\n",
    "    c = i.replace(\".\", \"_\")\n",
    "    print(f\"        * [{c}](#{c})\")"
   ]
  },
  {
   "cell_type": "code",
   "execution_count": 127,
   "id": "3896b4c5",
   "metadata": {},
   "outputs": [
    {
     "data": {
      "text/plain": [
       "['snippet.localized.title',\n",
       " 'snippet.localized.description',\n",
       " 'snippet.customUrl',\n",
       " 'snippet.country',\n",
       " 'snippet.defaultLanguage']"
      ]
     },
     "execution_count": 127,
     "metadata": {},
     "output_type": "execute_result"
    }
   ],
   "source": [
    " ['snippet.localized.title',\n",
    " 'snippet.localized.description',\n",
    " 'snippet.customUrl',\n",
    " 'snippet.country',\n",
    " 'snippet.defaultLanguage']"
   ]
  },
  {
   "cell_type": "markdown",
   "id": "2654f156",
   "metadata": {},
   "source": [
    "### Investigate Each Column\n",
    "\n",
    "* [kind](#kind)\n",
    "* [etag](#etag)\n",
    "* [id](#id)\n",
    "* [snippet](#snippet)\n",
    "* [contentDetails](#contentDetails)\n",
    "* [statistics](#statistics)\n",
    "* [topicDetails](#topicDetails)\n",
    "* [status](#status)\n",
    "* [brandingSettings](#brandingSettings)"
   ]
  },
  {
   "cell_type": "markdown",
   "id": "2c851292",
   "metadata": {},
   "source": [
    "#### Kind <a class=\"anchor\" id=\"kind\"></a>"
   ]
  },
  {
   "cell_type": "code",
   "execution_count": 70,
   "id": "15d2de74",
   "metadata": {},
   "outputs": [
    {
     "data": {
      "text/plain": [
       "0          youtube#channel\n",
       "1          youtube#channel\n",
       "2          youtube#channel\n",
       "3          youtube#channel\n",
       "4          youtube#channel\n",
       "                ...       \n",
       "1155206    youtube#channel\n",
       "1155207    youtube#channel\n",
       "1155208    youtube#channel\n",
       "1155209    youtube#channel\n",
       "1155210    youtube#channel\n",
       "Name: kind, Length: 1155211, dtype: object"
      ]
     },
     "execution_count": 70,
     "metadata": {},
     "output_type": "execute_result"
    }
   ],
   "source": [
    "df_channels.kind"
   ]
  },
  {
   "cell_type": "code",
   "execution_count": 71,
   "id": "1d6cfb83",
   "metadata": {},
   "outputs": [
    {
     "data": {
      "text/plain": [
       "1"
      ]
     },
     "execution_count": 71,
     "metadata": {},
     "output_type": "execute_result"
    }
   ],
   "source": [
    "df_channels.kind.nunique()"
   ]
  },
  {
   "cell_type": "code",
   "execution_count": 76,
   "id": "5d983e70",
   "metadata": {},
   "outputs": [
    {
     "data": {
      "text/plain": [
       "(1155211, 1155211)"
      ]
     },
     "execution_count": 76,
     "metadata": {},
     "output_type": "execute_result"
    }
   ],
   "source": [
    "sum(df_channels.kind.duplicated()) + 1 , df_channels.shape[0]"
   ]
  },
  {
   "cell_type": "markdown",
   "id": "b094b9f4",
   "metadata": {},
   "source": [
    "<font color='red'><b>kind </b>should be dropped <i>Has only one unique value <b> youtube#channel</b></i>  </font>"
   ]
  },
  {
   "cell_type": "code",
   "execution_count": 91,
   "id": "7d4332f1",
   "metadata": {},
   "outputs": [],
   "source": [
    "to_drop = [\"kind\"]"
   ]
  },
  {
   "cell_type": "markdown",
   "id": "fb4e97cd",
   "metadata": {},
   "source": [
    "#### etag <a class=\"anchor\" id=\"etag\"></a>"
   ]
  },
  {
   "cell_type": "code",
   "execution_count": 82,
   "id": "6ddd80dd",
   "metadata": {},
   "outputs": [
    {
     "data": {
      "text/plain": [
       "UfuMQDuK9AkMkHSraC3HKcOoyc8    8\n",
       "NjrwNKNTZrJGgMKgV3eQMGpEATU    8\n",
       "GGxFF9OV4uFjIOAJ_Qsd-K97A9Q    8\n",
       "388lo-jjiCC-S1UbnS4zqLLR1hQ    7\n",
       "gOiHIwU--zYGrp6PL76rALtUS40    7\n",
       "                              ..\n",
       "m5sj_6owFwmZpHya6l5D8a2Vsag    1\n",
       "ZfbSdJoEaqFS3NB6fYNgLBOVikY    1\n",
       "LEEm6mKf5fDKYp1xvhBn2eSQ8CI    1\n",
       "teXUtdBIo1gWWD1G4oL4jRSKsWg    1\n",
       "6cBZ5pKQvde0xG8YuYlWKy51KVY    1\n",
       "Name: etag, Length: 1091515, dtype: int64"
      ]
     },
     "execution_count": 82,
     "metadata": {},
     "output_type": "execute_result"
    }
   ],
   "source": [
    "df_channels.etag.value_counts()"
   ]
  },
  {
   "cell_type": "code",
   "execution_count": 83,
   "id": "fd0561e6",
   "metadata": {},
   "outputs": [
    {
     "data": {
      "text/html": [
       "<div>\n",
       "<style scoped>\n",
       "    .dataframe tbody tr th:only-of-type {\n",
       "        vertical-align: middle;\n",
       "    }\n",
       "\n",
       "    .dataframe tbody tr th {\n",
       "        vertical-align: top;\n",
       "    }\n",
       "\n",
       "    .dataframe thead th {\n",
       "        text-align: right;\n",
       "    }\n",
       "</style>\n",
       "<table border=\"1\" class=\"dataframe\">\n",
       "  <thead>\n",
       "    <tr style=\"text-align: right;\">\n",
       "      <th></th>\n",
       "      <th>kind</th>\n",
       "      <th>etag</th>\n",
       "      <th>id</th>\n",
       "      <th>snippet.title</th>\n",
       "      <th>snippet.description</th>\n",
       "      <th>snippet.publishedAt</th>\n",
       "      <th>snippet.thumbnails.default.url</th>\n",
       "      <th>snippet.thumbnails.default.width</th>\n",
       "      <th>snippet.thumbnails.default.height</th>\n",
       "      <th>snippet.thumbnails.medium.url</th>\n",
       "      <th>snippet.thumbnails.medium.width</th>\n",
       "      <th>snippet.thumbnails.medium.height</th>\n",
       "      <th>snippet.thumbnails.high.url</th>\n",
       "      <th>snippet.thumbnails.high.width</th>\n",
       "      <th>snippet.thumbnails.high.height</th>\n",
       "      <th>snippet.localized.title</th>\n",
       "      <th>snippet.localized.description</th>\n",
       "      <th>contentDetails.relatedPlaylists.likes</th>\n",
       "      <th>contentDetails.relatedPlaylists.uploads</th>\n",
       "      <th>statistics.viewCount</th>\n",
       "      <th>statistics.subscriberCount</th>\n",
       "      <th>statistics.hiddenSubscriberCount</th>\n",
       "      <th>statistics.videoCount</th>\n",
       "      <th>topicDetails.topicIds</th>\n",
       "      <th>topicDetails.topicCategories</th>\n",
       "      <th>status.privacyStatus</th>\n",
       "      <th>status.isLinked</th>\n",
       "      <th>status.longUploadsStatus</th>\n",
       "      <th>brandingSettings.channel.title</th>\n",
       "      <th>snippet.customUrl</th>\n",
       "      <th>snippet.country</th>\n",
       "      <th>brandingSettings.channel.keywords</th>\n",
       "      <th>brandingSettings.channel.country</th>\n",
       "      <th>brandingSettings.image.bannerExternalUrl</th>\n",
       "      <th>brandingSettings.channel.moderateComments</th>\n",
       "      <th>brandingSettings.channel.description</th>\n",
       "      <th>status.madeForKids</th>\n",
       "      <th>brandingSettings.channel.unsubscribedTrailer</th>\n",
       "      <th>brandingSettings.channel.trackingAnalyticsAccountId</th>\n",
       "      <th>snippet.defaultLanguage</th>\n",
       "      <th>brandingSettings.channel.defaultLanguage</th>\n",
       "    </tr>\n",
       "  </thead>\n",
       "  <tbody>\n",
       "    <tr>\n",
       "      <th>12138</th>\n",
       "      <td>youtube#channel</td>\n",
       "      <td>UfuMQDuK9AkMkHSraC3HKcOoyc8</td>\n",
       "      <td>UCzs-67eBXlWayujQ_phklBw</td>\n",
       "      <td>ícҽís թհօҽղíx</td>\n",
       "      <td>I love mysteries so much that I became one.</td>\n",
       "      <td>2008-01-15T16:04:45Z</td>\n",
       "      <td>https://yt3.ggpht.com/ytc/AKedOLRMNbaDO0dA2zty...</td>\n",
       "      <td>88</td>\n",
       "      <td>88</td>\n",
       "      <td>https://yt3.ggpht.com/ytc/AKedOLRMNbaDO0dA2zty...</td>\n",
       "      <td>240</td>\n",
       "      <td>240</td>\n",
       "      <td>https://yt3.ggpht.com/ytc/AKedOLRMNbaDO0dA2zty...</td>\n",
       "      <td>800</td>\n",
       "      <td>800</td>\n",
       "      <td>ícҽís թհօҽղíx</td>\n",
       "      <td>I love mysteries so much that I became one.</td>\n",
       "      <td>NaN</td>\n",
       "      <td>UUzs-67eBXlWayujQ_phklBw</td>\n",
       "      <td>0</td>\n",
       "      <td>NaN</td>\n",
       "      <td>True</td>\n",
       "      <td>0</td>\n",
       "      <td>NaN</td>\n",
       "      <td>NaN</td>\n",
       "      <td>public</td>\n",
       "      <td>True</td>\n",
       "      <td>longUploadsUnspecified</td>\n",
       "      <td>ícҽís թհօҽղíx</td>\n",
       "      <td>NaN</td>\n",
       "      <td>NaN</td>\n",
       "      <td>NaN</td>\n",
       "      <td>NaN</td>\n",
       "      <td>https://lh3.googleusercontent.com/4yV7ZOeCqiiN...</td>\n",
       "      <td>NaN</td>\n",
       "      <td>I love mysteries so much that I became one.</td>\n",
       "      <td>NaN</td>\n",
       "      <td>WRIRRsW6crM</td>\n",
       "      <td>NaN</td>\n",
       "      <td>NaN</td>\n",
       "      <td>NaN</td>\n",
       "    </tr>\n",
       "    <tr>\n",
       "      <th>69364</th>\n",
       "      <td>youtube#channel</td>\n",
       "      <td>UfuMQDuK9AkMkHSraC3HKcOoyc8</td>\n",
       "      <td>UCzs-67eBXlWayujQ_phklBw</td>\n",
       "      <td>ícҽís թհօҽղíx</td>\n",
       "      <td>I love mysteries so much that I became one.</td>\n",
       "      <td>2008-01-15T16:04:45Z</td>\n",
       "      <td>https://yt3.ggpht.com/ytc/AKedOLRMNbaDO0dA2zty...</td>\n",
       "      <td>88</td>\n",
       "      <td>88</td>\n",
       "      <td>https://yt3.ggpht.com/ytc/AKedOLRMNbaDO0dA2zty...</td>\n",
       "      <td>240</td>\n",
       "      <td>240</td>\n",
       "      <td>https://yt3.ggpht.com/ytc/AKedOLRMNbaDO0dA2zty...</td>\n",
       "      <td>800</td>\n",
       "      <td>800</td>\n",
       "      <td>ícҽís թհօҽղíx</td>\n",
       "      <td>I love mysteries so much that I became one.</td>\n",
       "      <td>NaN</td>\n",
       "      <td>UUzs-67eBXlWayujQ_phklBw</td>\n",
       "      <td>0</td>\n",
       "      <td>NaN</td>\n",
       "      <td>True</td>\n",
       "      <td>0</td>\n",
       "      <td>NaN</td>\n",
       "      <td>NaN</td>\n",
       "      <td>public</td>\n",
       "      <td>True</td>\n",
       "      <td>longUploadsUnspecified</td>\n",
       "      <td>ícҽís թհօҽղíx</td>\n",
       "      <td>NaN</td>\n",
       "      <td>NaN</td>\n",
       "      <td>NaN</td>\n",
       "      <td>NaN</td>\n",
       "      <td>https://lh3.googleusercontent.com/4yV7ZOeCqiiN...</td>\n",
       "      <td>NaN</td>\n",
       "      <td>I love mysteries so much that I became one.</td>\n",
       "      <td>NaN</td>\n",
       "      <td>WRIRRsW6crM</td>\n",
       "      <td>NaN</td>\n",
       "      <td>NaN</td>\n",
       "      <td>NaN</td>\n",
       "    </tr>\n",
       "    <tr>\n",
       "      <th>106873</th>\n",
       "      <td>youtube#channel</td>\n",
       "      <td>UfuMQDuK9AkMkHSraC3HKcOoyc8</td>\n",
       "      <td>UCzs-67eBXlWayujQ_phklBw</td>\n",
       "      <td>ícҽís թհօҽղíx</td>\n",
       "      <td>I love mysteries so much that I became one.</td>\n",
       "      <td>2008-01-15T16:04:45Z</td>\n",
       "      <td>https://yt3.ggpht.com/ytc/AKedOLRMNbaDO0dA2zty...</td>\n",
       "      <td>88</td>\n",
       "      <td>88</td>\n",
       "      <td>https://yt3.ggpht.com/ytc/AKedOLRMNbaDO0dA2zty...</td>\n",
       "      <td>240</td>\n",
       "      <td>240</td>\n",
       "      <td>https://yt3.ggpht.com/ytc/AKedOLRMNbaDO0dA2zty...</td>\n",
       "      <td>800</td>\n",
       "      <td>800</td>\n",
       "      <td>ícҽís թհօҽղíx</td>\n",
       "      <td>I love mysteries so much that I became one.</td>\n",
       "      <td>NaN</td>\n",
       "      <td>UUzs-67eBXlWayujQ_phklBw</td>\n",
       "      <td>0</td>\n",
       "      <td>NaN</td>\n",
       "      <td>True</td>\n",
       "      <td>0</td>\n",
       "      <td>NaN</td>\n",
       "      <td>NaN</td>\n",
       "      <td>public</td>\n",
       "      <td>True</td>\n",
       "      <td>longUploadsUnspecified</td>\n",
       "      <td>ícҽís թհօҽղíx</td>\n",
       "      <td>NaN</td>\n",
       "      <td>NaN</td>\n",
       "      <td>NaN</td>\n",
       "      <td>NaN</td>\n",
       "      <td>https://lh3.googleusercontent.com/4yV7ZOeCqiiN...</td>\n",
       "      <td>NaN</td>\n",
       "      <td>I love mysteries so much that I became one.</td>\n",
       "      <td>NaN</td>\n",
       "      <td>WRIRRsW6crM</td>\n",
       "      <td>NaN</td>\n",
       "      <td>NaN</td>\n",
       "      <td>NaN</td>\n",
       "    </tr>\n",
       "    <tr>\n",
       "      <th>139683</th>\n",
       "      <td>youtube#channel</td>\n",
       "      <td>UfuMQDuK9AkMkHSraC3HKcOoyc8</td>\n",
       "      <td>UCzs-67eBXlWayujQ_phklBw</td>\n",
       "      <td>ícҽís թհօҽղíx</td>\n",
       "      <td>I love mysteries so much that I became one.</td>\n",
       "      <td>2008-01-15T16:04:45Z</td>\n",
       "      <td>https://yt3.ggpht.com/ytc/AKedOLRMNbaDO0dA2zty...</td>\n",
       "      <td>88</td>\n",
       "      <td>88</td>\n",
       "      <td>https://yt3.ggpht.com/ytc/AKedOLRMNbaDO0dA2zty...</td>\n",
       "      <td>240</td>\n",
       "      <td>240</td>\n",
       "      <td>https://yt3.ggpht.com/ytc/AKedOLRMNbaDO0dA2zty...</td>\n",
       "      <td>800</td>\n",
       "      <td>800</td>\n",
       "      <td>ícҽís թհօҽղíx</td>\n",
       "      <td>I love mysteries so much that I became one.</td>\n",
       "      <td>NaN</td>\n",
       "      <td>UUzs-67eBXlWayujQ_phklBw</td>\n",
       "      <td>0</td>\n",
       "      <td>NaN</td>\n",
       "      <td>True</td>\n",
       "      <td>0</td>\n",
       "      <td>NaN</td>\n",
       "      <td>NaN</td>\n",
       "      <td>public</td>\n",
       "      <td>True</td>\n",
       "      <td>longUploadsUnspecified</td>\n",
       "      <td>ícҽís թհօҽղíx</td>\n",
       "      <td>NaN</td>\n",
       "      <td>NaN</td>\n",
       "      <td>NaN</td>\n",
       "      <td>NaN</td>\n",
       "      <td>https://lh3.googleusercontent.com/4yV7ZOeCqiiN...</td>\n",
       "      <td>NaN</td>\n",
       "      <td>I love mysteries so much that I became one.</td>\n",
       "      <td>NaN</td>\n",
       "      <td>WRIRRsW6crM</td>\n",
       "      <td>NaN</td>\n",
       "      <td>NaN</td>\n",
       "      <td>NaN</td>\n",
       "    </tr>\n",
       "    <tr>\n",
       "      <th>169764</th>\n",
       "      <td>youtube#channel</td>\n",
       "      <td>UfuMQDuK9AkMkHSraC3HKcOoyc8</td>\n",
       "      <td>UCzs-67eBXlWayujQ_phklBw</td>\n",
       "      <td>ícҽís թհօҽղíx</td>\n",
       "      <td>I love mysteries so much that I became one.</td>\n",
       "      <td>2008-01-15T16:04:45Z</td>\n",
       "      <td>https://yt3.ggpht.com/ytc/AKedOLRMNbaDO0dA2zty...</td>\n",
       "      <td>88</td>\n",
       "      <td>88</td>\n",
       "      <td>https://yt3.ggpht.com/ytc/AKedOLRMNbaDO0dA2zty...</td>\n",
       "      <td>240</td>\n",
       "      <td>240</td>\n",
       "      <td>https://yt3.ggpht.com/ytc/AKedOLRMNbaDO0dA2zty...</td>\n",
       "      <td>800</td>\n",
       "      <td>800</td>\n",
       "      <td>ícҽís թհօҽղíx</td>\n",
       "      <td>I love mysteries so much that I became one.</td>\n",
       "      <td>NaN</td>\n",
       "      <td>UUzs-67eBXlWayujQ_phklBw</td>\n",
       "      <td>0</td>\n",
       "      <td>NaN</td>\n",
       "      <td>True</td>\n",
       "      <td>0</td>\n",
       "      <td>NaN</td>\n",
       "      <td>NaN</td>\n",
       "      <td>public</td>\n",
       "      <td>True</td>\n",
       "      <td>longUploadsUnspecified</td>\n",
       "      <td>ícҽís թհօҽղíx</td>\n",
       "      <td>NaN</td>\n",
       "      <td>NaN</td>\n",
       "      <td>NaN</td>\n",
       "      <td>NaN</td>\n",
       "      <td>https://lh3.googleusercontent.com/4yV7ZOeCqiiN...</td>\n",
       "      <td>NaN</td>\n",
       "      <td>I love mysteries so much that I became one.</td>\n",
       "      <td>NaN</td>\n",
       "      <td>WRIRRsW6crM</td>\n",
       "      <td>NaN</td>\n",
       "      <td>NaN</td>\n",
       "      <td>NaN</td>\n",
       "    </tr>\n",
       "    <tr>\n",
       "      <th>335430</th>\n",
       "      <td>youtube#channel</td>\n",
       "      <td>UfuMQDuK9AkMkHSraC3HKcOoyc8</td>\n",
       "      <td>UCzs-67eBXlWayujQ_phklBw</td>\n",
       "      <td>ícҽís թհօҽղíx</td>\n",
       "      <td>I love mysteries so much that I became one.</td>\n",
       "      <td>2008-01-15T16:04:45Z</td>\n",
       "      <td>https://yt3.ggpht.com/ytc/AKedOLRMNbaDO0dA2zty...</td>\n",
       "      <td>88</td>\n",
       "      <td>88</td>\n",
       "      <td>https://yt3.ggpht.com/ytc/AKedOLRMNbaDO0dA2zty...</td>\n",
       "      <td>240</td>\n",
       "      <td>240</td>\n",
       "      <td>https://yt3.ggpht.com/ytc/AKedOLRMNbaDO0dA2zty...</td>\n",
       "      <td>800</td>\n",
       "      <td>800</td>\n",
       "      <td>ícҽís թհօҽղíx</td>\n",
       "      <td>I love mysteries so much that I became one.</td>\n",
       "      <td>NaN</td>\n",
       "      <td>UUzs-67eBXlWayujQ_phklBw</td>\n",
       "      <td>0</td>\n",
       "      <td>NaN</td>\n",
       "      <td>True</td>\n",
       "      <td>0</td>\n",
       "      <td>NaN</td>\n",
       "      <td>NaN</td>\n",
       "      <td>public</td>\n",
       "      <td>True</td>\n",
       "      <td>longUploadsUnspecified</td>\n",
       "      <td>ícҽís թհօҽղíx</td>\n",
       "      <td>NaN</td>\n",
       "      <td>NaN</td>\n",
       "      <td>NaN</td>\n",
       "      <td>NaN</td>\n",
       "      <td>https://lh3.googleusercontent.com/4yV7ZOeCqiiN...</td>\n",
       "      <td>NaN</td>\n",
       "      <td>I love mysteries so much that I became one.</td>\n",
       "      <td>NaN</td>\n",
       "      <td>WRIRRsW6crM</td>\n",
       "      <td>NaN</td>\n",
       "      <td>NaN</td>\n",
       "      <td>NaN</td>\n",
       "    </tr>\n",
       "    <tr>\n",
       "      <th>806320</th>\n",
       "      <td>youtube#channel</td>\n",
       "      <td>UfuMQDuK9AkMkHSraC3HKcOoyc8</td>\n",
       "      <td>UCzs-67eBXlWayujQ_phklBw</td>\n",
       "      <td>ícҽís թհօҽղíx</td>\n",
       "      <td>I love mysteries so much that I became one.</td>\n",
       "      <td>2008-01-15T16:04:45Z</td>\n",
       "      <td>https://yt3.ggpht.com/ytc/AKedOLRMNbaDO0dA2zty...</td>\n",
       "      <td>88</td>\n",
       "      <td>88</td>\n",
       "      <td>https://yt3.ggpht.com/ytc/AKedOLRMNbaDO0dA2zty...</td>\n",
       "      <td>240</td>\n",
       "      <td>240</td>\n",
       "      <td>https://yt3.ggpht.com/ytc/AKedOLRMNbaDO0dA2zty...</td>\n",
       "      <td>800</td>\n",
       "      <td>800</td>\n",
       "      <td>ícҽís թհօҽղíx</td>\n",
       "      <td>I love mysteries so much that I became one.</td>\n",
       "      <td>NaN</td>\n",
       "      <td>UUzs-67eBXlWayujQ_phklBw</td>\n",
       "      <td>0</td>\n",
       "      <td>NaN</td>\n",
       "      <td>True</td>\n",
       "      <td>0</td>\n",
       "      <td>NaN</td>\n",
       "      <td>NaN</td>\n",
       "      <td>public</td>\n",
       "      <td>True</td>\n",
       "      <td>longUploadsUnspecified</td>\n",
       "      <td>ícҽís թհօҽղíx</td>\n",
       "      <td>NaN</td>\n",
       "      <td>NaN</td>\n",
       "      <td>NaN</td>\n",
       "      <td>NaN</td>\n",
       "      <td>https://lh3.googleusercontent.com/4yV7ZOeCqiiN...</td>\n",
       "      <td>NaN</td>\n",
       "      <td>I love mysteries so much that I became one.</td>\n",
       "      <td>NaN</td>\n",
       "      <td>WRIRRsW6crM</td>\n",
       "      <td>NaN</td>\n",
       "      <td>NaN</td>\n",
       "      <td>NaN</td>\n",
       "    </tr>\n",
       "    <tr>\n",
       "      <th>986891</th>\n",
       "      <td>youtube#channel</td>\n",
       "      <td>UfuMQDuK9AkMkHSraC3HKcOoyc8</td>\n",
       "      <td>UCzs-67eBXlWayujQ_phklBw</td>\n",
       "      <td>ícҽís թհօҽղíx</td>\n",
       "      <td>I love mysteries so much that I became one.</td>\n",
       "      <td>2008-01-15T16:04:45Z</td>\n",
       "      <td>https://yt3.ggpht.com/ytc/AKedOLRMNbaDO0dA2zty...</td>\n",
       "      <td>88</td>\n",
       "      <td>88</td>\n",
       "      <td>https://yt3.ggpht.com/ytc/AKedOLRMNbaDO0dA2zty...</td>\n",
       "      <td>240</td>\n",
       "      <td>240</td>\n",
       "      <td>https://yt3.ggpht.com/ytc/AKedOLRMNbaDO0dA2zty...</td>\n",
       "      <td>800</td>\n",
       "      <td>800</td>\n",
       "      <td>ícҽís թհօҽղíx</td>\n",
       "      <td>I love mysteries so much that I became one.</td>\n",
       "      <td>NaN</td>\n",
       "      <td>UUzs-67eBXlWayujQ_phklBw</td>\n",
       "      <td>0</td>\n",
       "      <td>NaN</td>\n",
       "      <td>True</td>\n",
       "      <td>0</td>\n",
       "      <td>NaN</td>\n",
       "      <td>NaN</td>\n",
       "      <td>public</td>\n",
       "      <td>True</td>\n",
       "      <td>longUploadsUnspecified</td>\n",
       "      <td>ícҽís թհօҽղíx</td>\n",
       "      <td>NaN</td>\n",
       "      <td>NaN</td>\n",
       "      <td>NaN</td>\n",
       "      <td>NaN</td>\n",
       "      <td>https://lh3.googleusercontent.com/4yV7ZOeCqiiN...</td>\n",
       "      <td>NaN</td>\n",
       "      <td>I love mysteries so much that I became one.</td>\n",
       "      <td>NaN</td>\n",
       "      <td>WRIRRsW6crM</td>\n",
       "      <td>NaN</td>\n",
       "      <td>NaN</td>\n",
       "      <td>NaN</td>\n",
       "    </tr>\n",
       "  </tbody>\n",
       "</table>\n",
       "</div>"
      ],
      "text/plain": [
       "                   kind                         etag  \\\n",
       "12138   youtube#channel  UfuMQDuK9AkMkHSraC3HKcOoyc8   \n",
       "69364   youtube#channel  UfuMQDuK9AkMkHSraC3HKcOoyc8   \n",
       "106873  youtube#channel  UfuMQDuK9AkMkHSraC3HKcOoyc8   \n",
       "139683  youtube#channel  UfuMQDuK9AkMkHSraC3HKcOoyc8   \n",
       "169764  youtube#channel  UfuMQDuK9AkMkHSraC3HKcOoyc8   \n",
       "335430  youtube#channel  UfuMQDuK9AkMkHSraC3HKcOoyc8   \n",
       "806320  youtube#channel  UfuMQDuK9AkMkHSraC3HKcOoyc8   \n",
       "986891  youtube#channel  UfuMQDuK9AkMkHSraC3HKcOoyc8   \n",
       "\n",
       "                              id  snippet.title  \\\n",
       "12138   UCzs-67eBXlWayujQ_phklBw  ícҽís թհօҽղíx   \n",
       "69364   UCzs-67eBXlWayujQ_phklBw  ícҽís թհօҽղíx   \n",
       "106873  UCzs-67eBXlWayujQ_phklBw  ícҽís թհօҽղíx   \n",
       "139683  UCzs-67eBXlWayujQ_phklBw  ícҽís թհօҽղíx   \n",
       "169764  UCzs-67eBXlWayujQ_phklBw  ícҽís թհօҽղíx   \n",
       "335430  UCzs-67eBXlWayujQ_phklBw  ícҽís թհօҽղíx   \n",
       "806320  UCzs-67eBXlWayujQ_phklBw  ícҽís թհօҽղíx   \n",
       "986891  UCzs-67eBXlWayujQ_phklBw  ícҽís թհօҽղíx   \n",
       "\n",
       "                                snippet.description   snippet.publishedAt  \\\n",
       "12138   I love mysteries so much that I became one.  2008-01-15T16:04:45Z   \n",
       "69364   I love mysteries so much that I became one.  2008-01-15T16:04:45Z   \n",
       "106873  I love mysteries so much that I became one.  2008-01-15T16:04:45Z   \n",
       "139683  I love mysteries so much that I became one.  2008-01-15T16:04:45Z   \n",
       "169764  I love mysteries so much that I became one.  2008-01-15T16:04:45Z   \n",
       "335430  I love mysteries so much that I became one.  2008-01-15T16:04:45Z   \n",
       "806320  I love mysteries so much that I became one.  2008-01-15T16:04:45Z   \n",
       "986891  I love mysteries so much that I became one.  2008-01-15T16:04:45Z   \n",
       "\n",
       "                           snippet.thumbnails.default.url  \\\n",
       "12138   https://yt3.ggpht.com/ytc/AKedOLRMNbaDO0dA2zty...   \n",
       "69364   https://yt3.ggpht.com/ytc/AKedOLRMNbaDO0dA2zty...   \n",
       "106873  https://yt3.ggpht.com/ytc/AKedOLRMNbaDO0dA2zty...   \n",
       "139683  https://yt3.ggpht.com/ytc/AKedOLRMNbaDO0dA2zty...   \n",
       "169764  https://yt3.ggpht.com/ytc/AKedOLRMNbaDO0dA2zty...   \n",
       "335430  https://yt3.ggpht.com/ytc/AKedOLRMNbaDO0dA2zty...   \n",
       "806320  https://yt3.ggpht.com/ytc/AKedOLRMNbaDO0dA2zty...   \n",
       "986891  https://yt3.ggpht.com/ytc/AKedOLRMNbaDO0dA2zty...   \n",
       "\n",
       "        snippet.thumbnails.default.width  snippet.thumbnails.default.height  \\\n",
       "12138                                 88                                 88   \n",
       "69364                                 88                                 88   \n",
       "106873                                88                                 88   \n",
       "139683                                88                                 88   \n",
       "169764                                88                                 88   \n",
       "335430                                88                                 88   \n",
       "806320                                88                                 88   \n",
       "986891                                88                                 88   \n",
       "\n",
       "                            snippet.thumbnails.medium.url  \\\n",
       "12138   https://yt3.ggpht.com/ytc/AKedOLRMNbaDO0dA2zty...   \n",
       "69364   https://yt3.ggpht.com/ytc/AKedOLRMNbaDO0dA2zty...   \n",
       "106873  https://yt3.ggpht.com/ytc/AKedOLRMNbaDO0dA2zty...   \n",
       "139683  https://yt3.ggpht.com/ytc/AKedOLRMNbaDO0dA2zty...   \n",
       "169764  https://yt3.ggpht.com/ytc/AKedOLRMNbaDO0dA2zty...   \n",
       "335430  https://yt3.ggpht.com/ytc/AKedOLRMNbaDO0dA2zty...   \n",
       "806320  https://yt3.ggpht.com/ytc/AKedOLRMNbaDO0dA2zty...   \n",
       "986891  https://yt3.ggpht.com/ytc/AKedOLRMNbaDO0dA2zty...   \n",
       "\n",
       "        snippet.thumbnails.medium.width  snippet.thumbnails.medium.height  \\\n",
       "12138                               240                               240   \n",
       "69364                               240                               240   \n",
       "106873                              240                               240   \n",
       "139683                              240                               240   \n",
       "169764                              240                               240   \n",
       "335430                              240                               240   \n",
       "806320                              240                               240   \n",
       "986891                              240                               240   \n",
       "\n",
       "                              snippet.thumbnails.high.url  \\\n",
       "12138   https://yt3.ggpht.com/ytc/AKedOLRMNbaDO0dA2zty...   \n",
       "69364   https://yt3.ggpht.com/ytc/AKedOLRMNbaDO0dA2zty...   \n",
       "106873  https://yt3.ggpht.com/ytc/AKedOLRMNbaDO0dA2zty...   \n",
       "139683  https://yt3.ggpht.com/ytc/AKedOLRMNbaDO0dA2zty...   \n",
       "169764  https://yt3.ggpht.com/ytc/AKedOLRMNbaDO0dA2zty...   \n",
       "335430  https://yt3.ggpht.com/ytc/AKedOLRMNbaDO0dA2zty...   \n",
       "806320  https://yt3.ggpht.com/ytc/AKedOLRMNbaDO0dA2zty...   \n",
       "986891  https://yt3.ggpht.com/ytc/AKedOLRMNbaDO0dA2zty...   \n",
       "\n",
       "        snippet.thumbnails.high.width  snippet.thumbnails.high.height  \\\n",
       "12138                             800                             800   \n",
       "69364                             800                             800   \n",
       "106873                            800                             800   \n",
       "139683                            800                             800   \n",
       "169764                            800                             800   \n",
       "335430                            800                             800   \n",
       "806320                            800                             800   \n",
       "986891                            800                             800   \n",
       "\n",
       "       snippet.localized.title                snippet.localized.description  \\\n",
       "12138            ícҽís թհօҽղíx  I love mysteries so much that I became one.   \n",
       "69364            ícҽís թհօҽղíx  I love mysteries so much that I became one.   \n",
       "106873           ícҽís թհօҽղíx  I love mysteries so much that I became one.   \n",
       "139683           ícҽís թհօҽղíx  I love mysteries so much that I became one.   \n",
       "169764           ícҽís թհօҽղíx  I love mysteries so much that I became one.   \n",
       "335430           ícҽís թհօҽղíx  I love mysteries so much that I became one.   \n",
       "806320           ícҽís թհօҽղíx  I love mysteries so much that I became one.   \n",
       "986891           ícҽís թհօҽղíx  I love mysteries so much that I became one.   \n",
       "\n",
       "        contentDetails.relatedPlaylists.likes  \\\n",
       "12138                                     NaN   \n",
       "69364                                     NaN   \n",
       "106873                                    NaN   \n",
       "139683                                    NaN   \n",
       "169764                                    NaN   \n",
       "335430                                    NaN   \n",
       "806320                                    NaN   \n",
       "986891                                    NaN   \n",
       "\n",
       "       contentDetails.relatedPlaylists.uploads  statistics.viewCount  \\\n",
       "12138                 UUzs-67eBXlWayujQ_phklBw                     0   \n",
       "69364                 UUzs-67eBXlWayujQ_phklBw                     0   \n",
       "106873                UUzs-67eBXlWayujQ_phklBw                     0   \n",
       "139683                UUzs-67eBXlWayujQ_phklBw                     0   \n",
       "169764                UUzs-67eBXlWayujQ_phklBw                     0   \n",
       "335430                UUzs-67eBXlWayujQ_phklBw                     0   \n",
       "806320                UUzs-67eBXlWayujQ_phklBw                     0   \n",
       "986891                UUzs-67eBXlWayujQ_phklBw                     0   \n",
       "\n",
       "        statistics.subscriberCount  statistics.hiddenSubscriberCount  \\\n",
       "12138                          NaN                              True   \n",
       "69364                          NaN                              True   \n",
       "106873                         NaN                              True   \n",
       "139683                         NaN                              True   \n",
       "169764                         NaN                              True   \n",
       "335430                         NaN                              True   \n",
       "806320                         NaN                              True   \n",
       "986891                         NaN                              True   \n",
       "\n",
       "        statistics.videoCount topicDetails.topicIds  \\\n",
       "12138                       0                   NaN   \n",
       "69364                       0                   NaN   \n",
       "106873                      0                   NaN   \n",
       "139683                      0                   NaN   \n",
       "169764                      0                   NaN   \n",
       "335430                      0                   NaN   \n",
       "806320                      0                   NaN   \n",
       "986891                      0                   NaN   \n",
       "\n",
       "       topicDetails.topicCategories status.privacyStatus  status.isLinked  \\\n",
       "12138                           NaN               public             True   \n",
       "69364                           NaN               public             True   \n",
       "106873                          NaN               public             True   \n",
       "139683                          NaN               public             True   \n",
       "169764                          NaN               public             True   \n",
       "335430                          NaN               public             True   \n",
       "806320                          NaN               public             True   \n",
       "986891                          NaN               public             True   \n",
       "\n",
       "       status.longUploadsStatus brandingSettings.channel.title  \\\n",
       "12138    longUploadsUnspecified                  ícҽís թհօҽղíx   \n",
       "69364    longUploadsUnspecified                  ícҽís թհօҽղíx   \n",
       "106873   longUploadsUnspecified                  ícҽís թհօҽղíx   \n",
       "139683   longUploadsUnspecified                  ícҽís թհօҽղíx   \n",
       "169764   longUploadsUnspecified                  ícҽís թհօҽղíx   \n",
       "335430   longUploadsUnspecified                  ícҽís թհօҽղíx   \n",
       "806320   longUploadsUnspecified                  ícҽís թհօҽղíx   \n",
       "986891   longUploadsUnspecified                  ícҽís թհօҽղíx   \n",
       "\n",
       "       snippet.customUrl snippet.country brandingSettings.channel.keywords  \\\n",
       "12138                NaN             NaN                               NaN   \n",
       "69364                NaN             NaN                               NaN   \n",
       "106873               NaN             NaN                               NaN   \n",
       "139683               NaN             NaN                               NaN   \n",
       "169764               NaN             NaN                               NaN   \n",
       "335430               NaN             NaN                               NaN   \n",
       "806320               NaN             NaN                               NaN   \n",
       "986891               NaN             NaN                               NaN   \n",
       "\n",
       "       brandingSettings.channel.country  \\\n",
       "12138                               NaN   \n",
       "69364                               NaN   \n",
       "106873                              NaN   \n",
       "139683                              NaN   \n",
       "169764                              NaN   \n",
       "335430                              NaN   \n",
       "806320                              NaN   \n",
       "986891                              NaN   \n",
       "\n",
       "                 brandingSettings.image.bannerExternalUrl  \\\n",
       "12138   https://lh3.googleusercontent.com/4yV7ZOeCqiiN...   \n",
       "69364   https://lh3.googleusercontent.com/4yV7ZOeCqiiN...   \n",
       "106873  https://lh3.googleusercontent.com/4yV7ZOeCqiiN...   \n",
       "139683  https://lh3.googleusercontent.com/4yV7ZOeCqiiN...   \n",
       "169764  https://lh3.googleusercontent.com/4yV7ZOeCqiiN...   \n",
       "335430  https://lh3.googleusercontent.com/4yV7ZOeCqiiN...   \n",
       "806320  https://lh3.googleusercontent.com/4yV7ZOeCqiiN...   \n",
       "986891  https://lh3.googleusercontent.com/4yV7ZOeCqiiN...   \n",
       "\n",
       "       brandingSettings.channel.moderateComments  \\\n",
       "12138                                        NaN   \n",
       "69364                                        NaN   \n",
       "106873                                       NaN   \n",
       "139683                                       NaN   \n",
       "169764                                       NaN   \n",
       "335430                                       NaN   \n",
       "806320                                       NaN   \n",
       "986891                                       NaN   \n",
       "\n",
       "               brandingSettings.channel.description status.madeForKids  \\\n",
       "12138   I love mysteries so much that I became one.                NaN   \n",
       "69364   I love mysteries so much that I became one.                NaN   \n",
       "106873  I love mysteries so much that I became one.                NaN   \n",
       "139683  I love mysteries so much that I became one.                NaN   \n",
       "169764  I love mysteries so much that I became one.                NaN   \n",
       "335430  I love mysteries so much that I became one.                NaN   \n",
       "806320  I love mysteries so much that I became one.                NaN   \n",
       "986891  I love mysteries so much that I became one.                NaN   \n",
       "\n",
       "       brandingSettings.channel.unsubscribedTrailer  \\\n",
       "12138                                   WRIRRsW6crM   \n",
       "69364                                   WRIRRsW6crM   \n",
       "106873                                  WRIRRsW6crM   \n",
       "139683                                  WRIRRsW6crM   \n",
       "169764                                  WRIRRsW6crM   \n",
       "335430                                  WRIRRsW6crM   \n",
       "806320                                  WRIRRsW6crM   \n",
       "986891                                  WRIRRsW6crM   \n",
       "\n",
       "       brandingSettings.channel.trackingAnalyticsAccountId  \\\n",
       "12138                                                 NaN    \n",
       "69364                                                 NaN    \n",
       "106873                                                NaN    \n",
       "139683                                                NaN    \n",
       "169764                                                NaN    \n",
       "335430                                                NaN    \n",
       "806320                                                NaN    \n",
       "986891                                                NaN    \n",
       "\n",
       "       snippet.defaultLanguage brandingSettings.channel.defaultLanguage  \n",
       "12138                      NaN                                      NaN  \n",
       "69364                      NaN                                      NaN  \n",
       "106873                     NaN                                      NaN  \n",
       "139683                     NaN                                      NaN  \n",
       "169764                     NaN                                      NaN  \n",
       "335430                     NaN                                      NaN  \n",
       "806320                     NaN                                      NaN  \n",
       "986891                     NaN                                      NaN  "
      ]
     },
     "execution_count": 83,
     "metadata": {},
     "output_type": "execute_result"
    }
   ],
   "source": [
    "df_channels[df_channels[\"etag\"] == \"UfuMQDuK9AkMkHSraC3HKcOoyc8\"]"
   ]
  },
  {
   "cell_type": "markdown",
   "id": "9a1f1e99",
   "metadata": {},
   "source": [
    "##### We should drop duplicates"
   ]
  },
  {
   "cell_type": "code",
   "execution_count": 86,
   "id": "786b36b3",
   "metadata": {},
   "outputs": [
    {
     "data": {
      "text/plain": [
       "63696"
      ]
     },
     "execution_count": 86,
     "metadata": {},
     "output_type": "execute_result"
    }
   ],
   "source": [
    "sum(df_channels.duplicated())"
   ]
  },
  {
   "cell_type": "code",
   "execution_count": 87,
   "id": "41fa952c",
   "metadata": {},
   "outputs": [],
   "source": [
    "df_channels.drop_duplicates(inplace=True)"
   ]
  },
  {
   "cell_type": "code",
   "execution_count": 88,
   "id": "5fc4dc47",
   "metadata": {},
   "outputs": [
    {
     "data": {
      "text/plain": [
       "0"
      ]
     },
     "execution_count": 88,
     "metadata": {},
     "output_type": "execute_result"
    }
   ],
   "source": [
    "sum(df_channels.duplicated())"
   ]
  },
  {
   "cell_type": "code",
   "execution_count": 89,
   "id": "93e4d1fc",
   "metadata": {},
   "outputs": [
    {
     "data": {
      "text/plain": [
       "cNquYYwdeA3uQFDYlj1_HbLV52E    1\n",
       "KXttBsPWLvcXZHLf9d6lD-Mq_FI    1\n",
       "SVIoZtXUfeXx_6WKWPblyQe0L3s    1\n",
       "jBJWRJXAq8Yq8Zfv80_7OFFFxeY    1\n",
       "1xK_aEuj4XNSaDAkQsnzzjCrRZU    1\n",
       "                              ..\n",
       "apEvmTJe4BdVqNOLT4IRru9kDcU    1\n",
       "5-D9nPfoJcLCK_1njSDoQiV5oMc    1\n",
       "MEXnBvor_Ko3bKHCyAXf4KL8cU4    1\n",
       "q4GkC2Dt71cKI2ltMc6NrUiySy8    1\n",
       "6cBZ5pKQvde0xG8YuYlWKy51KVY    1\n",
       "Name: etag, Length: 1091515, dtype: int64"
      ]
     },
     "execution_count": 89,
     "metadata": {},
     "output_type": "execute_result"
    }
   ],
   "source": [
    "df_channels.etag.value_counts()"
   ]
  },
  {
   "cell_type": "code",
   "execution_count": 92,
   "id": "5b329989",
   "metadata": {},
   "outputs": [
    {
     "data": {
      "text/plain": [
       "1091515"
      ]
     },
     "execution_count": 92,
     "metadata": {},
     "output_type": "execute_result"
    }
   ],
   "source": [
    "df_channels.etag.nunique()"
   ]
  },
  {
   "cell_type": "code",
   "execution_count": 93,
   "id": "5ae52c30",
   "metadata": {},
   "outputs": [
    {
     "data": {
      "text/plain": [
       "1091515"
      ]
     },
     "execution_count": 93,
     "metadata": {},
     "output_type": "execute_result"
    }
   ],
   "source": [
    "df_channels.shape[0]"
   ]
  },
  {
   "cell_type": "markdown",
   "id": "3da0a5c0",
   "metadata": {},
   "source": [
    "<font color='green'><b>etag </b>should be renamed <i><b> ch_etag</b></i>  </font>"
   ]
  },
  {
   "cell_type": "code",
   "execution_count": 135,
   "id": "2638946b",
   "metadata": {},
   "outputs": [],
   "source": [
    "to_rename = {}\n",
    "to_rename[\"etag\"] = \"ch_etag\""
   ]
  },
  {
   "cell_type": "markdown",
   "id": "5d37e1ae",
   "metadata": {},
   "source": [
    "#### id <a class=\"anchor\" id=\"id\"></a>"
   ]
  },
  {
   "cell_type": "code",
   "execution_count": 108,
   "id": "796bdc5d",
   "metadata": {},
   "outputs": [
    {
     "data": {
      "text/plain": [
       "UCKT7UtN0TpNBt_gvgDWFjkw    4\n",
       "UCBfPCO5AcXhy-gQp3xpZ34Q    4\n",
       "UCZFm5iGuYLMqvsgae9gcqxQ    4\n",
       "UCg7FCwZemqDlf2v_CXd2_0Q    4\n",
       "UCUd8l7hBZpsg3wGEkqO74eg    3\n",
       "                           ..\n",
       "UCrtPKCFjegu4bfP5ACR9v0Q    1\n",
       "UCTPLjbjLPRWnNOzZfeLfhOQ    1\n",
       "UCH4dbCu3t88LSoCe5qYy3ig    1\n",
       "UCOfX90hwCKTcMuBo8LoHl4Q    1\n",
       "UCGs5emM3aaOeQYjaR9ec7bw    1\n",
       "Name: id, Length: 1088826, dtype: int64"
      ]
     },
     "execution_count": 108,
     "metadata": {},
     "output_type": "execute_result"
    }
   ],
   "source": [
    "df_channels.id.value_counts()"
   ]
  },
  {
   "cell_type": "code",
   "execution_count": 109,
   "id": "d180be7a",
   "metadata": {},
   "outputs": [
    {
     "data": {
      "text/plain": [
       "2689"
      ]
     },
     "execution_count": 109,
     "metadata": {},
     "output_type": "execute_result"
    }
   ],
   "source": [
    "df_channels[df_channels.id.duplicated()].id.shape[0]"
   ]
  },
  {
   "cell_type": "code",
   "execution_count": 95,
   "id": "d3d59862",
   "metadata": {},
   "outputs": [
    {
     "data": {
      "text/html": [
       "<div>\n",
       "<style scoped>\n",
       "    .dataframe tbody tr th:only-of-type {\n",
       "        vertical-align: middle;\n",
       "    }\n",
       "\n",
       "    .dataframe tbody tr th {\n",
       "        vertical-align: top;\n",
       "    }\n",
       "\n",
       "    .dataframe thead th {\n",
       "        text-align: right;\n",
       "    }\n",
       "</style>\n",
       "<table border=\"1\" class=\"dataframe\">\n",
       "  <thead>\n",
       "    <tr style=\"text-align: right;\">\n",
       "      <th></th>\n",
       "      <th>kind</th>\n",
       "      <th>etag</th>\n",
       "      <th>id</th>\n",
       "      <th>snippet.title</th>\n",
       "      <th>snippet.description</th>\n",
       "      <th>snippet.publishedAt</th>\n",
       "      <th>snippet.thumbnails.default.url</th>\n",
       "      <th>snippet.thumbnails.default.width</th>\n",
       "      <th>snippet.thumbnails.default.height</th>\n",
       "      <th>snippet.thumbnails.medium.url</th>\n",
       "      <th>snippet.thumbnails.medium.width</th>\n",
       "      <th>snippet.thumbnails.medium.height</th>\n",
       "      <th>snippet.thumbnails.high.url</th>\n",
       "      <th>snippet.thumbnails.high.width</th>\n",
       "      <th>snippet.thumbnails.high.height</th>\n",
       "      <th>snippet.localized.title</th>\n",
       "      <th>snippet.localized.description</th>\n",
       "      <th>contentDetails.relatedPlaylists.likes</th>\n",
       "      <th>contentDetails.relatedPlaylists.uploads</th>\n",
       "      <th>statistics.viewCount</th>\n",
       "      <th>statistics.subscriberCount</th>\n",
       "      <th>statistics.hiddenSubscriberCount</th>\n",
       "      <th>statistics.videoCount</th>\n",
       "      <th>topicDetails.topicIds</th>\n",
       "      <th>topicDetails.topicCategories</th>\n",
       "      <th>status.privacyStatus</th>\n",
       "      <th>status.isLinked</th>\n",
       "      <th>status.longUploadsStatus</th>\n",
       "      <th>brandingSettings.channel.title</th>\n",
       "      <th>snippet.customUrl</th>\n",
       "      <th>snippet.country</th>\n",
       "      <th>brandingSettings.channel.keywords</th>\n",
       "      <th>brandingSettings.channel.country</th>\n",
       "      <th>brandingSettings.image.bannerExternalUrl</th>\n",
       "      <th>brandingSettings.channel.moderateComments</th>\n",
       "      <th>brandingSettings.channel.description</th>\n",
       "      <th>status.madeForKids</th>\n",
       "      <th>brandingSettings.channel.unsubscribedTrailer</th>\n",
       "      <th>brandingSettings.channel.trackingAnalyticsAccountId</th>\n",
       "      <th>snippet.defaultLanguage</th>\n",
       "      <th>brandingSettings.channel.defaultLanguage</th>\n",
       "    </tr>\n",
       "  </thead>\n",
       "  <tbody>\n",
       "    <tr>\n",
       "      <th>124403</th>\n",
       "      <td>youtube#channel</td>\n",
       "      <td>6LiMg8HPLwY7gYBFclQ3OQCXJuk</td>\n",
       "      <td>UCKT7UtN0TpNBt_gvgDWFjkw</td>\n",
       "      <td>Jasmine LavaHeart</td>\n",
       "      <td>NaN</td>\n",
       "      <td>2013-08-12T21:46:52Z</td>\n",
       "      <td>https://yt3.ggpht.com/FhGPeBCBpGZS_N8jHlpw9li6...</td>\n",
       "      <td>88</td>\n",
       "      <td>88</td>\n",
       "      <td>https://yt3.ggpht.com/FhGPeBCBpGZS_N8jHlpw9li6...</td>\n",
       "      <td>240</td>\n",
       "      <td>240</td>\n",
       "      <td>https://yt3.ggpht.com/FhGPeBCBpGZS_N8jHlpw9li6...</td>\n",
       "      <td>800</td>\n",
       "      <td>800</td>\n",
       "      <td>Jasmine LavaHeart</td>\n",
       "      <td>NaN</td>\n",
       "      <td>NaN</td>\n",
       "      <td>UUKT7UtN0TpNBt_gvgDWFjkw</td>\n",
       "      <td>1595</td>\n",
       "      <td>127.0</td>\n",
       "      <td>False</td>\n",
       "      <td>104</td>\n",
       "      <td>['/m/021bp2', '/m/0bzvm2', '/m/02ntfj', '/m/02...</td>\n",
       "      <td>['https://en.wikipedia.org/wiki/Simulation_vid...</td>\n",
       "      <td>public</td>\n",
       "      <td>True</td>\n",
       "      <td>longUploadsUnspecified</td>\n",
       "      <td>Jasmine LavaHeart</td>\n",
       "      <td>NaN</td>\n",
       "      <td>US</td>\n",
       "      <td>NaN</td>\n",
       "      <td>US</td>\n",
       "      <td>https://yt3.ggpht.com/wuLnXtJPFVe5mBC6p0ZgKtJc...</td>\n",
       "      <td>NaN</td>\n",
       "      <td>NaN</td>\n",
       "      <td>NaN</td>\n",
       "      <td>NaN</td>\n",
       "      <td>NaN</td>\n",
       "      <td>NaN</td>\n",
       "      <td>NaN</td>\n",
       "    </tr>\n",
       "    <tr>\n",
       "      <th>247250</th>\n",
       "      <td>youtube#channel</td>\n",
       "      <td>8aIc5Zt6QVXZDi4t-3_gl-j6Eds</td>\n",
       "      <td>UCKT7UtN0TpNBt_gvgDWFjkw</td>\n",
       "      <td>Jasmine LavaHeart</td>\n",
       "      <td>NaN</td>\n",
       "      <td>2013-08-12T21:46:52Z</td>\n",
       "      <td>https://yt3.ggpht.com/FhGPeBCBpGZS_N8jHlpw9li6...</td>\n",
       "      <td>88</td>\n",
       "      <td>88</td>\n",
       "      <td>https://yt3.ggpht.com/FhGPeBCBpGZS_N8jHlpw9li6...</td>\n",
       "      <td>240</td>\n",
       "      <td>240</td>\n",
       "      <td>https://yt3.ggpht.com/FhGPeBCBpGZS_N8jHlpw9li6...</td>\n",
       "      <td>800</td>\n",
       "      <td>800</td>\n",
       "      <td>Jasmine LavaHeart</td>\n",
       "      <td>NaN</td>\n",
       "      <td>NaN</td>\n",
       "      <td>UUKT7UtN0TpNBt_gvgDWFjkw</td>\n",
       "      <td>1596</td>\n",
       "      <td>127.0</td>\n",
       "      <td>False</td>\n",
       "      <td>104</td>\n",
       "      <td>['/m/021bp2', '/m/02ntfj', '/m/025zzc', '/m/0b...</td>\n",
       "      <td>['https://en.wikipedia.org/wiki/Simulation_vid...</td>\n",
       "      <td>public</td>\n",
       "      <td>True</td>\n",
       "      <td>longUploadsUnspecified</td>\n",
       "      <td>Jasmine LavaHeart</td>\n",
       "      <td>NaN</td>\n",
       "      <td>US</td>\n",
       "      <td>NaN</td>\n",
       "      <td>US</td>\n",
       "      <td>https://yt3.ggpht.com/wuLnXtJPFVe5mBC6p0ZgKtJc...</td>\n",
       "      <td>NaN</td>\n",
       "      <td>NaN</td>\n",
       "      <td>NaN</td>\n",
       "      <td>NaN</td>\n",
       "      <td>NaN</td>\n",
       "      <td>NaN</td>\n",
       "      <td>NaN</td>\n",
       "    </tr>\n",
       "    <tr>\n",
       "      <th>320918</th>\n",
       "      <td>youtube#channel</td>\n",
       "      <td>srlVw_PXAnfRJzZ7xMa7rNsybzA</td>\n",
       "      <td>UCKT7UtN0TpNBt_gvgDWFjkw</td>\n",
       "      <td>Jasmine LavaHeart</td>\n",
       "      <td>NaN</td>\n",
       "      <td>2013-08-12T21:46:52Z</td>\n",
       "      <td>https://yt3.ggpht.com/FhGPeBCBpGZS_N8jHlpw9li6...</td>\n",
       "      <td>88</td>\n",
       "      <td>88</td>\n",
       "      <td>https://yt3.ggpht.com/FhGPeBCBpGZS_N8jHlpw9li6...</td>\n",
       "      <td>240</td>\n",
       "      <td>240</td>\n",
       "      <td>https://yt3.ggpht.com/FhGPeBCBpGZS_N8jHlpw9li6...</td>\n",
       "      <td>800</td>\n",
       "      <td>800</td>\n",
       "      <td>Jasmine LavaHeart</td>\n",
       "      <td>NaN</td>\n",
       "      <td>NaN</td>\n",
       "      <td>UUKT7UtN0TpNBt_gvgDWFjkw</td>\n",
       "      <td>1595</td>\n",
       "      <td>127.0</td>\n",
       "      <td>False</td>\n",
       "      <td>104</td>\n",
       "      <td>['/m/021bp2', '/m/025zzc', '/m/02ntfj', '/m/0b...</td>\n",
       "      <td>['https://en.wikipedia.org/wiki/Simulation_vid...</td>\n",
       "      <td>public</td>\n",
       "      <td>True</td>\n",
       "      <td>longUploadsUnspecified</td>\n",
       "      <td>Jasmine LavaHeart</td>\n",
       "      <td>NaN</td>\n",
       "      <td>US</td>\n",
       "      <td>NaN</td>\n",
       "      <td>US</td>\n",
       "      <td>https://yt3.ggpht.com/wuLnXtJPFVe5mBC6p0ZgKtJc...</td>\n",
       "      <td>NaN</td>\n",
       "      <td>NaN</td>\n",
       "      <td>NaN</td>\n",
       "      <td>NaN</td>\n",
       "      <td>NaN</td>\n",
       "      <td>NaN</td>\n",
       "      <td>NaN</td>\n",
       "    </tr>\n",
       "    <tr>\n",
       "      <th>552443</th>\n",
       "      <td>youtube#channel</td>\n",
       "      <td>jx7MmME4LM-aJ70fYQQ37BCzZfM</td>\n",
       "      <td>UCKT7UtN0TpNBt_gvgDWFjkw</td>\n",
       "      <td>Jasmine LavaHeart</td>\n",
       "      <td>NaN</td>\n",
       "      <td>2013-08-12T21:46:52Z</td>\n",
       "      <td>https://yt3.ggpht.com/FhGPeBCBpGZS_N8jHlpw9li6...</td>\n",
       "      <td>88</td>\n",
       "      <td>88</td>\n",
       "      <td>https://yt3.ggpht.com/FhGPeBCBpGZS_N8jHlpw9li6...</td>\n",
       "      <td>240</td>\n",
       "      <td>240</td>\n",
       "      <td>https://yt3.ggpht.com/FhGPeBCBpGZS_N8jHlpw9li6...</td>\n",
       "      <td>800</td>\n",
       "      <td>800</td>\n",
       "      <td>Jasmine LavaHeart</td>\n",
       "      <td>NaN</td>\n",
       "      <td>NaN</td>\n",
       "      <td>UUKT7UtN0TpNBt_gvgDWFjkw</td>\n",
       "      <td>1595</td>\n",
       "      <td>127.0</td>\n",
       "      <td>False</td>\n",
       "      <td>104</td>\n",
       "      <td>['/m/025zzc', '/m/021bp2', '/m/02ntfj', '/m/0b...</td>\n",
       "      <td>['https://en.wikipedia.org/wiki/Action_game', ...</td>\n",
       "      <td>public</td>\n",
       "      <td>True</td>\n",
       "      <td>longUploadsUnspecified</td>\n",
       "      <td>Jasmine LavaHeart</td>\n",
       "      <td>NaN</td>\n",
       "      <td>US</td>\n",
       "      <td>NaN</td>\n",
       "      <td>US</td>\n",
       "      <td>https://yt3.ggpht.com/wuLnXtJPFVe5mBC6p0ZgKtJc...</td>\n",
       "      <td>NaN</td>\n",
       "      <td>NaN</td>\n",
       "      <td>NaN</td>\n",
       "      <td>NaN</td>\n",
       "      <td>NaN</td>\n",
       "      <td>NaN</td>\n",
       "      <td>NaN</td>\n",
       "    </tr>\n",
       "  </tbody>\n",
       "</table>\n",
       "</div>"
      ],
      "text/plain": [
       "                   kind                         etag  \\\n",
       "124403  youtube#channel  6LiMg8HPLwY7gYBFclQ3OQCXJuk   \n",
       "247250  youtube#channel  8aIc5Zt6QVXZDi4t-3_gl-j6Eds   \n",
       "320918  youtube#channel  srlVw_PXAnfRJzZ7xMa7rNsybzA   \n",
       "552443  youtube#channel  jx7MmME4LM-aJ70fYQQ37BCzZfM   \n",
       "\n",
       "                              id      snippet.title snippet.description  \\\n",
       "124403  UCKT7UtN0TpNBt_gvgDWFjkw  Jasmine LavaHeart                 NaN   \n",
       "247250  UCKT7UtN0TpNBt_gvgDWFjkw  Jasmine LavaHeart                 NaN   \n",
       "320918  UCKT7UtN0TpNBt_gvgDWFjkw  Jasmine LavaHeart                 NaN   \n",
       "552443  UCKT7UtN0TpNBt_gvgDWFjkw  Jasmine LavaHeart                 NaN   \n",
       "\n",
       "         snippet.publishedAt  \\\n",
       "124403  2013-08-12T21:46:52Z   \n",
       "247250  2013-08-12T21:46:52Z   \n",
       "320918  2013-08-12T21:46:52Z   \n",
       "552443  2013-08-12T21:46:52Z   \n",
       "\n",
       "                           snippet.thumbnails.default.url  \\\n",
       "124403  https://yt3.ggpht.com/FhGPeBCBpGZS_N8jHlpw9li6...   \n",
       "247250  https://yt3.ggpht.com/FhGPeBCBpGZS_N8jHlpw9li6...   \n",
       "320918  https://yt3.ggpht.com/FhGPeBCBpGZS_N8jHlpw9li6...   \n",
       "552443  https://yt3.ggpht.com/FhGPeBCBpGZS_N8jHlpw9li6...   \n",
       "\n",
       "        snippet.thumbnails.default.width  snippet.thumbnails.default.height  \\\n",
       "124403                                88                                 88   \n",
       "247250                                88                                 88   \n",
       "320918                                88                                 88   \n",
       "552443                                88                                 88   \n",
       "\n",
       "                            snippet.thumbnails.medium.url  \\\n",
       "124403  https://yt3.ggpht.com/FhGPeBCBpGZS_N8jHlpw9li6...   \n",
       "247250  https://yt3.ggpht.com/FhGPeBCBpGZS_N8jHlpw9li6...   \n",
       "320918  https://yt3.ggpht.com/FhGPeBCBpGZS_N8jHlpw9li6...   \n",
       "552443  https://yt3.ggpht.com/FhGPeBCBpGZS_N8jHlpw9li6...   \n",
       "\n",
       "        snippet.thumbnails.medium.width  snippet.thumbnails.medium.height  \\\n",
       "124403                              240                               240   \n",
       "247250                              240                               240   \n",
       "320918                              240                               240   \n",
       "552443                              240                               240   \n",
       "\n",
       "                              snippet.thumbnails.high.url  \\\n",
       "124403  https://yt3.ggpht.com/FhGPeBCBpGZS_N8jHlpw9li6...   \n",
       "247250  https://yt3.ggpht.com/FhGPeBCBpGZS_N8jHlpw9li6...   \n",
       "320918  https://yt3.ggpht.com/FhGPeBCBpGZS_N8jHlpw9li6...   \n",
       "552443  https://yt3.ggpht.com/FhGPeBCBpGZS_N8jHlpw9li6...   \n",
       "\n",
       "        snippet.thumbnails.high.width  snippet.thumbnails.high.height  \\\n",
       "124403                            800                             800   \n",
       "247250                            800                             800   \n",
       "320918                            800                             800   \n",
       "552443                            800                             800   \n",
       "\n",
       "       snippet.localized.title snippet.localized.description  \\\n",
       "124403       Jasmine LavaHeart                           NaN   \n",
       "247250       Jasmine LavaHeart                           NaN   \n",
       "320918       Jasmine LavaHeart                           NaN   \n",
       "552443       Jasmine LavaHeart                           NaN   \n",
       "\n",
       "        contentDetails.relatedPlaylists.likes  \\\n",
       "124403                                    NaN   \n",
       "247250                                    NaN   \n",
       "320918                                    NaN   \n",
       "552443                                    NaN   \n",
       "\n",
       "       contentDetails.relatedPlaylists.uploads  statistics.viewCount  \\\n",
       "124403                UUKT7UtN0TpNBt_gvgDWFjkw                  1595   \n",
       "247250                UUKT7UtN0TpNBt_gvgDWFjkw                  1596   \n",
       "320918                UUKT7UtN0TpNBt_gvgDWFjkw                  1595   \n",
       "552443                UUKT7UtN0TpNBt_gvgDWFjkw                  1595   \n",
       "\n",
       "        statistics.subscriberCount  statistics.hiddenSubscriberCount  \\\n",
       "124403                       127.0                             False   \n",
       "247250                       127.0                             False   \n",
       "320918                       127.0                             False   \n",
       "552443                       127.0                             False   \n",
       "\n",
       "        statistics.videoCount  \\\n",
       "124403                    104   \n",
       "247250                    104   \n",
       "320918                    104   \n",
       "552443                    104   \n",
       "\n",
       "                                    topicDetails.topicIds  \\\n",
       "124403  ['/m/021bp2', '/m/0bzvm2', '/m/02ntfj', '/m/02...   \n",
       "247250  ['/m/021bp2', '/m/02ntfj', '/m/025zzc', '/m/0b...   \n",
       "320918  ['/m/021bp2', '/m/025zzc', '/m/02ntfj', '/m/0b...   \n",
       "552443  ['/m/025zzc', '/m/021bp2', '/m/02ntfj', '/m/0b...   \n",
       "\n",
       "                             topicDetails.topicCategories  \\\n",
       "124403  ['https://en.wikipedia.org/wiki/Simulation_vid...   \n",
       "247250  ['https://en.wikipedia.org/wiki/Simulation_vid...   \n",
       "320918  ['https://en.wikipedia.org/wiki/Simulation_vid...   \n",
       "552443  ['https://en.wikipedia.org/wiki/Action_game', ...   \n",
       "\n",
       "       status.privacyStatus  status.isLinked status.longUploadsStatus  \\\n",
       "124403               public             True   longUploadsUnspecified   \n",
       "247250               public             True   longUploadsUnspecified   \n",
       "320918               public             True   longUploadsUnspecified   \n",
       "552443               public             True   longUploadsUnspecified   \n",
       "\n",
       "       brandingSettings.channel.title snippet.customUrl snippet.country  \\\n",
       "124403              Jasmine LavaHeart               NaN              US   \n",
       "247250              Jasmine LavaHeart               NaN              US   \n",
       "320918              Jasmine LavaHeart               NaN              US   \n",
       "552443              Jasmine LavaHeart               NaN              US   \n",
       "\n",
       "       brandingSettings.channel.keywords brandingSettings.channel.country  \\\n",
       "124403                               NaN                               US   \n",
       "247250                               NaN                               US   \n",
       "320918                               NaN                               US   \n",
       "552443                               NaN                               US   \n",
       "\n",
       "                 brandingSettings.image.bannerExternalUrl  \\\n",
       "124403  https://yt3.ggpht.com/wuLnXtJPFVe5mBC6p0ZgKtJc...   \n",
       "247250  https://yt3.ggpht.com/wuLnXtJPFVe5mBC6p0ZgKtJc...   \n",
       "320918  https://yt3.ggpht.com/wuLnXtJPFVe5mBC6p0ZgKtJc...   \n",
       "552443  https://yt3.ggpht.com/wuLnXtJPFVe5mBC6p0ZgKtJc...   \n",
       "\n",
       "       brandingSettings.channel.moderateComments  \\\n",
       "124403                                       NaN   \n",
       "247250                                       NaN   \n",
       "320918                                       NaN   \n",
       "552443                                       NaN   \n",
       "\n",
       "       brandingSettings.channel.description status.madeForKids  \\\n",
       "124403                                  NaN                NaN   \n",
       "247250                                  NaN                NaN   \n",
       "320918                                  NaN                NaN   \n",
       "552443                                  NaN                NaN   \n",
       "\n",
       "       brandingSettings.channel.unsubscribedTrailer  \\\n",
       "124403                                          NaN   \n",
       "247250                                          NaN   \n",
       "320918                                          NaN   \n",
       "552443                                          NaN   \n",
       "\n",
       "       brandingSettings.channel.trackingAnalyticsAccountId  \\\n",
       "124403                                                NaN    \n",
       "247250                                                NaN    \n",
       "320918                                                NaN    \n",
       "552443                                                NaN    \n",
       "\n",
       "       snippet.defaultLanguage brandingSettings.channel.defaultLanguage  \n",
       "124403                     NaN                                      NaN  \n",
       "247250                     NaN                                      NaN  \n",
       "320918                     NaN                                      NaN  \n",
       "552443                     NaN                                      NaN  "
      ]
     },
     "execution_count": 95,
     "metadata": {},
     "output_type": "execute_result"
    }
   ],
   "source": [
    "df_channels[df_channels.id == \"UCKT7UtN0TpNBt_gvgDWFjkw\"]"
   ]
  },
  {
   "cell_type": "code",
   "execution_count": 112,
   "id": "dd5e5323",
   "metadata": {},
   "outputs": [
    {
     "name": "stdout",
     "output_type": "stream",
     "text": [
      "['https://en.wikipedia.org/wiki/Action_game', 'https://en.wikipedia.org/wiki/Role-playing_video_game', 'https://en.wikipedia.org/wiki/Action-adventure_game', 'https://en.wikipedia.org/wiki/Strategy_video_game', 'https://en.wikipedia.org/wiki/Video_game_culture']\n",
      "['https://en.wikipedia.org/wiki/Action_game', 'https://en.wikipedia.org/wiki/Strategy_video_game', 'https://en.wikipedia.org/wiki/Action-adventure_game', 'https://en.wikipedia.org/wiki/Video_game_culture', 'https://en.wikipedia.org/wiki/Role-playing_video_game']\n",
      "['https://en.wikipedia.org/wiki/Strategy_video_game', 'https://en.wikipedia.org/wiki/Role-playing_video_game', 'https://en.wikipedia.org/wiki/Action_game', 'https://en.wikipedia.org/wiki/Video_game_culture', 'https://en.wikipedia.org/wiki/Action-adventure_game']\n",
      "['https://en.wikipedia.org/wiki/Action_game', 'https://en.wikipedia.org/wiki/Strategy_video_game', 'https://en.wikipedia.org/wiki/Video_game_culture', 'https://en.wikipedia.org/wiki/Role-playing_video_game', 'https://en.wikipedia.org/wiki/Action-adventure_game']\n"
     ]
    }
   ],
   "source": [
    "for i in df_channels[df_channels.id == \"UCBfPCO5AcXhy-gQp3xpZ34Q\"][\"topicDetails.topicCategories\"]:\n",
    "    print(i)"
   ]
  },
  {
   "cell_type": "markdown",
   "id": "69d47a72",
   "metadata": {},
   "source": [
    "#### the is should be unique (it seems that the data scarped multiple times)"
   ]
  },
  {
   "cell_type": "code",
   "execution_count": 115,
   "id": "ba32ac8f",
   "metadata": {},
   "outputs": [],
   "source": [
    "df_channels.drop_duplicates(subset = [\"id\"], inplace=True)"
   ]
  },
  {
   "cell_type": "code",
   "execution_count": 116,
   "id": "f505dd47",
   "metadata": {},
   "outputs": [
    {
     "data": {
      "text/plain": [
       "UCHDGuhE5tflepmEj-Pxw0zw    1\n",
       "UC-x8dZRUSOX-KhEPrIEmdKw    1\n",
       "UCyEaHzbg-JbvFppzoCYMPvA    1\n",
       "UCTN3roOoDY--5gdbkwyIZ6A    1\n",
       "UCjxgsYSA_VRAXjeEk8IbAQw    1\n",
       "                           ..\n",
       "UCtssMWdVRYFTA--RieXPhyw    1\n",
       "UCZn3_Y9yk4xDmoBkXZHbU6A    1\n",
       "UC1gajOjLERvsAoj_b_RMWCQ    1\n",
       "UC1pNfVaIKvANaUoJSsl1mHQ    1\n",
       "UCGs5emM3aaOeQYjaR9ec7bw    1\n",
       "Name: id, Length: 1088826, dtype: int64"
      ]
     },
     "execution_count": 116,
     "metadata": {},
     "output_type": "execute_result"
    }
   ],
   "source": [
    "df_channels.id.value_counts()"
   ]
  },
  {
   "cell_type": "code",
   "execution_count": 117,
   "id": "90e3b246",
   "metadata": {},
   "outputs": [
    {
     "data": {
      "text/plain": [
       "0"
      ]
     },
     "execution_count": 117,
     "metadata": {},
     "output_type": "execute_result"
    }
   ],
   "source": [
    "df_channels[df_channels.id.duplicated()].id.shape[0]"
   ]
  },
  {
   "cell_type": "markdown",
   "id": "c406162d",
   "metadata": {},
   "source": [
    "<font color='green'><b>id </b>should be renamed <i><b> ch_id</b></i>  </font>"
   ]
  },
  {
   "cell_type": "code",
   "execution_count": 136,
   "id": "631111cb",
   "metadata": {},
   "outputs": [],
   "source": [
    "to_rename[\"id\"] = \"ch_id\""
   ]
  },
  {
   "cell_type": "markdown",
   "id": "b46c7fc5",
   "metadata": {},
   "source": [
    "#### snippet <a class=\"anchor\" id=\"snippet\"></a>\n",
    "The snippet object contains basic details about the channel, such as its title, description, and category.\n",
    "<br>\n",
    "* [snippet](#snippet)\n",
    "    * [snippet_title](#snippet_title)\n",
    "    * [snippet_description](#snippet_description)\n",
    "    * [snippet_thumbnails](#snippet_thumbnails)\n",
    "        * snippet_thumbnails_default_url\n",
    "        * snippet_thumbnails_default_width\n",
    "        * snippet_thumbnails_default_height\n",
    "        * snippet_thumbnails_medium_url\n",
    "        * snippet_thumbnails_medium_width\n",
    "        * snippet_thumbnails_medium_height\n",
    "        * snippet_thumbnails_high_url\n",
    "        * snippet_thumbnails_high_width\n",
    "        * snippet_thumbnails_high_height\n",
    "    * [snippet_localized](#snippet_localized)\n",
    "        * [snippet_localized_title](#snippet_localized_title)\n",
    "        * [snippet_localized_description](#snippet_localized_description)\n",
    "    * [snippet_customurl](#snippet_customurl)\n",
    "    * [snippet_country](#snippet_country)\n",
    "    * [snippet_default_language](#snippet_default_language)"
   ]
  },
  {
   "cell_type": "code",
   "execution_count": 120,
   "id": "725f29fb",
   "metadata": {},
   "outputs": [],
   "source": [
    "snippet_columns = []\n",
    "for c in df_channels.columns:\n",
    "    if c.split(\".\")[0] == \"snippet\":\n",
    "        snippet_columns.append(c)"
   ]
  },
  {
   "cell_type": "code",
   "execution_count": 121,
   "id": "aa100d4a",
   "metadata": {},
   "outputs": [
    {
     "data": {
      "text/plain": [
       "['snippet.title',\n",
       " 'snippet.description',\n",
       " 'snippet.publishedAt',\n",
       " 'snippet.thumbnails.default.url',\n",
       " 'snippet.thumbnails.default.width',\n",
       " 'snippet.thumbnails.default.height',\n",
       " 'snippet.thumbnails.medium.url',\n",
       " 'snippet.thumbnails.medium.width',\n",
       " 'snippet.thumbnails.medium.height',\n",
       " 'snippet.thumbnails.high.url',\n",
       " 'snippet.thumbnails.high.width',\n",
       " 'snippet.thumbnails.high.height',\n",
       " 'snippet.localized.title',\n",
       " 'snippet.localized.description',\n",
       " 'snippet.customUrl',\n",
       " 'snippet.country',\n",
       " 'snippet.defaultLanguage']"
      ]
     },
     "execution_count": 121,
     "metadata": {},
     "output_type": "execute_result"
    }
   ],
   "source": [
    "snippet_columns"
   ]
  },
  {
   "cell_type": "markdown",
   "id": "359103a9",
   "metadata": {},
   "source": [
    "##### snippet_title <a class=\"anchor\" id=\"snippet_title\"></a>\n",
    "The channel's title.<br>\n",
    "\n"
   ]
  },
  {
   "cell_type": "code",
   "execution_count": 129,
   "id": "f1309a56",
   "metadata": {},
   "outputs": [
    {
     "data": {
      "text/plain": [
       "Alex                223\n",
       "J                   190\n",
       "M                   163\n",
       "Chris               145\n",
       "Daniel              140\n",
       "                   ... \n",
       "Kareela Peoples       1\n",
       "Senya Samurai         1\n",
       "Unique Mahi           1\n",
       "Spaghetti Spider      1\n",
       "PissySkyKat           1\n",
       "Name: snippet.title, Length: 997089, dtype: int64"
      ]
     },
     "execution_count": 129,
     "metadata": {},
     "output_type": "execute_result"
    }
   ],
   "source": [
    "df_channels[\"snippet.title\"].value_counts()"
   ]
  },
  {
   "cell_type": "code",
   "execution_count": 134,
   "id": "71d2a8c9",
   "metadata": {},
   "outputs": [
    {
     "data": {
      "text/plain": [
       "id                        snippet.title         \n",
       "UC---DvoB_vIIUPwB5bXepqg  Yaiza Cruz Andrés         1\n",
       "UCek5gb7PTuD6KxS0hdWrhZA  Rahul Kapoor              1\n",
       "UCek5xTQrApQW7pBYpd3WirA  Zack Kreines              1\n",
       "UCek6x-wAbuvedqpV3j9NKbg  David Castillo            1\n",
       "UCek7DY_zfD1iB4p2eNrC9uQ  Kerri Bottriell-Baxter    1\n",
       "                                                   ..\n",
       "UCKP0GN07H8f5g2pgBiQYhpw  T !                       1\n",
       "UCKP0IOs7lwOl89Yv51eQAYg  HOME MADE COVERS          1\n",
       "UCKP0Nz6jnrdaVJU5LEwd8Bw  Rebecca Miller            1\n",
       "UCKOyLI5pxHiDfy0X92PDfvA  李竹從                       1\n",
       "UCzzzqmhGlOOD7iStwo927nQ  De Villiers naude         1\n",
       "Name: kind, Length: 1088806, dtype: int64"
      ]
     },
     "execution_count": 134,
     "metadata": {},
     "output_type": "execute_result"
    }
   ],
   "source": [
    "df_channels.groupby([\"id\", \"snippet.title\"])[\"kind\"].count().sort_values(ascending=True)"
   ]
  },
  {
   "cell_type": "markdown",
   "id": "a9db6e91",
   "metadata": {},
   "source": [
    "<font color='green'><b>snippet.title </b>should be renamed <i><b> ch_title</b></i>  </font>"
   ]
  },
  {
   "cell_type": "code",
   "execution_count": 137,
   "id": "2a554d83",
   "metadata": {},
   "outputs": [],
   "source": [
    "to_rename[\"snippet.title\"] = \"ch_title\""
   ]
  },
  {
   "cell_type": "markdown",
   "id": "d04020bd",
   "metadata": {},
   "source": [
    "##### snippet_description <a class=\"anchor\" id=\"snippet_description\"></a>\n",
    "The channel's description. The property's value has a maximum length of 1000 characters.<br>\n",
    "\n"
   ]
  },
  {
   "cell_type": "code",
   "execution_count": 139,
   "id": "ae76fe56",
   "metadata": {},
   "outputs": [
    {
     "data": {
      "text/plain": [
       "Hi                                                                                                                                                                                                                                                                                                                                                                                                                                                                                                                                                                                                                                                                                                                                       975\n",
       ".                                                                                                                                                                                                                                                                                                                                                                                                                                                                                                                                                                                                                                                                                                                                        834\n",
       "\\n                                                                                                                                                                                                                                                                                                                                                                                                                                                                                                                                                                                                                                                                                                                                       621\n",
       "...                                                                                                                                                                                                                                                                                                                                                                                                                                                                                                                                                                                                                                                                                                                                      480\n",
       ":)                                                                                                                                                                                                                                                                                                                                                                                                                                                                                                                                                                                                                                                                                                                                       419\n",
       "                                                                                                                                                                                                                                                                                                                                                                                                                                                                                                                                                                                                                                                                                                                                        ... \n",
       "I'm that vampire demon boy who lives in a castle where is always dark and cold                                                                                                                                                                                                                                                                                                                                                                                                                                                                                                                                                                                                                                                             1\n",
       "hello இڿڰۣ-ڰۣ—♥இڿڰۣ-ڰۣ—εїз\\nme? :)\\n\\n█████████ 100% love to God\\n\\n█████████ 100% proud daughter\\n\\n█████████ 100% human \\n\\n█████████ 100% girl \\n\\n█████████ 100% lover of Theatr and Animals\\n\\n█████████ 100% opponent of cruelty\\n\\n█████████ 100% poet \\n\\n█████████ 100% nursery nurse\\n\\n\\n»-(¯`v´¯)-»Mom & Dad»-(¯`v´¯)-»\\n.....`•.¸.•´..........Only ............ `•.¸.•´.....\\n............My ....................Heros .........\\n\\n\\n\\n\\n---\\nif someone close to you is missing, write to me, I cooperate with Interpol \\nbecause of my ability (I'm a medium) I'm registered in the police office for missing persons\\n---\\nif you just wanna talk about something interesting I'm gonna say \"yes\" lets chat, mail me      1\n",
       "Random kid playing Fortnite\\nNot skill at the game but just a channel for fun                                                                                                                                                                                                                                                                                                                                                                                                                                                                                                                                                                                                                                                              1\n",
       "Rocky bhai                                                                                                                                                                                                                                                                                                                                                                                                                                                                                                                                                                                                                                                                                                                                 1\n",
       "I love my chocopie my sweetheart , my honey , my darling 😘😘                                                                                                                                                                                                                                                                                                                                                                                                                                                                                                                                                                                                                                                                                1\n",
       "Name: snippet.description, Length: 265247, dtype: int64"
      ]
     },
     "execution_count": 139,
     "metadata": {},
     "output_type": "execute_result"
    }
   ],
   "source": [
    "df_channels[\"snippet.description\"].value_counts()"
   ]
  },
  {
   "cell_type": "code",
   "execution_count": 141,
   "id": "53632592",
   "metadata": {},
   "outputs": [
    {
     "data": {
      "text/plain": [
       "id                        snippet.description                                                                                                                                                                                                                                                                                                                                           \n",
       "UC--0qZfHmmYf8yTlmvBckPA  Vine v logs                                                                                                                                                                                                                                                                                                                                                       1\n",
       "UCej6QnU_9-kHQZxi3-Ld8eA  ⚜️\\n                                                                                                                                                                                                                                                                                                                                                              1\n",
       "UCejDN4Unndr05S8mM5Kvn7g  28/10/17- awesome video upload date\\nWait for it                                                                                                                                                                                                                                                                                                                  1\n",
       "UCejCsBkrtMTW_uszf9JaAaw  Hello Guys, This is my YouTube channel. In this, I roast weird YouTubers, Play interesting games and try to make you laugh in that.\\nSO, DON'T FORGET TO SUBSCRIBE TO MY CHANNEL, COMMENT ON ALL MY VIDEOS, AND, HIT THE LIKE BUTTON FOR ALL MY VIDEOS.\\nOkay, So, see you in the next video, Till that, STAY SAFE STAY COOL😎😎\\n                                  1\n",
       "UCejBiZevr0Yi7aPujWlbiXA  Hello I do miraculous ladybug vids 🐱🐞                                                                                                                                                                                                                                                                                                                             1\n",
       "                                                                                                                                                                                                                                                                                                                                                                                           ..\n",
       "UCKO8xa1yHR-Iu5KVpBLSuow  Gaming of all kinds                                                                                                                                                                                                                                                                                                                                               1\n",
       "UCKOAFmXpqu1t4i8wqYXOgZA  Three little mermaidans in the Appalachian Mountains, Love Traveling and Exploring around the United States of America. \\n_____________________\\nFollow their journey on\\n\\n Instagram: @moonstruck_photographyoh \\n\\n On Facebook: @MoonStruckPhotographyByCatWarner \\n\\nOn Twitter:\\n@moonstruckfoto\\n\\n______________________\\n©2020\\n #thebarkcampmermaids    1\n",
       "UCKOARTn3OnKiIAEOGe9Mw1g  cHECK OUT MY MINECRAFT CHANNEL - Finn Wolfhard                                                                                                                                                                                                                                                                                                                    1\n",
       "UCKOAqRLCwsmvvv4uMGP20cQ  go here for free V-bucks. Very simple and fast.\\nhttps://www.youtube.com/watch?v=dQw4w9WgXcQ\\n\\n\\n                                                                                                                                                                                                                                                                1\n",
       "UCzzzqmhGlOOD7iStwo927nQ  Gamers just having fun                                                                                                                                                                                                                                                                                                                                            1\n",
       "Name: kind, Length: 286532, dtype: int64"
      ]
     },
     "execution_count": 141,
     "metadata": {},
     "output_type": "execute_result"
    }
   ],
   "source": [
    "df_channels.groupby([\"id\", \"snippet.description\"])[\"kind\"].count().sort_values(ascending=False)"
   ]
  },
  {
   "cell_type": "markdown",
   "id": "aa7ae941",
   "metadata": {},
   "source": [
    "<font color='green'><b>snippet.description </b>should be renamed, also, should be cleaned <i><b> ch_description</b></i>  </font>"
   ]
  },
  {
   "cell_type": "code",
   "execution_count": 142,
   "id": "1ff0dbfd",
   "metadata": {},
   "outputs": [],
   "source": [
    "to_rename[\"snippet.description\"] = \"ch_description\""
   ]
  },
  {
   "cell_type": "code",
   "execution_count": 143,
   "id": "cd15d873",
   "metadata": {},
   "outputs": [],
   "source": [
    "to_clean = [\"ch_description\"]"
   ]
  },
  {
   "cell_type": "markdown",
   "id": "9fed787f",
   "metadata": {},
   "source": [
    "##### snippet_publishedAt <a class=\"anchor\" id=\"snippet_publishedAt\"></a>\n",
    "The date and time that the channel was created. The value is specified in ISO 8601 format..<br>"
   ]
  },
  {
   "cell_type": "code",
   "execution_count": 145,
   "id": "9eaa6049",
   "metadata": {},
   "outputs": [
    {
     "data": {
      "text/plain": [
       "'2010-12-05T18:55:37Z'"
      ]
     },
     "execution_count": 145,
     "metadata": {},
     "output_type": "execute_result"
    }
   ],
   "source": [
    "df_channels[\"snippet.publishedAt\"][0]"
   ]
  },
  {
   "cell_type": "code",
   "execution_count": 146,
   "id": "a9b2e612",
   "metadata": {},
   "outputs": [],
   "source": [
    "df_channels[\"snippet.publishedAt\"] = pd.to_datetime(df_channels[\"snippet.publishedAt\"])"
   ]
  },
  {
   "cell_type": "code",
   "execution_count": 147,
   "id": "45de6ec0",
   "metadata": {},
   "outputs": [
    {
     "data": {
      "text/plain": [
       "Timestamp('2010-12-05 18:55:37+0000', tz='UTC')"
      ]
     },
     "execution_count": 147,
     "metadata": {},
     "output_type": "execute_result"
    }
   ],
   "source": [
    "df_channels[\"snippet.publishedAt\"][0]"
   ]
  },
  {
   "cell_type": "markdown",
   "id": "db91f52a",
   "metadata": {},
   "source": [
    "<font color='green'><b>snippet.publishedAt </b>should be renamed <i><b> ch_created_at</b></i>  </font>"
   ]
  },
  {
   "cell_type": "code",
   "execution_count": 148,
   "id": "d70f3519",
   "metadata": {},
   "outputs": [],
   "source": [
    "to_rename[\"snippet.publishedAt\"] = \"ch_created_at\""
   ]
  },
  {
   "cell_type": "markdown",
   "id": "d02b75ca",
   "metadata": {},
   "source": [
    "##### snippet_thumbnails<a class=\"anchor\" id=\"snippet_thumbnails\"></a>\n",
    "A map of thumbnail images associated with the channel. For each object in the map, the key is the name of the thumbnail image, and the value is an object that contains other information about the thumbnail.\n",
    "\n",
    "When displaying thumbnails in your application, make sure that your code uses the image URLs exactly as they are returned in API responses. For example, your application should not use the http domain instead of the https domain in a URL returned in an API response.\n",
    "\n",
    "Channel thumbnail URLs are available only in the https domain, which is how the URLs appear in API responses. You might see broken images in your application if it tries to load YouTube images from the http domain. Thumbnail images might be empty for newly created channels and might take up to one day to populate..<br>"
   ]
  },
  {
   "cell_type": "markdown",
   "id": "f7445a8a",
   "metadata": {},
   "source": [
    "<font color='red'><b>all thumbnails columns </b>should be dropped <i> <b></b></i>  </font>\n"
   ]
  },
  {
   "cell_type": "code",
   "execution_count": 154,
   "id": "d747a8e4",
   "metadata": {},
   "outputs": [],
   "source": [
    "for c in snippet_columns:\n",
    "    if c.split(\".\")[1] == \"thumbnails\":\n",
    "        to_drop.append(c)"
   ]
  },
  {
   "cell_type": "code",
   "execution_count": 155,
   "id": "0616930f",
   "metadata": {},
   "outputs": [
    {
     "data": {
      "text/plain": [
       "['kind',\n",
       " 'snippet.thumbnails.default.url',\n",
       " 'snippet.thumbnails.default.width',\n",
       " 'snippet.thumbnails.default.height',\n",
       " 'snippet.thumbnails.medium.url',\n",
       " 'snippet.thumbnails.medium.width',\n",
       " 'snippet.thumbnails.medium.height',\n",
       " 'snippet.thumbnails.high.url',\n",
       " 'snippet.thumbnails.high.width',\n",
       " 'snippet.thumbnails.high.height']"
      ]
     },
     "execution_count": 155,
     "metadata": {},
     "output_type": "execute_result"
    }
   ],
   "source": [
    "to_drop"
   ]
  },
  {
   "cell_type": "markdown",
   "id": "887af141",
   "metadata": {},
   "source": [
    "##### snippet_localized<a class=\"anchor\" id=\"snippet_localized\"></a>\n",
    "<br>\n",
    "The snippet.localized object contains a localized title and description for the channel or it contains the channel's title and description in the default language for the channel's metadata. Localized text is returned in the resource snippet if the channels.list request used the hl parameter to specify a language for which localized text should be returned, the hl parameter value identifies a YouTube application language, and localized text is available in that language. Metadata for the default language is returned if an hl parameter value is not specified or a value is specified but localized metadata is not available for the specified language. The property contains a read-only value. Use the localizations object to add, update, or delete localized metadata"
   ]
  },
  {
   "cell_type": "markdown",
   "id": "9f1ed81b",
   "metadata": {},
   "source": [
    "<font color='red'><b>all localized columns </b>should be dropped <i> <b></b></i>  </font>\n"
   ]
  },
  {
   "cell_type": "code",
   "execution_count": 156,
   "id": "11adf21b",
   "metadata": {},
   "outputs": [],
   "source": [
    "for c in snippet_columns:\n",
    "    if c.split(\".\")[1] == \"localized\":\n",
    "        to_drop.append(c)"
   ]
  },
  {
   "cell_type": "code",
   "execution_count": 157,
   "id": "9c5b3ff5",
   "metadata": {},
   "outputs": [
    {
     "data": {
      "text/plain": [
       "['kind',\n",
       " 'snippet.thumbnails.default.url',\n",
       " 'snippet.thumbnails.default.width',\n",
       " 'snippet.thumbnails.default.height',\n",
       " 'snippet.thumbnails.medium.url',\n",
       " 'snippet.thumbnails.medium.width',\n",
       " 'snippet.thumbnails.medium.height',\n",
       " 'snippet.thumbnails.high.url',\n",
       " 'snippet.thumbnails.high.width',\n",
       " 'snippet.thumbnails.high.height',\n",
       " 'snippet.localized.title',\n",
       " 'snippet.localized.description']"
      ]
     },
     "execution_count": 157,
     "metadata": {},
     "output_type": "execute_result"
    }
   ],
   "source": [
    "to_drop"
   ]
  },
  {
   "cell_type": "markdown",
   "id": "c487be17",
   "metadata": {},
   "source": [
    "##### snippet_customurl<a class=\"anchor\" id=\"snippet_customurl\"></a>\n",
    "<br>\n",
    "The channel's custom URL. The YouTube Help Center explains eligibility requirements for getting a custom URL as well as how to set up the URL"
   ]
  },
  {
   "cell_type": "code",
   "execution_count": 163,
   "id": "f8a48a2b",
   "metadata": {},
   "outputs": [
    {
     "data": {
      "text/plain": [
       "britanymadden                               1\n",
       "raineschoices                               1\n",
       "armor23onpatrol                             1\n",
       "mashupmakeryoutuber                         1\n",
       "iorxtv                                      1\n",
       "                                           ..\n",
       "웁틀그라운드                                      1\n",
       "genshinfanextreme                           1\n",
       "louiscolucci                                1\n",
       "sajidurrahmansajib                          1\n",
       "betterthanyouiamawrestlinggodscrewsmarks    1\n",
       "Name: snippet.customUrl, Length: 33179, dtype: int64"
      ]
     },
     "execution_count": 163,
     "metadata": {},
     "output_type": "execute_result"
    }
   ],
   "source": [
    "df_channels[\"snippet.customUrl\"].value_counts()"
   ]
  },
  {
   "cell_type": "markdown",
   "id": "432d4e60",
   "metadata": {},
   "source": [
    "<font color='red'><b>snippet_customurl </b>should be dropped <i> Most Values are Nulls <b></b></i>  </font>\n"
   ]
  },
  {
   "cell_type": "code",
   "execution_count": 164,
   "id": "70eea170",
   "metadata": {},
   "outputs": [],
   "source": [
    "to_drop.append(\"snippet.customurl\")"
   ]
  },
  {
   "cell_type": "markdown",
   "id": "3cb145c0",
   "metadata": {},
   "source": [
    "##### snippet_country<a class=\"anchor\" id=\"snippet_country\"></a>\n",
    "<br>\n",
    "The country with which the channel is associated. To set this property's value, update the value of the brandingSettings.channel.country property."
   ]
  },
  {
   "cell_type": "code",
   "execution_count": 165,
   "id": "f3f2ea6e",
   "metadata": {},
   "outputs": [
    {
     "data": {
      "text/plain": [
       "US    34795\n",
       "GB     7088\n",
       "IN     5736\n",
       "CA     4282\n",
       "RU     3429\n",
       "      ...  \n",
       "PW        1\n",
       "GF        1\n",
       "GQ        1\n",
       "TO        1\n",
       "MH        1\n",
       "Name: snippet.country, Length: 234, dtype: int64"
      ]
     },
     "execution_count": 165,
     "metadata": {},
     "output_type": "execute_result"
    }
   ],
   "source": [
    "df_channels[\"snippet.country\"].value_counts()"
   ]
  },
  {
   "cell_type": "code",
   "execution_count": 168,
   "id": "e675b964",
   "metadata": {},
   "outputs": [
    {
     "data": {
      "text/plain": [
       "0.9161197473241822"
      ]
     },
     "execution_count": 168,
     "metadata": {},
     "output_type": "execute_result"
    }
   ],
   "source": [
    "sum(df_channels[\"snippet.country\"].isnull()) / df_channels.shape[0]"
   ]
  },
  {
   "cell_type": "markdown",
   "id": "76bb5b10",
   "metadata": {},
   "source": [
    "<font color='red'><b>snippet_country </b>should be dropped <i> Most Values are Nulls <b></b></i>  </font>"
   ]
  },
  {
   "cell_type": "code",
   "execution_count": 170,
   "id": "a1374078",
   "metadata": {},
   "outputs": [],
   "source": [
    "to_drop.append(\"snippet.country\")"
   ]
  },
  {
   "cell_type": "markdown",
   "id": "56dc7211",
   "metadata": {},
   "source": [
    "##### snippet_default_language<a class=\"anchor\" id=\"snippet_default_language\"></a>\n",
    "<br>\n",
    "\tThe language of the text in the channel resource's snippet.title and snippet.description properties."
   ]
  },
  {
   "cell_type": "code",
   "execution_count": 173,
   "id": "5f38d272",
   "metadata": {},
   "outputs": [
    {
     "data": {
      "text/plain": [
       "en        1833\n",
       "en-GB      402\n",
       "ru         280\n",
       "es-419     263\n",
       "es         160\n",
       "          ... \n",
       "te           1\n",
       "sq           1\n",
       "mr           1\n",
       "mk           1\n",
       "ne           1\n",
       "Name: snippet.defaultLanguage, Length: 70, dtype: int64"
      ]
     },
     "execution_count": 173,
     "metadata": {},
     "output_type": "execute_result"
    }
   ],
   "source": [
    "df_channels[\"snippet.defaultLanguage\"].value_counts()"
   ]
  },
  {
   "cell_type": "code",
   "execution_count": 174,
   "id": "f1df035c",
   "metadata": {},
   "outputs": [
    {
     "data": {
      "text/plain": [
       "0.996428263101726"
      ]
     },
     "execution_count": 174,
     "metadata": {},
     "output_type": "execute_result"
    }
   ],
   "source": [
    "sum(df_channels[\"snippet.defaultLanguage\"].isnull()) / df_channels.shape[0]"
   ]
  },
  {
   "cell_type": "markdown",
   "id": "c2e1e6ef",
   "metadata": {},
   "source": [
    "<font color='red'><b>snippet.defaultLanguage </b>should be dropped <i> Most Values are Nulls <b></b></i>  </font>"
   ]
  },
  {
   "cell_type": "code",
   "execution_count": 175,
   "id": "66266a76",
   "metadata": {},
   "outputs": [],
   "source": [
    "to_drop.append(\"snippet.defaultLanguage\")"
   ]
  },
  {
   "cell_type": "code",
   "execution_count": 176,
   "id": "e3f5a25a",
   "metadata": {},
   "outputs": [
    {
     "data": {
      "text/plain": [
       "['kind',\n",
       " 'snippet.thumbnails.default.url',\n",
       " 'snippet.thumbnails.default.width',\n",
       " 'snippet.thumbnails.default.height',\n",
       " 'snippet.thumbnails.medium.url',\n",
       " 'snippet.thumbnails.medium.width',\n",
       " 'snippet.thumbnails.medium.height',\n",
       " 'snippet.thumbnails.high.url',\n",
       " 'snippet.thumbnails.high.width',\n",
       " 'snippet.thumbnails.high.height',\n",
       " 'snippet.localized.title',\n",
       " 'snippet.localized.description',\n",
       " 'snippet.customurl',\n",
       " 'snippet.country',\n",
       " 'snippet.defaultLanguage']"
      ]
     },
     "execution_count": 176,
     "metadata": {},
     "output_type": "execute_result"
    }
   ],
   "source": [
    "to_drop"
   ]
  },
  {
   "cell_type": "code",
   "execution_count": null,
   "id": "5f17f788",
   "metadata": {},
   "outputs": [],
   "source": []
  },
  {
   "cell_type": "code",
   "execution_count": null,
   "id": "8d69b89b",
   "metadata": {},
   "outputs": [],
   "source": [
    "\n",
    "\n"
   ]
  },
  {
   "cell_type": "code",
   "execution_count": null,
   "id": "80451e33",
   "metadata": {},
   "outputs": [],
   "source": []
  },
  {
   "cell_type": "markdown",
   "id": "8f5ef1a9",
   "metadata": {},
   "source": [
    "column | description |\n",
    ":--|:--|\n",
    "snippet.title | The channel's title.\n",
    "snippet.description | The channel's description. The property's value has a maximum length of 1000 characters.\n",
    "snippet.publishedAt | The date and time that the channel was created. The value is specified in ISO 8601 format.\n",
    "snippet.thumbnails | A map of thumbnail images associated with the channel. For each object in the map, the key is the name of the thumbnail image, and the value is an object that contains other information about the thumbnail. Channel thumbnail URLs are available only in the https domain, which is how the URLs appear in API responses. You might see broken images in your application if it tries to load YouTube images from the http domain. Thumbnail images might be empty for newly created channels and might take up to one day to populate.\n",
    "snippet.thumbnails | Valid key values are: - default – The default thumbnail image. The default thumbnail for a video – or a resource that refers to a video, such as a playlist item or search result – is 120px wide and 90px tall. The default thumbnail for a channel is 88px wide and 88px tall. - medium – A higher resolution version of the thumbnail image. For a video (or a resource that refers to a video), this image is 320px wide and 180px tall. For a channel, this image is 240px wide and 240px tall. - high – A high resolution version of the thumbnail image. For a video (or a resource that refers to a video), this image is 480px wide and 360px tall. For a channel, this image is 800px wide and 800px tall.|\n",
    "snippet.thumbnails.(key).url | The image's URL. See the snippet.thumbnails property definition for additional guidelines on using thumbnail URLs in your application.\n",
    "snippet.thumbnails.(key).width | The image's width.\n",
    "snippet.thumbnails.(key).height\t| The image's height.\n",
    "snippet.localized | The snippet.localized object contains a localized title and description for the channel or it contains the channel's title and description in the default language for the channel's metadata. Localized text is returned in the resource snippet if the channels.list request used the hl parameter to specify a language for which localized text should be returned, the hl parameter value identifies a YouTube application language, and localized text is available in that language. Metadata for the default language is returned if an hl parameter value is not specified or a value is specified but localized metadata is not available for the specified language. The property contains a read-only value. Use the localizations object to add, update, or delete localized metadata.\n",
    "snippet.localized.title\t| The localized channel title.\n",
    "snippet.localized.description | The localized channel description.\n",
    "snippet.customUrl | The channel's custom URL. The YouTube Help Center explains eligibility requirements for getting a custom URL as well as how to set up the URL.\n",
    "snippet.country\t| The country with which the channel is associated. To set this property's value, update the value of the brandingSettings.channel.country property.|\n",
    "snippet.defaultLanguage\t| The language of the text in the channel resource's snippet.title and snippet.description properties.\n"
   ]
  },
  {
   "cell_type": "code",
   "execution_count": null,
   "id": "4ecb6473",
   "metadata": {},
   "outputs": [],
   "source": []
  },
  {
   "cell_type": "code",
   "execution_count": null,
   "id": "f3109d58",
   "metadata": {},
   "outputs": [],
   "source": []
  },
  {
   "cell_type": "code",
   "execution_count": null,
   "id": "b6a947d8",
   "metadata": {},
   "outputs": [],
   "source": []
  },
  {
   "cell_type": "code",
   "execution_count": 13,
   "id": "8f982488",
   "metadata": {},
   "outputs": [
    {
     "name": "stdout",
     "output_type": "stream",
     "text": [
      "| kind | | |\n",
      "| etag | | |\n",
      "| id | | |\n",
      "| snippet.title | | |\n",
      "| snippet.description | | |\n",
      "| snippet.publishedAt | | |\n",
      "| snippet.thumbnails.default.url | | |\n",
      "| snippet.thumbnails.default.width | | |\n",
      "| snippet.thumbnails.default.height | | |\n",
      "| snippet.thumbnails.medium.url | | |\n",
      "| snippet.thumbnails.medium.width | | |\n",
      "| snippet.thumbnails.medium.height | | |\n",
      "| snippet.thumbnails.high.url | | |\n",
      "| snippet.thumbnails.high.width | | |\n",
      "| snippet.thumbnails.high.height | | |\n",
      "| snippet.localized.title | | |\n",
      "| snippet.localized.description | | |\n",
      "| contentDetails.relatedPlaylists.likes | | |\n",
      "| contentDetails.relatedPlaylists.uploads | | |\n",
      "| statistics.viewCount | | |\n",
      "| statistics.subscriberCount | | |\n",
      "| statistics.hiddenSubscriberCount | | |\n",
      "| statistics.videoCount | | |\n",
      "| topicDetails.topicIds | | |\n",
      "| topicDetails.topicCategories | | |\n",
      "| status.privacyStatus | | |\n",
      "| status.isLinked | | |\n",
      "| status.longUploadsStatus | | |\n",
      "| brandingSettings.channel.title | | |\n",
      "| snippet.customUrl | | |\n",
      "| snippet.country | | |\n",
      "| brandingSettings.channel.keywords | | |\n",
      "| brandingSettings.channel.country | | |\n",
      "| brandingSettings.image.bannerExternalUrl | | |\n",
      "| brandingSettings.channel.moderateComments | | |\n",
      "| brandingSettings.channel.description | | |\n",
      "| status.madeForKids | | |\n",
      "| brandingSettings.channel.unsubscribedTrailer | | |\n",
      "| brandingSettings.channel.trackingAnalyticsAccountId | | |\n",
      "| snippet.defaultLanguage | | |\n",
      "| brandingSettings.channel.defaultLanguage | | |\n"
     ]
    }
   ],
   "source": [
    "for c in df_old.columns:\n",
    "    print(f\"| {c} | | |\")"
   ]
  },
  {
   "cell_type": "markdown",
   "id": "276e14b5",
   "metadata": {},
   "source": [
    "### Chapter 1 <a class=\"anchor\" id=\"chapter1\"></a>\n",
    "aa"
   ]
  },
  {
   "cell_type": "code",
   "execution_count": null,
   "id": "fde193da",
   "metadata": {},
   "outputs": [],
   "source": [
    "\n",
    "\n",
    "df_old[\"contentDetails.relatedPlaylists.likes\"].nunique()"
   ]
  },
  {
   "cell_type": "code",
   "execution_count": 15,
   "id": "2be62c8c",
   "metadata": {},
   "outputs": [
    {
     "data": {
      "text/plain": [
       "12476"
      ]
     },
     "execution_count": 15,
     "metadata": {},
     "output_type": "execute_result"
    }
   ],
   "source": [
    "df_old[\"contentDetails.relatedPlaylists.uploads\"].nunique() "
   ]
  },
  {
   "cell_type": "code",
   "execution_count": 16,
   "id": "c8bb894e",
   "metadata": {},
   "outputs": [
    {
     "data": {
      "text/plain": [
       "0        UU--0k43d5M8nmtdf319cEBw\n",
       "1        UU--88vmCfoADXKrbkr55QBQ\n",
       "2        UU--x-JoynEq-qzYTdsxkHog\n",
       "3        UU-000PgnyXlAIhdvum7m7RQ\n",
       "4        UU-06UNtFZvhaRXgckLDzkgA\n",
       "                   ...           \n",
       "12471    UU__0EsQlip8j5NmLD48nT5A\n",
       "12472    UU__GOnqkg7ZBZpgOSuhuJmg\n",
       "12473    UU__KBlSZYaKCrbRbMRmnaIg\n",
       "12474    UU__oAcDYndbh9rE72ToCkyQ\n",
       "12475    UU__tBJpnB08_BRZ0Er5LS7Q\n",
       "Name: contentDetails.relatedPlaylists.uploads, Length: 12476, dtype: object"
      ]
     },
     "execution_count": 16,
     "metadata": {},
     "output_type": "execute_result"
    }
   ],
   "source": [
    "df_old[\"contentDetails.relatedPlaylists.uploads\"]"
   ]
  },
  {
   "cell_type": "code",
   "execution_count": 17,
   "id": "d7dffeca",
   "metadata": {},
   "outputs": [
    {
     "data": {
      "text/plain": [
       "0            59\n",
       "1         54293\n",
       "2        319512\n",
       "3             0\n",
       "4         16960\n",
       "          ...  \n",
       "12471         0\n",
       "12472       819\n",
       "12473         0\n",
       "12474         0\n",
       "12475         0\n",
       "Name: statistics.viewCount, Length: 12476, dtype: int64"
      ]
     },
     "execution_count": 17,
     "metadata": {},
     "output_type": "execute_result"
    }
   ],
   "source": [
    "df_old[\"statistics.viewCount\"]"
   ]
  },
  {
   "cell_type": "code",
   "execution_count": 18,
   "id": "ecba13cf",
   "metadata": {},
   "outputs": [
    {
     "data": {
      "text/plain": [
       "190"
      ]
     },
     "execution_count": 18,
     "metadata": {},
     "output_type": "execute_result"
    }
   ],
   "source": [
    "sum(df_old[\"statistics.hiddenSubscriberCount\"])"
   ]
  },
  {
   "cell_type": "code",
   "execution_count": 19,
   "id": "fb0d6ca9",
   "metadata": {},
   "outputs": [
    {
     "ename": "IndentationError",
     "evalue": "unexpected indent (<ipython-input-19-548aa84339dc>, line 2)",
     "output_type": "error",
     "traceback": [
      "\u001b[1;36m  File \u001b[1;32m\"<ipython-input-19-548aa84339dc>\"\u001b[1;36m, line \u001b[1;32m2\u001b[0m\n\u001b[1;33m    'statistics.videoCount', 'topicDetails.topicIds',\u001b[0m\n\u001b[1;37m    ^\u001b[0m\n\u001b[1;31mIndentationError\u001b[0m\u001b[1;31m:\u001b[0m unexpected indent\n"
     ]
    }
   ],
   "source": [
    "'',\n",
    "       'statistics.videoCount', 'topicDetails.topicIds',\n",
    "       'topicDetails.topicCategories', 'status.privacyStatus',\n",
    "       'status.isLinked', 'status.longUploadsStatus',"
   ]
  },
  {
   "cell_type": "code",
   "execution_count": null,
   "id": "1d7f2c59",
   "metadata": {},
   "outputs": [],
   "source": [
    "df_old[\"statistics.videoCount\"]"
   ]
  },
  {
   "cell_type": "code",
   "execution_count": null,
   "id": "de7b7245",
   "metadata": {},
   "outputs": [],
   "source": [
    "df_old[\"topicDetails.topicIds\"]"
   ]
  },
  {
   "cell_type": "code",
   "execution_count": null,
   "id": "2577072c",
   "metadata": {},
   "outputs": [],
   "source": []
  },
  {
   "cell_type": "markdown",
   "id": "549fd3c9",
   "metadata": {},
   "source": [
    "| column | definition | action |\n",
    "|:--|:--| :--|\n",
    "| kind | Identifies the API resource's type. The value will be youtube#channel.| <font color='red'><b>kind </b>should be dropped <i>Has only one unique value <b> youtube#channel</b></i>  </font> |\n",
    "| etag | The Etag of this resource. **UNIQUE FOR CHANNEL** | rename (ch_etag) |\n",
    "| id | The ID that YouTube uses to uniquely identify the channel. **UNIQUE FOR CHANNEL** | rename (ch_id) |\n",
    "| snippet.title | The channel's title. **NOT UNIQUE** | rename (ch_title) |\n",
    "| snippet.description | The channel's description. The property's value has a maximum length of 1000 characters. | rename (ch_description) |\n",
    "| snippet.publishedAt | The date and time that the channel was created. The value is specified in ISO 8601 format. | rename (ch_created_at)|\n",
    "| snippet.thumbnails.default.url | Valid key values are: default – The default thumbnail image. The default thumbnail for a video – or a resource that refers to a video, such as a playlist item or search result – is 120px wide and 90px tall. The default thumbnail for a channel is 88px wide and 88px tall. medium – A higher resolution version of the thumbnail image. For a video (or a resource that refers to a video), this image is 320px wide and 180px tall. For a channel, this image is 240px wide and 240px tall. high – A high resolution version of the thumbnail image. For a video (or a resource that refers to a video), this image is 480px wide and 360px tall. For a channel, this image is 800px wide and 800px tall.. | drop (extraneous)|\n",
    "| snippet.thumbnails.default.width | ... | drop (extraneous)|\n",
    "| snippet.thumbnails.medium.url | ... | drop (extraneous) |\n",
    "| snippet.thumbnails.medium.width | ... | drop (extraneous) |\n",
    "| snippet.thumbnails.medium.height | ... | drop (extraneous) |\n",
    "| snippet.thumbnails.high.url | ... | drop (extraneous) |\n",
    "| snippet.thumbnails.high.width | ... | drop (extraneous) |\n",
    "| snippet.thumbnails.high.height | ... | drop (extraneous) |\n",
    "| snippet.localized.title | the snippet.localized object contains a localized title and description for the channel or it contains the channel's title and description in the default language for the channel's metadata. Localized text is returned in the resource snippet if the channels.list request used the hl parameter to specify a language for which localized text should be returned, the hl parameter value identifies a YouTube application language, and localized text is available in that language. Metadata for the default language is returned if an hl parameter value is not specified or a value is specified but localized metadata is not available for the specified language. The property contains a read-only value. Use the localizations object to add, update, or delete localized metadata. | drop (extraneous) |\n",
    "| snippet.localized.description | ... | drop (extraneous) |\n",
    "| contentDetails.relatedPlaylists.likes | The ID of the playlist that contains the channel's liked videos. | drop (extraneous- all Null) |\n",
    "| contentDetails.relatedPlaylists.uploads | The ID of the playlist that contains the channel's uploaded videos. | |\n",
    "| statistics.viewCount | The number of times the channel has been viewed. | rename (ch_n_views)|\n",
    "| statistics.subscriberCount | The number of subscribers that the channel has. This value is rounded down to three significant figures.. 1234 --> 1230, 12345 --> 12300 | rename (ch_n_subscribers) |\n",
    "| statistics.hiddenSubscriberCount | Indicates whether the channel's subscriber count is publicly visible. | rename (ch_sub_is_visible)|\n",
    "| statistics.videoCount | The number of public videos uploaded to the channel. Note that the value reflects the count of the channel's public videos only, even to owners. This behavior is consistent with counts shown on the YouTube website | rename (ch_n_videos) |\n",
    "| topicDetails.topicIds | The topicDetails object encapsulates information about topics associated with the channel.\n",
    " | |\n",
    "| topicDetails.topicCategories | | |\n",
    "| status.privacyStatus | | |\n",
    "| status.isLinked | | |\n",
    "| status.longUploadsStatus | | |\n",
    "| brandingSettings.channel.title | | |\n",
    "| snippet.customUrl | | |\n",
    "| snippet.country | | |\n",
    "| brandingSettings.channel.keywords | | |\n",
    "| brandingSettings.channel.country | | |\n",
    "| brandingSettings.image.bannerExternalUrl | | |\n",
    "| brandingSettings.channel.moderateComments | | |\n",
    "| brandingSettings.channel.description | | |\n",
    "| status.madeForKids | | |\n",
    "| brandingSettings.channel.unsubscribedTrailer | | |\n",
    "| brandingSettings.channel.trackingAnalyticsAccountId | | |\n",
    "| snippet.defaultLanguage | | |\n",
    "| brandingSettings.channel.defaultLanguage | | |"
   ]
  },
  {
   "cell_type": "code",
   "execution_count": null,
   "id": "c12e7889",
   "metadata": {},
   "outputs": [],
   "source": []
  }
 ],
 "metadata": {
  "kernelspec": {
   "display_name": "Python 3",
   "language": "python",
   "name": "python3"
  },
  "language_info": {
   "codemirror_mode": {
    "name": "ipython",
    "version": 3
   },
   "file_extension": ".py",
   "mimetype": "text/x-python",
   "name": "python",
   "nbconvert_exporter": "python",
   "pygments_lexer": "ipython3",
   "version": "3.8.8"
  }
 },
 "nbformat": 4,
 "nbformat_minor": 5
}
