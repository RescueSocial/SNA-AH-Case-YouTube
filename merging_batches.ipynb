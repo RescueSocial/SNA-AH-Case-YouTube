{
 "cells": [
  {
   "cell_type": "code",
   "execution_count": 34,
   "id": "14e752e3",
   "metadata": {},
   "outputs": [],
   "source": [
    "import pandas as pd\n",
    "pd.set_option('display.max_columns', 500)\n",
    "import os\n",
    "import glob"
   ]
  },
  {
   "cell_type": "markdown",
   "id": "b2fad435",
   "metadata": {},
   "source": [
    "## Filtered Data"
   ]
  },
  {
   "cell_type": "code",
   "execution_count": 21,
   "id": "a0c73a9f",
   "metadata": {},
   "outputs": [
    {
     "name": "stdout",
     "output_type": "stream",
     "text": [
      "D:\\New folder (2)\n"
     ]
    }
   ],
   "source": [
    "cd .."
   ]
  },
  {
   "cell_type": "code",
   "execution_count": 23,
   "id": "3fe83727",
   "metadata": {},
   "outputs": [
    {
     "name": "stdout",
     "output_type": "stream",
     "text": [
      "D:\\New folder (2)\\Filtered Data\n"
     ]
    }
   ],
   "source": [
    "cd \"Filtered Data\""
   ]
  },
  {
   "cell_type": "code",
   "execution_count": 27,
   "id": "e300a042",
   "metadata": {},
   "outputs": [
    {
     "data": {
      "text/plain": [
       "['combined files for videos comments info batch 1.csv',\n",
       " 'combined files for videos comments info batch 2.csv',\n",
       " 'combined files for videos comments info batch 3.csv',\n",
       " 'combined files for videos comments info batch 4.csv']"
      ]
     },
     "execution_count": 27,
     "metadata": {},
     "output_type": "execute_result"
    }
   ],
   "source": [
    "data_files = os.listdir()\n",
    "data_files"
   ]
  },
  {
   "cell_type": "markdown",
   "id": "c54acab1",
   "metadata": {},
   "source": [
    "### Batch 1"
   ]
  },
  {
   "cell_type": "code",
   "execution_count": 37,
   "id": "f8c4d12e",
   "metadata": {},
   "outputs": [],
   "source": [
    "df1 = pd.read_csv(data_files[0], low_memory=False)"
   ]
  },
  {
   "cell_type": "code",
   "execution_count": 38,
   "id": "25ac043f",
   "metadata": {},
   "outputs": [
    {
     "data": {
      "text/html": [
       "<div>\n",
       "<style scoped>\n",
       "    .dataframe tbody tr th:only-of-type {\n",
       "        vertical-align: middle;\n",
       "    }\n",
       "\n",
       "    .dataframe tbody tr th {\n",
       "        vertical-align: top;\n",
       "    }\n",
       "\n",
       "    .dataframe thead th {\n",
       "        text-align: right;\n",
       "    }\n",
       "</style>\n",
       "<table border=\"1\" class=\"dataframe\">\n",
       "  <thead>\n",
       "    <tr style=\"text-align: right;\">\n",
       "      <th></th>\n",
       "      <th>Unnamed: 0</th>\n",
       "      <th>kind</th>\n",
       "      <th>etag</th>\n",
       "      <th>id</th>\n",
       "      <th>snippet.videoId</th>\n",
       "      <th>snippet.topLevelComment.kind</th>\n",
       "      <th>snippet.topLevelComment.etag</th>\n",
       "      <th>snippet.topLevelComment.id</th>\n",
       "      <th>snippet.topLevelComment.snippet.videoId</th>\n",
       "      <th>snippet.topLevelComment.snippet.textDisplay</th>\n",
       "      <th>snippet.topLevelComment.snippet.textOriginal</th>\n",
       "      <th>snippet.topLevelComment.snippet.authorDisplayName</th>\n",
       "      <th>snippet.topLevelComment.snippet.authorProfileImageUrl</th>\n",
       "      <th>snippet.topLevelComment.snippet.authorChannelUrl</th>\n",
       "      <th>snippet.topLevelComment.snippet.authorChannelId.value</th>\n",
       "      <th>snippet.topLevelComment.snippet.canRate</th>\n",
       "      <th>snippet.topLevelComment.snippet.viewerRating</th>\n",
       "      <th>snippet.topLevelComment.snippet.likeCount</th>\n",
       "      <th>snippet.topLevelComment.snippet.publishedAt</th>\n",
       "      <th>snippet.topLevelComment.snippet.updatedAt</th>\n",
       "      <th>snippet.canReply</th>\n",
       "      <th>snippet.totalReplyCount</th>\n",
       "      <th>snippet.isPublic</th>\n",
       "      <th>replies.comments</th>\n",
       "      <th>snippet.topLevelComment.snippet.moderationStatus</th>\n",
       "    </tr>\n",
       "  </thead>\n",
       "  <tbody>\n",
       "    <tr>\n",
       "      <th>0</th>\n",
       "      <td>0.0</td>\n",
       "      <td>youtube#commentThread</td>\n",
       "      <td>HWRVF49a2ObDyvftwuVdJKNhyD8</td>\n",
       "      <td>UgyWYCQS7evmvfmJS-N4AaABAg</td>\n",
       "      <td>14SUI93R_k8</td>\n",
       "      <td>youtube#comment</td>\n",
       "      <td>Iovx9zUM7fOXxqPCM-3iKToEaKw</td>\n",
       "      <td>UgyWYCQS7evmvfmJS-N4AaABAg</td>\n",
       "      <td>14SUI93R_k8</td>\n",
       "      <td>Are you going to see Aquaman 2?</td>\n",
       "      <td>Are you going to see Aquaman 2?</td>\n",
       "      <td>InformOverload</td>\n",
       "      <td>https://yt3.ggpht.com/TwgNy0VFBwUkPhlqVwmDwZoe...</td>\n",
       "      <td>http://www.youtube.com/channel/UC-NINtNMPM75ea...</td>\n",
       "      <td>UC-NINtNMPM75eaqh07RCy_Q</td>\n",
       "      <td>True</td>\n",
       "      <td>none</td>\n",
       "      <td>94.0</td>\n",
       "      <td>2021-03-19T17:03:31Z</td>\n",
       "      <td>2021-03-19T17:03:31Z</td>\n",
       "      <td>True</td>\n",
       "      <td>213.0</td>\n",
       "      <td>True</td>\n",
       "      <td>[{'kind': 'youtube#comment', 'etag': 'XxrLRzbE...</td>\n",
       "      <td>NaN</td>\n",
       "    </tr>\n",
       "  </tbody>\n",
       "</table>\n",
       "</div>"
      ],
      "text/plain": [
       "   Unnamed: 0                   kind                         etag  \\\n",
       "0         0.0  youtube#commentThread  HWRVF49a2ObDyvftwuVdJKNhyD8   \n",
       "\n",
       "                           id snippet.videoId snippet.topLevelComment.kind  \\\n",
       "0  UgyWYCQS7evmvfmJS-N4AaABAg     14SUI93R_k8              youtube#comment   \n",
       "\n",
       "  snippet.topLevelComment.etag  snippet.topLevelComment.id  \\\n",
       "0  Iovx9zUM7fOXxqPCM-3iKToEaKw  UgyWYCQS7evmvfmJS-N4AaABAg   \n",
       "\n",
       "  snippet.topLevelComment.snippet.videoId  \\\n",
       "0                             14SUI93R_k8   \n",
       "\n",
       "  snippet.topLevelComment.snippet.textDisplay  \\\n",
       "0             Are you going to see Aquaman 2?   \n",
       "\n",
       "  snippet.topLevelComment.snippet.textOriginal  \\\n",
       "0              Are you going to see Aquaman 2?   \n",
       "\n",
       "  snippet.topLevelComment.snippet.authorDisplayName  \\\n",
       "0                                    InformOverload   \n",
       "\n",
       "  snippet.topLevelComment.snippet.authorProfileImageUrl  \\\n",
       "0  https://yt3.ggpht.com/TwgNy0VFBwUkPhlqVwmDwZoe...      \n",
       "\n",
       "    snippet.topLevelComment.snippet.authorChannelUrl  \\\n",
       "0  http://www.youtube.com/channel/UC-NINtNMPM75ea...   \n",
       "\n",
       "  snippet.topLevelComment.snippet.authorChannelId.value  \\\n",
       "0                           UC-NINtNMPM75eaqh07RCy_Q      \n",
       "\n",
       "   snippet.topLevelComment.snippet.canRate  \\\n",
       "0                                     True   \n",
       "\n",
       "  snippet.topLevelComment.snippet.viewerRating  \\\n",
       "0                                         none   \n",
       "\n",
       "   snippet.topLevelComment.snippet.likeCount  \\\n",
       "0                                       94.0   \n",
       "\n",
       "  snippet.topLevelComment.snippet.publishedAt  \\\n",
       "0                        2021-03-19T17:03:31Z   \n",
       "\n",
       "  snippet.topLevelComment.snippet.updatedAt  snippet.canReply  \\\n",
       "0                      2021-03-19T17:03:31Z              True   \n",
       "\n",
       "   snippet.totalReplyCount  snippet.isPublic  \\\n",
       "0                    213.0              True   \n",
       "\n",
       "                                    replies.comments  \\\n",
       "0  [{'kind': 'youtube#comment', 'etag': 'XxrLRzbE...   \n",
       "\n",
       "  snippet.topLevelComment.snippet.moderationStatus  \n",
       "0                                              NaN  "
      ]
     },
     "execution_count": 38,
     "metadata": {},
     "output_type": "execute_result"
    }
   ],
   "source": [
    "df1.head(1)"
   ]
  },
  {
   "cell_type": "code",
   "execution_count": 39,
   "id": "eadc0758",
   "metadata": {},
   "outputs": [
    {
     "data": {
      "text/plain": [
       "(639105, 25)"
      ]
     },
     "execution_count": 39,
     "metadata": {},
     "output_type": "execute_result"
    }
   ],
   "source": [
    "df1.shape"
   ]
  },
  {
   "cell_type": "code",
   "execution_count": 41,
   "id": "85c3281c",
   "metadata": {},
   "outputs": [],
   "source": [
    "def object_dtype(df):\n",
    "    \"\"\"\n",
    "    printing the real data type of the object\n",
    "    \"\"\"\n",
    "    \n",
    "    if list(df.select_dtypes(include=['object']).columns) != [] :\n",
    "    \n",
    "        for column in df.select_dtypes(include=['object']).columns:\n",
    "\n",
    "            print(column,type(df[column][0]))\n",
    "    else:\n",
    "        print('No complex data types :)')"
   ]
  },
  {
   "cell_type": "code",
   "execution_count": 42,
   "id": "dd6869a3",
   "metadata": {
    "scrolled": true
   },
   "outputs": [
    {
     "name": "stdout",
     "output_type": "stream",
     "text": [
      "kind <class 'str'>\n",
      "etag <class 'str'>\n",
      "id <class 'str'>\n",
      "snippet.videoId <class 'str'>\n",
      "snippet.topLevelComment.kind <class 'str'>\n",
      "snippet.topLevelComment.etag <class 'str'>\n",
      "snippet.topLevelComment.id <class 'str'>\n",
      "snippet.topLevelComment.snippet.videoId <class 'str'>\n",
      "snippet.topLevelComment.snippet.textDisplay <class 'str'>\n",
      "snippet.topLevelComment.snippet.textOriginal <class 'str'>\n",
      "snippet.topLevelComment.snippet.authorDisplayName <class 'str'>\n",
      "snippet.topLevelComment.snippet.authorProfileImageUrl <class 'str'>\n",
      "snippet.topLevelComment.snippet.authorChannelUrl <class 'str'>\n",
      "snippet.topLevelComment.snippet.authorChannelId.value <class 'str'>\n",
      "snippet.topLevelComment.snippet.viewerRating <class 'str'>\n",
      "snippet.topLevelComment.snippet.publishedAt <class 'str'>\n",
      "snippet.topLevelComment.snippet.updatedAt <class 'str'>\n",
      "replies.comments <class 'str'>\n",
      "snippet.topLevelComment.snippet.moderationStatus <class 'float'>\n"
     ]
    }
   ],
   "source": [
    "object_dtype(df1)"
   ]
  },
  {
   "cell_type": "code",
   "execution_count": 44,
   "id": "f065f133",
   "metadata": {},
   "outputs": [
    {
     "data": {
      "text/plain": [
       "youtube#commentThread    639105\n",
       "Name: kind, dtype: int64"
      ]
     },
     "execution_count": 44,
     "metadata": {},
     "output_type": "execute_result"
    }
   ],
   "source": [
    "df1.kind.value_counts()"
   ]
  },
  {
   "cell_type": "code",
   "execution_count": 45,
   "id": "a02d20c2",
   "metadata": {},
   "outputs": [],
   "source": [
    "extraneous_columns = []"
   ]
  },
  {
   "cell_type": "code",
   "execution_count": 46,
   "id": "d2ce163b",
   "metadata": {},
   "outputs": [],
   "source": [
    "extraneous_columns.append(\"kind\")"
   ]
  },
  {
   "cell_type": "code",
   "execution_count": 54,
   "id": "e118a433",
   "metadata": {},
   "outputs": [
    {
     "data": {
      "text/plain": [
       "0"
      ]
     },
     "execution_count": 54,
     "metadata": {},
     "output_type": "execute_result"
    }
   ],
   "source": [
    "sum(df1[\"etag\"].duplicated())"
   ]
  },
  {
   "cell_type": "code",
   "execution_count": 56,
   "id": "ef488caa",
   "metadata": {},
   "outputs": [
    {
     "data": {
      "text/plain": [
       "0"
      ]
     },
     "execution_count": 56,
     "metadata": {},
     "output_type": "execute_result"
    }
   ],
   "source": [
    "sum(df1[\"id\"].duplicated())"
   ]
  },
  {
   "cell_type": "code",
   "execution_count": 59,
   "id": "3a2ef775",
   "metadata": {},
   "outputs": [
    {
     "data": {
      "text/plain": [
       "uretrfMA-Io    120500\n",
       "dBi3y4w3oAY     11890\n",
       "h-wpBkiMKd0     10776\n",
       "hQFFm_X2lps     10556\n",
       "Cg9SvQSMnoE     10446\n",
       "                ...  \n",
       "AX0chTRMBOw         1\n",
       "ExrLx9Mnn-U         1\n",
       "aWU10Vms11k         1\n",
       "WpnC0BaNKRs         1\n",
       "4mbv0fcpcFo         1\n",
       "Name: snippet.videoId, Length: 1343, dtype: int64"
      ]
     },
     "execution_count": 59,
     "metadata": {},
     "output_type": "execute_result"
    }
   ],
   "source": [
    "df1[\"snippet.videoId\"].value_counts()"
   ]
  },
  {
   "cell_type": "code",
   "execution_count": 60,
   "id": "ef113d60",
   "metadata": {},
   "outputs": [
    {
     "data": {
      "text/plain": [
       "youtube#comment    639105\n",
       "Name: snippet.topLevelComment.kind, dtype: int64"
      ]
     },
     "execution_count": 60,
     "metadata": {},
     "output_type": "execute_result"
    }
   ],
   "source": [
    "df1[\"snippet.topLevelComment.kind\"].value_counts()"
   ]
  },
  {
   "cell_type": "code",
   "execution_count": 61,
   "id": "dcde6666",
   "metadata": {},
   "outputs": [],
   "source": [
    "extraneous_columns.append(\"snippet.topLevelComment.kind\")"
   ]
  },
  {
   "cell_type": "code",
   "execution_count": 63,
   "id": "8b5ba4c7",
   "metadata": {},
   "outputs": [
    {
     "data": {
      "text/plain": [
       "“They won’t believe you, because you are a man”\\r<br>\\r<br>She is NOT a victim.                                                                                                                                                            6860\n",
       "“They won’t believe you, because you are a man”<br><br>She is NOT a victim.                                                                                                                                                                6398\n",
       "&quot;They won&#39;t believe you, because you are a man&quot;<br><br>She is NOT a victim.                                                                                                                                                  3605\n",
       "“They won’t believe you, because you are a man”<br><br>She is NOT a victim                                                                                                                                                                 2033\n",
       "&quot;They won&#39;t believe you, because you are a man&quot;<br><br>She is NOT a victim                                                                                                                                                   1684\n",
       "                                                                                                                                                                                                                                           ... \n",
       "Kept that shit hella real!!! 💯!!!!                                                                                                                                                                                                            1\n",
       "I know she&#39;s insane but she&#39;s sooooooooooooooo hot                                                                                                                                                                                    1\n",
       "Ahh I got Bongo Cat                                                                                                                                                                                                                           1\n",
       "Honestly doll, you&#39;re <b>pure</b> anger in this video makes me so happy! I&#39;m so glad that someone is FINALLY pulling this up. <a href=\"http://www.youtube.com/results?search_query=%23BoycottAmberHeard\">#BoycottAmberHeard</a>       1\n",
       "Please look into the fairy Glen old growth logging in BC Canada. Has everything from the last sector of southern area logged, plus the government completely lied about there intent to stop old growth logging.                              1\n",
       "Name: snippet.topLevelComment.snippet.textDisplay, Length: 550169, dtype: int64"
      ]
     },
     "execution_count": 63,
     "metadata": {},
     "output_type": "execute_result"
    }
   ],
   "source": [
    "df1[\"snippet.topLevelComment.snippet.textDisplay\"].value_counts()"
   ]
  },
  {
   "cell_type": "code",
   "execution_count": 64,
   "id": "783a169c",
   "metadata": {},
   "outputs": [
    {
     "data": {
      "text/plain": [
       "“They won’t believe you, because you are a man”\\r\\n\\r\\nShe is NOT a victim.                                                                                                                                                                                                                                                                                                                                                 6860\n",
       "“They won’t believe you, because you are a man”\\n\\nShe is NOT a victim.                                                                                                                                                                                                                                                                                                                                                     6398\n",
       "\"They won't believe you, because you are a man\"\\n\\nShe is NOT a victim.                                                                                                                                                                                                                                                                                                                                                     3605\n",
       "“They won’t believe you, because you are a man”\\n\\nShe is NOT a victim                                                                                                                                                                                                                                                                                                                                                      2033\n",
       "\"They won't believe you, because you are a man\"\\n\\nShe is NOT a victim                                                                                                                                                                                                                                                                                                                                                      1684\n",
       "                                                                                                                                                                                                                                                                                                                                                                                                                            ... \n",
       "You are right, potato queen. DIABOLICAL is the right word. I've been in an abusive relationship. I promise you Amber is an evil abuser. I can hear it, feel it, touch it. Every single word that comes out of her mouth is premeditated and very narcissistic. What woman who's been abused call her abuser to talk to him like that? I would rather call Satan before I call my ex. I hope Johnny will get his justice.       1\n",
       "Let's hope the judge thinks this attempt is as farcical as we do and sanctions them accordingly, thanks Dan                                                                                                                                                                                                                                                                                                                    1\n",
       "Huzzah! This is great. Keep keeping us informed TUG! Would love a Livestream read of the whole thing if you're up to it.                                                                                                                                                                                                                                                                                                       1\n",
       "*In Fluttershy's voice* Yay.                                                                                                                                                                                                                                                                                                                                                                                                   1\n",
       "Tf is this creature?                                                                                                                                                                                                                                                                                                                                                                                                           1\n",
       "Name: snippet.topLevelComment.snippet.textOriginal, Length: 550058, dtype: int64"
      ]
     },
     "execution_count": 64,
     "metadata": {},
     "output_type": "execute_result"
    }
   ],
   "source": [
    "df1[\"snippet.topLevelComment.snippet.textOriginal\"].value_counts()"
   ]
  },
  {
   "cell_type": "code",
   "execution_count": 65,
   "id": "0058a40a",
   "metadata": {},
   "outputs": [
    {
     "data": {
      "text/plain": [
       "Lorri Holder      562\n",
       "Lindsey Depp      398\n",
       "PureSparkles22    275\n",
       "Jake Chapman      238\n",
       "Carla Castillo    234\n",
       "                 ... \n",
       "JN DC               1\n",
       "Margaux Darras      1\n",
       "Garrett Vinson      1\n",
       "Bethany Beck        1\n",
       "Joe !               1\n",
       "Name: snippet.topLevelComment.snippet.authorDisplayName, Length: 390509, dtype: int64"
      ]
     },
     "execution_count": 65,
     "metadata": {},
     "output_type": "execute_result"
    }
   ],
   "source": [
    "df1[\"snippet.topLevelComment.snippet.authorDisplayName\"].value_counts()"
   ]
  },
  {
   "cell_type": "code",
   "execution_count": 67,
   "id": "c6d3c353",
   "metadata": {},
   "outputs": [
    {
     "data": {
      "text/plain": [
       "https://yt3.ggpht.com/ytc/AKedOLQLZvuJlMKbx1eDtnkyoBRTnHehdocUX4ai3g=s48-c-k-c0x00ffffff-no-rj                                562\n",
       "https://yt3.ggpht.com/ytc/AKedOLRRkB8Q0m_9v0I-5m16IZpB_kCs2i37vGyo1edhwg=s48-c-k-c0x00ffffff-no-rj                            275\n",
       "https://yt3.ggpht.com/ytc/AKedOLSz2BwxzV7YcjbhCtff4NyGZrvzB732Rp9ltw=s48-c-k-c0x00ffffff-no-rj                                264\n",
       "https://yt3.ggpht.com/ytc/AKedOLSwoxUrCOAFq7i5xNSQtjuEf6gCVT0GIIlkj6FZsA=s48-c-k-c0x00ffffff-no-rj                            238\n",
       "https://yt3.ggpht.com/ytc/AKedOLSNkFwe5PQo1VA2p-eSqSOR94APu6D2TYpGZQ=s48-c-k-c0x00ffffff-no-rj                                234\n",
       "                                                                                                                             ... \n",
       "https://yt3.ggpht.com/RjZK1jZqapMIKFxbgu9D-tY5-oO9n4UXrgZSrJtQOIXJ6_C0EyK4ta0ddWG81iMiqjHlTRxCTQ=s48-c-k-c0x00ffffff-no-rj      1\n",
       "https://yt3.ggpht.com/ytc/AKedOLSTHxtUYJgUJ9p1V07GtNwRBeP3hxHJIqM2Iw=s48-c-k-c0x00ffffff-no-rj                                  1\n",
       "https://yt3.ggpht.com/ytc/AKedOLSF8rVf8mnMwKZvNOvRsE0nfO3m5pSj3vBUTeYvzQ=s48-c-k-c0x00ffffff-no-rj                              1\n",
       "https://yt3.ggpht.com/ytc/AKedOLTXof1rtkISZpj9szgEnllLhhulhFtIZFJDxyRIKg=s48-c-k-c0x00ffffff-no-rj                              1\n",
       "https://yt3.ggpht.com/ytc/AKedOLSWeTaHDsOFpgJtS4mkqaNLzcyyl6aUlOvg_K7q=s48-c-k-c0x00ffffff-no-rj                                1\n",
       "Name: snippet.topLevelComment.snippet.authorProfileImageUrl, Length: 412386, dtype: int64"
      ]
     },
     "execution_count": 67,
     "metadata": {},
     "output_type": "execute_result"
    }
   ],
   "source": [
    "df1[\"snippet.topLevelComment.snippet.authorProfileImageUrl\"].value_counts()"
   ]
  },
  {
   "cell_type": "code",
   "execution_count": 68,
   "id": "26c3a6a1",
   "metadata": {},
   "outputs": [],
   "source": [
    "extraneous_columns.append(\"snippet.topLevelComment.snippet.authorProfileImageUrl\")"
   ]
  },
  {
   "cell_type": "code",
   "execution_count": 69,
   "id": "536d3337",
   "metadata": {},
   "outputs": [
    {
     "data": {
      "text/plain": [
       "http://www.youtube.com/channel/UCkUPWp6pfAWrY8UqAukm-tQ    562\n",
       "http://www.youtube.com/channel/UCr2vrWVP_8vleq3bnBizuzg    275\n",
       "http://www.youtube.com/channel/UCzeIlZiqg2FEVtpqR-R6WCw    264\n",
       "http://www.youtube.com/channel/UC8TfvTdn4nAKPMuhw7-BGQQ    238\n",
       "http://www.youtube.com/channel/UCp9u3DC375IPgZfs2PZ94BA    234\n",
       "                                                          ... \n",
       "http://www.youtube.com/channel/UCT1njnUQ5atgmyrxuUrwhLg      1\n",
       "http://www.youtube.com/channel/UCS3gXvlDZ98NjLmFE5hulFg      1\n",
       "http://www.youtube.com/channel/UCn-8ZMZTxZFmFMGCJQTcUzw      1\n",
       "http://www.youtube.com/channel/UC5W9HKAnh_0F8bD3vZF08Qw      1\n",
       "http://www.youtube.com/channel/UCD5szsDjGORCZa_sKVv6aEg      1\n",
       "Name: snippet.topLevelComment.snippet.authorChannelUrl, Length: 415591, dtype: int64"
      ]
     },
     "execution_count": 69,
     "metadata": {},
     "output_type": "execute_result"
    }
   ],
   "source": [
    "df1[\"snippet.topLevelComment.snippet.authorChannelUrl\"].value_counts()"
   ]
  },
  {
   "cell_type": "code",
   "execution_count": 70,
   "id": "38f0a017",
   "metadata": {},
   "outputs": [
    {
     "data": {
      "text/plain": [
       "UCkUPWp6pfAWrY8UqAukm-tQ    562\n",
       "UCr2vrWVP_8vleq3bnBizuzg    275\n",
       "UCzeIlZiqg2FEVtpqR-R6WCw    264\n",
       "UC8TfvTdn4nAKPMuhw7-BGQQ    238\n",
       "UCp9u3DC375IPgZfs2PZ94BA    234\n",
       "                           ... \n",
       "UCtfw9EE1mu-e4T88rt72oYw      1\n",
       "UCAK5AplO8vhGbdKp8R09CVg      1\n",
       "UCmaK0v6RFcbZYo95U_UjBeQ      1\n",
       "UCn8xHw_wWC1wBQq0MKt3UvQ      1\n",
       "UCc8AoXggNjwYkIUkuXu-TPg      1\n",
       "Name: snippet.topLevelComment.snippet.authorChannelId.value, Length: 415591, dtype: int64"
      ]
     },
     "execution_count": 70,
     "metadata": {},
     "output_type": "execute_result"
    }
   ],
   "source": [
    "df1[\"snippet.topLevelComment.snippet.authorChannelId.value\"].value_counts()"
   ]
  },
  {
   "cell_type": "code",
   "execution_count": 71,
   "id": "543e3d9d",
   "metadata": {},
   "outputs": [
    {
     "data": {
      "text/plain": [
       "none    639105\n",
       "Name: snippet.topLevelComment.snippet.viewerRating, dtype: int64"
      ]
     },
     "execution_count": 71,
     "metadata": {},
     "output_type": "execute_result"
    }
   ],
   "source": [
    "df1[\"snippet.topLevelComment.snippet.viewerRating\"].value_counts()"
   ]
  },
  {
   "cell_type": "code",
   "execution_count": 72,
   "id": "46f8e4ee",
   "metadata": {},
   "outputs": [],
   "source": [
    "extraneous_columns.append(\"snippet.topLevelComment.snippet.viewerRating\")"
   ]
  },
  {
   "cell_type": "code",
   "execution_count": 73,
   "id": "b3a1faa7",
   "metadata": {},
   "outputs": [
    {
     "data": {
      "text/plain": [
       "2021-05-27T21:15:44Z    6\n",
       "2020-11-15T20:01:45Z    6\n",
       "2021-05-27T21:16:06Z    6\n",
       "2020-11-15T20:01:27Z    5\n",
       "2020-12-27T15:08:29Z    5\n",
       "                       ..\n",
       "2020-08-19T15:13:20Z    1\n",
       "2020-10-18T07:07:04Z    1\n",
       "2020-11-19T07:47:27Z    1\n",
       "2021-07-02T18:38:55Z    1\n",
       "2020-02-05T17:59:17Z    1\n",
       "Name: snippet.topLevelComment.snippet.publishedAt, Length: 622990, dtype: int64"
      ]
     },
     "execution_count": 73,
     "metadata": {},
     "output_type": "execute_result"
    }
   ],
   "source": [
    "df1[\"snippet.topLevelComment.snippet.publishedAt\"].value_counts()"
   ]
  },
  {
   "cell_type": "code",
   "execution_count": 74,
   "id": "9cfd292f",
   "metadata": {},
   "outputs": [
    {
     "data": {
      "text/plain": [
       "2021-05-27T21:15:44Z    6\n",
       "2021-05-27T21:16:06Z    6\n",
       "2021-05-27T21:15:59Z    6\n",
       "2021-05-27T21:16:34Z    5\n",
       "2020-12-23T22:23:42Z    5\n",
       "                       ..\n",
       "2020-11-18T16:43:45Z    1\n",
       "2020-06-26T12:03:22Z    1\n",
       "2021-02-24T18:15:54Z    1\n",
       "2021-06-03T08:31:15Z    1\n",
       "2020-02-05T17:59:17Z    1\n",
       "Name: snippet.topLevelComment.snippet.updatedAt, Length: 622984, dtype: int64"
      ]
     },
     "execution_count": 74,
     "metadata": {},
     "output_type": "execute_result"
    }
   ],
   "source": [
    "df1[\"snippet.topLevelComment.snippet.updatedAt\"].value_counts()"
   ]
  },
  {
   "cell_type": "code",
   "execution_count": 75,
   "id": "7da7ba64",
   "metadata": {},
   "outputs": [
    {
     "data": {
      "text/plain": [
       "[{'kind': 'youtube#comment', 'etag': 'LFfNEreB554ZQXS8Yyy5kAKMazY', 'id': 'UgyqQc7xu6mQYt_bM1l4AaABAg.9OIku51d72S9OIla-W8GHv', 'snippet': {'videoId': 'RbtcV9hfgnI', 'textDisplay': 'Maybe 😂 but I like it! Thanks so much 😊', 'textOriginal': 'Maybe 😂 but I like it! Thanks so much 😊', 'parentId': 'UgyqQc7xu6mQYt_bM1l4AaABAg', 'authorDisplayName': 'Stevie J Raw', 'authorProfileImageUrl': 'https://yt3.ggpht.com/qJjsmP-wrWNVSmXWeGJV6TPA0Jm_v6UTql6pWYFWx5iYCoT3Mvvk8IgcN0yJznhBKbbLA3SbkJ8=s48-c-k-c0x00ffffff-no-rj', 'authorChannelUrl': 'http://www.youtube.com/channel/UCAk03rcNVtLK1_LlgRTOh2w', 'authorChannelId': {'value': 'UCAk03rcNVtLK1_LlgRTOh2w'}, 'canRate': True, 'viewerRating': 'none', 'likeCount': 2, 'publishedAt': '2021-06-07T20:22:13Z', 'updatedAt': '2021-06-07T20:22:13Z'}}]                                                                                                                                                                                                                                                                                                                                                                                                                                                                                                                                                                                                                                                                                                                                                                                                                                                                                                                                                                                                                                                                                                                                                                                                                                                                                                                                                                                                                                                                                                                                                                                                                                                                                                                                                                                                                                                                                                                                                                                                                                                                                                                                                                                                                                                                                                                                                                                                                                                                                                                                                                                                                                                                                                                                                                                                                                                                                                                                                                                                                                                                                                                                                                                                                                                                                                                                                                                                                                                                                                                          1\n",
       "[{'kind': 'youtube#comment', 'etag': 'iKzT-1uHc7PPC0wOnsoD1A9K8lM', 'id': 'UgwKYgoGdYmummdmfIt4AaABAg.9QSzMkrMP_c9UKd64r9o8N', 'snippet': {'videoId': 'XVL4Bn3uLxs', 'textDisplay': '❤️Thanks for the love and support you have consistently shown me in such difficult moment. I’m forever grateful. I really appreciate your unconditional love to me and every effort exerted by you to cause a change…Where are you watching from?', 'textOriginal': '❤️Thanks for the love and support you have consistently shown me in such difficult moment. I’m forever grateful. I really appreciate your unconditional love to me and every effort exerted by you to cause a change…Where are you watching from?', 'parentId': 'UgwKYgoGdYmummdmfIt4AaABAg', 'authorDisplayName': 'JOHNNY DEPP', 'authorProfileImageUrl': 'https://yt3.ggpht.com/ytc/AKedOLTb1OJ1fg67864-OEn0qMrEnu9-P0LM-4V0fd-z=s48-c-k-c0x00ffffff-no-rj', 'authorChannelUrl': 'http://www.youtube.com/channel/UCYodcfEQl8ONjjG1uCIYuow', 'authorChannelId': {'value': 'UCYodcfEQl8ONjjG1uCIYuow'}, 'canRate': True, 'viewerRating': 'none', 'likeCount': 0, 'publishedAt': '2021-11-04T16:54:56Z', 'updatedAt': '2021-11-04T16:54:56Z'}}]                                                                                                                                                                                                                                                                                                                                                                                                                                                                                                                                                                                                                                                                                                                                                                                                                                                                                                                                                                                                                                                                                                                                                                                                                                                                                                                                                                                                                                                                                                                                                                                                                                                                                                                                                                                                                                                                                                                                                                                                                                                                                                                                                                                                                                                                                                                                                                                                                                                                                                                                                                                                                                                                                                                                                                                                                                                                                                                                                                                                                                                                                                                                  1\n",
       "[{'kind': 'youtube#comment', 'etag': 'AqltlEYkb83n_oZSWyMJlGl9BhI', 'id': 'UggfN9NZm9hln3gCoAEC.8Er31KfU5WM9CHDlUJtyyz', 'snippet': {'videoId': 'p7601KMf9Tg', 'textDisplay': '@Wray Rae you love someone because of their action and value. obvously you hate isis because they rape but have you ever met isis or even know them. &#39;grow up&#39; no self awareness i see.', 'textOriginal': \"@Wray Rae you love someone because of their action and value. obvously you hate isis because they rape but have you ever met isis or even know them. 'grow up' no self awareness i see.\", 'parentId': 'UggfN9NZm9hln3gCoAEC', 'authorDisplayName': 'Flavour', 'authorProfileImageUrl': 'https://yt3.ggpht.com/ytc/AKedOLSS9WX-7kngXeMX2Sz7TOkgZ3PDPHuBpuLeylXLPg=s48-c-k-c0x00ffffff-no-rj', 'authorChannelUrl': 'http://www.youtube.com/channel/UCKMwnkcahLrX5RblbEM-vgw', 'authorChannelId': {'value': 'UCKMwnkcahLrX5RblbEM-vgw'}, 'canRate': True, 'viewerRating': 'none', 'likeCount': 0, 'publishedAt': '2020-08-12T23:41:59Z', 'updatedAt': '2020-08-12T23:41:59Z'}}, {'kind': 'youtube#comment', 'etag': 'gHkIAqe4pODg9aG1xEOyU0KIPqg', 'id': 'UggfN9NZm9hln3gCoAEC.8Er31KfU5WM8sXOb6NE_Z_', 'snippet': {'videoId': 'p7601KMf9Tg', 'textDisplay': 'You were right!', 'textOriginal': 'You were right!', 'parentId': 'UggfN9NZm9hln3gCoAEC', 'authorDisplayName': 'Dev', 'authorProfileImageUrl': 'https://yt3.ggpht.com/ytc/AKedOLR_H-W9RAQHFHOM24s50FmTf4KH6av1BWzVG7s50A=s48-c-k-c0x00ffffff-no-rj', 'authorChannelUrl': 'http://www.youtube.com/channel/UClDsnfj_1_bZ8YVnM6oJ4Bw', 'authorChannelId': {'value': 'UClDsnfj_1_bZ8YVnM6oJ4Bw'}, 'canRate': True, 'viewerRating': 'none', 'likeCount': 1, 'publishedAt': '2019-03-16T07:25:15Z', 'updatedAt': '2019-03-16T07:25:15Z'}}]                                                                                                                                                                                                                                                                                                                                                                                                                                                                                                                                                                                                                                                                                                                                                                                                                                                                                                                                                                                                                                                                                                                                                                                                                                                                                                                                                                                                                                                                                                                                                                                                                                                                                                                                                                                                                                                                                                                                                                                                                                                                                                                                                                                                                                                                                                                                                                                                                                                                                                                                          1\n",
       "[{'kind': 'youtube#comment', 'etag': 'MXoXWFzq8irUTo2IQ9KUiAjwwLA', 'id': 'UgyjEcs6l2uG8yNHq3p4AaABAg.9ArnCpHFgRp9LaqedqUGnJ', 'snippet': {'videoId': 'RXT-uY5jbaQ', 'textDisplay': '@Binturong hahahaha !!!!!', 'textOriginal': '@Binturong hahahaha !!!!!', 'parentId': 'UgyjEcs6l2uG8yNHq3p4AaABAg', 'authorDisplayName': 'Michele Vause', 'authorProfileImageUrl': 'https://yt3.ggpht.com/ytc/AKedOLQu-ycvCD3jAoQYqbJERI2kSqltEZnqfah_jw=s48-c-k-c0x00ffffff-no-rj', 'authorChannelUrl': 'http://www.youtube.com/channel/UCvg9k4o4giN9jDxKD74kgAQ', 'authorChannelId': {'value': 'UCvg9k4o4giN9jDxKD74kgAQ'}, 'canRate': True, 'viewerRating': 'none', 'likeCount': 0, 'publishedAt': '2021-04-01T16:37:56Z', 'updatedAt': '2021-04-01T16:37:56Z'}}, {'kind': 'youtube#comment', 'etag': 'LfrfRxOj2USYQZPoY9VmzwOkm0s', 'id': 'UgyjEcs6l2uG8yNHq3p4AaABAg.9ArnCpHFgRp9LaqGra7Tqz', 'snippet': {'videoId': 'RXT-uY5jbaQ', 'textDisplay': 'MOST DEFINITELY !!!!! 💩💩💩💩💩', 'textOriginal': 'MOST DEFINITELY !!!!! 💩💩💩💩💩', 'parentId': 'UgyjEcs6l2uG8yNHq3p4AaABAg', 'authorDisplayName': 'Michele Vause', 'authorProfileImageUrl': 'https://yt3.ggpht.com/ytc/AKedOLQu-ycvCD3jAoQYqbJERI2kSqltEZnqfah_jw=s48-c-k-c0x00ffffff-no-rj', 'authorChannelUrl': 'http://www.youtube.com/channel/UCvg9k4o4giN9jDxKD74kgAQ', 'authorChannelId': {'value': 'UCvg9k4o4giN9jDxKD74kgAQ'}, 'canRate': True, 'viewerRating': 'none', 'likeCount': 1, 'publishedAt': '2021-04-01T16:34:33Z', 'updatedAt': '2021-04-01T16:34:33Z'}}, {'kind': 'youtube#comment', 'etag': 'OjezW92OpRcVI4FRc9FOV9snNlQ', 'id': 'UgyjEcs6l2uG8yNHq3p4AaABAg.9ArnCpHFgRp9CMSg9eEC9z', 'snippet': {'videoId': 'RXT-uY5jbaQ', 'textDisplay': 'melande1966 i know just didn’t like the thought of Amber Turd liking me 💀🤮', 'textOriginal': 'melande1966 i know just didn’t like the thought of Amber Turd liking me 💀🤮', 'parentId': 'UgyjEcs6l2uG8yNHq3p4AaABAg', 'authorDisplayName': 'TROLL 69', 'authorProfileImageUrl': 'https://yt3.ggpht.com/IQM7TjC-qs51Fui_sg78vUGiPiW6ZyhGgOuws2GBIb1BbOVr08368H92Tn0R2-ysxFM8UVqUOQ=s48-c-k-c0x00ffffff-no-rj', 'authorChannelUrl': 'http://www.youtube.com/channel/UCQMV11QJJu1uvmyB7hYwe_w', 'authorChannelId': {'value': 'UCQMV11QJJu1uvmyB7hYwe_w'}, 'canRate': True, 'viewerRating': 'none', 'likeCount': 1, 'publishedAt': '2020-08-15T00:28:32Z', 'updatedAt': '2020-08-15T00:28:32Z'}}, {'kind': 'youtube#comment', 'etag': '-P_dGtpxlt7pRoBsBstpm1vO20Y', 'id': 'UgyjEcs6l2uG8yNHq3p4AaABAg.9ArnCpHFgRp9CMSAHNaqcM', 'snippet': {'videoId': 'RXT-uY5jbaQ', 'textDisplay': '@TROLL 69 <br><br>I was joking sir', 'textOriginal': '@TROLL 69 \\n\\nI was joking sir', 'parentId': 'UgyjEcs6l2uG8yNHq3p4AaABAg', 'authorDisplayName': 'melande1966', 'authorProfileImageUrl': 'https://yt3.ggpht.com/ytc/AKedOLRTOP9_ohgnlqIn1lpvsvYLXUK_dwleZsl2T0Bq=s48-c-k-c0x00ffffff-no-rj', 'authorChannelUrl': 'http://www.youtube.com/channel/UCYGdU5VLA2uw0sjUHsyVdKA', 'authorChannelId': {'value': 'UCYGdU5VLA2uw0sjUHsyVdKA'}, 'canRate': True, 'viewerRating': 'none', 'likeCount': 0, 'publishedAt': '2020-08-15T00:24:02Z', 'updatedAt': '2020-08-15T00:24:02Z'}}, {'kind': 'youtube#comment', 'etag': 'sxwW04zFwfaWL5lkMZIhDGGHnTk', 'id': 'UgyjEcs6l2uG8yNHq3p4AaABAg.9ArnCpHFgRp9CMRiQ5Vn_9', 'snippet': {'videoId': 'RXT-uY5jbaQ', 'textDisplay': 'melande1966 🤢', 'textOriginal': 'melande1966 🤢', 'parentId': 'UgyjEcs6l2uG8yNHq3p4AaABAg', 'authorDisplayName': 'TROLL 69', 'authorProfileImageUrl': 'https://yt3.ggpht.com/IQM7TjC-qs51Fui_sg78vUGiPiW6ZyhGgOuws2GBIb1BbOVr08368H92Tn0R2-ysxFM8UVqUOQ=s48-c-k-c0x00ffffff-no-rj', 'authorChannelUrl': 'http://www.youtube.com/channel/UCQMV11QJJu1uvmyB7hYwe_w', 'authorChannelId': {'value': 'UCQMV11QJJu1uvmyB7hYwe_w'}, 'canRate': True, 'viewerRating': 'none', 'likeCount': 1, 'publishedAt': '2020-08-15T00:20:06Z', 'updatedAt': '2020-08-15T00:20:06Z'}}]                                                                                                                                                                                                                                                                                                                                                                                                        1\n",
       "[{'kind': 'youtube#comment', 'etag': 'KSQ6myYJ_Uovn95kGu9DsUDoF3M', 'id': 'Ugws5hlUUUirk_7q5Tp4AaABAg.9OrmWXF0r9t9OwHe6AMT2g', 'snippet': {'videoId': 'G0Ui9JOXNjk', 'textDisplay': '@Xendava God I hope so! It’s just frustrating that even though there has been so much public dislike for her, that company’s &amp; employers seem to be doubling down for her. It’s going to take something big. Because obviously it’s not enough to steal from sick children &amp; victims 😒', 'textOriginal': '@Xendava God I hope so! It’s just frustrating that even though there has been so much public dislike for her, that company’s & employers seem to be doubling down for her. It’s going to take something big. Because obviously it’s not enough to steal from sick children & victims 😒', 'parentId': 'Ugws5hlUUUirk_7q5Tp4AaABAg', 'authorDisplayName': 'Amz M', 'authorProfileImageUrl': 'https://yt3.ggpht.com/ytc/AKedOLQOPm03j59MZJVMRXoD5sPO74pz0NMB0GXG4kkcFQ=s48-c-k-c0x00ffffff-no-rj', 'authorChannelUrl': 'http://www.youtube.com/channel/UCaSidlBP1KlrZNh7tcBTN1A', 'authorChannelId': {'value': 'UCaSidlBP1KlrZNh7tcBTN1A'}, 'canRate': True, 'viewerRating': 'none', 'likeCount': 1, 'publishedAt': '2021-06-23T14:00:46Z', 'updatedAt': '2021-06-23T14:00:46Z'}}, {'kind': 'youtube#comment', 'etag': 'm-uGnVNJgBK6wIwW86pE-Bzn_08', 'id': 'Ugws5hlUUUirk_7q5Tp4AaABAg.9OrmWXF0r9t9OwE5OkRelE', 'snippet': {'videoId': 'G0Ui9JOXNjk', 'textDisplay': 'I think you are right about that friend. But I think people will also throw HER under the bus as well. The public has already turned on her and rightly so. But I think that&#39;s only the beginning.', 'textOriginal': \"I think you are right about that friend. But I think people will also throw HER under the bus as well. The public has already turned on her and rightly so. But I think that's only the beginning.\", 'parentId': 'Ugws5hlUUUirk_7q5Tp4AaABAg', 'authorDisplayName': 'Xendava', 'authorProfileImageUrl': 'https://yt3.ggpht.com/ytc/AKedOLT7xOXf6s7FKtFMPEsyRCKdyBQ0Y4gxExvkk0GI=s48-c-k-c0x00ffffff-no-rj', 'authorChannelUrl': 'http://www.youtube.com/channel/UCmzOx6QcqWQOOY7r1JUfwMQ', 'authorChannelId': {'value': 'UCmzOx6QcqWQOOY7r1JUfwMQ'}, 'canRate': True, 'viewerRating': 'none', 'likeCount': 3, 'publishedAt': '2021-06-23T13:29:40Z', 'updatedAt': '2021-06-23T13:29:40Z'}}]                                                                                                                                                                                                                                                                                                                                                                                                                                                                                                                                                                                                                                                                                                                                                                                                                                                                                                                                                                                                                                                                                                                                                                                                                                                                                                                                                                                                                                                                                                                                                                                                                                                                                                                                                                                                                                                                                                                                          1\n",
       "                                                                                                                                                                                                                                                                                                                                                                                                                                                                                                                                                                                                                                                                                                                                                                                                                                                                                                                                                                                                                                                                                                                                                                                                                                                                                                                                                                                                                                                                                                                                                                                                                                                                                                                                                                                                                                                                                                                                                                                                                                                                                                                                                                                                                                                                                                                                                                                                                                                                                                                                                                                                                                                                                                                                                                                                                                                                                                                                                                                                                                                                                                                                                                                                                                                                                                                                                                                                                                                                                                                                                                                                                                                                                                                                                                                                                                                                                                                                                                                                                                                                                                                                                                                                                                                                                                                                         ..\n",
       "[{'kind': 'youtube#comment', 'etag': 'zE6MJ50HgsOBb0kjcEDrMWR5A8U', 'id': 'UgynjqfzvJ_mzjOC0NN4AaABAg.9BKyaqPZX1s9GMAXdIeYyv', 'snippet': {'videoId': 'aon_M7wSqqw', 'textDisplay': '@Rqa0 like Sharon Stone in basis instinct. I think this sexy dangerous woman is an architype of literature. Beautiful women that are also deadly. Like sirens right?', 'textOriginal': '@Rqa0 like Sharon Stone in basis instinct. I think this sexy dangerous woman is an architype of literature. Beautiful women that are also deadly. Like sirens right?', 'parentId': 'UgynjqfzvJ_mzjOC0NN4AaABAg', 'authorDisplayName': 'Freedom Matters', 'authorProfileImageUrl': 'https://yt3.ggpht.com/ytc/AKedOLTsxbG3v2sFUdaWZ3-rAXoSibcMDBSeKPwHqw=s48-c-k-c0x00ffffff-no-rj', 'authorChannelUrl': 'http://www.youtube.com/channel/UCUdccy3CnHM2U5o7cjN1Nfg', 'authorChannelId': {'value': 'UCUdccy3CnHM2U5o7cjN1Nfg'}, 'canRate': True, 'viewerRating': 'none', 'likeCount': 0, 'publishedAt': '2020-11-22T07:55:31Z', 'updatedAt': '2020-11-22T07:55:31Z'}}, {'kind': 'youtube#comment', 'etag': 'v5fhOCL-8y_Xsbmr3jCa62t5JIo', 'id': 'UgynjqfzvJ_mzjOC0NN4AaABAg.9BKyaqPZX1s9BMx_0R5KIf', 'snippet': {'videoId': 'aon_M7wSqqw', 'textDisplay': '@Sometimes you gotta be bad to be good<br>His a pig....not normal', 'textOriginal': '@Sometimes you gotta be bad to be good\\nHis a pig....not normal', 'parentId': 'UgynjqfzvJ_mzjOC0NN4AaABAg', 'authorDisplayName': 'Wilma Wilma', 'authorProfileImageUrl': 'https://yt3.ggpht.com/ytc/AKedOLRbKvvsVcS-a1x0Y8dE25kQPO4mM6V-vwGRs4GcQQk=s48-c-k-c0x00ffffff-no-rj', 'authorChannelUrl': 'http://www.youtube.com/channel/UCOTz1Yze42MYRcCu3sTqJHw', 'authorChannelId': {'value': 'UCOTz1Yze42MYRcCu3sTqJHw'}, 'canRate': True, 'viewerRating': 'none', 'likeCount': 1, 'publishedAt': '2020-07-21T08:35:47Z', 'updatedAt': '2020-07-21T08:35:47Z'}}, {'kind': 'youtube#comment', 'etag': 'VJX4O_6zpBKhf3RdynbD-AwhCas', 'id': 'UgynjqfzvJ_mzjOC0NN4AaABAg.9BKyaqPZX1s9BLnrBGr3ZG', 'snippet': {'videoId': 'aon_M7wSqqw', 'textDisplay': 'Blake Blake at least I’m not simping for that piece of trash. Ugh...', 'textOriginal': 'Blake Blake at least I’m not simping for that piece of trash. Ugh...', 'parentId': 'UgynjqfzvJ_mzjOC0NN4AaABAg', 'authorDisplayName': 'TheRealSoybean', 'authorProfileImageUrl': 'https://yt3.ggpht.com/ytc/AKedOLStx9MuCb4cZfzSmGoUzi4tUuOgoExeV1TlHn6j=s48-c-k-c0x00ffffff-no-rj', 'authorChannelUrl': 'http://www.youtube.com/channel/UCK8EKJWS3RJKB4FwyUkJtoA', 'authorChannelId': {'value': 'UCK8EKJWS3RJKB4FwyUkJtoA'}, 'canRate': True, 'viewerRating': 'none', 'likeCount': 6, 'publishedAt': '2020-07-20T21:51:38Z', 'updatedAt': '2020-07-20T21:51:38Z'}}, {'kind': 'youtube#comment', 'etag': 'PmpJi6as5p_5Dz8QYJoOzWP45QE', 'id': 'UgynjqfzvJ_mzjOC0NN4AaABAg.9BKyaqPZX1s9BLmuYA-tZf', 'snippet': {'videoId': 'aon_M7wSqqw', 'textDisplay': '@TheRealSoybean virgin', 'textOriginal': '@TheRealSoybean virgin', 'parentId': 'UgynjqfzvJ_mzjOC0NN4AaABAg', 'authorDisplayName': 'Sometimes you gotta be bad to be good', 'authorProfileImageUrl': 'https://yt3.ggpht.com/3wwsJHfHVSLeXnPQ4K19Zay_emTvJs6lfXn_Mc-816iqyKHjciuK8JiiQtPry5xuijWFV0lXkA=s48-c-k-c0x00ffffff-no-rj', 'authorChannelUrl': 'http://www.youtube.com/channel/UCFcq4z-k9co5csL2OzWzh8g', 'authorChannelId': {'value': 'UCFcq4z-k9co5csL2OzWzh8g'}, 'canRate': True, 'viewerRating': 'none', 'likeCount': 0, 'publishedAt': '2020-07-20T21:43:22Z', 'updatedAt': '2020-07-20T21:43:22Z'}}, {'kind': 'youtube#comment', 'etag': 'Wo_J8paUlCX-N_WwOygQpeDR7MU', 'id': 'UgynjqfzvJ_mzjOC0NN4AaABAg.9BKyaqPZX1s9BLmty_VcWJ', 'snippet': {'videoId': 'aon_M7wSqqw', 'textDisplay': '@K Phan virgin', 'textOriginal': '@K Phan virgin', 'parentId': 'UgynjqfzvJ_mzjOC0NN4AaABAg', 'authorDisplayName': 'Sometimes you gotta be bad to be good', 'authorProfileImageUrl': 'https://yt3.ggpht.com/3wwsJHfHVSLeXnPQ4K19Zay_emTvJs6lfXn_Mc-816iqyKHjciuK8JiiQtPry5xuijWFV0lXkA=s48-c-k-c0x00ffffff-no-rj', 'authorChannelUrl': 'http://www.youtube.com/channel/UCFcq4z-k9co5csL2OzWzh8g', 'authorChannelId': {'value': 'UCFcq4z-k9co5csL2OzWzh8g'}, 'canRate': True, 'viewerRating': 'none', 'likeCount': 0, 'publishedAt': '2020-07-20T21:43:17Z', 'updatedAt': '2020-07-20T21:43:17Z'}}]    1\n",
       "[{'kind': 'youtube#comment', 'etag': 'TnQzNaZAS283uYSxa3LRMfZnysg', 'id': 'Ugxk31oq8Z44hyRJN8l4AaABAg.9OLf9JeqWey9R7LGlBqfwl', 'snippet': {'videoId': 'hQFFm_X2lps', 'textDisplay': 'Johny deppt is so wonderful, let him be.', 'textOriginal': 'Johny deppt is so wonderful, let him be.', 'parentId': 'Ugxk31oq8Z44hyRJN8l4AaABAg', 'authorDisplayName': 'Tim Wood', 'authorProfileImageUrl': 'https://yt3.ggpht.com/ytc/AKedOLRqHLmCBIZXYYiWO6OKcsa_on5pi0a6v0kO=s48-c-k-c0x00ffffff-no-rj', 'authorChannelUrl': 'http://www.youtube.com/channel/UCK-1EgljlS0vzjd6O6vMyKA', 'authorChannelId': {'value': 'UCK-1EgljlS0vzjd6O6vMyKA'}, 'canRate': True, 'viewerRating': 'none', 'likeCount': 1, 'publishedAt': '2021-08-16T23:26:04Z', 'updatedAt': '2021-08-16T23:26:04Z'}}]                                                                                                                                                                                                                                                                                                                                                                                                                                                                                                                                                                                                                                                                                                                                                                                                                                                                                                                                                                                                                                                                                                                                                                                                                                                                                                                                                                                                                                                                                                                                                                                                                                                                                                                                                                                                                                                                                                                                                                                                                                                                                                                                                                                                                                                                                                                                                                                                                                                                                                                                                                                                                                                                                                                                                                                                                                                                                                                                                                                                                                                                                                                                                                                                                                                                                                                                                                                                                                                                                                                                                           1\n",
       "[{'kind': 'youtube#comment', 'etag': 'llaRG9Ag09H8gnWb5ypJ2Y1vX9k', 'id': 'UgylEinnHR_gETU5y4Z4AaABAg.9Ppje_TpKZB9Ppopszait2', 'snippet': {'videoId': 'Ar1Kk-X0GG8', 'textDisplay': 'Please ignore the person(s) falsely impersonating JD/ presenting themselves as JD here on YT - JD does not interact with anyone on social &amp;/or video platforms…', 'textOriginal': 'Please ignore the person(s) falsely impersonating JD/ presenting themselves as JD here on YT - JD does not interact with anyone on social &/or video platforms…', 'parentId': 'UgylEinnHR_gETU5y4Z4AaABAg', 'authorDisplayName': 'Raquel Dobson', 'authorProfileImageUrl': 'https://yt3.ggpht.com/ytc/AKedOLR-4ULiSbEIk33IFiS1nRDUd8oUn8l_j7a6rp3v=s48-c-k-c0x00ffffff-no-rj', 'authorChannelUrl': 'http://www.youtube.com/channel/UCJbOoy9z7kCMCPmVch8e0qg', 'authorChannelId': {'value': 'UCJbOoy9z7kCMCPmVch8e0qg'}, 'canRate': True, 'viewerRating': 'none', 'likeCount': 1, 'publishedAt': '2021-07-15T22:16:11Z', 'updatedAt': '2021-07-15T22:16:11Z'}}]                                                                                                                                                                                                                                                                                                                                                                                                                                                                                                                                                                                                                                                                                                                                                                                                                                                                                                                                                                                                                                                                                                                                                                                                                                                                                                                                                                                                                                                                                                                                                                                                                                                                                                                                                                                                                                                                                                                                                                                                                                                                                                                                                                                                                                                                                                                                                                                                                                                                                                                                                                                                                                                                                                                                                                                                                                                                                                                                                                                                                                                                                                                                                                                                                                                                                                1\n",
       "[{'kind': 'youtube#comment', 'etag': 'UctUSohvM5WLtOvNitu89ipVQ3c', 'id': 'UgwIY0T0weHi-HoYvvJ4AaABAg.9FGK-rqK4mv9Jd542RdIdu', 'snippet': {'videoId': 'LryuqQ-Pb_M', 'textDisplay': '@Da Feef johnny a has so much evidence and all the evidence that amber has isnt even evidence it&#39;s just giving Johnny even more evidence', 'textOriginal': \"@Da Feef johnny a has so much evidence and all the evidence that amber has isnt even evidence it's just giving Johnny even more evidence\", 'parentId': 'UgwIY0T0weHi-HoYvvJ4AaABAg', 'authorDisplayName': 'minnah baker', 'authorProfileImageUrl': 'https://yt3.ggpht.com/0cW8LEzOQYYB9CFcBqOtQLduzxQFUUXkPIp0M-ba_rqrhSZh--t38FEgDDVJqiq6A1wirFfLOQ=s48-c-k-c0x00ffffff-no-rj', 'authorChannelUrl': 'http://www.youtube.com/channel/UCz9BzK_BhZfQw4slC1HpZUw', 'authorChannelId': {'value': 'UCz9BzK_BhZfQw4slC1HpZUw'}, 'canRate': True, 'viewerRating': 'none', 'likeCount': 0, 'publishedAt': '2021-02-11T20:28:18Z', 'updatedAt': '2021-02-11T20:28:18Z'}}, {'kind': 'youtube#comment', 'etag': 'kxMfcPOj9IULLtEDYvZBAbNg6p0', 'id': 'UgwIY0T0weHi-HoYvvJ4AaABAg.9FGK-rqK4mv9FOUJjlY1eA', 'snippet': {'videoId': 'LryuqQ-Pb_M', 'textDisplay': 'I disagree.<br>(Btw before you get mad, incompletely agree that JD is probably innocent)<br>Filing a defamation lawsuit would be a good play whether he had abused her or not. <br>If he did, it sews the seeds of doubt.<br>If he didn&#39;t, it&#39;s just him trying to get a small bit of compensation for the absolute hell he had to live through with AH.', 'textOriginal': \"I disagree.\\n(Btw before you get mad, incompletely agree that JD is probably innocent)\\nFiling a defamation lawsuit would be a good play whether he had abused her or not. \\nIf he did, it sews the seeds of doubt.\\nIf he didn't, it's just him trying to get a small bit of compensation for the absolute hell he had to live through with AH.\", 'parentId': 'UgwIY0T0weHi-HoYvvJ4AaABAg', 'authorDisplayName': 'Da Feef', 'authorProfileImageUrl': 'https://yt3.ggpht.com/ytc/AKedOLQKO1cOh0BqQ8WB_xwVKNduPcno92U0ynk6iZ4VEw=s48-c-k-c0x00ffffff-no-rj', 'authorChannelUrl': 'http://www.youtube.com/channel/UC6LX8Lt_yBhjkoC87REAmLQ', 'authorChannelId': {'value': 'UC6LX8Lt_yBhjkoC87REAmLQ'}, 'canRate': True, 'viewerRating': 'none', 'likeCount': 6, 'publishedAt': '2020-10-29T08:55:28Z', 'updatedAt': '2020-10-29T08:55:28Z'}}]                                                                                                                                                                                                                                                                                                                                                                                                                                                                                                                                                                                                                                                                                                                                                                                                                                                                                                                                                                                                                                                                                                                                                                                                                                                                                                                                                                                                                                                                                                                                                                                                                                                                                                                                                                                                                                                                                                 1\n",
       "[{'kind': 'youtube#comment', 'etag': 'cjDWZ9-4f_9-2szYSnKmwGSPc3c', 'id': 'Ugz0G6ahMHEfxiMOXn94AaABAg.97WiiqfGkRB97Wop1OZZCc', 'snippet': {'videoId': 'h-wpBkiMKd0', 'textDisplay': 'Quizás el hecho de afrontar una posible condena en prision le causa estrés y lo ase por ansiedad 🤷\\u200d♂️<br>O simplemente es grosera 😅', 'textOriginal': 'Quizás el hecho de afrontar una posible condena en prision le causa estrés y lo ase por ansiedad 🤷\\u200d♂️\\nO simplemente es grosera 😅', 'parentId': 'Ugz0G6ahMHEfxiMOXn94AaABAg', 'authorDisplayName': 'i ALF', 'authorProfileImageUrl': 'https://yt3.ggpht.com/ytc/AKedOLS0ofGI9yEpcB9awh7OD7RUERElZGZyVExN6Imz0w=s48-c-k-c0x00ffffff-no-rj', 'authorChannelUrl': 'http://www.youtube.com/channel/UCodv_InDALlXjiEopEz29cw', 'authorChannelId': {'value': 'UCodv_InDALlXjiEopEz29cw'}, 'canRate': True, 'viewerRating': 'none', 'likeCount': 0, 'publishedAt': '2020-04-16T18:26:09Z', 'updatedAt': '2020-04-16T18:26:09Z'}}]                                                                                                                                                                                                                                                                                                                                                                                                                                                                                                                                                                                                                                                                                                                                                                                                                                                                                                                                                                                                                                                                                                                                                                                                                                                                                                                                                                                                                                                                                                                                                                                                                                                                                                                                                                                                                                                                                                                                                                                                                                                                                                                                                                                                                                                                                                                                                                                                                                                                                                                                                                                                                                                                                                                                                                                                                                                                                                                                                                                                                                                                                                                                                                                                                                                                                                                                                          1\n",
       "Name: replies.comments, Length: 84905, dtype: int64"
      ]
     },
     "execution_count": 75,
     "metadata": {},
     "output_type": "execute_result"
    }
   ],
   "source": [
    "df1[\"replies.comments\"].value_counts()"
   ]
  },
  {
   "cell_type": "code",
   "execution_count": 76,
   "id": "8354da78",
   "metadata": {},
   "outputs": [
    {
     "data": {
      "text/plain": [
       "likelySpam    386\n",
       "Name: snippet.topLevelComment.snippet.moderationStatus, dtype: int64"
      ]
     },
     "execution_count": 76,
     "metadata": {},
     "output_type": "execute_result"
    }
   ],
   "source": [
    "df1[\"snippet.topLevelComment.snippet.moderationStatus\"].value_counts()"
   ]
  },
  {
   "cell_type": "markdown",
   "id": "76d94b35",
   "metadata": {},
   "source": [
    "### Batch 2"
   ]
  },
  {
   "cell_type": "code",
   "execution_count": 77,
   "id": "49965fc2",
   "metadata": {},
   "outputs": [],
   "source": [
    "df2 = pd.read_csv(data_files[1], low_memory=False)"
   ]
  },
  {
   "cell_type": "code",
   "execution_count": 78,
   "id": "f6559cf5",
   "metadata": {},
   "outputs": [
    {
     "data": {
      "text/html": [
       "<div>\n",
       "<style scoped>\n",
       "    .dataframe tbody tr th:only-of-type {\n",
       "        vertical-align: middle;\n",
       "    }\n",
       "\n",
       "    .dataframe tbody tr th {\n",
       "        vertical-align: top;\n",
       "    }\n",
       "\n",
       "    .dataframe thead th {\n",
       "        text-align: right;\n",
       "    }\n",
       "</style>\n",
       "<table border=\"1\" class=\"dataframe\">\n",
       "  <thead>\n",
       "    <tr style=\"text-align: right;\">\n",
       "      <th></th>\n",
       "      <th>kind</th>\n",
       "      <th>etag</th>\n",
       "      <th>id</th>\n",
       "      <th>snippet.videoId</th>\n",
       "      <th>snippet.topLevelComment.kind</th>\n",
       "      <th>snippet.topLevelComment.etag</th>\n",
       "      <th>snippet.topLevelComment.id</th>\n",
       "      <th>snippet.topLevelComment.snippet.videoId</th>\n",
       "      <th>snippet.topLevelComment.snippet.textDisplay</th>\n",
       "      <th>snippet.topLevelComment.snippet.textOriginal</th>\n",
       "      <th>snippet.topLevelComment.snippet.authorDisplayName</th>\n",
       "      <th>snippet.topLevelComment.snippet.authorProfileImageUrl</th>\n",
       "      <th>snippet.topLevelComment.snippet.authorChannelUrl</th>\n",
       "      <th>snippet.topLevelComment.snippet.authorChannelId.value</th>\n",
       "      <th>snippet.topLevelComment.snippet.canRate</th>\n",
       "      <th>snippet.topLevelComment.snippet.viewerRating</th>\n",
       "      <th>snippet.topLevelComment.snippet.likeCount</th>\n",
       "      <th>snippet.topLevelComment.snippet.publishedAt</th>\n",
       "      <th>snippet.topLevelComment.snippet.updatedAt</th>\n",
       "      <th>snippet.canReply</th>\n",
       "      <th>snippet.totalReplyCount</th>\n",
       "      <th>snippet.isPublic</th>\n",
       "      <th>replies.comments</th>\n",
       "      <th>snippet.topLevelComment.snippet.moderationStatus</th>\n",
       "    </tr>\n",
       "  </thead>\n",
       "  <tbody>\n",
       "    <tr>\n",
       "      <th>0</th>\n",
       "      <td>youtube#commentThread</td>\n",
       "      <td>Zg3vV1PvdZaitb5jFSaqo7D04G8</td>\n",
       "      <td>UgxdPgySMLYnRCnAwjR4AaABAg</td>\n",
       "      <td>STnWZHQnvZU</td>\n",
       "      <td>youtube#comment</td>\n",
       "      <td>auA-l3zq-2RLhbmVceQp41ORHvo</td>\n",
       "      <td>UgxdPgySMLYnRCnAwjR4AaABAg</td>\n",
       "      <td>STnWZHQnvZU</td>\n",
       "      <td>Gold digging liar.</td>\n",
       "      <td>Gold digging liar.</td>\n",
       "      <td>Elvira Feher</td>\n",
       "      <td>https://yt3.ggpht.com/ytc/AKedOLQWXP4ooCbF_yc6...</td>\n",
       "      <td>http://www.youtube.com/channel/UCTLDVENrA2L8Mi...</td>\n",
       "      <td>UCTLDVENrA2L8MiX6JhU1D0A</td>\n",
       "      <td>True</td>\n",
       "      <td>none</td>\n",
       "      <td>0.0</td>\n",
       "      <td>2021-11-03T20:29:13Z</td>\n",
       "      <td>2021-11-03T20:29:13Z</td>\n",
       "      <td>True</td>\n",
       "      <td>0.0</td>\n",
       "      <td>True</td>\n",
       "      <td>NaN</td>\n",
       "      <td>NaN</td>\n",
       "    </tr>\n",
       "  </tbody>\n",
       "</table>\n",
       "</div>"
      ],
      "text/plain": [
       "                    kind                         etag  \\\n",
       "0  youtube#commentThread  Zg3vV1PvdZaitb5jFSaqo7D04G8   \n",
       "\n",
       "                           id snippet.videoId snippet.topLevelComment.kind  \\\n",
       "0  UgxdPgySMLYnRCnAwjR4AaABAg     STnWZHQnvZU              youtube#comment   \n",
       "\n",
       "  snippet.topLevelComment.etag  snippet.topLevelComment.id  \\\n",
       "0  auA-l3zq-2RLhbmVceQp41ORHvo  UgxdPgySMLYnRCnAwjR4AaABAg   \n",
       "\n",
       "  snippet.topLevelComment.snippet.videoId  \\\n",
       "0                             STnWZHQnvZU   \n",
       "\n",
       "  snippet.topLevelComment.snippet.textDisplay  \\\n",
       "0                          Gold digging liar.   \n",
       "\n",
       "  snippet.topLevelComment.snippet.textOriginal  \\\n",
       "0                           Gold digging liar.   \n",
       "\n",
       "  snippet.topLevelComment.snippet.authorDisplayName  \\\n",
       "0                                      Elvira Feher   \n",
       "\n",
       "  snippet.topLevelComment.snippet.authorProfileImageUrl  \\\n",
       "0  https://yt3.ggpht.com/ytc/AKedOLQWXP4ooCbF_yc6...      \n",
       "\n",
       "    snippet.topLevelComment.snippet.authorChannelUrl  \\\n",
       "0  http://www.youtube.com/channel/UCTLDVENrA2L8Mi...   \n",
       "\n",
       "  snippet.topLevelComment.snippet.authorChannelId.value  \\\n",
       "0                           UCTLDVENrA2L8MiX6JhU1D0A      \n",
       "\n",
       "   snippet.topLevelComment.snippet.canRate  \\\n",
       "0                                     True   \n",
       "\n",
       "  snippet.topLevelComment.snippet.viewerRating  \\\n",
       "0                                         none   \n",
       "\n",
       "   snippet.topLevelComment.snippet.likeCount  \\\n",
       "0                                        0.0   \n",
       "\n",
       "  snippet.topLevelComment.snippet.publishedAt  \\\n",
       "0                        2021-11-03T20:29:13Z   \n",
       "\n",
       "  snippet.topLevelComment.snippet.updatedAt  snippet.canReply  \\\n",
       "0                      2021-11-03T20:29:13Z              True   \n",
       "\n",
       "   snippet.totalReplyCount  snippet.isPublic replies.comments  \\\n",
       "0                      0.0              True              NaN   \n",
       "\n",
       "  snippet.topLevelComment.snippet.moderationStatus  \n",
       "0                                              NaN  "
      ]
     },
     "execution_count": 78,
     "metadata": {},
     "output_type": "execute_result"
    }
   ],
   "source": [
    "df2.head(1)"
   ]
  },
  {
   "cell_type": "code",
   "execution_count": 79,
   "id": "181c502b",
   "metadata": {},
   "outputs": [
    {
     "data": {
      "text/plain": [
       "(650378, 24)"
      ]
     },
     "execution_count": 79,
     "metadata": {},
     "output_type": "execute_result"
    }
   ],
   "source": [
    "df2.shape"
   ]
  },
  {
   "cell_type": "code",
   "execution_count": 83,
   "id": "b16fed5c",
   "metadata": {},
   "outputs": [
    {
     "data": {
      "text/plain": [
       "{'Unnamed: 0'}"
      ]
     },
     "execution_count": 83,
     "metadata": {},
     "output_type": "execute_result"
    }
   ],
   "source": [
    "set(df1.columns) - set(df2.columns) "
   ]
  },
  {
   "cell_type": "markdown",
   "id": "b560c5e1",
   "metadata": {},
   "source": [
    "### Batch 3"
   ]
  },
  {
   "cell_type": "code",
   "execution_count": 84,
   "id": "420d6533",
   "metadata": {},
   "outputs": [],
   "source": [
    "df3 = pd.read_csv(data_files[2], low_memory=False)"
   ]
  },
  {
   "cell_type": "code",
   "execution_count": 85,
   "id": "de218ca9",
   "metadata": {},
   "outputs": [
    {
     "data": {
      "text/html": [
       "<div>\n",
       "<style scoped>\n",
       "    .dataframe tbody tr th:only-of-type {\n",
       "        vertical-align: middle;\n",
       "    }\n",
       "\n",
       "    .dataframe tbody tr th {\n",
       "        vertical-align: top;\n",
       "    }\n",
       "\n",
       "    .dataframe thead th {\n",
       "        text-align: right;\n",
       "    }\n",
       "</style>\n",
       "<table border=\"1\" class=\"dataframe\">\n",
       "  <thead>\n",
       "    <tr style=\"text-align: right;\">\n",
       "      <th></th>\n",
       "      <th>kind</th>\n",
       "      <th>etag</th>\n",
       "      <th>id</th>\n",
       "      <th>snippet.videoId</th>\n",
       "      <th>snippet.topLevelComment.kind</th>\n",
       "      <th>snippet.topLevelComment.etag</th>\n",
       "      <th>snippet.topLevelComment.id</th>\n",
       "      <th>snippet.topLevelComment.snippet.videoId</th>\n",
       "      <th>snippet.topLevelComment.snippet.textDisplay</th>\n",
       "      <th>snippet.topLevelComment.snippet.textOriginal</th>\n",
       "      <th>snippet.topLevelComment.snippet.authorDisplayName</th>\n",
       "      <th>snippet.topLevelComment.snippet.authorProfileImageUrl</th>\n",
       "      <th>snippet.topLevelComment.snippet.authorChannelUrl</th>\n",
       "      <th>snippet.topLevelComment.snippet.authorChannelId.value</th>\n",
       "      <th>snippet.topLevelComment.snippet.canRate</th>\n",
       "      <th>snippet.topLevelComment.snippet.viewerRating</th>\n",
       "      <th>snippet.topLevelComment.snippet.likeCount</th>\n",
       "      <th>snippet.topLevelComment.snippet.publishedAt</th>\n",
       "      <th>snippet.topLevelComment.snippet.updatedAt</th>\n",
       "      <th>snippet.canReply</th>\n",
       "      <th>snippet.totalReplyCount</th>\n",
       "      <th>snippet.isPublic</th>\n",
       "      <th>replies.comments</th>\n",
       "      <th>snippet.topLevelComment.snippet.moderationStatus</th>\n",
       "    </tr>\n",
       "  </thead>\n",
       "  <tbody>\n",
       "    <tr>\n",
       "      <th>0</th>\n",
       "      <td>youtube#commentThread</td>\n",
       "      <td>XqJaFV9rWyfZXsWDqU9-3T1jWew</td>\n",
       "      <td>UgzFjLUuRA2XKG5pYYR4AaABAg</td>\n",
       "      <td>rG7bQVZCmis</td>\n",
       "      <td>youtube#comment</td>\n",
       "      <td>blJrRAekatD8osQyCcWHjs-giUc</td>\n",
       "      <td>UgzFjLUuRA2XKG5pYYR4AaABAg</td>\n",
       "      <td>rG7bQVZCmis</td>\n",
       "      <td>Justice for Johnny</td>\n",
       "      <td>Justice for Johnny</td>\n",
       "      <td>Roxy Arce</td>\n",
       "      <td>https://yt3.ggpht.com/ytc/AKedOLTRcszq7dGPo26N...</td>\n",
       "      <td>http://www.youtube.com/channel/UCtBxs_t0euKYK7...</td>\n",
       "      <td>UCtBxs_t0euKYK7cqAfP3PMA</td>\n",
       "      <td>True</td>\n",
       "      <td>none</td>\n",
       "      <td>1.0</td>\n",
       "      <td>2021-09-23T03:52:37Z</td>\n",
       "      <td>2021-09-23T03:52:37Z</td>\n",
       "      <td>True</td>\n",
       "      <td>0.0</td>\n",
       "      <td>True</td>\n",
       "      <td>NaN</td>\n",
       "      <td>NaN</td>\n",
       "    </tr>\n",
       "  </tbody>\n",
       "</table>\n",
       "</div>"
      ],
      "text/plain": [
       "                    kind                         etag  \\\n",
       "0  youtube#commentThread  XqJaFV9rWyfZXsWDqU9-3T1jWew   \n",
       "\n",
       "                           id snippet.videoId snippet.topLevelComment.kind  \\\n",
       "0  UgzFjLUuRA2XKG5pYYR4AaABAg     rG7bQVZCmis              youtube#comment   \n",
       "\n",
       "  snippet.topLevelComment.etag  snippet.topLevelComment.id  \\\n",
       "0  blJrRAekatD8osQyCcWHjs-giUc  UgzFjLUuRA2XKG5pYYR4AaABAg   \n",
       "\n",
       "  snippet.topLevelComment.snippet.videoId  \\\n",
       "0                             rG7bQVZCmis   \n",
       "\n",
       "  snippet.topLevelComment.snippet.textDisplay  \\\n",
       "0                          Justice for Johnny   \n",
       "\n",
       "  snippet.topLevelComment.snippet.textOriginal  \\\n",
       "0                           Justice for Johnny   \n",
       "\n",
       "  snippet.topLevelComment.snippet.authorDisplayName  \\\n",
       "0                                         Roxy Arce   \n",
       "\n",
       "  snippet.topLevelComment.snippet.authorProfileImageUrl  \\\n",
       "0  https://yt3.ggpht.com/ytc/AKedOLTRcszq7dGPo26N...      \n",
       "\n",
       "    snippet.topLevelComment.snippet.authorChannelUrl  \\\n",
       "0  http://www.youtube.com/channel/UCtBxs_t0euKYK7...   \n",
       "\n",
       "  snippet.topLevelComment.snippet.authorChannelId.value  \\\n",
       "0                           UCtBxs_t0euKYK7cqAfP3PMA      \n",
       "\n",
       "   snippet.topLevelComment.snippet.canRate  \\\n",
       "0                                     True   \n",
       "\n",
       "  snippet.topLevelComment.snippet.viewerRating  \\\n",
       "0                                         none   \n",
       "\n",
       "   snippet.topLevelComment.snippet.likeCount  \\\n",
       "0                                        1.0   \n",
       "\n",
       "  snippet.topLevelComment.snippet.publishedAt  \\\n",
       "0                        2021-09-23T03:52:37Z   \n",
       "\n",
       "  snippet.topLevelComment.snippet.updatedAt  snippet.canReply  \\\n",
       "0                      2021-09-23T03:52:37Z              True   \n",
       "\n",
       "   snippet.totalReplyCount  snippet.isPublic replies.comments  \\\n",
       "0                      0.0              True              NaN   \n",
       "\n",
       "  snippet.topLevelComment.snippet.moderationStatus  \n",
       "0                                              NaN  "
      ]
     },
     "execution_count": 85,
     "metadata": {},
     "output_type": "execute_result"
    }
   ],
   "source": [
    "df3.head(1)"
   ]
  },
  {
   "cell_type": "code",
   "execution_count": 79,
   "id": "8e5889d8",
   "metadata": {},
   "outputs": [
    {
     "data": {
      "text/plain": [
       "(650378, 24)"
      ]
     },
     "execution_count": 79,
     "metadata": {},
     "output_type": "execute_result"
    }
   ],
   "source": [
    "df3.shape"
   ]
  },
  {
   "cell_type": "code",
   "execution_count": 83,
   "id": "56a84e60",
   "metadata": {},
   "outputs": [
    {
     "data": {
      "text/plain": [
       "{'Unnamed: 0'}"
      ]
     },
     "execution_count": 83,
     "metadata": {},
     "output_type": "execute_result"
    }
   ],
   "source": [
    "set(df1.columns) - set(df3.columns) "
   ]
  },
  {
   "cell_type": "markdown",
   "id": "852ecdb6",
   "metadata": {},
   "source": [
    "### Batch 4"
   ]
  },
  {
   "cell_type": "code",
   "execution_count": 86,
   "id": "89441813",
   "metadata": {},
   "outputs": [],
   "source": [
    "df4 = pd.read_csv(data_files[3], low_memory=False)"
   ]
  },
  {
   "cell_type": "code",
   "execution_count": 87,
   "id": "69859c6d",
   "metadata": {},
   "outputs": [
    {
     "data": {
      "text/html": [
       "<div>\n",
       "<style scoped>\n",
       "    .dataframe tbody tr th:only-of-type {\n",
       "        vertical-align: middle;\n",
       "    }\n",
       "\n",
       "    .dataframe tbody tr th {\n",
       "        vertical-align: top;\n",
       "    }\n",
       "\n",
       "    .dataframe thead th {\n",
       "        text-align: right;\n",
       "    }\n",
       "</style>\n",
       "<table border=\"1\" class=\"dataframe\">\n",
       "  <thead>\n",
       "    <tr style=\"text-align: right;\">\n",
       "      <th></th>\n",
       "      <th>kind</th>\n",
       "      <th>etag</th>\n",
       "      <th>id</th>\n",
       "      <th>snippet.videoId</th>\n",
       "      <th>snippet.topLevelComment.kind</th>\n",
       "      <th>snippet.topLevelComment.etag</th>\n",
       "      <th>snippet.topLevelComment.id</th>\n",
       "      <th>snippet.topLevelComment.snippet.videoId</th>\n",
       "      <th>snippet.topLevelComment.snippet.textDisplay</th>\n",
       "      <th>snippet.topLevelComment.snippet.textOriginal</th>\n",
       "      <th>snippet.topLevelComment.snippet.authorDisplayName</th>\n",
       "      <th>snippet.topLevelComment.snippet.authorProfileImageUrl</th>\n",
       "      <th>snippet.topLevelComment.snippet.authorChannelUrl</th>\n",
       "      <th>snippet.topLevelComment.snippet.authorChannelId.value</th>\n",
       "      <th>snippet.topLevelComment.snippet.canRate</th>\n",
       "      <th>snippet.topLevelComment.snippet.viewerRating</th>\n",
       "      <th>snippet.topLevelComment.snippet.likeCount</th>\n",
       "      <th>snippet.topLevelComment.snippet.publishedAt</th>\n",
       "      <th>snippet.topLevelComment.snippet.updatedAt</th>\n",
       "      <th>snippet.canReply</th>\n",
       "      <th>snippet.totalReplyCount</th>\n",
       "      <th>snippet.isPublic</th>\n",
       "      <th>replies.comments</th>\n",
       "      <th>snippet.topLevelComment.snippet.moderationStatus</th>\n",
       "    </tr>\n",
       "  </thead>\n",
       "  <tbody>\n",
       "    <tr>\n",
       "      <th>0</th>\n",
       "      <td>youtube#commentThread</td>\n",
       "      <td>dPFyA7aFpdEO7ZJRwfXWu_jaLFk</td>\n",
       "      <td>UgyjdzaK1uKt1b1HbD14AaABAg</td>\n",
       "      <td>I_r1hbfrloM</td>\n",
       "      <td>youtube#comment</td>\n",
       "      <td>TrCqXouRtoO0bKuu1L2_D2B-aAs</td>\n",
       "      <td>UgyjdzaK1uKt1b1HbD14AaABAg</td>\n",
       "      <td>I_r1hbfrloM</td>\n",
       "      <td>why does he pay I mean. does she got to pay fo...</td>\n",
       "      <td>why does he pay I mean. does she got to pay fo...</td>\n",
       "      <td>Jake Chapman</td>\n",
       "      <td>https://yt3.ggpht.com/ytc/AKedOLSwoxUrCOAFq7i5...</td>\n",
       "      <td>http://www.youtube.com/channel/UC8TfvTdn4nAKPM...</td>\n",
       "      <td>UC8TfvTdn4nAKPMuhw7-BGQQ</td>\n",
       "      <td>True</td>\n",
       "      <td>none</td>\n",
       "      <td>0.0</td>\n",
       "      <td>2021-03-28T01:02:21Z</td>\n",
       "      <td>2021-03-28T01:02:21Z</td>\n",
       "      <td>True</td>\n",
       "      <td>0.0</td>\n",
       "      <td>True</td>\n",
       "      <td>NaN</td>\n",
       "      <td>NaN</td>\n",
       "    </tr>\n",
       "  </tbody>\n",
       "</table>\n",
       "</div>"
      ],
      "text/plain": [
       "                    kind                         etag  \\\n",
       "0  youtube#commentThread  dPFyA7aFpdEO7ZJRwfXWu_jaLFk   \n",
       "\n",
       "                           id snippet.videoId snippet.topLevelComment.kind  \\\n",
       "0  UgyjdzaK1uKt1b1HbD14AaABAg     I_r1hbfrloM              youtube#comment   \n",
       "\n",
       "  snippet.topLevelComment.etag  snippet.topLevelComment.id  \\\n",
       "0  TrCqXouRtoO0bKuu1L2_D2B-aAs  UgyjdzaK1uKt1b1HbD14AaABAg   \n",
       "\n",
       "  snippet.topLevelComment.snippet.videoId  \\\n",
       "0                             I_r1hbfrloM   \n",
       "\n",
       "         snippet.topLevelComment.snippet.textDisplay  \\\n",
       "0  why does he pay I mean. does she got to pay fo...   \n",
       "\n",
       "        snippet.topLevelComment.snippet.textOriginal  \\\n",
       "0  why does he pay I mean. does she got to pay fo...   \n",
       "\n",
       "  snippet.topLevelComment.snippet.authorDisplayName  \\\n",
       "0                                      Jake Chapman   \n",
       "\n",
       "  snippet.topLevelComment.snippet.authorProfileImageUrl  \\\n",
       "0  https://yt3.ggpht.com/ytc/AKedOLSwoxUrCOAFq7i5...      \n",
       "\n",
       "    snippet.topLevelComment.snippet.authorChannelUrl  \\\n",
       "0  http://www.youtube.com/channel/UC8TfvTdn4nAKPM...   \n",
       "\n",
       "  snippet.topLevelComment.snippet.authorChannelId.value  \\\n",
       "0                           UC8TfvTdn4nAKPMuhw7-BGQQ      \n",
       "\n",
       "   snippet.topLevelComment.snippet.canRate  \\\n",
       "0                                     True   \n",
       "\n",
       "  snippet.topLevelComment.snippet.viewerRating  \\\n",
       "0                                         none   \n",
       "\n",
       "   snippet.topLevelComment.snippet.likeCount  \\\n",
       "0                                        0.0   \n",
       "\n",
       "  snippet.topLevelComment.snippet.publishedAt  \\\n",
       "0                        2021-03-28T01:02:21Z   \n",
       "\n",
       "  snippet.topLevelComment.snippet.updatedAt  snippet.canReply  \\\n",
       "0                      2021-03-28T01:02:21Z              True   \n",
       "\n",
       "   snippet.totalReplyCount  snippet.isPublic replies.comments  \\\n",
       "0                      0.0              True              NaN   \n",
       "\n",
       "  snippet.topLevelComment.snippet.moderationStatus  \n",
       "0                                              NaN  "
      ]
     },
     "execution_count": 87,
     "metadata": {},
     "output_type": "execute_result"
    }
   ],
   "source": [
    "df4.head(1)"
   ]
  },
  {
   "cell_type": "code",
   "execution_count": 88,
   "id": "a4a8b27b",
   "metadata": {},
   "outputs": [
    {
     "data": {
      "text/plain": [
       "(120214, 24)"
      ]
     },
     "execution_count": 88,
     "metadata": {},
     "output_type": "execute_result"
    }
   ],
   "source": [
    "df4.shape"
   ]
  },
  {
   "cell_type": "code",
   "execution_count": 89,
   "id": "1ac002bc",
   "metadata": {},
   "outputs": [
    {
     "data": {
      "text/plain": [
       "{'Unnamed: 0'}"
      ]
     },
     "execution_count": 89,
     "metadata": {},
     "output_type": "execute_result"
    }
   ],
   "source": [
    "set(df1.columns) - set(df4.columns) "
   ]
  },
  {
   "cell_type": "markdown",
   "id": "e2208d3e",
   "metadata": {},
   "source": [
    "#####  Unnamed column only exists in batch one and the othere 24 columns are mutual among all batches"
   ]
  },
  {
   "cell_type": "code",
   "execution_count": 93,
   "id": "a708e7ca",
   "metadata": {},
   "outputs": [
    {
     "data": {
      "text/plain": [
       "0.0         1343\n",
       "1.0         1268\n",
       "2.0         1228\n",
       "3.0         1202\n",
       "4.0         1178\n",
       "            ... \n",
       "20659.0        1\n",
       "61551.0        1\n",
       "116085.0       1\n",
       "99261.0        1\n",
       "31801.0        1\n",
       "Name: Unnamed: 0, Length: 120500, dtype: int64"
      ]
     },
     "execution_count": 93,
     "metadata": {},
     "output_type": "execute_result"
    }
   ],
   "source": [
    "df1['Unnamed: 0'].value_counts()"
   ]
  },
  {
   "cell_type": "code",
   "execution_count": 94,
   "id": "e2fc1aee",
   "metadata": {},
   "outputs": [
    {
     "data": {
      "text/plain": [
       "<AxesSubplot:>"
      ]
     },
     "execution_count": 94,
     "metadata": {},
     "output_type": "execute_result"
    },
    {
     "data": {
      "image/png": "[encoded data removed]",
      "text/plain": [
       "<Figure size 432x288 with 1 Axes>"
      ]
     },
     "metadata": {
      "needs_background": "light"
     },
     "output_type": "display_data"
    }
   ],
   "source": [
    "df1['Unnamed: 0'].plot()"
   ]
  },
  {
   "cell_type": "code",
   "execution_count": 98,
   "id": "6f024809",
   "metadata": {},
   "outputs": [
    {
     "data": {
      "text/plain": [
       "['kind',\n",
       " 'snippet.topLevelComment.kind',\n",
       " 'snippet.topLevelComment.snippet.authorProfileImageUrl',\n",
       " 'snippet.topLevelComment.snippet.viewerRating']"
      ]
     },
     "execution_count": 98,
     "metadata": {},
     "output_type": "execute_result"
    }
   ],
   "source": [
    "extraneous_columns"
   ]
  },
  {
   "cell_type": "markdown",
   "id": "cafdae0b",
   "metadata": {},
   "source": [
    "### those four columnns will be dropped\n",
    "- kind: is only one unique value **youtube#commentThread**\n",
    "- snippet.topLevelComment.kind: **youtube#comment**\n",
    "- 'snippet.topLevelComment.snippet.authorProfileImageUrl' I think no need to use the image.\n",
    "- nippet.topLevelComment.snippet.viewerRating': has **none** value only\n",
    "\n",
    "### also unnmaed column of batch one will be dropped"
   ]
  },
  {
   "cell_type": "code",
   "execution_count": 99,
   "id": "d646572c",
   "metadata": {},
   "outputs": [],
   "source": [
    "df1.drop(columns=extraneous_columns, inplace=True)\n",
    "df1.drop(columns=\"Unnamed: 0\", inplace=True)\n",
    "df2.drop(columns=extraneous_columns, inplace=True)\n",
    "df3.drop(columns=extraneous_columns, inplace=True)\n",
    "df4.drop(columns=extraneous_columns, inplace=True)"
   ]
  },
  {
   "cell_type": "markdown",
   "id": "4fed4e4c",
   "metadata": {},
   "source": [
    "### merge data in one df"
   ]
  },
  {
   "cell_type": "code",
   "execution_count": 101,
   "id": "7426ffd8",
   "metadata": {},
   "outputs": [],
   "source": [
    "df = pd.concat([df1, df2, df3, df4])"
   ]
  },
  {
   "cell_type": "code",
   "execution_count": 102,
   "id": "d86c0e56",
   "metadata": {},
   "outputs": [
    {
     "data": {
      "text/html": [
       "<div>\n",
       "<style scoped>\n",
       "    .dataframe tbody tr th:only-of-type {\n",
       "        vertical-align: middle;\n",
       "    }\n",
       "\n",
       "    .dataframe tbody tr th {\n",
       "        vertical-align: top;\n",
       "    }\n",
       "\n",
       "    .dataframe thead th {\n",
       "        text-align: right;\n",
       "    }\n",
       "</style>\n",
       "<table border=\"1\" class=\"dataframe\">\n",
       "  <thead>\n",
       "    <tr style=\"text-align: right;\">\n",
       "      <th></th>\n",
       "      <th>etag</th>\n",
       "      <th>id</th>\n",
       "      <th>snippet.videoId</th>\n",
       "      <th>snippet.topLevelComment.etag</th>\n",
       "      <th>snippet.topLevelComment.id</th>\n",
       "      <th>snippet.topLevelComment.snippet.videoId</th>\n",
       "      <th>snippet.topLevelComment.snippet.textDisplay</th>\n",
       "      <th>snippet.topLevelComment.snippet.textOriginal</th>\n",
       "      <th>snippet.topLevelComment.snippet.authorDisplayName</th>\n",
       "      <th>snippet.topLevelComment.snippet.authorChannelUrl</th>\n",
       "      <th>snippet.topLevelComment.snippet.authorChannelId.value</th>\n",
       "      <th>snippet.topLevelComment.snippet.canRate</th>\n",
       "      <th>snippet.topLevelComment.snippet.likeCount</th>\n",
       "      <th>snippet.topLevelComment.snippet.publishedAt</th>\n",
       "      <th>snippet.topLevelComment.snippet.updatedAt</th>\n",
       "      <th>snippet.canReply</th>\n",
       "      <th>snippet.totalReplyCount</th>\n",
       "      <th>snippet.isPublic</th>\n",
       "      <th>replies.comments</th>\n",
       "      <th>snippet.topLevelComment.snippet.moderationStatus</th>\n",
       "    </tr>\n",
       "  </thead>\n",
       "  <tbody>\n",
       "    <tr>\n",
       "      <th>0</th>\n",
       "      <td>HWRVF49a2ObDyvftwuVdJKNhyD8</td>\n",
       "      <td>UgyWYCQS7evmvfmJS-N4AaABAg</td>\n",
       "      <td>14SUI93R_k8</td>\n",
       "      <td>Iovx9zUM7fOXxqPCM-3iKToEaKw</td>\n",
       "      <td>UgyWYCQS7evmvfmJS-N4AaABAg</td>\n",
       "      <td>14SUI93R_k8</td>\n",
       "      <td>Are you going to see Aquaman 2?</td>\n",
       "      <td>Are you going to see Aquaman 2?</td>\n",
       "      <td>InformOverload</td>\n",
       "      <td>http://www.youtube.com/channel/UC-NINtNMPM75ea...</td>\n",
       "      <td>UC-NINtNMPM75eaqh07RCy_Q</td>\n",
       "      <td>True</td>\n",
       "      <td>94.0</td>\n",
       "      <td>2021-03-19T17:03:31Z</td>\n",
       "      <td>2021-03-19T17:03:31Z</td>\n",
       "      <td>True</td>\n",
       "      <td>213.0</td>\n",
       "      <td>True</td>\n",
       "      <td>[{'kind': 'youtube#comment', 'etag': 'XxrLRzbE...</td>\n",
       "      <td>NaN</td>\n",
       "    </tr>\n",
       "    <tr>\n",
       "      <th>1</th>\n",
       "      <td>PrKH0KyXiSAQLB1ZX7qNOX9prZ0</td>\n",
       "      <td>UgxueJBxNOJkXUtDLu94AaABAg</td>\n",
       "      <td>14SUI93R_k8</td>\n",
       "      <td>iD1T4DCU0WUOJm-FtBKu0YvWNm0</td>\n",
       "      <td>UgxueJBxNOJkXUtDLu94AaABAg</td>\n",
       "      <td>14SUI93R_k8</td>\n",
       "      <td>Guys, quit getting clickbaited. There isn&amp;#39;...</td>\n",
       "      <td>Guys, quit getting clickbaited. There isn't a ...</td>\n",
       "      <td>Twoswordsdrizzt</td>\n",
       "      <td>http://www.youtube.com/channel/UCjpOdSdi4PkbwR...</td>\n",
       "      <td>UCjpOdSdi4PkbwRU4qB8fz0w</td>\n",
       "      <td>True</td>\n",
       "      <td>0.0</td>\n",
       "      <td>2021-08-06T20:57:49Z</td>\n",
       "      <td>2021-08-06T20:57:49Z</td>\n",
       "      <td>True</td>\n",
       "      <td>0.0</td>\n",
       "      <td>True</td>\n",
       "      <td>NaN</td>\n",
       "      <td>NaN</td>\n",
       "    </tr>\n",
       "  </tbody>\n",
       "</table>\n",
       "</div>"
      ],
      "text/plain": [
       "                          etag                          id snippet.videoId  \\\n",
       "0  HWRVF49a2ObDyvftwuVdJKNhyD8  UgyWYCQS7evmvfmJS-N4AaABAg     14SUI93R_k8   \n",
       "1  PrKH0KyXiSAQLB1ZX7qNOX9prZ0  UgxueJBxNOJkXUtDLu94AaABAg     14SUI93R_k8   \n",
       "\n",
       "  snippet.topLevelComment.etag  snippet.topLevelComment.id  \\\n",
       "0  Iovx9zUM7fOXxqPCM-3iKToEaKw  UgyWYCQS7evmvfmJS-N4AaABAg   \n",
       "1  iD1T4DCU0WUOJm-FtBKu0YvWNm0  UgxueJBxNOJkXUtDLu94AaABAg   \n",
       "\n",
       "  snippet.topLevelComment.snippet.videoId  \\\n",
       "0                             14SUI93R_k8   \n",
       "1                             14SUI93R_k8   \n",
       "\n",
       "         snippet.topLevelComment.snippet.textDisplay  \\\n",
       "0                    Are you going to see Aquaman 2?   \n",
       "1  Guys, quit getting clickbaited. There isn&#39;...   \n",
       "\n",
       "        snippet.topLevelComment.snippet.textOriginal  \\\n",
       "0                    Are you going to see Aquaman 2?   \n",
       "1  Guys, quit getting clickbaited. There isn't a ...   \n",
       "\n",
       "  snippet.topLevelComment.snippet.authorDisplayName  \\\n",
       "0                                    InformOverload   \n",
       "1                                   Twoswordsdrizzt   \n",
       "\n",
       "    snippet.topLevelComment.snippet.authorChannelUrl  \\\n",
       "0  http://www.youtube.com/channel/UC-NINtNMPM75ea...   \n",
       "1  http://www.youtube.com/channel/UCjpOdSdi4PkbwR...   \n",
       "\n",
       "  snippet.topLevelComment.snippet.authorChannelId.value  \\\n",
       "0                           UC-NINtNMPM75eaqh07RCy_Q      \n",
       "1                           UCjpOdSdi4PkbwRU4qB8fz0w      \n",
       "\n",
       "   snippet.topLevelComment.snippet.canRate  \\\n",
       "0                                     True   \n",
       "1                                     True   \n",
       "\n",
       "   snippet.topLevelComment.snippet.likeCount  \\\n",
       "0                                       94.0   \n",
       "1                                        0.0   \n",
       "\n",
       "  snippet.topLevelComment.snippet.publishedAt  \\\n",
       "0                        2021-03-19T17:03:31Z   \n",
       "1                        2021-08-06T20:57:49Z   \n",
       "\n",
       "  snippet.topLevelComment.snippet.updatedAt  snippet.canReply  \\\n",
       "0                      2021-03-19T17:03:31Z              True   \n",
       "1                      2021-08-06T20:57:49Z              True   \n",
       "\n",
       "   snippet.totalReplyCount  snippet.isPublic  \\\n",
       "0                    213.0              True   \n",
       "1                      0.0              True   \n",
       "\n",
       "                                    replies.comments  \\\n",
       "0  [{'kind': 'youtube#comment', 'etag': 'XxrLRzbE...   \n",
       "1                                                NaN   \n",
       "\n",
       "  snippet.topLevelComment.snippet.moderationStatus  \n",
       "0                                              NaN  \n",
       "1                                              NaN  "
      ]
     },
     "execution_count": 102,
     "metadata": {},
     "output_type": "execute_result"
    }
   ],
   "source": [
    "df.head(2)"
   ]
  },
  {
   "cell_type": "code",
   "execution_count": 103,
   "id": "ef17ee53",
   "metadata": {},
   "outputs": [
    {
     "data": {
      "text/plain": [
       "(1702095, 20)"
      ]
     },
     "execution_count": 103,
     "metadata": {},
     "output_type": "execute_result"
    }
   ],
   "source": [
    "df.shape"
   ]
  },
  {
   "cell_type": "code",
   "execution_count": 104,
   "id": "f990b1a3",
   "metadata": {},
   "outputs": [
    {
     "data": {
      "text/html": [
       "<div>\n",
       "<style scoped>\n",
       "    .dataframe tbody tr th:only-of-type {\n",
       "        vertical-align: middle;\n",
       "    }\n",
       "\n",
       "    .dataframe tbody tr th {\n",
       "        vertical-align: top;\n",
       "    }\n",
       "\n",
       "    .dataframe thead th {\n",
       "        text-align: right;\n",
       "    }\n",
       "</style>\n",
       "<table border=\"1\" class=\"dataframe\">\n",
       "  <thead>\n",
       "    <tr style=\"text-align: right;\">\n",
       "      <th></th>\n",
       "      <th>etag</th>\n",
       "      <th>id</th>\n",
       "      <th>snippet.videoId</th>\n",
       "      <th>snippet.topLevelComment.etag</th>\n",
       "      <th>snippet.topLevelComment.id</th>\n",
       "      <th>snippet.topLevelComment.snippet.videoId</th>\n",
       "      <th>snippet.topLevelComment.snippet.textDisplay</th>\n",
       "      <th>snippet.topLevelComment.snippet.textOriginal</th>\n",
       "      <th>snippet.topLevelComment.snippet.authorDisplayName</th>\n",
       "      <th>snippet.topLevelComment.snippet.authorChannelUrl</th>\n",
       "      <th>snippet.topLevelComment.snippet.authorChannelId.value</th>\n",
       "      <th>snippet.topLevelComment.snippet.canRate</th>\n",
       "      <th>snippet.topLevelComment.snippet.likeCount</th>\n",
       "      <th>snippet.topLevelComment.snippet.publishedAt</th>\n",
       "      <th>snippet.topLevelComment.snippet.updatedAt</th>\n",
       "      <th>snippet.canReply</th>\n",
       "      <th>snippet.totalReplyCount</th>\n",
       "      <th>snippet.isPublic</th>\n",
       "      <th>replies.comments</th>\n",
       "      <th>snippet.topLevelComment.snippet.moderationStatus</th>\n",
       "    </tr>\n",
       "  </thead>\n",
       "  <tbody>\n",
       "    <tr>\n",
       "      <th>120209</th>\n",
       "      <td>t6lrj25p8XjsLMcDa6DUrYPLLSE</td>\n",
       "      <td>UgyGX91uCDxaEGRR5Ft4AaABAg</td>\n",
       "      <td>Wsn4aXVptWU</td>\n",
       "      <td>SPwH5h0Km4q-iC0fg4T-DK0914o</td>\n",
       "      <td>UgyGX91uCDxaEGRR5Ft4AaABAg</td>\n",
       "      <td>Wsn4aXVptWU</td>\n",
       "      <td>Nice, super entertaining 😄👍. We need more of t...</td>\n",
       "      <td>Nice, super entertaining 😄👍. We need more of t...</td>\n",
       "      <td>Haz Nora</td>\n",
       "      <td>http://www.youtube.com/channel/UCRg3KZifWUnzqu...</td>\n",
       "      <td>UCRg3KZifWUnzqupMkhaY7jA</td>\n",
       "      <td>True</td>\n",
       "      <td>1.0</td>\n",
       "      <td>2020-12-16T14:55:58Z</td>\n",
       "      <td>2020-12-16T14:55:58Z</td>\n",
       "      <td>True</td>\n",
       "      <td>0.0</td>\n",
       "      <td>True</td>\n",
       "      <td>NaN</td>\n",
       "      <td>NaN</td>\n",
       "    </tr>\n",
       "    <tr>\n",
       "      <th>120210</th>\n",
       "      <td>w04aSmsu1ZK9gVIECkopdrLWm1k</td>\n",
       "      <td>UgwXhhgVFmrn3X9gxeZ4AaABAg</td>\n",
       "      <td>Wsn4aXVptWU</td>\n",
       "      <td>My935IQnwjOQe67-1QADASghcWU</td>\n",
       "      <td>UgwXhhgVFmrn3X9gxeZ4AaABAg</td>\n",
       "      <td>Wsn4aXVptWU</td>\n",
       "      <td>Bravo!!!! Encore!!!</td>\n",
       "      <td>Bravo!!!! Encore!!!</td>\n",
       "      <td>3 Sisters&amp; Wine</td>\n",
       "      <td>http://www.youtube.com/channel/UCKR14HJmoUDh73...</td>\n",
       "      <td>UCKR14HJmoUDh73VlZY0EHEA</td>\n",
       "      <td>True</td>\n",
       "      <td>2.0</td>\n",
       "      <td>2020-12-14T15:16:56Z</td>\n",
       "      <td>2020-12-14T15:16:56Z</td>\n",
       "      <td>True</td>\n",
       "      <td>0.0</td>\n",
       "      <td>True</td>\n",
       "      <td>NaN</td>\n",
       "      <td>NaN</td>\n",
       "    </tr>\n",
       "    <tr>\n",
       "      <th>120211</th>\n",
       "      <td>49BUlSNPtfH7nweyhUxAf8b_j-E</td>\n",
       "      <td>UgyJHJ-yrDU8aBOrch94AaABAg</td>\n",
       "      <td>Wsn4aXVptWU</td>\n",
       "      <td>q-RsOj7fOTdGZnxtX9wCEEUJRzE</td>\n",
       "      <td>UgyJHJ-yrDU8aBOrch94AaABAg</td>\n",
       "      <td>Wsn4aXVptWU</td>\n",
       "      <td>This woman sings better than Heard.</td>\n",
       "      <td>This woman sings better than Heard.</td>\n",
       "      <td>Kia Choong Teo</td>\n",
       "      <td>http://www.youtube.com/channel/UCtFDY41CuxB0v_...</td>\n",
       "      <td>UCtFDY41CuxB0v_M1vcP6bxw</td>\n",
       "      <td>True</td>\n",
       "      <td>2.0</td>\n",
       "      <td>2020-12-14T12:33:18Z</td>\n",
       "      <td>2020-12-14T12:33:18Z</td>\n",
       "      <td>True</td>\n",
       "      <td>0.0</td>\n",
       "      <td>True</td>\n",
       "      <td>NaN</td>\n",
       "      <td>NaN</td>\n",
       "    </tr>\n",
       "    <tr>\n",
       "      <th>120212</th>\n",
       "      <td>Djgx-tI8TbgiuAiI8YP6csDZCro</td>\n",
       "      <td>UgxBluFBpap0w3Z1-394AaABAg</td>\n",
       "      <td>Wsn4aXVptWU</td>\n",
       "      <td>ApmfWVz2fdgj77pYH0Iw2eIupmE</td>\n",
       "      <td>UgxBluFBpap0w3Z1-394AaABAg</td>\n",
       "      <td>Wsn4aXVptWU</td>\n",
       "      <td>It was about time for sth like that😂😂</td>\n",
       "      <td>It was about time for sth like that😂😂</td>\n",
       "      <td>Annemarie Sattler</td>\n",
       "      <td>http://www.youtube.com/channel/UCCNRJJ7jcr0NMS...</td>\n",
       "      <td>UCCNRJJ7jcr0NMST7sIzqWvA</td>\n",
       "      <td>True</td>\n",
       "      <td>1.0</td>\n",
       "      <td>2020-12-14T02:36:44Z</td>\n",
       "      <td>2020-12-14T02:44:09Z</td>\n",
       "      <td>True</td>\n",
       "      <td>0.0</td>\n",
       "      <td>True</td>\n",
       "      <td>NaN</td>\n",
       "      <td>NaN</td>\n",
       "    </tr>\n",
       "    <tr>\n",
       "      <th>120213</th>\n",
       "      <td>3QejFaK_rNcrlEc_94HP8C8Urq0</td>\n",
       "      <td>UgzgZHG0CRvc_zKHgut4AaABAg</td>\n",
       "      <td>Wsn4aXVptWU</td>\n",
       "      <td>iShSomRtKR4ffGzusCTnC8yFssg</td>\n",
       "      <td>UgzgZHG0CRvc_zKHgut4AaABAg</td>\n",
       "      <td>Wsn4aXVptWU</td>\n",
       "      <td>😂</td>\n",
       "      <td>😂</td>\n",
       "      <td>Crispy Co</td>\n",
       "      <td>http://www.youtube.com/channel/UCrGYhxT7EHyrpc...</td>\n",
       "      <td>UCrGYhxT7EHyrpcyGmgjYOMQ</td>\n",
       "      <td>True</td>\n",
       "      <td>3.0</td>\n",
       "      <td>2020-12-11T05:55:25Z</td>\n",
       "      <td>2020-12-11T05:55:25Z</td>\n",
       "      <td>True</td>\n",
       "      <td>0.0</td>\n",
       "      <td>True</td>\n",
       "      <td>NaN</td>\n",
       "      <td>NaN</td>\n",
       "    </tr>\n",
       "  </tbody>\n",
       "</table>\n",
       "</div>"
      ],
      "text/plain": [
       "                               etag                          id  \\\n",
       "120209  t6lrj25p8XjsLMcDa6DUrYPLLSE  UgyGX91uCDxaEGRR5Ft4AaABAg   \n",
       "120210  w04aSmsu1ZK9gVIECkopdrLWm1k  UgwXhhgVFmrn3X9gxeZ4AaABAg   \n",
       "120211  49BUlSNPtfH7nweyhUxAf8b_j-E  UgyJHJ-yrDU8aBOrch94AaABAg   \n",
       "120212  Djgx-tI8TbgiuAiI8YP6csDZCro  UgxBluFBpap0w3Z1-394AaABAg   \n",
       "120213  3QejFaK_rNcrlEc_94HP8C8Urq0  UgzgZHG0CRvc_zKHgut4AaABAg   \n",
       "\n",
       "       snippet.videoId snippet.topLevelComment.etag  \\\n",
       "120209     Wsn4aXVptWU  SPwH5h0Km4q-iC0fg4T-DK0914o   \n",
       "120210     Wsn4aXVptWU  My935IQnwjOQe67-1QADASghcWU   \n",
       "120211     Wsn4aXVptWU  q-RsOj7fOTdGZnxtX9wCEEUJRzE   \n",
       "120212     Wsn4aXVptWU  ApmfWVz2fdgj77pYH0Iw2eIupmE   \n",
       "120213     Wsn4aXVptWU  iShSomRtKR4ffGzusCTnC8yFssg   \n",
       "\n",
       "        snippet.topLevelComment.id snippet.topLevelComment.snippet.videoId  \\\n",
       "120209  UgyGX91uCDxaEGRR5Ft4AaABAg                             Wsn4aXVptWU   \n",
       "120210  UgwXhhgVFmrn3X9gxeZ4AaABAg                             Wsn4aXVptWU   \n",
       "120211  UgyJHJ-yrDU8aBOrch94AaABAg                             Wsn4aXVptWU   \n",
       "120212  UgxBluFBpap0w3Z1-394AaABAg                             Wsn4aXVptWU   \n",
       "120213  UgzgZHG0CRvc_zKHgut4AaABAg                             Wsn4aXVptWU   \n",
       "\n",
       "              snippet.topLevelComment.snippet.textDisplay  \\\n",
       "120209  Nice, super entertaining 😄👍. We need more of t...   \n",
       "120210                                Bravo!!!! Encore!!!   \n",
       "120211                This woman sings better than Heard.   \n",
       "120212              It was about time for sth like that😂😂   \n",
       "120213                                                  😂   \n",
       "\n",
       "             snippet.topLevelComment.snippet.textOriginal  \\\n",
       "120209  Nice, super entertaining 😄👍. We need more of t...   \n",
       "120210                                Bravo!!!! Encore!!!   \n",
       "120211                This woman sings better than Heard.   \n",
       "120212              It was about time for sth like that😂😂   \n",
       "120213                                                  😂   \n",
       "\n",
       "       snippet.topLevelComment.snippet.authorDisplayName  \\\n",
       "120209                                          Haz Nora   \n",
       "120210                                   3 Sisters& Wine   \n",
       "120211                                    Kia Choong Teo   \n",
       "120212                                 Annemarie Sattler   \n",
       "120213                                         Crispy Co   \n",
       "\n",
       "         snippet.topLevelComment.snippet.authorChannelUrl  \\\n",
       "120209  http://www.youtube.com/channel/UCRg3KZifWUnzqu...   \n",
       "120210  http://www.youtube.com/channel/UCKR14HJmoUDh73...   \n",
       "120211  http://www.youtube.com/channel/UCtFDY41CuxB0v_...   \n",
       "120212  http://www.youtube.com/channel/UCCNRJJ7jcr0NMS...   \n",
       "120213  http://www.youtube.com/channel/UCrGYhxT7EHyrpc...   \n",
       "\n",
       "       snippet.topLevelComment.snippet.authorChannelId.value  \\\n",
       "120209                           UCRg3KZifWUnzqupMkhaY7jA      \n",
       "120210                           UCKR14HJmoUDh73VlZY0EHEA      \n",
       "120211                           UCtFDY41CuxB0v_M1vcP6bxw      \n",
       "120212                           UCCNRJJ7jcr0NMST7sIzqWvA      \n",
       "120213                           UCrGYhxT7EHyrpcyGmgjYOMQ      \n",
       "\n",
       "        snippet.topLevelComment.snippet.canRate  \\\n",
       "120209                                     True   \n",
       "120210                                     True   \n",
       "120211                                     True   \n",
       "120212                                     True   \n",
       "120213                                     True   \n",
       "\n",
       "        snippet.topLevelComment.snippet.likeCount  \\\n",
       "120209                                        1.0   \n",
       "120210                                        2.0   \n",
       "120211                                        2.0   \n",
       "120212                                        1.0   \n",
       "120213                                        3.0   \n",
       "\n",
       "       snippet.topLevelComment.snippet.publishedAt  \\\n",
       "120209                        2020-12-16T14:55:58Z   \n",
       "120210                        2020-12-14T15:16:56Z   \n",
       "120211                        2020-12-14T12:33:18Z   \n",
       "120212                        2020-12-14T02:36:44Z   \n",
       "120213                        2020-12-11T05:55:25Z   \n",
       "\n",
       "       snippet.topLevelComment.snippet.updatedAt  snippet.canReply  \\\n",
       "120209                      2020-12-16T14:55:58Z              True   \n",
       "120210                      2020-12-14T15:16:56Z              True   \n",
       "120211                      2020-12-14T12:33:18Z              True   \n",
       "120212                      2020-12-14T02:44:09Z              True   \n",
       "120213                      2020-12-11T05:55:25Z              True   \n",
       "\n",
       "        snippet.totalReplyCount  snippet.isPublic replies.comments  \\\n",
       "120209                      0.0              True              NaN   \n",
       "120210                      0.0              True              NaN   \n",
       "120211                      0.0              True              NaN   \n",
       "120212                      0.0              True              NaN   \n",
       "120213                      0.0              True              NaN   \n",
       "\n",
       "       snippet.topLevelComment.snippet.moderationStatus  \n",
       "120209                                              NaN  \n",
       "120210                                              NaN  \n",
       "120211                                              NaN  \n",
       "120212                                              NaN  \n",
       "120213                                              NaN  "
      ]
     },
     "execution_count": 104,
     "metadata": {},
     "output_type": "execute_result"
    }
   ],
   "source": [
    "df.tail(5)"
   ]
  },
  {
   "cell_type": "code",
   "execution_count": 107,
   "id": "a7944bbd",
   "metadata": {},
   "outputs": [],
   "source": [
    "df.reset_index(inplace=True)"
   ]
  },
  {
   "cell_type": "markdown",
   "id": "d1c68b61",
   "metadata": {},
   "source": [
    "### save initial merged filtered data"
   ]
  },
  {
   "cell_type": "code",
   "execution_count": 108,
   "id": "d5993ba9",
   "metadata": {},
   "outputs": [],
   "source": [
    "df.to_csv(\"initial_merged_data.csv\", index=False)"
   ]
  }
 ],
 "metadata": {
  "kernelspec": {
   "display_name": "Python 3",
   "language": "python",
   "name": "python3"
  },
  "language_info": {
   "codemirror_mode": {
    "name": "ipython",
    "version": 3
   },
   "file_extension": ".py",
   "mimetype": "text/x-python",
   "name": "python",
   "nbconvert_exporter": "python",
   "pygments_lexer": "ipython3",
   "version": "3.8.8"
  }
 },
 "nbformat": 4,
 "nbformat_minor": 5
}
